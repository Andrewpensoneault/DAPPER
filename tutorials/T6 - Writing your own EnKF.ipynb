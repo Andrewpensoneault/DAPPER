{
 "cells": [
  {
   "cell_type": "code",
   "execution_count": 2,
   "metadata": {
    "collapsed": false
   },
   "outputs": [
    {
     "name": "stdout",
     "output_type": "stream",
     "text": [
      "/Users/pataan/Dropbox/DPhil/DAPPER\n"
     ]
    }
   ],
   "source": [
    "from resources import *"
   ]
  },
  {
   "cell_type": "markdown",
   "metadata": {},
   "source": [
    "In this section we're going to code an EnKF implementation using numpy.\n",
    "The EnKF algorithm is given by eqns (2.12) - (2.17) of the [theoretical companion](./DA_intro.pdf#page=11). It is also exlained below."
   ]
  },
  {
   "cell_type": "code",
   "execution_count": 3,
   "metadata": {
    "collapsed": false
   },
   "outputs": [],
   "source": [
    "EnKF_animation"
   ]
  },
  {
   "cell_type": "markdown",
   "metadata": {},
   "source": [
    "We will make use of `estimate_mean_and_cov` and `estimate_cross_cov` from the previous section. Paste them in below."
   ]
  },
  {
   "cell_type": "code",
   "execution_count": 3,
   "metadata": {
    "collapsed": false
   },
   "outputs": [],
   "source": [
    "# def estimate_mean_and_cov ...\n",
    "def estimate_mean_and_cov(E):\n",
    "    m, N = E.shape\n",
    "    x_bar = np.sum(E,axis=1,keepdims=True)/N\n",
    "    A     = E - x_bar\n",
    "    P_bar = A @ A.T / (N-1)   \n",
    "    return x_bar, P_bar\n",
    "\n",
    "def estimate_cross_cov(E1,E2):\n",
    "    N = E1.shape[1]\n",
    "    assert N==E2.shape[1]\n",
    "    A1 = E1 - np.mean(E1,axis=1,keepdims=True)\n",
    "    A2 = E2 - np.mean(E2,axis=1,keepdims=True)\n",
    "    CC = A1 @ A2.T / (N-1)\n",
    "    return CC"
   ]
  },
  {
   "cell_type": "markdown",
   "metadata": {},
   "source": [
    "## Experimental setup\n",
    "\n",
    "Before making the EnKF, we'll also set up an experiment to test it with. To that end, we'll use the Lorenz-63 model, from [T4](T4 - Dynamical systems, chaos, Lorenz.ipynb). The coupled ODEs are recalled here, but with some of the paremeters fixed."
   ]
  },
  {
   "cell_type": "code",
   "execution_count": 4,
   "metadata": {
    "collapsed": true
   },
   "outputs": [],
   "source": [
    "m = 3 # ndim\n",
    "\n",
    "def dxdt(x):\n",
    "    sig  = 10.0\n",
    "    rho  = 28.0\n",
    "    beta = 8.0/3\n",
    "    x,y,z = x\n",
    "    d     = np.zeros(3)\n",
    "    d[0]  = sig*(y - x)\n",
    "    d[1]  = rho*x - y - x*z\n",
    "    d[2]  = x*y - beta*z\n",
    "    return d"
   ]
  },
  {
   "cell_type": "markdown",
   "metadata": {},
   "source": [
    "Next, we make a \"black box\" forecast model form $\\mathbf{x}(t+dt) = f(\\mathbf{x}(t),t,dt)$ out of $\\frac{d \\mathbf{x}}{dt}$. We'll make use of the \"4th order Runge-Kutta\" integrator `rk4`."
   ]
  },
  {
   "cell_type": "code",
   "execution_count": 5,
   "metadata": {
    "collapsed": true
   },
   "outputs": [],
   "source": [
    "def f(E, t0, dt):\n",
    "    \n",
    "    def step(x0):\n",
    "        return rk4(lambda t,x: dxdt(x), x0, t0, dt)\n",
    "    \n",
    "    if E.ndim == 1:\n",
    "        # Truth (single state vector) case\n",
    "        E = step(E)\n",
    "    else:\n",
    "        # Ensemble case\n",
    "        for n in range(E.shape[1]):\n",
    "            E[:,n] = step(E[:,n])\n",
    "    \n",
    "    return E\n",
    "\n",
    "\n",
    "Q_chol = zeros((m,m))\n",
    "Q      = Q_chol @ Q_chol.T"
   ]
  },
  {
   "cell_type": "markdown",
   "metadata": {},
   "source": [
    "Notice the loop over each ensemble member. For better performance, this should be vectorized, if possible. Or, if the forecast model is computationally demanding (as is typically the case in real applications), the loop should be parallellized: i.e. the forecast simulations should be distributed to seperate computers."
   ]
  },
  {
   "cell_type": "markdown",
   "metadata": {},
   "source": [
    "The following are the time settings that we will use"
   ]
  },
  {
   "cell_type": "code",
   "execution_count": 6,
   "metadata": {
    "collapsed": true
   },
   "outputs": [],
   "source": [
    "dt    = 0.01           # integrational time step\n",
    "dkObs = 25             # number of steps between observations\n",
    "dtObs = dkObs*dt       # time between observations\n",
    "KObs  = 60             # total number of observations\n",
    "K     = dkObs*(KObs+1) # total number of time steps"
   ]
  },
  {
   "cell_type": "markdown",
   "metadata": {},
   "source": [
    "Initial conditions"
   ]
  },
  {
   "cell_type": "code",
   "execution_count": 7,
   "metadata": {
    "collapsed": true
   },
   "outputs": [],
   "source": [
    "mu0     = array([1.509, -1.531, 25.46])\n",
    "P0_chol = eye(3)\n",
    "P0      = P0_chol @ P0_chol.T"
   ]
  },
  {
   "cell_type": "markdown",
   "metadata": {},
   "source": [
    "Observation model settings"
   ]
  },
  {
   "cell_type": "code",
   "execution_count": 23,
   "metadata": {
    "collapsed": true
   },
   "outputs": [],
   "source": [
    "p = 3 # ndim obs\n",
    "def h(E, t):\n",
    "    if E.ndim == 1: return E[:p]\n",
    "    else:           return E[:p,:]\n",
    "\n",
    "R_chol = sqrt(2)*eye(p)\n",
    "R      = R_chol @ R_chol.T"
   ]
  },
  {
   "cell_type": "markdown",
   "metadata": {},
   "source": [
    "Generate synthetic truth (`xx`) and observations (`yy`)"
   ]
  },
  {
   "cell_type": "code",
   "execution_count": 24,
   "metadata": {
    "collapsed": false
   },
   "outputs": [],
   "source": [
    "# Init\n",
    "xx    = zeros((K+1   ,m))\n",
    "yy    = zeros((KObs+1,p))\n",
    "xx[0] = mu0 + P0_chol @ randn(m)\n",
    "\n",
    "# Loop\n",
    "for k in range(1,K+1):\n",
    "    xx[k]  = f(xx[k-1],(k-1)*dt,dt)\n",
    "    xx[k] += Q_chol @ randn(m)\n",
    "    if not k%dkObs:\n",
    "        kObs = k//dkObs-1\n",
    "        yy[kObs] = h(xx[k],nan) + R_chol @ randn(p)"
   ]
  },
  {
   "cell_type": "markdown",
   "metadata": {},
   "source": [
    "## EnKF"
   ]
  },
  {
   "cell_type": "markdown",
   "metadata": {},
   "source": [
    "**Exc:** Complete the code below"
   ]
  },
  {
   "cell_type": "code",
   "execution_count": 25,
   "metadata": {
    "collapsed": false
   },
   "outputs": [
    {
     "ename": "SyntaxError",
     "evalue": "invalid syntax (<ipython-input-25-069ce7d57ced>, line 29)",
     "output_type": "error",
     "traceback": [
      "\u001b[0;36m  File \u001b[0;32m\"<ipython-input-25-069ce7d57ced>\"\u001b[0;36m, line \u001b[0;32m29\u001b[0m\n\u001b[0;31m    E       +=\u001b[0m\n\u001b[0m               ^\u001b[0m\n\u001b[0;31mSyntaxError\u001b[0m\u001b[0;31m:\u001b[0m invalid syntax\n"
     ]
    }
   ],
   "source": [
    "mu = zeros((K+1,m))\n",
    "\n",
    "# Useful linear algebra: compute B/A\n",
    "def divide_1st_by_2nd(B,A):\n",
    "    return nla.solve(A.T,B.T).T\n",
    "\n",
    "def my_EnKF(N):\n",
    "    # Init ensemble\n",
    "    ...\n",
    "    for k in range(1,K+1):\n",
    "        # Forecast\n",
    "        t   = k*dt\n",
    "        # use model\n",
    "        E   = ...\n",
    "        # add noise\n",
    "        E  += ...\n",
    "        if not k%dkObs:\n",
    "            # Analysis\n",
    "            y        = yy[k//dkObs-1] # current observation\n",
    "            hE       = h(E,t)         # obsrved ensemble\n",
    "            # Compute ensemble moments\n",
    "            BH       = ...\n",
    "            HBH      = ...\n",
    "            # Compute Kalman Gain \n",
    "            KG       = ...\n",
    "            # Generate perturbations\n",
    "            Perturb  = ...\n",
    "            # Update ensemble with KG\n",
    "            E       += \n",
    "        # Save statistics\n",
    "        mu[k] = mean(E,axis=1)"
   ]
  },
  {
   "cell_type": "markdown",
   "metadata": {},
   "source": [
    "Notice that we only store some stats (`mu`). This is because in large systems, keeping the entire ensemble in memory is probably too much."
   ]
  },
  {
   "cell_type": "code",
   "execution_count": 26,
   "metadata": {
    "collapsed": false
   },
   "outputs": [
    {
     "data": {
      "text/html": [
       "<div style=\"background-color:#d8e7ff;padding:0.5em;\"><pre><code>def my_EnKF(N):\n",
       "    E = mu0[:,None] + P0_chol @ randn((m,N))\n",
       "    for k in range(1,K+1):\n",
       "        # Forecast\n",
       "        t   = k*dt\n",
       "        E   = f(E,t-dt,dt)\n",
       "        E  += Q_chol @ randn((m,N))\n",
       "        if not k%dkObs:\n",
       "            # Analysis\n",
       "            y        = yy[k//dkObs-1] # current obs\n",
       "            hE       = h(E,t)\n",
       "            PH       = estimate_cross_cov(E,hE)\n",
       "            HPH      = estimate_mean_and_cov(hE)[1]\n",
       "            Perturb  = R_chol @ randn((p,N))\n",
       "            KG       = divide_1st_by_2nd(PH, HPH+R)\n",
       "            E       += KG @ (y[:,None] - Perturb - hE)\n",
       "        mu[k] = mean(E,axis=1)\n",
       "</code></pre></div>"
      ],
      "text/plain": [
       "<IPython.core.display.HTML object>"
      ]
     },
     "metadata": {},
     "output_type": "display_data"
    }
   ],
   "source": [
    "answers['EnKF v1'] = ['MD',r'''\n",
    "    def my_EnKF(N):\n",
    "        E = mu0[:,None] + P0_chol @ randn((m,N))\n",
    "        for k in range(1,K+1):\n",
    "            # Forecast\n",
    "            t   = k*dt\n",
    "            E   = f(E,t-dt,dt)\n",
    "            E  += Q_chol @ randn((m,N))\n",
    "            if not k%dkObs:\n",
    "                # Analysis\n",
    "                y        = yy[k//dkObs-1] # current obs\n",
    "                hE       = h(E,t)\n",
    "                PH       = estimate_cross_cov(E,hE)\n",
    "                HPH      = estimate_mean_and_cov(hE)[1]\n",
    "                Perturb  = R_chol @ randn((p,N))\n",
    "                KG       = divide_1st_by_2nd(PH, HPH+R)\n",
    "                E       += KG @ (y[:,None] - Perturb - hE)\n",
    "            mu[k] = mean(E,axis=1)\n",
    "''']\n",
    "show_answer('EnKF v1')"
   ]
  },
  {
   "cell_type": "code",
   "execution_count": 27,
   "metadata": {
    "collapsed": true
   },
   "outputs": [],
   "source": [
    "mu = zeros((K+1,m))\n",
    "\n",
    "# B/A\n",
    "def divide_1st_by_2nd(B,A):\n",
    "    return nla.solve(A.T,B.T).T\n",
    "\n",
    "def my_EnKF(N):\n",
    "    E = mu0[:,None] + P0_chol @ randn((m,N))\n",
    "    for k in range(1,K+1):\n",
    "        # Forecast\n",
    "        t   = k*dt\n",
    "        E   = f(E,t-dt,dt)\n",
    "        E  += Q_chol @ randn((m,N))\n",
    "        if not k%dkObs:\n",
    "            # Analysis\n",
    "            y        = yy[k//dkObs-1] # current obs\n",
    "            hE       = h(E,t)\n",
    "            PH       = estimate_cross_cov(E,hE)\n",
    "            HPH      = estimate_mean_and_cov(hE)[1]\n",
    "            Perturb  = R_chol @ randn((p,N))\n",
    "            KG       = divide_1st_by_2nd(PH, HPH+R)\n",
    "            E       += KG @ (y[:,None] - Perturb - hE)\n",
    "        mu[k] = mean(E,axis=1)"
   ]
  },
  {
   "cell_type": "markdown",
   "metadata": {},
   "source": [
    "Now let's try out its capabilities"
   ]
  },
  {
   "cell_type": "code",
   "execution_count": 30,
   "metadata": {
    "collapsed": false,
    "scrolled": false
   },
   "outputs": [
    {
     "data": {
      "application/javascript": [
       "/* Put everything inside the global mpl namespace */\n",
       "window.mpl = {};\n",
       "\n",
       "mpl.get_websocket_type = function() {\n",
       "    if (typeof(WebSocket) !== 'undefined') {\n",
       "        return WebSocket;\n",
       "    } else if (typeof(MozWebSocket) !== 'undefined') {\n",
       "        return MozWebSocket;\n",
       "    } else {\n",
       "        alert('Your browser does not have WebSocket support.' +\n",
       "              'Please try Chrome, Safari or Firefox ≥ 6. ' +\n",
       "              'Firefox 4 and 5 are also supported but you ' +\n",
       "              'have to enable WebSockets in about:config.');\n",
       "    };\n",
       "}\n",
       "\n",
       "mpl.figure = function(figure_id, websocket, ondownload, parent_element) {\n",
       "    this.id = figure_id;\n",
       "\n",
       "    this.ws = websocket;\n",
       "\n",
       "    this.supports_binary = (this.ws.binaryType != undefined);\n",
       "\n",
       "    if (!this.supports_binary) {\n",
       "        var warnings = document.getElementById(\"mpl-warnings\");\n",
       "        if (warnings) {\n",
       "            warnings.style.display = 'block';\n",
       "            warnings.textContent = (\n",
       "                \"This browser does not support binary websocket messages. \" +\n",
       "                    \"Performance may be slow.\");\n",
       "        }\n",
       "    }\n",
       "\n",
       "    this.imageObj = new Image();\n",
       "\n",
       "    this.context = undefined;\n",
       "    this.message = undefined;\n",
       "    this.canvas = undefined;\n",
       "    this.rubberband_canvas = undefined;\n",
       "    this.rubberband_context = undefined;\n",
       "    this.format_dropdown = undefined;\n",
       "\n",
       "    this.image_mode = 'full';\n",
       "\n",
       "    this.root = $('<div/>');\n",
       "    this._root_extra_style(this.root)\n",
       "    this.root.attr('style', 'display: inline-block');\n",
       "\n",
       "    $(parent_element).append(this.root);\n",
       "\n",
       "    this._init_header(this);\n",
       "    this._init_canvas(this);\n",
       "    this._init_toolbar(this);\n",
       "\n",
       "    var fig = this;\n",
       "\n",
       "    this.waiting = false;\n",
       "\n",
       "    this.ws.onopen =  function () {\n",
       "            fig.send_message(\"supports_binary\", {value: fig.supports_binary});\n",
       "            fig.send_message(\"send_image_mode\", {});\n",
       "            fig.send_message(\"refresh\", {});\n",
       "        }\n",
       "\n",
       "    this.imageObj.onload = function() {\n",
       "            if (fig.image_mode == 'full') {\n",
       "                // Full images could contain transparency (where diff images\n",
       "                // almost always do), so we need to clear the canvas so that\n",
       "                // there is no ghosting.\n",
       "                fig.context.clearRect(0, 0, fig.canvas.width, fig.canvas.height);\n",
       "            }\n",
       "            fig.context.drawImage(fig.imageObj, 0, 0);\n",
       "        };\n",
       "\n",
       "    this.imageObj.onunload = function() {\n",
       "        this.ws.close();\n",
       "    }\n",
       "\n",
       "    this.ws.onmessage = this._make_on_message_function(this);\n",
       "\n",
       "    this.ondownload = ondownload;\n",
       "}\n",
       "\n",
       "mpl.figure.prototype._init_header = function() {\n",
       "    var titlebar = $(\n",
       "        '<div class=\"ui-dialog-titlebar ui-widget-header ui-corner-all ' +\n",
       "        'ui-helper-clearfix\"/>');\n",
       "    var titletext = $(\n",
       "        '<div class=\"ui-dialog-title\" style=\"width: 100%; ' +\n",
       "        'text-align: center; padding: 3px;\"/>');\n",
       "    titlebar.append(titletext)\n",
       "    this.root.append(titlebar);\n",
       "    this.header = titletext[0];\n",
       "}\n",
       "\n",
       "\n",
       "\n",
       "mpl.figure.prototype._canvas_extra_style = function(canvas_div) {\n",
       "\n",
       "}\n",
       "\n",
       "\n",
       "mpl.figure.prototype._root_extra_style = function(canvas_div) {\n",
       "\n",
       "}\n",
       "\n",
       "mpl.figure.prototype._init_canvas = function() {\n",
       "    var fig = this;\n",
       "\n",
       "    var canvas_div = $('<div/>');\n",
       "\n",
       "    canvas_div.attr('style', 'position: relative; clear: both; outline: 0');\n",
       "\n",
       "    function canvas_keyboard_event(event) {\n",
       "        return fig.key_event(event, event['data']);\n",
       "    }\n",
       "\n",
       "    canvas_div.keydown('key_press', canvas_keyboard_event);\n",
       "    canvas_div.keyup('key_release', canvas_keyboard_event);\n",
       "    this.canvas_div = canvas_div\n",
       "    this._canvas_extra_style(canvas_div)\n",
       "    this.root.append(canvas_div);\n",
       "\n",
       "    var canvas = $('<canvas/>');\n",
       "    canvas.addClass('mpl-canvas');\n",
       "    canvas.attr('style', \"left: 0; top: 0; z-index: 0; outline: 0\")\n",
       "\n",
       "    this.canvas = canvas[0];\n",
       "    this.context = canvas[0].getContext(\"2d\");\n",
       "\n",
       "    var rubberband = $('<canvas/>');\n",
       "    rubberband.attr('style', \"position: absolute; left: 0; top: 0; z-index: 1;\")\n",
       "\n",
       "    var pass_mouse_events = true;\n",
       "\n",
       "    canvas_div.resizable({\n",
       "        start: function(event, ui) {\n",
       "            pass_mouse_events = false;\n",
       "        },\n",
       "        resize: function(event, ui) {\n",
       "            fig.request_resize(ui.size.width, ui.size.height);\n",
       "        },\n",
       "        stop: function(event, ui) {\n",
       "            pass_mouse_events = true;\n",
       "            fig.request_resize(ui.size.width, ui.size.height);\n",
       "        },\n",
       "    });\n",
       "\n",
       "    function mouse_event_fn(event) {\n",
       "        if (pass_mouse_events)\n",
       "            return fig.mouse_event(event, event['data']);\n",
       "    }\n",
       "\n",
       "    rubberband.mousedown('button_press', mouse_event_fn);\n",
       "    rubberband.mouseup('button_release', mouse_event_fn);\n",
       "    // Throttle sequential mouse events to 1 every 20ms.\n",
       "    rubberband.mousemove('motion_notify', mouse_event_fn);\n",
       "\n",
       "    rubberband.mouseenter('figure_enter', mouse_event_fn);\n",
       "    rubberband.mouseleave('figure_leave', mouse_event_fn);\n",
       "\n",
       "    canvas_div.on(\"wheel\", function (event) {\n",
       "        event = event.originalEvent;\n",
       "        event['data'] = 'scroll'\n",
       "        if (event.deltaY < 0) {\n",
       "            event.step = 1;\n",
       "        } else {\n",
       "            event.step = -1;\n",
       "        }\n",
       "        mouse_event_fn(event);\n",
       "    });\n",
       "\n",
       "    canvas_div.append(canvas);\n",
       "    canvas_div.append(rubberband);\n",
       "\n",
       "    this.rubberband = rubberband;\n",
       "    this.rubberband_canvas = rubberband[0];\n",
       "    this.rubberband_context = rubberband[0].getContext(\"2d\");\n",
       "    this.rubberband_context.strokeStyle = \"#000000\";\n",
       "\n",
       "    this._resize_canvas = function(width, height) {\n",
       "        // Keep the size of the canvas, canvas container, and rubber band\n",
       "        // canvas in synch.\n",
       "        canvas_div.css('width', width)\n",
       "        canvas_div.css('height', height)\n",
       "\n",
       "        canvas.attr('width', width);\n",
       "        canvas.attr('height', height);\n",
       "\n",
       "        rubberband.attr('width', width);\n",
       "        rubberband.attr('height', height);\n",
       "    }\n",
       "\n",
       "    // Set the figure to an initial 600x600px, this will subsequently be updated\n",
       "    // upon first draw.\n",
       "    this._resize_canvas(600, 600);\n",
       "\n",
       "    // Disable right mouse context menu.\n",
       "    $(this.rubberband_canvas).bind(\"contextmenu\",function(e){\n",
       "        return false;\n",
       "    });\n",
       "\n",
       "    function set_focus () {\n",
       "        canvas.focus();\n",
       "        canvas_div.focus();\n",
       "    }\n",
       "\n",
       "    window.setTimeout(set_focus, 100);\n",
       "}\n",
       "\n",
       "mpl.figure.prototype._init_toolbar = function() {\n",
       "    var fig = this;\n",
       "\n",
       "    var nav_element = $('<div/>')\n",
       "    nav_element.attr('style', 'width: 100%');\n",
       "    this.root.append(nav_element);\n",
       "\n",
       "    // Define a callback function for later on.\n",
       "    function toolbar_event(event) {\n",
       "        return fig.toolbar_button_onclick(event['data']);\n",
       "    }\n",
       "    function toolbar_mouse_event(event) {\n",
       "        return fig.toolbar_button_onmouseover(event['data']);\n",
       "    }\n",
       "\n",
       "    for(var toolbar_ind in mpl.toolbar_items) {\n",
       "        var name = mpl.toolbar_items[toolbar_ind][0];\n",
       "        var tooltip = mpl.toolbar_items[toolbar_ind][1];\n",
       "        var image = mpl.toolbar_items[toolbar_ind][2];\n",
       "        var method_name = mpl.toolbar_items[toolbar_ind][3];\n",
       "\n",
       "        if (!name) {\n",
       "            // put a spacer in here.\n",
       "            continue;\n",
       "        }\n",
       "        var button = $('<button/>');\n",
       "        button.addClass('ui-button ui-widget ui-state-default ui-corner-all ' +\n",
       "                        'ui-button-icon-only');\n",
       "        button.attr('role', 'button');\n",
       "        button.attr('aria-disabled', 'false');\n",
       "        button.click(method_name, toolbar_event);\n",
       "        button.mouseover(tooltip, toolbar_mouse_event);\n",
       "\n",
       "        var icon_img = $('<span/>');\n",
       "        icon_img.addClass('ui-button-icon-primary ui-icon');\n",
       "        icon_img.addClass(image);\n",
       "        icon_img.addClass('ui-corner-all');\n",
       "\n",
       "        var tooltip_span = $('<span/>');\n",
       "        tooltip_span.addClass('ui-button-text');\n",
       "        tooltip_span.html(tooltip);\n",
       "\n",
       "        button.append(icon_img);\n",
       "        button.append(tooltip_span);\n",
       "\n",
       "        nav_element.append(button);\n",
       "    }\n",
       "\n",
       "    var fmt_picker_span = $('<span/>');\n",
       "\n",
       "    var fmt_picker = $('<select/>');\n",
       "    fmt_picker.addClass('mpl-toolbar-option ui-widget ui-widget-content');\n",
       "    fmt_picker_span.append(fmt_picker);\n",
       "    nav_element.append(fmt_picker_span);\n",
       "    this.format_dropdown = fmt_picker[0];\n",
       "\n",
       "    for (var ind in mpl.extensions) {\n",
       "        var fmt = mpl.extensions[ind];\n",
       "        var option = $(\n",
       "            '<option/>', {selected: fmt === mpl.default_extension}).html(fmt);\n",
       "        fmt_picker.append(option)\n",
       "    }\n",
       "\n",
       "    // Add hover states to the ui-buttons\n",
       "    $( \".ui-button\" ).hover(\n",
       "        function() { $(this).addClass(\"ui-state-hover\");},\n",
       "        function() { $(this).removeClass(\"ui-state-hover\");}\n",
       "    );\n",
       "\n",
       "    var status_bar = $('<span class=\"mpl-message\"/>');\n",
       "    nav_element.append(status_bar);\n",
       "    this.message = status_bar[0];\n",
       "}\n",
       "\n",
       "mpl.figure.prototype.request_resize = function(x_pixels, y_pixels) {\n",
       "    // Request matplotlib to resize the figure. Matplotlib will then trigger a resize in the client,\n",
       "    // which will in turn request a refresh of the image.\n",
       "    this.send_message('resize', {'width': x_pixels, 'height': y_pixels});\n",
       "}\n",
       "\n",
       "mpl.figure.prototype.send_message = function(type, properties) {\n",
       "    properties['type'] = type;\n",
       "    properties['figure_id'] = this.id;\n",
       "    this.ws.send(JSON.stringify(properties));\n",
       "}\n",
       "\n",
       "mpl.figure.prototype.send_draw_message = function() {\n",
       "    if (!this.waiting) {\n",
       "        this.waiting = true;\n",
       "        this.ws.send(JSON.stringify({type: \"draw\", figure_id: this.id}));\n",
       "    }\n",
       "}\n",
       "\n",
       "\n",
       "mpl.figure.prototype.handle_save = function(fig, msg) {\n",
       "    var format_dropdown = fig.format_dropdown;\n",
       "    var format = format_dropdown.options[format_dropdown.selectedIndex].value;\n",
       "    fig.ondownload(fig, format);\n",
       "}\n",
       "\n",
       "\n",
       "mpl.figure.prototype.handle_resize = function(fig, msg) {\n",
       "    var size = msg['size'];\n",
       "    if (size[0] != fig.canvas.width || size[1] != fig.canvas.height) {\n",
       "        fig._resize_canvas(size[0], size[1]);\n",
       "        fig.send_message(\"refresh\", {});\n",
       "    };\n",
       "}\n",
       "\n",
       "mpl.figure.prototype.handle_rubberband = function(fig, msg) {\n",
       "    var x0 = msg['x0'];\n",
       "    var y0 = fig.canvas.height - msg['y0'];\n",
       "    var x1 = msg['x1'];\n",
       "    var y1 = fig.canvas.height - msg['y1'];\n",
       "    x0 = Math.floor(x0) + 0.5;\n",
       "    y0 = Math.floor(y0) + 0.5;\n",
       "    x1 = Math.floor(x1) + 0.5;\n",
       "    y1 = Math.floor(y1) + 0.5;\n",
       "    var min_x = Math.min(x0, x1);\n",
       "    var min_y = Math.min(y0, y1);\n",
       "    var width = Math.abs(x1 - x0);\n",
       "    var height = Math.abs(y1 - y0);\n",
       "\n",
       "    fig.rubberband_context.clearRect(\n",
       "        0, 0, fig.canvas.width, fig.canvas.height);\n",
       "\n",
       "    fig.rubberband_context.strokeRect(min_x, min_y, width, height);\n",
       "}\n",
       "\n",
       "mpl.figure.prototype.handle_figure_label = function(fig, msg) {\n",
       "    // Updates the figure title.\n",
       "    fig.header.textContent = msg['label'];\n",
       "}\n",
       "\n",
       "mpl.figure.prototype.handle_cursor = function(fig, msg) {\n",
       "    var cursor = msg['cursor'];\n",
       "    switch(cursor)\n",
       "    {\n",
       "    case 0:\n",
       "        cursor = 'pointer';\n",
       "        break;\n",
       "    case 1:\n",
       "        cursor = 'default';\n",
       "        break;\n",
       "    case 2:\n",
       "        cursor = 'crosshair';\n",
       "        break;\n",
       "    case 3:\n",
       "        cursor = 'move';\n",
       "        break;\n",
       "    }\n",
       "    fig.rubberband_canvas.style.cursor = cursor;\n",
       "}\n",
       "\n",
       "mpl.figure.prototype.handle_message = function(fig, msg) {\n",
       "    fig.message.textContent = msg['message'];\n",
       "}\n",
       "\n",
       "mpl.figure.prototype.handle_draw = function(fig, msg) {\n",
       "    // Request the server to send over a new figure.\n",
       "    fig.send_draw_message();\n",
       "}\n",
       "\n",
       "mpl.figure.prototype.handle_image_mode = function(fig, msg) {\n",
       "    fig.image_mode = msg['mode'];\n",
       "}\n",
       "\n",
       "mpl.figure.prototype.updated_canvas_event = function() {\n",
       "    // Called whenever the canvas gets updated.\n",
       "    this.send_message(\"ack\", {});\n",
       "}\n",
       "\n",
       "// A function to construct a web socket function for onmessage handling.\n",
       "// Called in the figure constructor.\n",
       "mpl.figure.prototype._make_on_message_function = function(fig) {\n",
       "    return function socket_on_message(evt) {\n",
       "        if (evt.data instanceof Blob) {\n",
       "            /* FIXME: We get \"Resource interpreted as Image but\n",
       "             * transferred with MIME type text/plain:\" errors on\n",
       "             * Chrome.  But how to set the MIME type?  It doesn't seem\n",
       "             * to be part of the websocket stream */\n",
       "            evt.data.type = \"image/png\";\n",
       "\n",
       "            /* Free the memory for the previous frames */\n",
       "            if (fig.imageObj.src) {\n",
       "                (window.URL || window.webkitURL).revokeObjectURL(\n",
       "                    fig.imageObj.src);\n",
       "            }\n",
       "\n",
       "            fig.imageObj.src = (window.URL || window.webkitURL).createObjectURL(\n",
       "                evt.data);\n",
       "            fig.updated_canvas_event();\n",
       "            fig.waiting = false;\n",
       "            return;\n",
       "        }\n",
       "        else if (typeof evt.data === 'string' && evt.data.slice(0, 21) == \"data:image/png;base64\") {\n",
       "            fig.imageObj.src = evt.data;\n",
       "            fig.updated_canvas_event();\n",
       "            fig.waiting = false;\n",
       "            return;\n",
       "        }\n",
       "\n",
       "        var msg = JSON.parse(evt.data);\n",
       "        var msg_type = msg['type'];\n",
       "\n",
       "        // Call the  \"handle_{type}\" callback, which takes\n",
       "        // the figure and JSON message as its only arguments.\n",
       "        try {\n",
       "            var callback = fig[\"handle_\" + msg_type];\n",
       "        } catch (e) {\n",
       "            console.log(\"No handler for the '\" + msg_type + \"' message type: \", msg);\n",
       "            return;\n",
       "        }\n",
       "\n",
       "        if (callback) {\n",
       "            try {\n",
       "                // console.log(\"Handling '\" + msg_type + \"' message: \", msg);\n",
       "                callback(fig, msg);\n",
       "            } catch (e) {\n",
       "                console.log(\"Exception inside the 'handler_\" + msg_type + \"' callback:\", e, e.stack, msg);\n",
       "            }\n",
       "        }\n",
       "    };\n",
       "}\n",
       "\n",
       "// from http://stackoverflow.com/questions/1114465/getting-mouse-location-in-canvas\n",
       "mpl.findpos = function(e) {\n",
       "    //this section is from http://www.quirksmode.org/js/events_properties.html\n",
       "    var targ;\n",
       "    if (!e)\n",
       "        e = window.event;\n",
       "    if (e.target)\n",
       "        targ = e.target;\n",
       "    else if (e.srcElement)\n",
       "        targ = e.srcElement;\n",
       "    if (targ.nodeType == 3) // defeat Safari bug\n",
       "        targ = targ.parentNode;\n",
       "\n",
       "    // jQuery normalizes the pageX and pageY\n",
       "    // pageX,Y are the mouse positions relative to the document\n",
       "    // offset() returns the position of the element relative to the document\n",
       "    var x = e.pageX - $(targ).offset().left;\n",
       "    var y = e.pageY - $(targ).offset().top;\n",
       "\n",
       "    return {\"x\": x, \"y\": y};\n",
       "};\n",
       "\n",
       "/*\n",
       " * return a copy of an object with only non-object keys\n",
       " * we need this to avoid circular references\n",
       " * http://stackoverflow.com/a/24161582/3208463\n",
       " */\n",
       "function simpleKeys (original) {\n",
       "  return Object.keys(original).reduce(function (obj, key) {\n",
       "    if (typeof original[key] !== 'object')\n",
       "        obj[key] = original[key]\n",
       "    return obj;\n",
       "  }, {});\n",
       "}\n",
       "\n",
       "mpl.figure.prototype.mouse_event = function(event, name) {\n",
       "    var canvas_pos = mpl.findpos(event)\n",
       "\n",
       "    if (name === 'button_press')\n",
       "    {\n",
       "        this.canvas.focus();\n",
       "        this.canvas_div.focus();\n",
       "    }\n",
       "\n",
       "    var x = canvas_pos.x;\n",
       "    var y = canvas_pos.y;\n",
       "\n",
       "    this.send_message(name, {x: x, y: y, button: event.button,\n",
       "                             step: event.step,\n",
       "                             guiEvent: simpleKeys(event)});\n",
       "\n",
       "    /* This prevents the web browser from automatically changing to\n",
       "     * the text insertion cursor when the button is pressed.  We want\n",
       "     * to control all of the cursor setting manually through the\n",
       "     * 'cursor' event from matplotlib */\n",
       "    event.preventDefault();\n",
       "    return false;\n",
       "}\n",
       "\n",
       "mpl.figure.prototype._key_event_extra = function(event, name) {\n",
       "    // Handle any extra behaviour associated with a key event\n",
       "}\n",
       "\n",
       "mpl.figure.prototype.key_event = function(event, name) {\n",
       "\n",
       "    // Prevent repeat events\n",
       "    if (name == 'key_press')\n",
       "    {\n",
       "        if (event.which === this._key)\n",
       "            return;\n",
       "        else\n",
       "            this._key = event.which;\n",
       "    }\n",
       "    if (name == 'key_release')\n",
       "        this._key = null;\n",
       "\n",
       "    var value = '';\n",
       "    if (event.ctrlKey && event.which != 17)\n",
       "        value += \"ctrl+\";\n",
       "    if (event.altKey && event.which != 18)\n",
       "        value += \"alt+\";\n",
       "    if (event.shiftKey && event.which != 16)\n",
       "        value += \"shift+\";\n",
       "\n",
       "    value += 'k';\n",
       "    value += event.which.toString();\n",
       "\n",
       "    this._key_event_extra(event, name);\n",
       "\n",
       "    this.send_message(name, {key: value,\n",
       "                             guiEvent: simpleKeys(event)});\n",
       "    return false;\n",
       "}\n",
       "\n",
       "mpl.figure.prototype.toolbar_button_onclick = function(name) {\n",
       "    if (name == 'download') {\n",
       "        this.handle_save(this, null);\n",
       "    } else {\n",
       "        this.send_message(\"toolbar_button\", {name: name});\n",
       "    }\n",
       "};\n",
       "\n",
       "mpl.figure.prototype.toolbar_button_onmouseover = function(tooltip) {\n",
       "    this.message.textContent = tooltip;\n",
       "};\n",
       "mpl.toolbar_items = [[\"Home\", \"Reset original view\", \"fa fa-home icon-home\", \"home\"], [\"Back\", \"Back to  previous view\", \"fa fa-arrow-left icon-arrow-left\", \"back\"], [\"Forward\", \"Forward to next view\", \"fa fa-arrow-right icon-arrow-right\", \"forward\"], [\"\", \"\", \"\", \"\"], [\"Pan\", \"Pan axes with left mouse, zoom with right\", \"fa fa-arrows icon-move\", \"pan\"], [\"Zoom\", \"Zoom to rectangle\", \"fa fa-square-o icon-check-empty\", \"zoom\"], [\"\", \"\", \"\", \"\"], [\"Download\", \"Download plot\", \"fa fa-floppy-o icon-save\", \"download\"]];\n",
       "\n",
       "mpl.extensions = [\"eps\", \"jpeg\", \"pdf\", \"png\", \"ps\", \"raw\", \"svg\", \"tif\"];\n",
       "\n",
       "mpl.default_extension = \"png\";var comm_websocket_adapter = function(comm) {\n",
       "    // Create a \"websocket\"-like object which calls the given IPython comm\n",
       "    // object with the appropriate methods. Currently this is a non binary\n",
       "    // socket, so there is still some room for performance tuning.\n",
       "    var ws = {};\n",
       "\n",
       "    ws.close = function() {\n",
       "        comm.close()\n",
       "    };\n",
       "    ws.send = function(m) {\n",
       "        //console.log('sending', m);\n",
       "        comm.send(m);\n",
       "    };\n",
       "    // Register the callback with on_msg.\n",
       "    comm.on_msg(function(msg) {\n",
       "        //console.log('receiving', msg['content']['data'], msg);\n",
       "        // Pass the mpl event to the overriden (by mpl) onmessage function.\n",
       "        ws.onmessage(msg['content']['data'])\n",
       "    });\n",
       "    return ws;\n",
       "}\n",
       "\n",
       "mpl.mpl_figure_comm = function(comm, msg) {\n",
       "    // This is the function which gets called when the mpl process\n",
       "    // starts-up an IPython Comm through the \"matplotlib\" channel.\n",
       "\n",
       "    var id = msg.content.data.id;\n",
       "    // Get hold of the div created by the display call when the Comm\n",
       "    // socket was opened in Python.\n",
       "    var element = $(\"#\" + id);\n",
       "    var ws_proxy = comm_websocket_adapter(comm)\n",
       "\n",
       "    function ondownload(figure, format) {\n",
       "        window.open(figure.imageObj.src);\n",
       "    }\n",
       "\n",
       "    var fig = new mpl.figure(id, ws_proxy,\n",
       "                           ondownload,\n",
       "                           element.get(0));\n",
       "\n",
       "    // Call onopen now - mpl needs it, as it is assuming we've passed it a real\n",
       "    // web socket which is closed, not our websocket->open comm proxy.\n",
       "    ws_proxy.onopen();\n",
       "\n",
       "    fig.parent_element = element.get(0);\n",
       "    fig.cell_info = mpl.find_output_cell(\"<div id='\" + id + \"'></div>\");\n",
       "    if (!fig.cell_info) {\n",
       "        console.error(\"Failed to find cell for figure\", id, fig);\n",
       "        return;\n",
       "    }\n",
       "\n",
       "    var output_index = fig.cell_info[2]\n",
       "    var cell = fig.cell_info[0];\n",
       "\n",
       "};\n",
       "\n",
       "mpl.figure.prototype.handle_close = function(fig, msg) {\n",
       "    fig.root.unbind('remove')\n",
       "\n",
       "    // Update the output cell to use the data from the current canvas.\n",
       "    fig.push_to_output();\n",
       "    var dataURL = fig.canvas.toDataURL();\n",
       "    // Re-enable the keyboard manager in IPython - without this line, in FF,\n",
       "    // the notebook keyboard shortcuts fail.\n",
       "    IPython.keyboard_manager.enable()\n",
       "    $(fig.parent_element).html('<img src=\"' + dataURL + '\">');\n",
       "    fig.close_ws(fig, msg);\n",
       "}\n",
       "\n",
       "mpl.figure.prototype.close_ws = function(fig, msg){\n",
       "    fig.send_message('closing', msg);\n",
       "    // fig.ws.close()\n",
       "}\n",
       "\n",
       "mpl.figure.prototype.push_to_output = function(remove_interactive) {\n",
       "    // Turn the data on the canvas into data in the output cell.\n",
       "    var dataURL = this.canvas.toDataURL();\n",
       "    this.cell_info[1]['text/html'] = '<img src=\"' + dataURL + '\">';\n",
       "}\n",
       "\n",
       "mpl.figure.prototype.updated_canvas_event = function() {\n",
       "    // Tell IPython that the notebook contents must change.\n",
       "    IPython.notebook.set_dirty(true);\n",
       "    this.send_message(\"ack\", {});\n",
       "    var fig = this;\n",
       "    // Wait a second, then push the new image to the DOM so\n",
       "    // that it is saved nicely (might be nice to debounce this).\n",
       "    setTimeout(function () { fig.push_to_output() }, 1000);\n",
       "}\n",
       "\n",
       "mpl.figure.prototype._init_toolbar = function() {\n",
       "    var fig = this;\n",
       "\n",
       "    var nav_element = $('<div/>')\n",
       "    nav_element.attr('style', 'width: 100%');\n",
       "    this.root.append(nav_element);\n",
       "\n",
       "    // Define a callback function for later on.\n",
       "    function toolbar_event(event) {\n",
       "        return fig.toolbar_button_onclick(event['data']);\n",
       "    }\n",
       "    function toolbar_mouse_event(event) {\n",
       "        return fig.toolbar_button_onmouseover(event['data']);\n",
       "    }\n",
       "\n",
       "    for(var toolbar_ind in mpl.toolbar_items){\n",
       "        var name = mpl.toolbar_items[toolbar_ind][0];\n",
       "        var tooltip = mpl.toolbar_items[toolbar_ind][1];\n",
       "        var image = mpl.toolbar_items[toolbar_ind][2];\n",
       "        var method_name = mpl.toolbar_items[toolbar_ind][3];\n",
       "\n",
       "        if (!name) { continue; };\n",
       "\n",
       "        var button = $('<button class=\"btn btn-default\" href=\"#\" title=\"' + name + '\"><i class=\"fa ' + image + ' fa-lg\"></i></button>');\n",
       "        button.click(method_name, toolbar_event);\n",
       "        button.mouseover(tooltip, toolbar_mouse_event);\n",
       "        nav_element.append(button);\n",
       "    }\n",
       "\n",
       "    // Add the status bar.\n",
       "    var status_bar = $('<span class=\"mpl-message\" style=\"text-align:right; float: right;\"/>');\n",
       "    nav_element.append(status_bar);\n",
       "    this.message = status_bar[0];\n",
       "\n",
       "    // Add the close button to the window.\n",
       "    var buttongrp = $('<div class=\"btn-group inline pull-right\"></div>');\n",
       "    var button = $('<button class=\"btn btn-mini btn-primary\" href=\"#\" title=\"Stop Interaction\"><i class=\"fa fa-power-off icon-remove icon-large\"></i></button>');\n",
       "    button.click(function (evt) { fig.handle_close(fig, {}); } );\n",
       "    button.mouseover('Stop Interaction', toolbar_mouse_event);\n",
       "    buttongrp.append(button);\n",
       "    var titlebar = this.root.find($('.ui-dialog-titlebar'));\n",
       "    titlebar.prepend(buttongrp);\n",
       "}\n",
       "\n",
       "mpl.figure.prototype._root_extra_style = function(el){\n",
       "    var fig = this\n",
       "    el.on(\"remove\", function(){\n",
       "\tfig.close_ws(fig, {});\n",
       "    });\n",
       "}\n",
       "\n",
       "mpl.figure.prototype._canvas_extra_style = function(el){\n",
       "    // this is important to make the div 'focusable\n",
       "    el.attr('tabindex', 0)\n",
       "    // reach out to IPython and tell the keyboard manager to turn it's self\n",
       "    // off when our div gets focus\n",
       "\n",
       "    // location in version 3\n",
       "    if (IPython.notebook.keyboard_manager) {\n",
       "        IPython.notebook.keyboard_manager.register_events(el);\n",
       "    }\n",
       "    else {\n",
       "        // location in version 2\n",
       "        IPython.keyboard_manager.register_events(el);\n",
       "    }\n",
       "\n",
       "}\n",
       "\n",
       "mpl.figure.prototype._key_event_extra = function(event, name) {\n",
       "    var manager = IPython.notebook.keyboard_manager;\n",
       "    if (!manager)\n",
       "        manager = IPython.keyboard_manager;\n",
       "\n",
       "    // Check for shift+enter\n",
       "    if (event.shiftKey && event.which == 13) {\n",
       "        this.canvas_div.blur();\n",
       "        // select the cell after this one\n",
       "        var index = IPython.notebook.find_cell_index(this.cell_info[0]);\n",
       "        IPython.notebook.select(index + 1);\n",
       "    }\n",
       "}\n",
       "\n",
       "mpl.figure.prototype.handle_save = function(fig, msg) {\n",
       "    fig.ondownload(fig, null);\n",
       "}\n",
       "\n",
       "\n",
       "mpl.find_output_cell = function(html_output) {\n",
       "    // Return the cell and output element which can be found *uniquely* in the notebook.\n",
       "    // Note - this is a bit hacky, but it is done because the \"notebook_saving.Notebook\"\n",
       "    // IPython event is triggered only after the cells have been serialised, which for\n",
       "    // our purposes (turning an active figure into a static one), is too late.\n",
       "    var cells = IPython.notebook.get_cells();\n",
       "    var ncells = cells.length;\n",
       "    for (var i=0; i<ncells; i++) {\n",
       "        var cell = cells[i];\n",
       "        if (cell.cell_type === 'code'){\n",
       "            for (var j=0; j<cell.output_area.outputs.length; j++) {\n",
       "                var data = cell.output_area.outputs[j];\n",
       "                if (data.data) {\n",
       "                    // IPython >= 3 moved mimebundle to data attribute of output\n",
       "                    data = data.data;\n",
       "                }\n",
       "                if (data['text/html'] == html_output) {\n",
       "                    return [cell, data, j];\n",
       "                }\n",
       "            }\n",
       "        }\n",
       "    }\n",
       "}\n",
       "\n",
       "// Register the function which deals with the matplotlib target/channel.\n",
       "// The kernel may be null if the page has been refreshed.\n",
       "if (IPython.notebook.kernel != null) {\n",
       "    IPython.notebook.kernel.comm_manager.register_target('matplotlib', mpl.mpl_figure_comm);\n",
       "}\n"
      ],
      "text/plain": [
       "<IPython.core.display.Javascript object>"
      ]
     },
     "metadata": {},
     "output_type": "display_data"
    },
    {
     "data": {
      "text/html": [
       "<img src=\"data:image/png;base64,iVBORw0KGgoAAAANSUhEUgAAAoAAAAG4CAYAAADVDFZ+AAAgAElEQVR4XuxdBVhVyxb+D4cSBCQtxCJEsFtExcYE7E4MLMQGu7tAbL2K3WInimJ3clBBxcBABBSUfN+aczfS5xCC9zHr+973rpzZs2f+WXv22mvW+pcIXDgCHAGOAEeAI8AR4AhwBAoUAqICNVs+WY4AR4AjwBHgCHAEOAIcAXADkCsBR4AjwBHgCHAEOAIcgQKGADcAC9iC8+lyBDgCHAGOAEeAI8AR4AYg1wGOAEeAI8AR4AhwBDgCBQwBbgAWsAXn0+UIcAQ4AhwBjgBHgCPADUCuAxwBjgBHgCPAEeAIcAQKGALcACxgC86nyxHgCHAEOAIcAY4AR4AbgFwHOAIcAY4AR4AjwBHgCBQwBLgBWMAWnE+XI8AR4AhwBDgCHAGOADcAuQ5wBDgCHAGOAEeAI8ARKGAIcAOwgC04ny5HgCPAEeAIcAQ4AhwBbgByHeAIcAQ4AhwBjgBHgCNQwBDgBmABW3A+XY4AR4AjwBHgCHAEOALcAOQ6wBHgCHAEOAIcAY4AR6CAIcANwAK24Hy6HAGOAEeAI8AR4AhwBLgByHWAI8AR4AhwBDgCHAGOQAFDgBuABWzB+XQ5AhwBjgBHgCPAEeAIcAOQ6wBHgCPAEeAIcAQ4AhyBAoYANwAL2ILz6XIEOAIcAY4AR4AjwBHgBiDXAY4AR4AjwBHgCHAEOAIFDAFuABawBefT5QhwBDgCHAGOAEeAI8ANQK4DHAGOAEeAI8AR4AhwBAoYAtwALGALzqfLEeAIcAQ4AhwBjgBHgBuAXAc4AhwBjgBHgCPAEeAIFDAEuAFYwBacT5cjwBHgCHAEOAIcAY4ANwC5DnAEOAIcAY4AR4AjwBEoYAhwA7CALTifLkeAI8AR4AhwBDgCHAFuAHId4AhwBDgCHAGOAEeAI1DAEOAGYAFbcD5djgBHgCPAEeAIcAQ4AtwA5DrAEeAIcAQ4AhwBjgBHoIAhwA3AArbgfLocAY4AR4AjwBHgCHAEuAHIdYAjwBHgCHAEOAIcAY5AAUOAG4AFbMH5dDkCHAGOAEeAI8AR4AhwA5DrAEeAI8AR4AhwBDgCHIEChgA3AAvYgvPpcgQ4AhwBjgBHgCPAEeAGINcBjgBHgCPAEeAIcAQ4AgUMAW4AFrAF59PlCHAEOAIcAY4AR4AjwA1ArgMcAY4AR4AjwBHgCHAEChgCBdIANDMzc0lMTOwPIBHArRIlSgz5+PFjhYSEhA0AtBITEx9HR0f3DQ4Oji5g+sCnyxHgCHAEOAIcAY5AAUCgwBmAZmZmtRITEzfGxMTUefXq1U8zM7OtAO4B6AtgpEQiuWJqajpTJBIpSSQS1wKgA3yKHAGOAEeAI8AR4AgUMAQKnAFobGxsrKCgUDwgIOAyrbWpqelYkUhkAaCRRCIpT38zNjYuJRaLLwr/LmA6wafLEeAIcAQ4AhwBjsD/OQIFzgBMvp7ly5c3EIvFN0Qi0RoAbSUSScN/fxebmZn9kEgkqv/n68+nxxHgCHAEOAIcAY5AAUSgwBqAFSpUKJOYmHgMwPb4+PhLYrF4YSoDMFIikagVQJ3gU+YIcAQ4AhwBjgBH4P8cgQJpAJqamlYViURk/M2TSCSe/x75+kgkEmNabxMTE0ORSHQhICDAVNb6JyQkJIpEBRJGWdDw3zkCHAGOAEeAI/DXIiAq4C/vAme5mJiY6ItEoocikWiYRCI5LGimqanpAwAjKDbQzMxsWmJionZAQMAYWZqbmJiYGBoaiUTKJy4gQvaurq4G+LwLxoLz9ebPd0HQdK7nBU/P9fQ0C5wNlPxZLnCTNzMzm5OYmOgsEokCAND8yXQ7npCQsEtBQWEjAE0AQSKRqIe/v3+krI2PDMAvXwrig6MBPm9Z2vH/8Tu9GPX0+Hr/f6ym7Fnw9eb7uWwt+e+3ID3X1+cG4H9/JfNxBtwAzEfw8/jW/MXIX4x5rHL5cjuu51zP80Xx8vim3ACUesC45AABbgDmALz/2KX8xchfjP8xlc3WcLmecz3PluL8xy7iBiA3AHOsstwAzDGE/5kO8vPF+OLFc1C8cvnyLE8pTyU/552nE011Mz5vbgjlp/7l1b0Lsp7zI+C80rL/0/twA/D/dGHTmVZ+bpRr1rgzA3Do0BF5Dnh+zjvPJ5vshnze3ADMT/3Lq3vnh55/jfiJZXsfQDU+FF2bGsPEWCbhRq7DwT2A3AOYY6XiBmCOIfzPdJAfG6UAjoNDW/afBw8Se1HeSn7OO29nmvJufN7cAMxP/cure+eHnu88F4Bzt9/i/aNjqG1eFLOmTMyr6SbdhxuABdgANDEx0RSJRFfi4uLaBgYGvjE1NR0MYLpIJPr4r4Ycl0gkU2VpJTcAZSH0//N7Xm+UL1++wNmzp3DmzCkEBr5gQJYrZ4wWLVqhefNWeXYcnNfz/ls0hs+bG4B/iy7+yXHkh55PXn8dH79G4emJ2VBXVcT5M2f/5BTT7ZsbgAXUADQxMakrEonWi0Qi09jYWNN/DcCNIpHoqEQiOZIVTeQGYFbQ+m+3zY+NMjExERev38eYYd0ZeAcOHMszw09YrfyY99+gKXze3AD8G/TwT48hr/X86TMJxs5dj7A3d/Ez4kO+ftjyGMA/rV1/Yf+mpqabRCLR5sTERK+4uLjG/xqAD0Qi0RsApQA8iI2NHRUYGBgua/jcAJSF0P/P73m9URJyB30DsX6dBzTVlNG4WgkoKCjkeRxgfsz7b9AaPm9uAP4Nevinx5DXei55E4aFO+9BTzkCZ7ZNYtPbv/8ojI1N/vRUU/TPPYAF1AMoaIGpqWlQXFxco8DAwGAzMzPvxMTEKQEBAQ9MTU3ni0SiEhKJpK8sjeQGoCyE/n9+T71Rkndu+fLFuHfvDqZPnw3jXA5k/hUbD+dVVxDy8ha0japjdKfK+Bh4mx0B56Xk9QsiL+eW2b1evnwOHZ3C0NEp/tdX+qEscR+f87B36AQ9Xb0cQZif6/1fzHb3ffAedwM+o1Oj8jA0KJwj7PPj4rzW87O3grHr/HOofb2M96E/EPUzDq3qlIbzqNF5On1uAHIDUDAAyfOXJGXKlCmirKz8MiAgQFeWRvJScLIQ+v/5nTaM5CXw/Pwuw8nJkU2wZs3a2LRpW65O9nFgKJbuoQqFUmlVxwhdm+QPDUxBLP1Hmdfq6qro29fxrzYAf/36hfYdO0G3Si+oKCtj6Rhb6GiqZlsXU+t5tjvKxoX5ne2eVT3/Eh6N8Z7X2Ey1xN8wwqFSnnuysgFziks8Vq+CsooShjgOyxM99zotwYW771BVLwTxmhZ4FBgKa6OvGNCzU06nkqXrpR86vBJIlkD7f2oseADFYnG0goJCZ4lE4knzMzc3101ISHgikUiKyZovGYCy2vDf/z8RcB7jgsNHTyE2OpxRtDx69Aja2tq5NtntJ59hz7kAVK9ggLv+n1ChtDYWj2qYa/3zjjJHwMbGhjXw8fH5q6HatWsX3Pc+gG65emyc1pX0MKGf1V895owG91/BXBj/9lPPsOcsVRUFy2htY1UOs6ZP/s9gH/wxEk2a2DDD78CRk6hiop/p2BMSElgYSk5k+vpruCv5hHnDrOA6fyNQxByju1ZFs9qlc9Jttq4V0cZdgKVAT14wAGNjYz+rqam9BtBMIpE8NDU1nSESiYpKJJJhsnSDewBlIZR/v4eGhmLbti0wNjZGu3Z2OR5Ics9ITGw8+rh5QbWIEeI+38fD8+uxaNFytGxpm+P7CB0s2nkPz16HwaVLFSzfe5+VrV40uDr0dHVy7R7ydJSfHiF5xpebbYTM69Onf2deE/l2bmVeR/+Kg6qymH0w5JaMdh6FMO2WECsXYl2qiOOxZnyzbN8jr9c7Pcwp271ly9zJdn/zMRIBwd9Qt2IxFFZTyhD27Mx75pZbeBUSCaOihXFqy0QUKayM0ydPy7W0ZEytXLkUdOw9btwklC1bTq7rcqORgPnu/YcR9vkt61JTtyR6drFPl2GA/ByTJo3FxYsXMGbMeHTr1jPbw5i45ho+fYuGWzdTOE1ehJJV7NC0qi562VbJdp/ZuZB7APkRcKCQBGJmZtYUwBLaPwH4i0Sivv7+/pGyFIvHAMpCKGu/52YM0LBhA3Htmh8bgKfnRtSv3yBrg0nVOnls1DHfpzjgF/Jvi0Q8PjoNne3aYvz43Pv6H7XyMr5Hx8LD2RqDZu6FqlZxaIf7YOn82TmaR1Yvzs+YsKyONbfakx526tSOdUfci2SQ5FS2nvLHpfvvUdvcAEPaW2TbQEs+jvj4eNh27AnDuoOhoxqD95/CoKpZFLMG1M52PFp+rXdyzHMr250Ih6duuoHoX/EwNtTC5J7VM8Q9q/MmY37gzD2IeHsPcaGPEPKOfAjyUzUdP+4NN7cJ7JqKFS2xY8e+XNEJefWUYowHz96LB94z2SXmtlOxfmpnaKgpp+mC4kvHjBnO/q6iooJTpy5m67QjLj4BQ5dcgqJYhE5VYzDPfTvK1OuHcrpxmOLYQt6h50o7HgNYwA3A3NAibgDmBoq/+8itGKAXLwLQqVN7qGgYoHxDJxRS08CUAdYoW1wz2wNO/oKYvPo8QiJEECXEIlFBCcF396GMVhQ2bNia7f6TXxjxIwbO7legraGCBYNro4vzSmiXqo4gv3Xw3rkRGhoauXIfeTrJ6otRnj7/5jbk7Zi7aAnUVZWgq62G6OgYDBmS/QosMTExGD5uKuJLtEyaNnl1LcvJDDGWCRPpuZPbKhhWc4C1hTYOeR+FXvkG6G9bAdZVSsi8Pr0G+bXecxYuxudv0TAy0IB6IaVcyXbfcSYA5+9KPVwkU/vWzHAPyOq8nwR9xdI992FRRhvWpooYPKAzu4e8xmuXLnYICPBPGlteZ8LS+MdOmQO9IqoopKKEt5++Y6bbBEbMnFqSf0zTbzNmzIWdXccs69fHsChMXncdJfXVEfV0O248fAXTpmNQWPQNqyY6ZLm/nFzADUBuAOZEf9i13ADMMYSIi4vDz58/AbEKHBzaQElRAcePnspRx56eq7B+vSesusxBtIL0yLR0UXVM61c721/Zwgvi/YdvGLrEB/Fxcaig/QUBkSUQEfIMX+57wcfnWrb7Tz7hZ6++YvHu+7Asp4PBrY3RedhMFLewxdt7BzF2QJtcPWqWBXRWX4yy+svN33PTYyyMa9spfxzyPoYSJrWwfExjXDp7kh2LZVdID72vh8DAtDFio79BqVARWFUqhoFtKma3y6Trjh07go3HJdApXRPDOlhgxuzZKFrZAdaVDNC/jWW2+s+P9aZjWpfZ66FpWA36RVRhU+YbWrVqna3xCxfFJyRgrIcfIqJiUdeiKK4/+YgWtUqhW9P06UYymzcd19KxffKj+5M3XmOfz0u0qVcaH5+cwPFrr5CQCLSzKgOnYSMzHfvbt8Fo27Y59PT00bx5S+zatR0jRjhj0KChOZpzVi4+evUVNm/fj77dHVDCQAPzV25FJ7v26NkiZVm2Hz++o3HjemzukyZNxaxZU9G4cVOsWLE6K7djbSnhY/neB6hqrIudS/ohQVEdlm1nQRTzDZumcQMwy4Dm8ILcC0TJ4UD+q5cXZAPw+v23IJe+aaki2TZ6goPfoH//nggN/YJCmkURFS49Vi1hWAbt27bNdsWLwYP74aH/a1RsPRVIiEFcbAwUVQrDrU8NlC+hlS11E14QV+8FY/72u/j++QWGtTfD9uvxiI/9hfv7XXDmzEUYGKT9gs7qDc/eDsauc8/RsnYpNKuijc4DXVCmbj98eemH2qXjMGWK9NgmLyQ/DAJ55zVpxjz4vw5D49a9MLSDBVSVFeW9NN12z9+GYf72e0m/NaxWEv1bmWU7O5I+blq2bAyDWkNRqEgJvLjoAePGI1j1g5WjrKGgkLMteOnSBbjztQxUNQywcGg9THR1BYzaoVgRMeYNbZQtLPJjvd0PPMS951+Sxtu/dQVYV86eB1Po5OX7cMzddgeli2qgn20FzPznFowMCmPGgNrp4pLRvE+fPoEZM6ZAX18fmzZ5QV/fgF2//ugTZlSS3n0Lvge/tzoI/vQdLUwi0K1j5jHHe/bsxPz5s9CxYxc0aNCIHa+2aGHL4ojzSlbtf4j7L74weinD4loY736Z7eWTelZPMQSK+3N2dmIhNHPnLoaNTT12/HvhwtUs7/vn77zFjrMBqFleDevn9oN+0eIoZTMVCXHR+GdKm7yaOrsP9wByD2COFe6/YgBGRMXg0ctQlC+phWI6ajmaNz045++9x/ZT0uOLzo3Lw7Zu9jK4nJwG4erVK9ApUwdFzZvj2ck5rM8mPedj6Ti7LG8wdG1sbCysrWtDx6Qpilm0RnHVr7h75zqKW7RG2/ql4dCwfLbmL7wgvI49xl6flwh5dgZbl7hg1ZEgvPvyA0+Oz4THsoWoVatutvpPfpEQLzagtTnK6sajSx9HmDUfj8iPEiiGnMWuXQdzfA95O8gPg0Cesb37/B0dKU4vEczQJ2O5a5Psk8mSl8dp9nbEqBgiLNAX+iaNmEdn5agG7Dg4O0K6PWqMMyrbL4KKInBt+3BUs5uNn79+YmTHyqhfs3J2uk26xnGoI+LLdGd9e461wZx5sxEkbgBFhQSsG980W89PXq93+PdfcFntB2VFMXo2N8XmE89gXlob47tXyxE2p268wV6fF0wvOjc2xsiVvvj5Kx7uztZQS2c905v3p08fYWdni6ioKDaW8eNd0bNnH/bfUzfeYM/9XMc6KK6rjrVHHuPms09wsrNEzQpSIzEjmTx5HE6ePIb585dAW1sHQ4cOgI1NMyxf7pGjOct7MYU5uHj4IfxHDFaMaoDiRTXR1e0E1FQUGT7JPZ3Edbp16yaMHj0O/fsPQrt2LREc/BpHj55BqVJG8t6StRNqAJvrhGGHpxu6d++FJz8rs4/zFSPqQbOwNJEpL4QbgNwAzLGe/e0GID3oIZ/DsGz/M4RG/IKykgIm9qierVg46uvEiWN4/joEjyPLs5cjiVhBhAVD6kFXK2vcY0FBgbC3bw0dHV2YNR2DoKdXoSn6ijgVAxa0vXrRdJQrkfWYvUePHqJ37y6o2mEWFArpwa6GChYsmI0KzSewbL0Z/dP3AMhSBuEF4epxEY+CwvHp/k4c270RG44+xbUnIQi6thkj+rRnX/U5lXled/DiXTiLWUqI+oSuPboxIyIm6iv8T8yAn98dFoydF5LXBoGsOSXPYPz2RRrfpapZDLplamLRZEdYmJvJ6iLd3w8dPohDD5UhVlLFo8OTULm5E1C4DBzbmqOeZfFs9bls2SJ4+9xDOStHVDfRxfbFfVG0ckf8+hGGaib6mD8j+0lD9Dy2cuiBknUcYWqoiUm9amL79q04JVGHsroOlo9sAC31tAH9siaS1+vt9+gDNh1/xpJj6IOHkp/iExKZ4Z2eoZbZ+N+9ewuKI6Zno7BpB/acDrevhBpm+pi2+hievw2H2+BWsCybNv4yvXmvXesB+p8gAwcOwciRYxAbF49hS31ZMoOnSyPmyfW+EoTDV4Jgb10W7azKZgqzrW0TfPjwHidOnMf79+8waFAfWFs3grv7OlnLkyu/U3LMOM+r0NVUwZLhVtDT08DA2WdYdu7iYfVT7OV9+3bHgwf3sGXLDlSrVgOuruNx4sRRzJu3GK1bSxOl5JUV+x7g4ctQFPl+DReOeWHBgqXYfTUSCmoGGNKyOOpUM5e3qxy34wZgATYATUxMNEUi0ZW4uLi2VArO2NjYQiwWbyQ+z8TExMfR0dF9g4ODo2Vp2d9sAJKBNXbsSMTr1WccYSpKYlDmFxlBvazp2FYhS3VlV61ahs2b16NkFXvmrbO21IVYUQUX779H67ql0alx1jxrmzatg7v7cnTp1g+Botr4EnQTEc9PwGnqZuzYexi9utqjY6Os9Unr5eW1BSs9VjODiY7aZvWrBBub+qjacSl7uXs4N0QhcplkUWjD0NUtjK6TvREdC6i8PYA1HqshMNt/9D+HTo3Ksa/knAi92Ees8GVG8BqXRnj54hl69OiE6l1WIlGkiPv7RmO71y5YWFTKyW3kvjavDQJ5BkbZ0Y4zd+PZqbmsuWH1LizGjo76GmYj+YEw79RrILQq9YJ2oQQ8Oj4bcWplUKZuX9StWBSD21vIM6w0bbp3d8B3tUrMm0jerf0bpyMgJAE/Ql9BTVURF86czVa/dBEZEH3HzINhVYek5+/y5UtYeeAxNIuZY2KPajAzyjovZV6v94ajT3DtycekxBXBSBjZsRIzkuWViIgIdO1qx3AhqdZpCUSKalgxsgE01ZUxatIsZgCOGjkKtnXSnlikN+8uXTogIECCrl17gI5t7e07s6o/r0Mi2ZEyJZXRRxrJLf9PWHP4sUx9+fjxI1q2bMRCRU6fvsiMq379erAjVmIryAu5I/mE1Yceo6aZPoY7VGIG4PR1V1lFk1GdKqOqsbSaDJGMW1nVYB7BK1duM8N627bNoA+bAQMcMWrU2CwN13X9dYR8jcKn6+54++oZTp68gJkbLiJGuRiamiWgp32zLPWXk8bcACygBqCJiUldkUi0XiQSmcbGxpqSAWhmZkaBPyMlEskVU1PTmSKRSEkikbjKUrC/1QCkY9COHdsiJPQ7LNrMQGJCPGrpv8VbWOBjWDTKJN6Ggbaa3Jl2Eok/6GWmpKSEMtZOUFAqjFKKLzFypAumb74JPS1VFoOUFX6znj0748mTR5gwexPOPfmFuG+BeHhqCZZ47MTOK99gqF8YswZm3Vs3ZswI3HvxFeWsBqGGqXSDoy9udbNO0CxWAeO6VUXFMlnn0qMNIxYKGDz/HH5GfkLdou/YBkgcYwt23EXkxwA0Nv6F4cNzVtJI+DonTBcNq89KzVGcZA2HuUhU1saT4zPgNn4M2re3l6WeufJ7XhsE8gx68wEf7D14FL8iP6KkZixevPnMjoGrmuhhVMesH6s+fHgfExd5obhlGxbU/+npCWz22olK7edCh7wkTlknVg4P/8aC5yu2ngYVjaIY1EwPW9Ytxe07d5CYEMemSfQy2eUYpNisFXtuswQQ4diRYmqHTd8IjaKmsLMuh66t68sDZ4o2ebne+/btxvFnalBQLozhtkVRo4oFTl5/jX0XX8K2jhE628hPv0PxkF5e/6By5SqI/KUA7WqOUFeKg/tYKb2IbdtWCIv4hQHjPNI16FPPm7Bs164FS9SYNWs+KFylUSMbrFy5BpcfvseWE/7sY4M+Okgo/o/2wjLFNDCtX60McT979hTGj3dm8c2LF6/A48eP0KtXZ9SuXRfr1/+T5fXKzgX7L77EieuvWfhO63qlmQG48dADHLnyCg4Ny6Ft/TKs2127vLBw4VxUqVINW7fuYn+jsAbCIqsey4SERAxdepHF097a5QR9PX2cOXMJk5btx+dYXZhqfsIkp27ZmU62ruEGYAE1AE1NTTeJRKLNiYmJXsQDKBaLExQUFC5JJBLmbjI2Ni4lFosvCv/OTLv+VgPw6NHDmDp1Eio1GQglgxr4FHARX/2PYeKCXThy9R1eXZiPIoVVGMeZPDJixBBcuXIJPQeOw/nrTxEf8wNfA6/A2/s03I8Gs6ODmQNqo5SctTA/fgxhwfFFihRBtzEbcPPZZxgqvYa310I4OY3Ggx8W+PkrDitHW6NwIfnjr8iT06RJfRQu3wr6xtbo1cIUTaobsiBmSagaihhWRbMahhjYqbE8007zYnz0+huW7byL0KAbcHKoyrJxiQ9s+HJfxP36jooqjzBpkluW+05+we9MOT32NU5chkTDUMduCmJVS+DFpdWwb1GXEbLmheSlQSDPfGiN+07egMiICDSpbQqn3m3QomVTGDWZwkIcVrs0hqI4a9UKyHi4+UEf6nplWRC8rlocmjZtAIt2s6GirotFw+pBTytr8Unnz5/BRFc3VLZfyHSYjjSvXaOXp7R8IHvB7j4C8wrZO7Jet241Lr3RTUoA0S9SCMQL2LrHSIgUVWFcUgsei6bLA2m+GID79+/BEvd1qGg7BT8jQhByfTV27z6I8BgVlmRFvH2uvWrINX6K1WvdWuo9OnDgKM7dCoLfi0REBPmiWTU9nDnzm9i7sE4J9OrikCbBLLWeU9wbxb917twNjo7D0KJFI2hoaOLChSvYd/EVzt15y7y6TWsYsvvS6cqwpZfY6QJxd2b0Mbx48Xzs2LEV48ZNRq9efeHv/xTdujmgevWa2Lx5u1zzzWmjxbukJPMTuleDeRltZgCevPwSnocfo55FUTi2k3q8R40aCl/fi5g5cx46dJBm6RLWhEXx4iWYB09eoXfEpLXXoKmaiIv/DEezZi2xZMlKLN1yEk8+qqBIXCCWTcnZ6Ym8Y6F23AAsoAagoCRCJRBFRcXiIpFosUQiEepsic3MzH5IJBKZQW1/owFIwezEgRcY+BLWfTzwI0aEIuEXceHkXtSsVR+PJUH4GfGBwSCPB4LiaoiyQF1dHUOmbMPqecMhFsXiR/gXODmNgpZxc5y+GQw767JoLyP2RcB+9+4dLC6vXXsHhGm3QtSvOPSxKgTnkf1hbl4RdR2m48HLUGT1GEiIK6zSYS7EhbSTArQpLmiX90Wo6ZRGUR01bHWXJptkRWjD2HspECevvsKbW7uwaZkrSpeWxvqMWHYeUTEiFI/2xdyZM7LSbZq2QvC6cKzu7X0I06ZNRuPOkxAhNkLwnb0wK5oID4+8iRf62wzA+w8eYrn3WygoKmMlHe8VVmWUP+cClFFYrxx7qVHZPHmFDMo27duiaL0xUFEWw2NMI2ZAUpbmjdfK0ClTG45tK6KepczKkCluSdefuSpBWauB7KjNyb4Svn0LY15BvXL1oVioCBpWLQnX8Vk7RhNu4uwyBhEG7ZISQASDo0t/J7x5+QzKSiL4npf/BS30mxfrTceg9va2KFyqLgyrdYJy1Etc916Ktm07YPqMeeyDil5Pq8c0ZLRQsmTDhjVYvXolM1LIWOj1WJ0AACAASURBVNl0/Cn8HoXg9Q0vLJ85Gmpq6knE3hatp2HLzK5QVhKn6Db1vPv06QbyDAsk8uSFJ288xeldfaMBSfA39rFAmbOCjF3th7DIXyyxQjMdQmVq16tXFzx+/BDbt++DpWUlCJyl5Lnctm2PrKnm+PcECjFZ7otfMfHwGNOQhSKQAfjg2QdM2XiTZU1P71+LKM7Yx3RYWBijtxLKXNLfGzeui/DwcHYsXLhwYbnGJHzYaojCcGmXG8aOnYTevfth1/HrOPsoCgj3x+b5TnL1lRuNuAHIDcCguLi4RgoKCiXFYvHCVAZgpEQikZku+zeWgqOjodGjnWBkUh16NQahpJ46HGoosmNEI6PSqNx8OI5tkjLQkweQSl1lJh4eK0EbbEULS7x+9xU/vkljbEi0tLQwba4ndlwJR/kSmpjybzyMrAd08OD+uHHjGibP8sTpp0C54pqY2KMyWrRojLCwrxg5bTP8An6yDL6MeLvSu8fBg/swb/EydnRHZZmWjbBiX+IXLpzDuIkToaSqCSplefXihSwdV9O9aMOYvvkWi/8J9FkKn1NHk+piTlvng+CviSj8zQ/uC6fKmn6mv2869hRXHoXAsV1F1LcsBoq93LRpPboNnY2Ab7r4JLmA+JCrOHUq6y/37AxMGvuogdDQyGzToWTnvhldM3HWcnxSqgJNxR9YOV4ahE5xX/3GLkGJSm1hW8cQXZqk5DLL7P4PHz7AKNdFzFCrbqrHsnNJyIM3b/U+GNXqDptqJdGnVdY8dXZ2rRGnUxv6Jg3RmzzR/3qKbGysoFbaBgZmTWCp/QFjh2a9rBbxH46cMBXFag2GSQl1uPatAyE5Zuu2rYj6IS1ilJ2Sanmx3jNnTgU9q/U6z8IvsR76tyiNCcM74+fPaOzf7409VyNYEpRb7xrME5iZkNezTZvmTAe2b9+LSpUqM08ThbpQuETbFo0ZhQuJ74P3CIuMwZol09MkwiWf96dPn9CsWUPm8fPxuQIlJWXs3Ck9Dm3X3g5ftVszz7+nS8p44oU77sL/zTe49q4Bk3TGTXynVlY1IRaL4ed3m4XUvHoViA4dWsPCwhI7d+7PzUcl3b7ef/kBtw03UEJPnX0gC/P++CkcgxdJq3SsGdcI79+9ZbjSO+Po0ZTl7QYO7I3bt29h69adqFo1JW1MRhOgWOmd554j4ct93D+3Hl5eu1G5clVce/ga64+/RPQXCXYvlVl9NdfwkRr8mjnjYcq10eRPRwV68oIHUEFBIVEsFvtIJBJmCZmYmBiKRKILAQEBMt8iZADmz9Klf1caTocOHXDnzh1Y1rGFctl26G1rjs5NTdCwYUMEBgbCupk9nn/4hbIlNFG/ckm4uLhkOAXiMatTpw5CQkKwbtthrNh1O4mqxdDQEG/fvsXhI95YfDAEv2LisH2WbbqlhJLf4Nu3b6hcuTKUlZUxftF+HPN7jV62FdC1mRnmz58PDw8PDHWeipshxdnmT2S88kqfPn1w+9knlG84DI2rG2JszxoICAjAjh07sHHj7wDrcuWNYW/XAW3btoWpqcxlZreP+hmLblNOIC7mJxRf74L3kcNJw1q02QdnrvpDHP4Ep/fljMph9LKLCHwXDvdxNihTXBMDBw7EqVOnMHvpZhy69RM/Pj2D5II7JBKJ3F/f8uL3t7eLjIyEbb850C5TH50bG6FPu99UIR26DUZCyTYoXkQB66fKn504a9YsnLz3g3nlnDpWhm19qVeX9LRWg5ao0NKVrQOth7zy6tUrWFlZwaTxcGgUs8Dq8TYwKibNaHdycsLlByEswaR5bSOM6pp1upM5c+Zg277TMGs2Dh2bGKNfm99JKmPHjsXu3bvZvc6eO4+K5tIYtb9FaC+pV68eRApiVOu0HHEJidg12xarViyFu7s7unfvDvOG/XD40ksM6mCJDjJom86fPw967itWrIgzZ87g2/df6DPjNAoXUoTvlsEszITwsre3h+eBB9i5+yCmjh2AlplQV23duhWurq7o2LEjVq1axaB7//49atWqBYOS5WFoPRbF9dSxfnLKpAWPffdx+vprOHerhqa10lKk3LhxAw4ODqhbty4OHDjA+n39+jXq16/Pxn/2bPaTguRd3wu332D5rntoWqsUnLulNN6GLTzPKoJscG2Ga75nMGLECDZeWpfkMmXKFGzZsgULFy5Er1695Lr12oMPcdwvCO/u7MK3Nzfx7NkzllTy+kMERizxwY+vr3Hc0xGFCmUt1EKum2fQSJSVoPWc3OgvvZYbgHFxjSgJxNTU9AGd5AUEBFw2MzOblpiYqB0QEDBG1rr9bR7Au3dvo3//XhArKkKlsD4qtJrKkjMMtAuBsm5XrVqOmnUaIKFsD+b6b2v+HbaZMO4L3sSKFS3QdsB8bNuylnF0VatQFL6+l9lXIMWxqJZrg7sBXzDMziLdUkLJcTx69AimTJmIJk2bQ9m0Bz6FRbNkD4ofvHLFF8OHD4ZVg0ZILNeDxdXQMZA8WbtCv1olK6O89VAQmayQEUqGcb161REdLU3snrlkK+ya15G1vCl+p+oci3bdZ1U/ahQNhavrtKTfz998iUUrViP2+0dc8N6RpX6TNyZibYojos+KteOkR5HEu/XmzWvs2HsSSw8GAb/CcPeQG7y89rCA9z8teeERkncOe/fuxpFHSlBW08bCoXVZIpMgXtu34WyQPsRiJXiObSyXzpBetG7dFDo1R0BZrQiL9aNYOhKad+/e3QDjPlBUUsXqVN6ezMbMdO1XHIqZN4dZbTt2JCi8a7Zt24LVG71Y7Btl5FPsbFalVasm+PItCpU6zIOTvSVqJeOdGzXKCU/exkJRVQPNapbCeBeZ21iK2//p9V6+fAn++WcjbB0G4aNydeYpI48ZxZbZ2jZl3rGFqw9h27lXjBpmmF3mFU2cnYeDatW6uU1Hly7dcZsyXA8+Zt7c297zcf/+Pbi7r0XDho3hc+8dtp2SsLg9ig9OLsnnPXjwAFy/fhXLlrmjadPmSc0oVu9DpDLKNRjMMCfskwslsBBHKPGNpsdgsHnzBqxcuRT9+zvC2Vl69E+eS1pP8tYeOiRfTHZW9SV5e6/TEly4+w69W0rjo5PPe9X+RywT2LlzZZzcv5ZVKJk0aQrj60sulLwzZ84Mlh2dfB/MbFxLdt3Dk1dhkJxfCpOSWsx7SBL1UxpDHRsdjpl9K8k8kcrJ3FOvN/cA5haa/8F+TE1NAykJhAxAExOTigoKCuQios/0IJFI1MPf3196jpKJ/E0xgHQERIzyZCwIoqlbEj0627OAZzU1NZYNW7iwBlo6eiLoQ6TMjNjRo4fh0iUfuLnNwNWPhnj19DrWzBmGSmbFsHy5O5YsWcDoDCYv2AGvMwFoUKk4BrTJnMvJxWUkLlw4i4lTF+Psc3XoalK2qzSDmKgcGjWqA3X1wrAbsR5PX4VhTJcqqCRH3dSqVaWeDjJ8LdrOxAIyfP99mdPfW7WyQUSsCjSLVYSxYRF4LPxtwMlaZ/r9qF8QDl0OwofHJzCkU70UtTDpq7lTp3ZIiI/FpXNnUKiQzOiBdG9J5MZTN91kxjAZBkTDUK9eNaiqqsL38i3GPZYQH4c7e0YxOgp7+07yDD1HbfIiJkzeAfYYMBSqpl1A+RjLRzdJcRnFlQ2fv59RoIywr4jqZrJj9ogz0nHEaFS0nco+kojPUhCa9/r17jj9VAzNohUwvltVmMuRPU6ls+iYT0FJFcqFtNHXxT2FEXPnzi0MHNQX1TuvgFhRifHIyRPnJhzxJk9oUNUsjq4dO7CqOUIoB8VDnrz/A9pGNVC3xBcM7pM1Xso/ud7Mg2trgx8/fmDEjO3wexYOuwZl0b6B1Os6adJYnDp1HIOHT8Dt0DKMXYAy4TMSqdHYBMrKKjh71pd5xKmCDlXS6drEGGGBl1mssa1tW0a6/PJdOOZ63WFG5+RUCSbCvF++DEaTJg2gqKjIYt+Se6Qoltj76mtGKt+xUTm0qSfNlhWEjCePg4+YcZjccKUPDdrfyFi9ePE8VqzwROPGUv39/PkTmjdvyI5aKanuTwvR11AYy7R+NVGmmCYzACkG8MuXSBy49BLHrr5GFxtjbFvpgqdPHyfFKiYfF1HXED9gjRo1sWmTfIkr4z39GBftw0MT0aNrZ7i4SMOQCJuBC84iEQroXUcBTZqkfK7/FB48BrCAxwDmhmL9TQYg8VURbxUZT/QSIhk3ayN6tW+QNFWK3aAX0IBx7rj/Vowm1UuiV4v0Y5vohUqbNW2ua7cex6pD/swwIW+dsGFQssnz5wFYsXobtl3+Di2KuxsujbtLT4hHkGLaSGasPALva+/QtLphivqTAveW86zt8H0aIZNjkF6Mp08fx/r1a5Juqa5dAr27psz0I+qCBwEfYNZsLFSj/OE5K2sBx1T4nQqoUzmvTe7zYWJilhR3debMSZZ0Q2JoWIoFs5PRLSu+MjVG15+EYP3Rpyz2b1DbivD3f4Zu3ewZ59+OHftYbBNl0z06MhldO9qxTMI/LX/SIMjK2OllNHbePyhu2Rq2dUqhs03aqh8Dxi4C9GvCsgTg0kf2i2TZsoWgpBvDah3TPAs07ydP7mLs/F2sDrN9w3Jo9y89RkbjJl3cuHENTp48ntSkaInSsG/fLkkf6Nls2LAOTJuNRyFtI0zvVwuli2nIDQXF/9HHBknVtlOwZXbPFM/b169f0XPUPIZTdqr0/Mn1FoiVqeqFdpW+eBUSybx/lLFMIhgWxYoVh3mb2axSxfIRVtAqnD7p+YYNa7F69Qr2ITR9ujSxa+aWW3j9MZLx82mpxDLjivYwyt5VEKvAadklqKqIGR9o8n1KmPeWLV6YMmUSmjRpzjyAyeXZsyeY4nkOWiUrpfthKnzAJSecj42NQc+eXWBkZIQ7d26zGGcqo6ajI6WioiQLKq9WsqQhjh8/J7ceZKchnahQAgiR91MCCJ0wJF/va4+l+09dcz2sm9Wd4ebre4PFKiYX4SOHYiTpd1knqTGx8Ri69BKQEIu7e0enMICp32ELT+BXoirqFX0Hx/69szO1LF/DDUBuAGZZaVJf8DcZgAJDe7XqtfApzgAJCUCrOkYYPfI3L92hQ/sxc+YUNGxmh+96LaCtoYLFTvWhkI7BJmzWtLmWr9ebHRvQVy9xRAkGIG3AHh4r0KVLD9YfkXxmRAdDx6/kzRKky9gdLNDbpWuVFMz88+bNwt69OzHMZQ5uvNdhLwd6SWQmzKsy8PfG0XP0Sozv3zLFJTT32XNmoWqn5VBRVmRHy/LWYqWj2ZErfPEzJg6S427wvejHPASCJH8pDx05GUMH9s2Wbu3zeYGTN94w70XL2kaMcZ/WlTj/iIts6W7pMUrA+WWwLG+AtWs3Z+s+WbnoTxoEWRnH7NnT8OS7MdS0DVlyAJU1TC1rt+5hdC5K8eFY55Y5T+Lz5xIMHToQOpV7QqOoGauJWuVfAlzql+atpiZGbZtOKNtgCCzLasNFjni9OXOmgyhOBFm7aR/q1khJ2k0fI8ExpRhVUVbJq1esWIJd+72hXbom9LWU4eW5IAUMLKu5+1AUq9oVdSvqY3D7rBGG/6n1pgx9MlwpaWPthp3YcP4bVFUUsWp0A4gpM+tfb1D37h0ZNYqdkyfefAVGOlRCNdO0hNDEdkDsBFRJg8IhKlWqwo7diUSdMnyJioX6FcpNUtWJVq3aYPI6aYIIhcYIx/3CetO+1qtXH3akPHfuIrRp0z4Ntv1mHYFYRRNj7YxgUSFlAh1VCBm65BLLJqf9hQwjIuceOXJIUj+lSqVMqiCvqLV1LRQtWowRQ/9JkbwJw8Kd91LU/E2+3uQZnLHlFvQ1RDi9YRjq1q2f4R5D2L99G4xTp3xABntmQick0zbfxM9vwXh6aj4uXryGIkV+Z+pPWHUaX6KUYJjwALNcsxaykF28uAHIDcDs6k7SdX+LAUhULe3bt2Rfap37OONJhBE7NrUo8oERzQpCR6zNmjUAkXI2d1yHj2E/2ZcyMdonFyKSptgoOp7YvmM/1p8LA1VfWDCkLqNREQzAN2+kZKlUzm3gpM04f/cdOtuUT5dp//jxo3Bzk3LXzZizHN6PVVjtSYqPSs7bJhg9rWzbI0y3NRsrfa1SJZOMxNNzFaMCKVupCaITVFHd1ADzpk9K0ZxIp4l8mmqxilR1mSeTyKblEaGw/I/Q1yj0+Qz++UdKiioIHQ2dueaP6HgV6Kt+h9em9fJ0m6bNsr338TjwK8Z2qwqLMjqsUgrFbjo7j0e/fgOx7bQEF++9w6sb24Dw57hwwS9b98nKRX/KIMjKGOgl2aaDHYxbuKGwqhgrRjdM96Pl46dPmLDuFhQUVbDMqR60tdQzvM306a7wPuqNqp2XQ0VJCatGW6egBhHm3c6uC1C+J6h87GoXm0y9HWSUEL9l6LdIGJjasDhEMuSHDh2RYhykq3tO30HpWj1hU70kemfghU9v8F262CFSxZgdQ5qov8XkkdLatMmlz+DhUCzXESV1lDB7sHVWoE7hEcrNFDfh+LNPn/6o26IPNh57luaolAa6f780vqyO7RDEalVhxNzpxdMJhMQmJqbYu/cIWxeBasSirA7Gdq3K5p1Eo9S4CfM8eR56hNuSzxjhUAnVkxmWtN7KyomoUqUK23Po2dLUTLkvUoIJ1dCNifqGlibh6N27fxpshaNOoRQfZTwfOrQvqR2dDsyZszDp39HRUSw+WVdXD+fPX8nSWmW1MZE/Ewm0bV0jVh+ZJPnzTdQwFIMsQjxu7x7JSO2JAzE9IcJ9H59zWLVKGl+ZmVx/GoL13k8Zf6r4s18a/tkFW30R8CEOip99sX5pzmi05MWEG4DcAJRXVzJs97cYgHPnzsS+fbvQvXtvKJVpg8dBXzG4XUXUtUgbB0Us9MRG33nYYrwMU093g6U4owkTnFmSgcvU1Vh14GGSJy61QUBlyuh4zm3eRpx8GJNhIffBg/vh5s3rmDJlJnTKWWH7mQDUsyjG6E6SCwVFU1wPEY3a9F7CaBVkxV8xzq5HD1G3pwdi44D2FlHo0K5tin6JgqF+/eooU6c3ipSuw5JErCuXkEsHhOoEVO6tsUVhVhQ+uRBej98Dj0OU8fPVKexcu0iufoVG5EEk8TgRgoio2CQeMeGlSdxjxLwvcARGvLqMF9d3sRcGvTj+pPwNBiBVJNh80A+lanRBwyrF0c824zjTAVO3Auql0Ng0EX0cmqYLDRlqtWpVQqJICVU7LWOlr4h0O7kI854zZz4uvdaFqmZRzBtcF8V0Mo7vFD4ySpjURrEa/VhMLBGcJ/8Io3v4+V3G+KlzUKHFREaf5NZHWk5MHqFYV+PGI1mso/ChkPq6KdOm4L1aEyiJE7F2XBOZR3TpzZtiwnLLAKTktAEDerGM3KNHz2LHhde4+ewTBrYxh1WllN4jOl6kY1tFjVIwthmNCkZFMKFHWqoRwbM3caIb2/dIhAoXyevxfv/+nfHZkVF3/vxl+D75hkO+gWhvVYZVSxGE1tvH5xScnZ1ZfB4Zi6nltv8nRpYcFnwXOj8fYNMmrzRtBJJl4ggsV7wwmje3Zse8gtD+16lT16R/0xFxrVqVGaXWpUs35FGBbLdxP/AQ955/ScGvmvr5nrj2Kj5/+4lHR1yxbrUHI6hOT4SPbqqNTDWSMxPhZOPt3f1oWFmfvQOSy9bjD3Hp0RdEvjyLfRvmZ3t+WbmQG4DcAMyKvqTb9m8wAMn716FDK7bJb999DIv2v4SyopjVwKSjiNRCmb1UGcOyZhMoG3dCcV01zHWsm9SMXo4Uh0dGCRX8DvpVBnckn9GnpRkaVyuZxkMgMOZ3sO+KD2o2LKjX3dkaqsq/j0hpjG3aNGO8WufOXcaqg08ZE31GxzuUsBES8gHj5u/FhQdf0mzWyedEXk2KoSlSwgKlrYZmemTs4NAWEaJiMKrVg3G79W4pH7ebUJ/0ha8nJjj1ZjF+qcX7/G0cvhUBfH+NzXPSegYyUzbyIBIZ9pOfVVjiCiWwkAjHLFQ0vkSJkmwdVh96BHHUa9zyXphEUptjRc6kg/w2AEmf7O1bQ9m4IyN6pgzFyuUzNnoXrj8CyVcNqP0Kgsf0gSlmJiRSHDlyMKlmLCVSNG7SAo69O6eI2RTmfeaMD2asPQ3dsvXSNViS34DIiIkz06bnPITHF8GQ9haoU7FoGnSJENqmifW/4QjSRBB5whEiIsLRqHE9VLJbBCVlNfacqZFrMpVQrO2FV7osWzozUuL0lj2315vWr3fvroz8mD6cunXvhdErrzB9F7xkqcdBx+gHDx9mxjkL13BOGa5BH5z04UnkxPRsCElXMzbfxJtP3+HWpwbKl/gdIjBu3CicO3cG06bNRrnKNli1/yGqmfzmfKT707zHjHHChQsXWMIIJY6kFiHB5OOjIwjxP8e8hFpav4mgqf22U/6sPjp9YCr+CGJVfJILxflRvJ8ghE+1auYsgYWIlf+UEAH0GPcriKQPzH/rIwvzFk50yOBftucuHgd9Q9AVT5w6sINRtaQn586dxrhxo9GqVWssWCCN685IhPjpgAsrMHm0I9q0SUnTdO62lCPwk/9ZHNowK03M4Z/AhBuA3ABMoVdmZma7EhMTq4lEoqh/f5gpkUiOZKZ8f4MBSCXfqPQbfQWb1e8Ob79XmWbj0vEuHReTp8267xr8+JWYVDGD5koUDRRnRLQEG7fsw6T11xkEtFmrqyqlMQAFjx1lF7d3WgP/NxGsHivVZRVk0aJ52LlzG7p164nBTuMxfs1VdtxGlRxSM/LTNZMmueDUqRNwdl0K38BCGXoBqO3x495wc5uAuu1cEKNujE5U3zIDji/KMrx0/QHMW7mywHsKwJclsXEJGLXqMn7+isXDg+Oxb88+hk1qefXuM2Z5PUJsVCi8ZnWW1W2K38kwpfil4tYTkryiQtUI8ppQNiIZ+EK9UTWFH7iyc3zS0XCWbpbFxrltEGTx9qwUnvOEyaymtaaaEpYMt8q01NsDyRusPPQCPyPeY/O0TiyDOrUIVR7o71RD2NO1EyuNmFyEeX/4EIq2vUajRNXOqF9RH4MyiKmjF3n79q0Q/DYY9XquRkxcIjO+NDKoCEHGvYZlHxQqUhKzB9VhhO2yxNfXB5NmLGCew+SJBqmvI+JzT+8AVvs6dbUKWffI7fUWThMoOerQoeN4/u47luy+j7LFNTC1b/rP3+vXQbC3b8M4GFW1SqSJKxZKlA0f7gxHx6FsSlSBgypxUNk9MnCSG9RE6j127ChWb3fBkrUY53k1RYYxGdaTJ49jnlnSFzLsqHpIcqEP4nXeTxAaowmNsIu4dHovZs9egHbt7FK0E7z0dHR947gHKEFMEArRuXXrUZolqFHDgsUU37hBbGR/Rt58lMb3kZ6RvgmSer2XbbvATjPEobewYfHEDAfz+vUr5nigvTCzkqL0XDivuoLI6Fg8ODgOZ06eSXNqcYeoew49xtdXN7HKtTvLiP7Twg1AbgCm0DFTU9OAmJiY2q9evfomr/LltwFImacUWE3ZWke8T2P+ngBE/IiRmVkolGKr0twJYl3LpAxHOialOo+0IVKdxnAlYxy/9hpWlYphYBvpUW16LwihVnCXIXPxIlw7RVwTZSVSPGFMzC9Gc3D3VRwOXwlCo6ol0LdV+iS1VCVg1qypaN3GDqHardjxzcpR5O347VUU1ojRyvicg1VPd0THKWDOoDqM5T492bZtM5YtX4IaXVdCQUExjacyvWseB4Zi2d4HCA26jg/3duP69XtQUEjrWaWNrv+ckxApKmPpsFrQKZJ5BYOMaD0a2bTA4D6d8fHjB1Y31sqqIVavlsYUUhKK0zJfKIsTcX3HcLRu3Y55af+k5LZBkJWx0kuXyuCFicuwmLfmNUuhe7O02b/J+yRdGTT/BCAuhLoGwWjayCqFZ084ptXQNYJ6MUtG/7LNY26aYSWf9wiXSfih3wLqyglwd0lJ/itceP/+XfTr1wPGlRtBs2JXFldL8bUZycSJLvD/pss8i/KWmqNKFBcefELJyh1YghfRdaQntC+MmrMVBqaN0beVGRpVLSk37Lm53nS8SR83wcFvsHDhclY7e/PxZ7jy6AMbO80hI6F1v/dOhVVS6dHMhHEaklCCBtFdaWvr4MiRU0lxelTlY83uCyyRZ9LA33HPdA3RKTVtasXoZ8hjOH/vSxbTTHGfZDCOHTsS589LSZiFhKvU43L3WMkStIyqtEO7ij/g5jo23fq9955/hvuBR6hcVgvbF/djhmhMTAzrrmbN2ti4cVuaKdMx8efPn1NkB8u9YHI2FMJYWtRKWV0pzRHwXE98FldACfXvmDMyZRJM8ltRMg/RHdEaX716N0NPoWCYx/z4ioSXu7Bzp5QAO7kIMdaRHwPg3MkCVlZZi1uVE4IUzbgByA3AJIWwsLDQiYuLIx6PK4mJiUYikeiARCKZJUux8tsAFOL5BgxwRA2bHth0/Fm6HFep50EbIlG4fI1SgFnz8axs2vzBdTF7lhuOHTvCHuYz52/AdcNN5pmaPbA2Sv6bMJHeC0KI8TEwNIFhgzFsU1063Irxm1H25oEDe5mxMnPWQoyYv5/Fuc0b1S5N8okwTqHgOHm/7IevY3WB0ztOo/geSmpR1TVGOWunTL0i1Pe9e3fRv38PVGvnCpG6oczjRLrG64wEPnffwf/sYmgqRbNMvYxio/pP2wmRWjH0aqiDJvWlQeiyJHkGsbntVCwa04HR7Qj1TQcPdmI1lwVxdr/CjPz7B1xQvowR9u3zlnWLHP2emwZBVgfCvNvHjqByh3lQVNWS+WEj9D9jzXG8CS+Ed9fXwb6VdVISBhnpFItGNV1tei9GeKw6qut/xIiB3dMMLfm8jx71xu4bMVBW18F8SoTSVmMhEuSVFah+yGChhINWfefh068iMg2c7du3YuuRayyuMfVLOT2caOyUcKVqLiUa3QAAIABJREFUYs94CV26VIFlBvyY9FJu03M0DKt3RvOahujeTL5qN3Tf3Fxvit0ko5VojKhMG3nTSX8p2YA8ucRCkJF8/RqK3sMmomi1HtBQCMek3nWYN3jZskX4/j0yjfeNMuTPHvVCrQpFMXtqWs/V3LkzQATGxGqgVbEzHr4MZXGfhfGV7YWC7Nq1H+bmacmnW7dtha8Rv9B1xAoMtzNnyT5E6bJv3xFGCSUIlVqbsvEGCilEw2/nWBYuQnsqCdE2EXF+ahHiGdev/4d5Kf+ECLGJqXlVk693fHwC2nfpBYOag2Ckr4oZAzPmYKQx9ujREU+fPsH+/UdhbJz+h5kQN/kt+D6aWSim2MuEeX6N+Mm8sj8jPqJ95QR2UvSnhRuA3ABM0jFTU1OKKp8RExMzJD4+/lehQoWIkt0rICDgn8wUMT8NQKJKIGZ6ih3x9j6LRXv9GUdc6uy2jMZ/69YNDBnSH8aNnSFWUUe45CjeB95Paq5jUAoqBpVh3agZXB1tk/6e3guCufmdnRhpdO2OsxCnpIfB7SsiPuw5RowYDBUVVRw+fAL+HxKwYMlSRv683XNupsHp3bs74Nmzpxg/ewvOP4lGTWLeT1UVgDZ02thr27kiTtUwhacgvXmTh7NBg5owqNAMxSzby3zxxicksI0p/HsM7u0dCS1NDVy6dD1DA3DU7H/wXckIVYr/wui+vzHLTIco/o+M7DO3gqGqLMbBzYtYhivhSfGaq1atQcOGv8uQzfO6w+hzAn2WIfJLEC5fvpnmuCo3N8/cNAiyMi6KAaVYULFSIVTpuBTlS2rCrbd8yRIPX3zCiv2P8fjoNGipKTCSYBLmAV62CKWMq0K/5mCoqypiiZNVurGyyecdERGJ3uNWQqdsfdjVL4n2Dc1A60YGIGX40gdL69bNoCBWRO1uKxD1Kx6Lh9WHrlba42cBA4nEHwOGu7BybvIkgjAalS4dUdl+EVSUlbBytHWmmfEdezlCy7I7yhdXg1tf+Y2K3Fpvytxu1645K6lHyRI1atTCjacf2TEqVRMa3112CbxLl6/gn8vRSEiIY+EXiQlxDD46diVaJIF/Lpyyc1f74emJ2SxJh46aUwutEYW+kDfOceJa3AqKQ7PqxXF44yQQh6rUoOmBiROnJT3f6XnpBV5HYkigD1viNFy+/Hf5R6GaDxnh9/ePwf59RxAV9YPVPh8wYDCrdJJaSCdJNylGsmfPtFndWXlu0mtL3k46hlVUFLGTlOSMCsnXmyo7OQ4ZxGJTiaGBYkwz4/ijqk1+fr7YvHl7hskiO89KcO7OOwTf3Qf3WSNRoULKpD8aL+2zjot8EB8XAwvl+5gwIW/4TfX1eS3gnOrW/+X1ZmZmFNjRSyKRZFpqIT9LwY0cORS+vhfZF5V5XTtsOeGPMsU0GMO7LGJOYdHIY7F0jRfKNRyB+NifeOvnjtCQIPYzeaOK6Bli7uA6zGAThDYMXV0NhIamzBIk4mhKHhFpGqNs/QHQUI7DrQOuiPrxHZMnT0W7Dl1YEfJr+6ZCV0sFJ46dylR3Nm5cC3f3Fejg0APvVaUb0bIR9ZNiqsjo7NrVAa/efYFl25lQUlJgXkfyPmYmPXp0RuC7MBYHKBREz6j9CZ9bWLVxN8Je38TPyM+sGXl8KKszPaLnpev34nGoHrQUvmLFRPmqdFCMlIpBJfxzUgIDBGLh5EGMK61Ro3rM0+Hjc5UFuwuy3vsJrj35CIWQi7h9cS/Ia1Cnjvwv+Kw+sBmtd1b7kbe98NL18trK5k9CiRqEeb8eHWWSa9P1hOm2XfsRFR7CrtfT00Pp0mVBnmoFBQU4DPfEy0/xLLmICJ7Tk9Tzdpm2BGGFqkNT8QdWjm8He3tpkgCV75o/fzYorKJ5xxEIVarIYlYn9kybuZr8PpRs1aRpQxjZuEJJWRXuzg3TDXEQriHOzZ3HrrEawjXM9NmHXmYycvQofC9mBxVFYM24zOlrkveTW+u9bp0nKFO0USMb9hFDz+ucrXcQ+CGCMRTUs5RdqYXGNWWdL959jcOne154K7mGjh07Y9KkqayWOAmtt+fmPbjiew4/Iz6wv1FcWsuWaZ9RL69/WPUivVKWMLJyQlzkWzw8Pg/m5hXRoEFDaGqqo29fxzQfeER2L3gJN2zZj9rVLVmYTNu2LRAeHo4VK1bDxuZ3xrnjnMOIE2tCO/wili2QeZAEoYylnV1HzJyZNhxB3mcno3aX7r9j+0st87Qf0cnXe+ZM6WmNVc8ViI6XngoV0804633y5PGMqzT1/JOPY4LHRXyOTEDk4+3Yt31Thu+m4UsvICoGKPTuADw9Vud0yjKvlxq+3ACUCVRBaFChQoUa8fHxxZ8/f86KMZqamjoA6BIQENAts/mTAZgf+Dx48ACtW7dmtApX/K5hnMd1VlN3+qC6qGmeNuswszEGBwdj8bZrCPqqgs/PTkBHUxUfv0axB3X5wumwzkL80NWrV9G5S1eUsxqEIoZV2Vdfe+ty6Na9B9zmb8DDW5eSNmlTU1O0a9cObdu2JbzTDPHDhw+oXbs2K8XU33Ubrj76iH5tKqJjE+lRQ1IR+CZOUDWwhF2j8hjYPvO6oXTd9OnTsXHjJtTvtQo/48TwGGeD0ql4EIXBzPvnJq49+oCgq5sR9kaaoefj45PueOm3U+d8sfpkGETxUTiyvJvchviczTdw40kIxvWsgUbVDXH37l2GTaVKlXDqVEpDeedpf+w6I0GZwp9xcON0jB9PySDO+aGGf+ye/v7+aNr09wu1Yfd52L6oD6tgIK947jiHuRNSHreR8ecyZTEuBBSCeiElrJvUNMMqE6nvc+fefYxb4YPIkGdQ/v4Ur19JP5SowgM9QxTEbzt0Pd5+jsbkvrVQXw6KoaFDh+JpeClolbCEa7/aqJeKEkUYA20z1tbWUChly9oKepIZFvPnz8eFID2oahhgg2szFNOVnWQiL7ay2kVFRbFnl+hPTp8+DUtLSzwJDMWk1VdY8sUGt+aZJvIk79/78ktsOPwYjasbom3NwuyZSr5fkMfNcd45BL9+iWcnpdVAMnpGCcdp06Zhy1YvVHFYwtrG+W/Bju1b0bmzNHGLrk0tE91m49ytNyxRqE2DcnBxcWFNdu/ejbFjx7KQmVGjRrH/rVmzBjvOB/8b22mM9jYWsuDC48eP0bJlS1StWhXHj6f1XsrsQEYDtzV+ePjiCyb1rQWrDPSSwmlq1arFynEOn7UH156GwrlbNTStlVmc5jRs2rQJy5YtQ9euv6lthOGQ57G723HEx/1ES+PPGD1qZIYjHbPsAl68i8Tn2+tx/VLuY5DejUXyekpyugB/6fXy76Z/6QRya1jGxsb1xGLxNkVFRTqXiImLiyNDcJNEIvlN6Z/OzfLLAyh4/0aNGgPDSrbYff7Fv/Qn1eU2OpJPh2Jz/jnpj+MnTkDbqDo7iqyg+Q6jHXukmbUsD4Gb20Q8lgRBp/oQFk/UtEYpfPgaxcqoKfz6hNuHpESflDkmq1SaMM8+QybhcbgR8+7RV6mqsgjkyXsfDpg0HsnGS7FZqTM509MPyvSj5IoarZyQWMQyqXB76pguFsuz4QYURAm4vccZFcxMYWvbCtHRMWmIfYX7hId/w7BFZ6BSWA8Lh9aFgbbsmsDC8QztRStHWTFaDyprR5QiyYvGC/e4+ugDNhx7BrNiIuxaMYwFTHt6bsitRyHL6/0nbjx6NB1/+6CkZQvEJ4pRy7wo5qQT15XZvVe5r8S5O29ZvJlq3CfUsCyHZrYO2HvtOysx1rP578SC9F8OaT3dQ6ZuRIxaOSR+vIZ7PlIOOPIufvnyBV0GuuLFD0PoF1FluihUt8hsjMeOeWPF1pMoVb0zGlfLOCmKYlcHDx8Bi7azWfUMKo9GJNOZCdF0eBx4yGoCO9lbMtJleUTW8y1PHzt2bANl/tev3wBr1mxk3r+lex7g9v3HjCS+r738Qf4U70rky2T8W6g+YKwByYm1KfmDTj+iX51Fwyol2J4jHM1nNNa7d+/Ay+cDPnwOh4l6MB7fvYLAwBeseXoefteFm/AhoSwjuVeMeJaC15FCAdaulXqsNDQ0QEffRSs0RcmqHWFLiTpN0k/UST42OpauX19a7cjP73aGCRXyYJ+6zbXbD7Fy/yPoFS2FZSOs0rAuCOvt7u6JBQvmMlJnhwFTse2UhFFl9WmVMVUWVYtas8aDnUINGZK2tOY/+8/i1O1PiP3xBetn9IKurm6GU9hw9CmuPg5BoN8GHPbyTHHqkZ15y7qGewB5DGAKHTEzM6MaNI6JiYlikUi0TyKRTJGlRPkRA0gl1aysarC4Ou/jFzBr20P8+BmHyb2qw8QwJSeVrPGn/v1D6A8W6FymuAajfMnoxZicNyp1G8r6IxnuthY7zwUkHadoqSuj6K8boP8nkbVJUxuqvUl8X+QFtB++Bs+CfzD2flHIJezYfxSmTUZDQVEVvVqYokn139xamc2b4gAbNaoDJY3iMG02gdUvXjS0HjZu8EwxJiJ8pQDm6Hc38OzyVmze7IWWLZtg58597Pg3I+k6agnUS1RH+7rFYdc4Y8Ji4Xqfe+/gdVqSIsaxV68ujDdt3botqFNHygkoiJAxV7ZYYRx2788ywKm0UkZ8XVnVgdTtcysmTN5xCLGteqWrw6jeIJQroYnaxT6jRQv5YiqF+9AxsF6ZGvA4+Ajfgu+isU0LFjtJBjdxwA13qJRuNRHh+vTm/eDZa6w4/BzvH3oj6v1tRH0PZ8f19Ro0gZp5D4RFxmBoBwvUltMLT6THrdp1gEkLN6irirF8pHW6njGKB30epoWi5s3lrhxC3Jv9xy6AYVUHZoh0ziBj+E+sN1UrCQjwZ2XEqJwYJVwQl+ZXyUmWzTti+O+kJnn0YvXBR7gT8BnBFxewEBCBdiTqZyxcN9xgSVH1SnyBY58urDta+9Tk26nvI3DPEbF4AxPFpPrK1HdymifSl/GeVxETJ43rpBOS1EL0PPThGxkZwQjs+w+fhlOPE1CxjDbGdZMd60j9UQY5ZZJv2bIT1aplHj4gD2ZCm6HjZoBKvA0YOCxdHSA919BQRoMGDfD+/Xu255QoWwnTN9+Eob46+jTSSZHslPzeFEfu6NgXpUoZ4fDhk2niG+16O+FXYiFUqlAOi6YMz3TY3leCGDvEuwdHMMu5W5p9LytzlqctTwLhBqA8epJpm/wwAB8/foRevTqjcuWq6DBwLqNpSU1qmuOJZdJBei/G9IKlaROta9UE+mVroExZY9Q2N4Cf7/mkjVmeTZqGQXQwRAtTzNAYRg1GIg5KLF5RrCTdiKnaApGuZsWbL9DWtBjoji8/xIxaZM08ackjegHcDfjMDAeiW7m9fyJKGxbH/v1HYGCgBVkVEoZPnI1obSsU00zEPKf0K1EI8BI56/RNN/Huyw+WkUgVKQR+LSqvd+bMpRQ1h+k6KqxOVDAU0B37bAvu3L4BoVLIn1j3vDYAKfP3xOkzqO6wEPEQw7VXDRgbZk6pk9m8KbmGKhHEJ0ijNcgTNqC1ebqJH8n7yWjeS7b7we/qNYgUxHh9fTOo9nY562Hs+IpKkFF2blZ0kehgguLMUVi/fIoKDcJYiLam78CBsGw7C2JFZcbhlhHNUfLxk9etlX1XlKw7FEYGapgxQL440Zyut5DVbmBQlNWJjU8AZmy5iQ+hUXjvu5B5uDPjjUu9lrS3HDjsjYNHjqaI8WvWvCU+J5bD64hCrOwlZbdmRb58i8aEtdfYqYKZ4j2IxSKoqakwD/+QIb9L93n7BeHw5aB0k9CS34+SPr5+DYO+vj5+xiRg5EpfdjJBVDPyeINXrlyKLVs2YNQoF5Yskhvy+Vs02nVozbo65n0CelqF0nRL633w4C7MnDkTVapUwz//7GQf7ZStTcZvpUIPmbc5dTlD6kgah03GviSJ5ke4wfuQT3DoIjXIN65bB0vzzEn3rz0JAXkBv7z0QyfrkujTZ0BuQJBhH9wA5AZgjhUsPwzA5csXg6pv9Ow9CEGiWuyIa5acRLI5nrAMmojklCYHDsg+4pVnPERZQySuV65cgqomVfHoyV6WSgqJaF2/HDvClWeDTX6vkyePMeLXitUbIyxGnXmIosP/x95VgEWxteF3dgkVBRVQAVEU2AHBDizEwu7u7u7uvsa149p57dZrd12v3cxi/XZgYlE7//MNLNLbsMvOeR6fe3VnzjlfzJl3zvm+740OIM/tmg/I7oMszkXBfLqL+//uFkpO1KvXIJYDOaXIzzXr1uD081zCy3peX3/Yxux4JiWrEmgSGwu92Cn7V0mxRIW9ieYqqUZf51QUulTON1g2fxIaN26GsWNVB5uro++E1+gKCDQZk47Qq1b1h1OhhnDwrCgkO/RumHKygzr9U5mJp29ChZp/6vI/Jyc38cFOXHNFOEbOmtkSkVEQXpR09EuUbrbJFH5Obp70QTdg/HyBncbdOQtGtf2dxEVF29u3b4HvtiVg7+aHcr650LlO4izK5Pru2asrfjg1gIVlRiwY4J/srn7c+3W1N/H4Ep8vvcAHDRqGldtPY+fe/fj26iZCP74UhqKPw+QSqZKTZc7aI9gwr7/w8+CJK/EiNCOCX3wRSlhRQXe7BIW81fGLPzZdB/f8s1AKqG+XlsLzHXeHn2w9avm/+BUeJSTXueWKzw2c0hjkI/97G5ok13pS99EuYr9+PVG+fAAWLfpLnekne43yg3zrzj349P5Fijp/9eoFmjatL9RIjLv7SGCMQJkq0H748EFQgX0HB0eBk5lK41BiyKbNW/Drxxe17R23FqC7tVwlu4hOCop5j4lZwLpq0czvP3XtOe+bx05vnJmq1EnHTfSCpIds2PTNOH7rU6ru/tH8UnpBUDyMsqlzxKtKXuXvlDH5778XsUI4ppWgW4/+KFWihFr0WUmNQaCyevUAoURFxxFr8e+th7EB5MQMQVmnLjZfsX/VCOFltXXrblhZWaoFAGnHZtTCA8ILu4F/PtQrly9JMWknb9zq/4TkHSUnKh0JUtFsyizcsmVXkiUTqLM1/zzAuduv0bBsTozt11jgET1y5EySrBfq6ji563QFBJqMv2fPTkybPRe+tScIx0lTu/qpFUepyRjqXpuS3BQfSuVMCIRT882fXSiUrgxvUHcM5XX9+vfGR7vKAnVbr/oFUMI7F8jnqcTR6RsvkbdUa2SylmJSZ78kjyCTG2/Vqr9w8OZPZHUpJABpAtSqmq72pkLyVHKFSoM45fUWjhJp97VDQHb07RGdU6fNx+GixQuEMjK0q0Vri5NvbQF0E+uQskapKtkS/n4l6B2W7rkrHHWO71gSuXL+3uGn3flFO+/g5sMQlPXNhS4aAG8aZ8uJYKG0ExW89rAPS/YYVTknyiquXLkcLCwscerUhVh6O01lUl7/34O3mLv+WOy6lpzOe/fuKjCgUHb12LGThdsJQK79e6fAGR83szop0E67gMTMcu7cGbi65kVgYDUcPXoEVvlq4/G5pWrbO/RHOPovOI/wH5/w9tJ84fRDk510TfUk7gCKO4Ca+kyi6+sO3sPP6lUW2bMkX+9L50HidHD16n/o0qUdChTwhVvFIXjz8QeGtyoKNs/vMiH6HC+pvlJ6QcQ91lX3iFeT+catvabJfUldSwHM9KdYsZKwzp4fT1+Hgg4JLaQS1K1TDytm9kZUVKRQuZ9qmKn7YoyMjES1eo3gVmEAMme0wB89yiYZsL/xKIeT118KMW6j2hYXdv+Uc1K1C3Dq+gtsOCoXgrTP7ZyO//77FzNnzlMZ96SNztSVW5u+E95DL6Pn4Xng4F5OLdYPfYyZXB+q5KYXH4ERSwtpigWN1Zkj1TzsOngyHAs2gSLiB74F78dT7hocPCrAybeW8NFDNTCpFqYmjT5GBkxYBNfizWMpBlXdr0rulO6nDxhih6AX9+XLNzFvxz0EPfss1Nv8JP+dza7NxyGtJ1WqVgOBtsOHD4EYc8r45IzHOa5KtoS/UwYx7dRRCEbDCvnQqX4hIcQjKooX4pfp+SRQP6FTKY3BvZIRhI6nM3w4q1bMM/EGU7HrWbPmpRhnrErOJ6+/gnY3n97YhxJsDrg42iQ5/ocPIahSpbxQTYI4im1sMsd2/eNXJHpM2YbbB6JPFlIC7QReafeSYhipObj7wyJDFmH9q1zcVVjbkjpCjisHPU99550TOKKpfuKeXfsMSgknAkARAKp6jlT+XmfQHr6hfz7UTWaXR2UHGl5AVfWpun6D5p3AfXWBa558+KNHGYN+KSWcoi4vCA3FTXS5MsFEkxii5MakZJpGjWoLnMhUfX/cpNn4HsZg46q5OHJ4n1Awtk+fAejSJZprVBO5BwzojRe8N2ydCqB8ISd0rPk7RpEWOuJr3nv+iVCQdUy74sIOxu3bNwWWCvp9w4atAshPrr14/w3jVv2HnNkzIR+uC8fG/fsPQceOXXRVcaL7NZFbl8GpWG6lwCrwrjURFpZWQsB9SkwRuoylzr2pJbdyLlRrbtLyo7C0j3/ES/NoV10zOjdln3RiEFijGvJWGgErKwshJEFV9rA2ciuPHGkHl8AsNefcbuCz+iCvd2nMG9oQZ08f1zj+Vx076XoNJQZN33hNOMWp5pcX2WwsQbtnT16HwspSgqEtisLdRfMYVCruTnF0RE34/tJsAQSpWreoBh8xJ1WtWg2zZy/QSrQPX35hyvqrQohCHqv/YcKgjkI/SX2QT5s2Cdu2/S2UFJs+/c9EJ1ndB48XEkhkrllRwC17iiCOfI3CdB48fI6bn1zx9vF1TBnWCT5u2dVKyqE5zth4DfIXXxB0bCaG9ukisLYYqokAUASA8XyLZVkqBDWe53lLhmE2chwXvR+eQiMASCFec/oGJEqvV3WvNr8TgfyLF89RMqAhXnwIR+cuvdCkors2XWl9jzYvCK0HizmOoKMIWsCUpRq0iSFKag537txGt24d8PPnD+FnOnakhYwaAb/evfvHgmtN5D54cD8mTpsB39rjAIklShfICbesPwWGiKB3lpA//wwLKYNeDQsKiR9XrvwLAo0Uh5OQ+i2peRNIJIYS4tn0d3mH+XMmCCVj+vcfrIuqk7xXE7l1GZx2PsbP24TcRZsI+upWT3X9NF3GU3Vvaskddx7EiLDz+B38c/oaohgpihXyRcMAT41izxLKNXr0MAR9dYGdS0EBSFYsmjIvsC5yU9mmc+dOC1Oo3Ho6PkfZxYY3qNJ3Wv7+7703WHMoSKCqUzaKFyX6SeJ01qYRKJ66YD3u3zin8hhV2f/nz58E9hv6+CTe9Ny5o/mP1W3EFT5tw3XQB6KQ6d6wYLJhMkRPN2bMcOGo+eDBA7C3d04EAP/evhvHH9kJH6qB7l/QqEFibuC45bMoG3vWlht4+f67Vsfmm47KceL6Czy7shkF81jHY1hRVwfqXicCQBEAxvpK/vz5c1pYWFy2tLQsdu/evS8syx5WKBQzg4ODoxnCk2kV287mMzt6oE6ZPGgUoLrek7rOmdR1RD0UGFhBCLYNU1gJi9XmrXu1XqC0nYsuLwhtx6T7DJFgQv3SQr1w4VzcuHFVAGBFihQTQFhCTk5N5KaiqpUrl0VGew8UqNoPYREKvLpzIDZ2yd7WWogpUh7dKymViFZqzpwFAluFqrb64AOcv/MaxXKHY+XsAWjUqCnGjVP5zaKq20S/P3oUjOzZMyN7dieDxrpS3cOzTzLDxiEfBjUvDN98ydcM01gILW7QxN5adJ/iLfoMdSAKsqHjZ8GjYh9ky2wt1CikWnrJNV3kplp2tJNbp0ErXHv4BYXKN8a0burVRNS3DjXt78OXn7j37AveffiGvLlsBQBF4SC6NCojNWfdUZVxeHHHoPqJf/+9HrVr18PUqTPVGp7WRmpH7vzCNe498ubKghGtiiWb6U6VBih7l0pi0XEz1VRNrroB1YelWotExTi4eZFER+5KXy1frSXWHQ7Ch69hyOeUBcNaJj9+ckLRODTeh8fn8frmDpw4cUGorWiIJgJAEQDG+hXLsm14nq8kl8s70z+yLNuW5/kAuVye4pmau48f71VtOBgw6FbXG6V9nQ3hq0KfGzdG0xhRnAbF2lDLn99dqI+WFC2ZoSaiywtClzkZKsEk7pxoZy25wGNN5aZyJvv370HrDr2Qv2htLJjcHURkMX7WOpQpkCve4ty5c1tcu3YFf/+9I8Wj37hzVZKs57Jj8M9fPVGlSiDmzPmdhKOLruPeu2zZQtjYZEC7dokpsvQ1BvXTqVt3IH9zWFsCCwdU1Pnlq+vcNLW3ruPFvV+foQ6UTFK7dlVk9mqGLDllKOhMFHj5ki3Crq3cFAdWoYIfqHxRy4Er8M+hf9C1XVPUKp1Xn6oxWF/ayp3ShCjGsFnXEUJcWxmfXELIhqpYOEqgodAU+oicMuUP1KlTX6XMtDb+7803vMvoJ1QdGNe+RLLJQrTGUawhJdW1aNFaoOlMqa7r918RIP5xKuNDu6I1SuURACYV5v76IxyDerXEz7AooZYlNap92KtBwRRpDZMTiGIXJ6+7Cmn4B1zZNRYTJkwF0eMZookAUASAcQHgcJ7nbeRy+bgYAFiF5/mhcrk8+Yq/FOfi7MznZCvBpWg0jVCebAo0rFwQBfI54H9PH6vM/NLEsWfNmo5Nm9ahXove2LcluvK8Ntl0moyZ1LWGWCjVmZOhE0xUzUFTuZ88eYyGDWsJWX3Ozs549ux/whBJHV+3a9dCiAHcvn0vPD1TrpelnCftAA9adF4oAn5n72hY4BcOHDgGe3sHVaJo9DuBEQsLCbZv32ewHUA6dq/dqjecizZD6QKO6FZP99IvGgmZxMWa2lvX8ZKrpalpuZSk5kFlWWYvWAbv6iPw+v5RoWD83GljkgTZ2sp9584ttG3bHMVK+MHKuyMiI3nM6VNO4+QJXfWo7f3ayq1qvHnL/8btj7kE8OTv+hG1a9VogKPlAAAgAElEQVRWdQuUZaroJKB7995CSR0qhp9ca9CwNt59/AGvmmNV7p5TuEnXrh3g6JgDe/b8g8yZM6usbkChJkv23MGjl1+FKVDJLCqd9enZ9djjbZuszvCvGIgubZrAwyOarlPTRpURes89C0CBq1v6IZ9bPuzYsU+tExFNxxIBoAgAY31GJpONBJAxAQAcLJfLo6toJtNcXV35bdt2Y/Qfq2DtGhBbnBiKSITc3weXXPbo3KU38rvYwj6JCvKaOC2BhFu3bqJY+fp49SlCKDpLwbmqvig1GUOda+nBsbfPgg8fQg0GCNSZR2pfo43ckyZFk6t7eRUAMVxQS4oCj9hO7t27KyzI+fLlV1u0v4/JcezqC7y/uQnPgy6gVq26mDZtps5JQUowcuRI3LhLd5TxryoU9y7gJRN2GCiwPSGFntqTj3Ph06dP0H/6VmR3K4UudbxRLhlOXG361vYebeyt7Vhx7yN9Nm5cN1lf0WYMqidI7BwhPzMg/PsHSmlCpdbTULN0HpROsButrdxEa0fxhjUbd8NbyyJgXbNiRBv9MVpoI7cm92grt6oxKAlkxqbrQs3Cwh726NOooFq721u3/o0ZM6YI5YCyZcuG5cvXQib7/XGY1DOazTE3WjRpkOKJENFgUtmXYcNGoXXrdkJymzrrOZXFuRkcIvx5++mHsPaHhb7Gnr+GCCogoObpmZjTXZV+Ev5OCSwENEPvb0Hw7bNYuHCZQE+n7xYN+G3Nmg7XrIWP61AJj3zpSBhABY7jUizJvnTpUp4I3WmB3bxtN3afuIcvkbbImN0NQUemC0NQXTlqXnmzCUTiFYq4CIG5HMclIjZPzslp297b21s4FvBv0B/frGWY0bs8Ht+7iLp1o18WYjM+DZC9iOT96dOncHV1Ff6favYpyeSVMw4MDMT9+/dx4cIFuLm5qS0IffV3n3ECtw9MFPg2oyIjMH78eHTrph8mAfLRypUrC/MpWGccLDPnip1bRmspishy4N39f+CaMwsGD9Y+AeXgwYOYv/8trG3ssXJ0oHBUZq5tzpw5saJTOEJCX9FGL3K5HKtXr8bGjRuFLHNqVOuSeL+dPEqiXmBpNKzoAYesye8yqRp39uzZmDt3Lhp1n4mnXzKjXS1vNK2iOyBQNa4p/E7P6bBF50AZuhT3O6xtCeRQw8dv376Nli1bCvVKR44ciT59fjOUKOW+c+8+alQLFP66Yes+VC4fzSmcVHv58iVKlSolrEFXr15Fpky6PWeG8NX1/9zH9hPBcM/6GduXjRLWFX08A0npgzFkoUETcEwRAMYYydvb2ykqKuoCz/N+tra2n799+3YAwBKO4/amZEdiAom7E0ZfZVQFffuObfjy+ZNwK32V2eUuioy5iiCjnRM8c9uhe30fbNu0Qq3aUNQHlVaoXr2SwLmYr+pYgXlg8UB/gVYptZu6X4ypPS9Dj6et3JS13bJlY3z9+lU4nm3ZsjW6do2mnVO2hg3rCBnOR46cQq5cTmqJotwB2L5rL0LePo93T/v2HTFo0HC1+knposkzZglsAFQXjT5aSlVqLpQRIYaEd59/CrsA9/+ZDEsLiZCQ5Jrjdx0xTQaft3gZbn2VwUoSgWXDqum8g6nJ2Mldq629dR3bkKEOtKtEpT+oeRSsgBLVOiP45Xeh/iXFdFG8Xn1/N+TMYafxDj+xQRw6dBAVOyzG118MJnYqiTw5DRPAr6uOkwYD6u2EaTs21WxduOM2Xn34IcTHEX0l1ehT1fbu3YVx40ahWbOWGD16fKLLx06egf8evIODXQb4F3ZO8URow4boOHIqrzJhwhShL1383BC+eu/JR8zechM5MitweGUfIQZy6tQ/VKlJ49/FHUDxCDie03h6ejZmGIaeMCsAe+Ry+QhVXpUcFdyGDWswZ06001KcXl63/AK/7I7TjxDy5RfsMlvh8bFpkEolKmtDUR+0ZU9Fcv0r1cT3nHVBWaSzepVTNT2D/G6oWBmDTFaPneoi98ePH0AUWSdPHoOVlRXGj5+K2rV/79zWq1ddiBE8fvyckOWtSXvwgEPLltGB4jVbj8TRLTOFUjZUFoZ4RbX9yCWu1N7jlsLGuYjAz/ni+nbYZsmEunUboGrV6jhz7hz++ecg3ryKjm2kj5uaNWuhddOGySYYJCdXv1HT8c3WD3mzA+O7Re84pnXTxd5pPffkxqdkgZCQEMEPiU2IdoJGjpuNdxGOArMMMXZ4uNhhUo+yCPsRplGIR+vWTfFAHowijf8UPhIWDvAXQgRMpaWGvalMy4YjcuGjihoVcice8pSyja9cuYyuXdvDyckZf/21JlFx5GHTViBE4i6U+Al/fyfFYvDt27fErVs3sGTJCpQt6x8LAFNKAklt+1EcIDGCRERG4c6+UahXqwZGj56g92mIMYAiANTZqZIDgEThtH37FqGuXM2adYRsLmoPgjj8sXgDgm5dULs2FN23fv1q/PnnTDRpPwiPwzxQ2N0e/ZtqRn6us7AxHaTGQqmvueqzH13lplgeegGvWBFNj9S5c3eh0DQBtJo1KwsFqU+fvoSsWTVjdaE+qf7W2duvoFAATerXxvLZA0F0d5RBN2bMRFhYWGisioU7b+NGcAg+PPkX/7u8Hi4uufHyZTSvKL2M5s1bAoUiStjdpOZdcyxs7V0wqk1xIUtQk9ayz2RkzF0OVQrbo3XNtPHrhPPV1d6ayJ9a1yp3bKjuZc+eXQTmBvI/KjfiW7wilu29J7ALsXmzYXCzQrCQJl8uJu6c6ViZMoD5jLkgqzwA3nmzYWjLoqklll7GSU17X7z7WgCCYRFRAj1fVR8rQdfu7olLiRGzUI8enUAsUBQLuGLF+tgkC8oy7r/gHH6FReHPvuVTTLgJDQ1FhQqlhGPf06f/haVl9OlRasqtrqGW77+Hf++9Rf0yTqhdzlOr9UvVWCIAFAGgKh9R+XtyAJAW2vv372Lt2pXCjs+2bXvg5hYd3E9fNmMWHsCRddFHdOpk8k6YMBpUZb/dgLm4+8YadcrmRaMKqVsAWqkMY1wwVBpKDxfoS24KESB7UrFXJXsH1XekOo/nz18VsvI0acqXOpWFocKzjvmKo37xTJgxvi9CQ7+iXr2GmDhxmkY7gcpyDJFh3/Ds7J9YvnQBWLaQEMs4ffokoYQEvYwKFiyMs2ejC/8WLVcPjGsNIX5vUqeSAkWaOo2AcdN+82CXuwh6N/RBcTanOrcZ/Bp92dvgE9VyAAJtVFqKTiroA2HRouXwLVxSYGOgY8rKxVzQppp6GekU3kDgIn+JhsjqESgcJad2gXot1RB7W2rb++X7b5i15abw8WYdchaFPRySPb6ltYLKSh058o8QIvL33zuRPXt2PHzxBdM2XoO7sy1GtyuRogrOnz+LPn26oWzZ8liyZGWaya2OnW4/CsG87beFD0kqaaPtKUZKY4kAUASA6vhiitckBwDpJlpgaSdwx46tYFlvbNq0PfZLZvbcP3Hq+kuBJqhKCVcMGTgwxXGIIuz69atoN3Q17j7/ha51CqCM7++AfJ0F0aCD1F4oNZiaQS/Vp9xUnLdXry5Cht/69VsFMnU6krt8+Rasra21loPo5eiPbSZLtKmQHQP7dhRAIGX8tWrVTu1+F27/DzcefcPbe/9gxrC2qFy5fGyhWDpeHjVqqPAyitty5nJGuRZ/4OmbUDSt5I6afurVf3v79i0Gzj+BDLa5MKNHGeTQIRFBbQHVuFCf9lZjuDS7ZPXq5Viw4E8h9IBK/VCIypwdnFBonjiq1aFBUxZpL1xzMKR27gIDBe1smVJLC3sTY8fU9ddwY+8EZLe1xj8HfvMlJ9QdJRr2798TFy+eR8WKVQSWjMP/PcP2U49Qwy8PmlVKmYiAbEy27t17ALp2jaa3pJYWcqvyC2LEGbHsX3z4+gvDWhYVEij13UQAKAJAnX0qJQBIndMxHB2RUYD/qFHjhUBearRr89nSA4cvP0NO5jGmD0+Zw5XogSgRpOmg9Xj06puwMFOsTlo0Y1wwUkMP+pZ75cplWLRonlDagY5WiYXk2rV7QtiAto1KNdAxHu0GUkJGVdkv9OvbXfjwOHr0rLBrp6qFhUeh15wTUPASeFnfxoghgxLVCSO/bt26iVACJm7rO3Q6Ljy3QyZrC8zqVVYl7yzde+XqVSw5+hkMorByZDWjiRvTt71V6T2tfqcPVQIWtJNLbDK0UxRlkx95/dqqfZR78eI5UHmREk3+gMIiC2b2LAMHO+0zitNCF6lt71j+5P378eZldBxtvnzuqF49+cL+Hz9+RNOm9fDhQwgWLFiKm+/scfNhCPo2LoiinikD7o4dW+PGjWtYtWoDihcvadQAkCZ37OpzrN55BsVkOTC0YzW9u4QIAEUAqLNTqQKANADt9nTv3lHIAD106KRwJEyNMimHLb0oBFrP7VsemTMmndFLX35+foVhZWUN/3aLha+ieX3LCxXf06Kl9kKZFjImNaa+5Sa7tmjRCES1Ro2OOW7ceKCzuBRXRLsKtLtAuwKbFg0FFendsmWXUI9QVbtw6ylWHXqMb+84LB/XQgCNSQWJKwv/Un/ESPP48SOhhmFAq+m4/egD2lZnhSB3VW3Tjv048dAGVoqvWDaqgarLU+13fds71SauxUBv374BJSIRsI92RglKt1qA8CgJxrQrgfzOKfPhUnjKxEnjULTpAoFmbsngAKMB8uqqI63s/fChHE2aRHPsDp28Cq3rppzcR7qmEBJ3d0+4VBiKbz8jMb9feWTJlPz7gE4aypUrgbCwX7h48ToyZMhg9ACQkkEGjJqMXPY2GDdiqLpmVPs6EQCKADDWWby9vWUKheIKUcPSP/I8/1Yul9dU5U3qAEDqQ3mES7FY9es3iu12yZ67wm5NuxosKhZJ+mVJu0NE5ZTfXYZspQbAykKKJYMqGCQuQpW80UCFCmhmSZY7Up0+TPEaQ8hNO8HDhg0Q1EGMIVev3tGLah6+/CLQN2WwkgKPt+Li+ZNYs2YTihZNvkaYcuDxi/fjeagNbH7cw8JJfVO0tzJ2ccSIMdiyZROooPPIKctx5G6ksAM5sVMplfLMWLgO8u+ucLAOxcyBqmmvVHaopwsMYW89Tc0g3VCSGSWbKZt3uVbI6FoeFQo7oUNN7xTHXL58CVZv3IYCtcYhT47MmKCG3Q0ihA6dppW9KYnr/eefuHj3DWwyWGL7ihlCyaXkGoVg0C7gizef4FtvihAyQaETKbXnz5+hbt1qcHPLhz17DsW7NK3kVsdU+qRETDieCABFABjrEzFcwMXlcnnKwXgJvEhdAHjq1AkMHNhb4Hklvldlo9Iwi3bdgVeerBjWKumq+UrqnrIBtfHLqTZyO9pgUmc/dZ4fg1xjzAuGQQSO6dQQctOXeYMGNWNp4m7eDNKbCIt33xGI4TN+v48L+xfFK/2Q0iCdJu0BrGzRoAiDejUqpQgAif/1yJFDQmmYXbu2gYjsa9aqi3CXBiD6qKld/eBkb5OiTIMmLcZnK2/IHCMxorP+j3q0Vagh7K3tXAx9Hx1H7tmzA1QnLrYxEjj51EQu95JYPrZpikk9U6aMx7FLQXD3745S3jnQo76voaes9/7Tyt70ERgYWB0T11zBratnMXFwBxRyT5nOkSpMLFy9Ax4BvVDU0wF9GxdKUR8nTx7HoEF9hPJNs2fPN2oAaEhKxLiCiwBQBIBxASA9FUV5ns/EMMwnhULRPzg4OJq7K4WmLgCkVP5q1QJA9eD27j0sFAWmRXP4iHFYceoraLt7Yf+kCzsrt/zrNOuFVxJftR54VfPW5fe0Wih1mbM+7jWU3CtWLMPixfOEKeoTACozeSWKMFzdPhhzZs9DlSopA6yXbz9i7JqbiPj5GStG1hKOitSVOyTkPWhH0MbGBl1Hb8CZW6/VSgbpNGwukL0wAgrYoH29tPuwSegj6sqtD98ylj4CAkrjy5fPsdOp0OoPfFNkUZnU0bdvd8hDrOFSuAHqlXNDA3/16QyNRfa0tvfxq8/x9/FglPbJiW51fVJUy48f39G853g4etdClaI50Lp6yoCbdmiXLFmAnj37CtzCCYGQMZ7oKBOLaK7qVMrQ1I9EACgCwLgAcBrP80FyuXw9y7J09LuA4zgvAFH6AIDUx4wZk4Vjsl69+gkB13fv3haC89sM3yTETPVtVBBFZYkDeemI4K+/FqNZ14l4GOqIaiVd0aKKdmTbmj4kSV2f1gulPmTQpg9DyU3xV9WrVxSSPygJRJ9tKvFqvvqKR2eXYmivNkJV/ZTaht0ncYoDJN+fYeXkDsKlmsitDHUYPmkpjt3n4ZHbTqgLmFJrNWgBMuTwRevKrqhSKu38WgSAwKBBfYUi0fb29vjw4QNYv0awyVcVFQo7o0NNWg6Tbs2bN8SvrCVgn68MutfzgV8B4yjlo8mzpImfa9KvutdSOZhBiy4IrDoU421N4RsptF6TNuCXlQuK5PyCfh0bpnjt0KEDcOzYYfz55yJUrlzVJAAgvfeUjeKj9c15LwJAMwSAXl5eTXien0thfjHOxfA8/0wul8eLvGVZ9oZEImn74MGDu6oAYFwquJSuvX79GigTy8fHF5kzZxGSQ6jNXHEUW048RNXiudG6WmLuzLFjR2Lfvt1o3X8BHry1QMsqnqhWylXddUXv19GDow55uN4HTuMODSk31YzMkCGjkEyhz3bqxkusP8zh0/PraFXRJTYLPbkxhszYiA+8M/LbfsTY3k1iAaC69l6/PpoBp0WLtnhqWQ6RkTwG13eCtZVFkkVuKQO1+eAVsHH0wKg2ReHpqjpLWZ/6SakvQ9o7tWTQdBw6jsyd2wVFiviiVCk/hPPW8KkzEfZ2GTCrZ5lk444rViwLx2IdkNnRA+M6lEA+p5STRjSdV2pcbwz2nrX5Bu4//YQBTQsJdQFTagPnncDnnwwsX+7D8kXRJwjJtUaN6grJZvv2HUbevPG5xo1B7qTmbQiaubjjRAN+W9OhqjHAQ2DWwsfVp0wmG5IxY8alt27d+k7/LpPJbjMM04zjuBSDsugIWF270DFwwYIFQRXZ69ati3379gm3nrt8D/3nnkGeXFmweGhiGqxWrVrhzJkz6DhiDW49/SkQifsnkzCi7lzE68xDA99+hKPV2H/w7cMz+Lt9xsQJ41IUvG6vv4CMudChqiMa1yyrsZLu3r2L6tWrw8vLC6WbTMLthyHwsr4FJ4fMSRK6f/nyBU2GbkOGLDmwdlw12JtY6RCNFWRCN/Tp0we7d+9GhfaL8S2MwdLhlZE7R2KGF1rX3Nzc4Ft3MiwzZcfGiTVgl1n7WpYmpCK9T3XXqYdYc+Ae6vrnR7cGBZPtnyj7mozYD6okcHfPUNy/d1dg+EiqUZyxp6encO2jR49iGUD0PnkT7JAxRIVpE9KDCABjjCWTyQ4zDLOf47jFLMsSCqMjYJWRzAQA1d0BpKEGDlQesTgItZyo7d13GDN3/k+g81k8qEKi2mlUIiA4WI5mA9fi4esfGNmmGGSuWdPMzYz1i9HQCjFVuYcvPIablw7BKuwF9u/clvxLJSoKnaYdASOxwtw+fshmF/2y10RuetlUrFgGBOyGz9yJY9ff4vnpGUKJit27DyQam+J8Jm9+BEYqxeoRVVPMfjS0fRP2r4ncqT03Q46nlHvFijWYMGEMyjcehR+WuYUj4IAizomGpnWschX/6BIwVpb4a0hAmlUo0EUvxmDv5+++Ydyq/+BknwnTupVOVhwqBTZk8UUg4iuu7xyBpUtXCgwfSTUqtE7x566ueXDgwNFElxiD3LrYTdt7xR1AMzwCTs5ZChQokDcyMnINAEeGYb5HRUV1fvjwocqALHWTQJTjUvYWsYPEbbNmzcP1dznAPf+MEa0Tg7tKlcrg06dPqNN7rUDRlNZsCWkdK6PtA6/rfaYq9/5zckwd3R1RET9w/vTZZJlG7gY9xp97niLq50esmxh9/KsEgJoEiQ8e3BcnThxDmQo1cOPmrRQ5r0+dvYANF8PARH3HqtF1dTWRXu83VXvrqgSl3Ddu3EOdOtXgWbwOsnjWSrYcDNWxa9m2LQrWn44c2TJiRveUS5LoOj9D3W8M9qYDJYoD/PI9HHN6l0O2LEnvpHLPPuGPv28gq+V3nNwQXSNv8+ad8PZOnDxCHMJdurRLRAGn7fNtKP2ndr9iDKAIAHX2OU0BYNzMJuXglJll51ENR688F+L7Akv+ju+LiAhHyZKFBH7YYk3n4tvPCCwbHCAUW02rZgwLZVrIbmpyK8sp/HPoHzz732NBZcQj2qBBYwQG1kgUk7d+5zGcDpbCKvwNlo1rpTUA3LAhOg6wTbuuuPY+Jx4cmiL0lVQm34Zt+3DqcWZk4L9gyciUA9lT2+amZm996Ucp9/v3X4Xd3F98RhSoOTbZ8lNUpqr/iAnwChymNnOIvuaqz36Mxd7K8k29G/qiOJsjSRHP336N1f88QME81lg3s7NwDVH5HT9+LtH1yioSzZq1wqhRiUNAjEVufdpSnb5EACgCQHX8JMVrNAWAdERWoYIfvn0Lje23Ro3aqN92KFbsv48yPrnQte5vtgaifyMaOLd8HsjuN0ig2Fo0sILO89alA3NeMDTZCdNFx/q8Ny7TQPU6TfDHlGhAlrCNm7sJL8KckDvTR0zqp/0O4LVrV9C5c1uUKFEKHxU58SMsCgGFciCbXeZEmXyzlm7Egy/OsLf6ilmDjIcFhHQj+nkoevbsgouXLsCv1WJEKoDFAysgg5VFPNchTujpizYgf7muKOebC53rqGab0ad/66svY7E30YNuO/UQNUrlQbPKSfP77j77GPsvPkWjCvkwptdvvoKkykgpOYAHDx6Btm2jM/vjNmORW192VLcfEQCKAFBdX0n2Ok0BIHXUs2dnXLp0IbZPoueau3gDRq+4DBdHG0yOU+T5zp3baNu2GYr5VQTyNYOzgw2mdEnbWmnmvGCYIgCkcgoXbz/H+6+RiPryGMcO7EnSn7uPW42ITG4IkEnQvlHF2Gs0tTfVKCPaKQpKd/apgSz5q8Di7Sk0qVkO1arViDf2kMlL8dGShXu2nxjdvbbOz6M+O9BUbn2OnZZ9xZV70aL5WLFiKSq2nY2vEZmSDFHZsmUjVu++hNxFG6NOWTc0qmB6NQCNCfAHv/iM6RuvwzO3HUYmU0Jpxf57uHTvLXo18MWCaf1w+/ZNwWWuXLkNS8v4lHDKEjDz5y9BQEDiJENz9nNHRzELOC3XGpMfWxsASAU5qTCnslH5j3Pnr6DXn+eEXYdlgyvGBsMrGUSq1G6FT1nKG8URizkvGKYIAKmcgpWjL9YfkePZ1c3YtXo2bG3tEj17bUZtgJWtC/rVz48i3r9LRWhjb6Jwevz4IZx8awt/Xt7eiyN/x2cgIEqruh1HIVeB6vDLL0H3Zr9BpzEsDNrIbQzz1nUOceU+deokBgzohTL1BiEskwfaVpOhUrHc8Yag9eyfK++Qg62M9jVYBJhohQJjsXdEZBR6/XlWeAcQ5adUIklkUqJ5JLrH8R1KIoedBRo1qo3Xr18JLFPENhW3devWAf/99y82bNiGggUTM4YYi9y6+q2m94s7gOIOoKY+k+h6bQDg2bOn0K9fz3h9HTp0EosPPserkO+Y0b00cmSLTulXJo3UazUALxSyREfEOgugRQfmvGCYIgAkE7/+8F3YYf755RW6V3dGxYrxdwKI/aHfgouQWFjhryEVYWX5+5hPG3uPGTMcBw7shZ1LYYEe7NOza9i9JD6hOzGHdBmzCtndSqFtlTyoVDLp4y4tXFQvt2gjt14GTuNO4sr94kU0Dzlbsh5s3GugUjEXtK3GxpshJbVdfZUF2VyLYmCzwiiY3z6NJdBueGOy9/jV/4Eygum0h059EraBC88LiSKLBkSzR02dOhHbt2/GmDET0aRJ83iXd+jQCjdvXsfWrXvAsomLeRuT3NpZTru7RABoxgDQ09Ozo0QiqcBxXEel+7AsS2wgQiQ6z/NDg4ODE9etSOBr2gBASsuvXj1A6MnRMQfev3+HJUtW4sYbO1yTv0f/Jr+LgCp3C5t2nYRHoQ6o6ZcHTSul7YvSnBcMUwWACp5H95knhDguVnodI4YNi+fJJ89ewsaLP4WyEqvHxo/F08be69atwty5s2Cd2VEoJEzAc/P0NvHGDA7mMGrpKWTJIcPY9sZXPFgbubV7FRnXXXHljopSoGzZ4rDM4gzPKoOF8lNUqSBuGzKkH54zRWFjnxeTO5eCi2Nm4xJIzdkYk72VR7w96vuglHd8VpWwiCj0nHMGNhkssHBAdDy4cqOgZcs2GD58TDyJW7VqAio0v3v3P8iXL/HxvDHJraap9HKZCADNEAB6enpaMwwziULxGIbZwXFcJ/ImlmWJI6sXx3E1fHx8ckZGRl6IiIgo9vjx4y8peZs2AJBS/YsW9Ra6LViwMO7cuYVRo8ZDmrMUDl76H5pV8kANvzzC75Mnj8POndvQsu88cO+tEmUJ6+VJ0LATc14wTBUAkoknrDyHZyERCH+0BxtXLIhn9fkrt+FWiAOyMJ8wf3jjeL9pY+8LF86hd++uACNB0abzwfMKLB9WGVaWlrF9ExPOgv3PBJA4t085oyserI3cGj5KRnl5QrkJQATJH6JIkz8F0LGgv3+8On+dO7dBeO7GsMxoJySJZLSOnyRilEImMSljsvehy//D9lOPULtMXjQOiM8O9DLkO8auvIy8ubIIR8DUrl+/CqJhLFWqNJYvXxtPumbN6kMu53Dw4HG4uMQ/vqcLjUnu1PQVEQCaIQBkWbYGz/MUbPSEYRg/JQCUyWQrGYY5w3HcBnLCmL+f5jhuo74BIPVHW/Z0FNysWUssXDgXHTp0gV/VNlhx4D78CzmhY61ogNi/f0+cOXMKLQb8BfmbKPRs4IuSXkmXBkith8ecFwxTBoDbTgbj8H/P8er2HuxaOR2ZMkUfLVFpopkE62IAACAASURBVJnLtiHSoQxYx3AM7xw/UUMbeyv5jan/ArXGIYNtLgxp7I4Cnnlj3fTQoYPYet0CEokUK0dUgYQGMqKmjdxGNH2tp5JQbuVxfvm2i/AjQpKoPl2jxvWQteQAZLCUYMlg44rj1EQJxmTvu48/4M9tt1DY3R79mxaOJ8bNhyFYsOM2SrCO6NUwmi2EQjgCAkoje3Z7nDz5O8GQfmvQoCaePn2Co0fPIEeOxBzNxiS3JvbS9VoRAJohAFQ6jUwma88wTEAcAHiIYZhZHMedpGtYlp0M4DvHcTMMAQCpTyoJc+7cafTv30uoy9Zr0CRMXnc1XvaXcvu+Sf/VePz2V5JZeLo+CJreb84LhikDwGvcOyzefVfgBR7Rrhz8/KIL9lKW8J5jV+BSqgPqlcyGBlWKxnMJbexNu9z+/qWEckfu/j1h51IQ9YplRINqv4sEr9u4CYfv8bBkIrB+WmwkhqbuaLDrtZHbYJNJxY4Tyr1mzUrMnz8bldr8gS+RWTCkRREUcMseO6OqNWsiT8BQONtnwpSuybNXpKIIWg1lTPb+/C1MKAhtb5sBs3rFp2Q8fvU5/j4enCgcKDDQH+/fv8epU5eQLdtvTu1atarg1auXif5dqSRjklsrw2l5kwgA0zEA9PLyasLz/FwK54vxD4bn+Wdyubwc/T0hAGRZ9giAPxIAwFCO42aqAoCaUMEl7Iso3ojqzcenIFau/hu9556DnY0V5vWLpvUJDAzAu3dvUbvXarz++At/9CgjVNtPy0YPjr19Fugid1rOX9uxTV3uj19/YfDiiwj//hH+ud+iR4/egioaNqyNF28/C1yuo9sUgYfr75c7/a6t3O3bRwefuxRphJxeVVHY6ScGdPhd6uWP+X/h5GUOGSyisHd9/AxhbW2kz/u0lVufc0iLvhLKTScQlLRWpt5AhGXyROtAGaqWiD5KpEzugBoN4Vl5gJD8Mah5/N2qtJi/tmMak73pA6rf/PNC4X86Vs+U4fex+ubjwQJpQLsaLCoVdYkVt3v3Tvj334tYtWq9UINT2apWjQaGFy9ehY1N4vhMY5JbW9tpc1808BXLwGijO5O/J4kdwFUSieRkUFDQphiAuJLn+ZPBwcF/qwKAuijj+/fvBEaRPXt23LlzB63HHcLX7+HYOrUWMlhJkS9fPkgkEpRpsxihPyKwY0YdWKchC4gusor3pq0G6KXScvR+fA/jgUcbUKlCWezfvx9yuVyYWAZbJ3Tv2AINGtQTfFLXNmLECGzYsAEO7v7IU7Ilctt8xtJJ7WO77Tn0Dxw9sB2WFjyC7lzTdTjxfgNp4NmzZyhTpgy8/BogU75qqFXWDT0bRwO9kJAQVKrfFW6lO6BGGTf0bmK6ANBA6tO629FLL+D2wxDM6F0ePnEyq6esvozL995gYrcyKBaHKWT8+PFYuXIlpk6dig4dfhd89vX1FahEnzx5Aiur+DUCtZ5cOrmRYYws7iSV9WpcQTepKHwSALARgG5yubx2/vz5HSwsLC5FRUWVfvTo0TtVAFDXnTCiW6IH9NKla/hz+wM8evUVEzuVRBarSIGKycnZFU4VRgpfgfQ1mNbNnL8YTX3nc87m67j79DOe/7sSh3euF2KDGjeO5uD1rTEUm/6IppWK27S195YtmzB9+mRkziGDrPIAZIgKwdIxzaCkqFu7YRN+fvskDJU/vweqV6+RJEVdWvm7tnKn1Xz1NW5CuSlUpUyZYrC0zQ3PyoOEWqTDWkWHCdAJRu9xi+FSqL5QALpuud/1I/U1n9Tqx9jsvemYHMevvkC76qxQfkfZKAHkxfvocmE5s0eXC6O2a9cOTJw4RogrHz16fOy/k+1+/PiBmzcfxEveUV5gbHKnpr3FHcDU0raRjZMQANL0WJadCoCygany5kSO47aqmrY2WcAJ+2zduinu3buDHTv24dSDSFy690ZI9shm8Vk4HvYtWg5WbGujYAGhuZtzzIgpxwCS7faefyL8eXVnP+aO6YLTp0/izMUr+KxwQCbLKOxam/goVlt7K0noLTNlQ8F6U4Hwr1g97neJmRY9xyHo0jbhcUiKJ1jVs2fo37WV29DzMnT/ScndvHlDPHzyDIUbzYJdZivM7RMdokI8wJP+OgJHD390ru2NcgWdDD09g/VvbPY+c/Ml1h3mULmYC9rE1F6kXXwqEh0eGSXU67SQ/i4STWwg7dq1QPHiJbFqlZDLKLQSJQoKa/aVK3eS1J2xyW0wAyfoWIwBTMcxgKnlRPoAgHGper5I82HP+SdoHJAf9swr9OjRCeUDm+KHfSUUcMuGIS3iB+inlpxxxzHnBcPUAeDtRyGYt/02Pr+8jaZl7WFv74idJ24jIlsJ2P64iXmTBiVyKW3t/fnzJ2EHm5aZIk3mgpFaYMWwyrEvrcCGbSHN5IhC+WyRP7dDIp7gtPBt0c+T/sAbMWIwDh8+KISihEUyWDQgOi7tyJFDWH4wGHbOvhjWsii88v5OPkhr+2k6vrZ+ruk46l5PTB/E+BG39iKFBw1YeB72ttaY1UsIZ49toaGh8PcvKSSAUCIINWXJMRsbG1y4kHSYhbHJra5+dL1OBIAiANTVh+gB40NCQsErU0206HHevNlYu3Ylhg8fjXyFA7F8332UL+iEnAjG6NHDUKNpb7yT+hgFCwiJZ84LhqkDQGIPIBaB8J+f4fzzHGbOnIv2Q+ZD6lAQtYpnR5PAInoDgNRRkSLRzAPeNUYjY1YXTOlSCs4O0YHotdsNQ84CNTCydRE8efBfIp5gLR4lvd4i+vnvdY2oK6kofUCb2QiNzITR7YrD3dkOdMy/96ZCsG1cBiO9GiKVOjM2e/8Mi0TvuWfj1V58+OILpm28Bq88WTGsVfyC3KSmatWikwZPnrwoxJWHhYXBz69wPFCYUJ3GJncqmVt4j4lcwKml7XQ6jj4A4LZtmzFt2kS0adMejVv3FkrByHLbwSnqpsCmUL/DWDz/5YRapfOiScX4RUHTQq3mvGCYOgAkfxm48By+fI/Aq/NzcGj/AbQduQZWWd3Qo3Y+lCqYT68AcPDgvqCCz84l2iFzLl90rJYX/sXcERERgQ4Td8M6swPm9S0PWxvjC04X/fw3ACQ+6WHDBqBcoxH4aZUHnWp5o3whJyxevAD/fXCH1CqjcCRpaZGYtzYt1ihtxjRGew9dchEfvv7Cn33KIWtma1y48xqrDj5AQBFntK+RmNaNTowoE3jlyuhM4Jcvo6n8KMZ2166kia2MUW5t7KfpPSIAFHcANfWZRNfrAwCeP38Wffp0Q5UqgZg09U/0nRddCsY14gLWr1+Dxj1m4clnG7Sq6omqJVx1nrOuHZjzgpEeAOCiXXdwXf4ej84tw6a/5mD0mtuQWmbEn738kNU2Me+oLvamIygCez3GLAWyF0RAARu0r+eH12/eYOSq28JX+KqRgUZXBFrc6c6CuCcbDx9Gl6vy9W8JKxf/2Bp0k6ZOwVNpWWSwUGDJkKq6Li1per8ufm6oic/bfgu3H33A4OZF4JMvO3adfYwDF5+iaSV31PT7XVRdOf6sWdOxadM6jBw5Ds2bt8J///2Lbt06oHz5ACxa9FeS0zRGuQ2lz7j9igBQBIA6+5k+AODjx4/QqFFteHsXwObNu9Bv/jmh/pPjlyM4cmgvGvVejKcfGPRu6IvicdL+dZ68lh2Y84KRHgDgwUtPsfPMY7y5fwRt6pbB8Ue2CAt9h01TWxjsBTFwwgJ8yeALT8cojOwciCs3bmPpkZBEiSFauqRBbhP9/PcOYHh4OEqXLoJsuQshb9luKOLhgH5NCqHfsDH4lr0yctgymNGrkkHskFqdGqO9t59+iEP/PkOLyh6oVioPlu29i/8evEOfRgVRTOaYSDVEG0r0oQT+CATu2rUdkyaNRYsWrTFixFiDPd+pZSN9jiMCQDMGgJ6enh0lEkkFjuNiKQhYln0BILbsC8/zdeVy+cuUnE4fAPDnz58oU6Yo7OzscObMZUxZfxWPX32F9MV+XDl/CPV6L8eLD5GxcTf6fAi06csYF0pt5ND0nvQitzKO6PuHpwh/ewPZCjTEz3f3sPnPvgZ7QUyfvwLBP92Rzfon5gysjd2HzmD/rShYRIRg+dhmmpoiVa5PL/bWVFnJyV23bnW8+fAVHgG9BYaKRSOboEOfkZDkDoR37gwY2iY+Y4Wm46b19cZo70t33wj0oHTcTsfuE9dewf/ehGJS51LI7Zi4qPONG9fRsWMrlCzphxUr1gkhROvWrRLiy1u2bGuw5zutbafN+CIANEMA6Onpac0wzCQAPRmG2aGkgvP09MwtkUj2cxynUZqtPgAgOW/lyuXw8eMHXLhwFX+f/B8u3XuL78H7wV07hMBuK/DhawRm9yqL7LYZtPF1vd5jjAulXgVMprP0IndklELYZf4ZFoGvrx/AztkHTpLHmDqsi8FeEBu3bMfJp/awxC/8NaIWlqzfh6uvMiML/w7zRya985gaNk1pjPRib031mJzc0bzkp+HsWxM8GOxbOwute41F5vxVUKmQA9rWKqTpUEZ1vTHa+9nbUExYcwX2ll/Qvb4v5u5/hZ9hUVg2OABWSRACKDmB7e0dcOLEeQwY0BunT5/AkiUrULasv8Geb6MypJqTEQGgGQJAlmVr8DxPjOVPGIbxi8MF3JBhmCkAPvA8T1xr0+Ry+W5VvqQvABi3FuDd1xbYd+EpXt7ag7cPjqJM22UIj1Dgr6Hx6z6pmpuhfjfGhdJQssbtNz3JvXzfPfx7/22seKNbesE9r7PBXhAU57ri9HdIpVZYPqwSpi3dgaffHOCSIQSTB4g7gKnhv+qOkZyfK6sVZLLLBQXPYOfO/egzeg6y5fdHm0APVC6eR90hjPI6Y3y+IyKj0HPOWby+dwBVi7vizs9CSZaAiatQon4LCXmP06cvoVOnNqAQo4MHj8PFJZq+L2EzRrlTw0FEAGiGAFDpWElwATcHUJzjuBFeXl55eJ4/K5FIqj548CCaJyuZpi8AqKwFuGDBUvy0cMbWsy8R8vgivgQfgXv1iUJSyNy+0cVX07qZ84KRHmIAyX+UNcbo/73y2GFYq+LJupU+7E3sH6OXX0SmbLkxtasfZq/ci098LhTMEYqBnaj2uvE1fchtfFKpnlFScpP9Fi6cK+wmKZuTS178kjogl08tjOlWU0hSMOVmrPYeveJfnNgwErY2lsgdMALFZY7o3ahgsqpWZgIvWLAMgwb1hUTC4NKlG5BKpUneY6xyG9qXRACYjgGgl5dXE57n51ItzBhHYniefyaXy4XqmUkxgcR1OJlMNo/ek3K5fJEqAKgrFRz1T7Eaa9euwsiRY+HoWgAbz35C6LtgKF6fg13hTnDLlQXjO5Y09DOhVv/04Jg6JZpagia4KL3JffbWKzx5/RV1yroJMV3JNX3I/f37N7QeugzZXIuhf5NCWLr5GMItc6JaAaBl/cramMPg9+hDboNP0gADJCc3MU20bfv7uL7ToD9x6f4HoQbg9O6lkSsOLZkBpmXwLo3N3krKxG079+LDu+eC/MTXXa5CFfTu1ALu7h5J6oRK81DdxvLlK4B23osUKYp16zYb9Pk2uHEMMEA08LU1WzpcUqnZCp8QAHp6ejaWSqXyoKAggS+HZdkFCoXifnBw8DJVAFAfvrl27VqMHj0aPXr0QOFipbDi5C+hWK/N16uIyFkVfj65MKaTnz6GEvsQNZAmGijfcCCy5a+IdjVZbNh3GbxlVgyo74QqFUqlyXzEQTXTACWreXp6IqOdE2xdiiBHVitIXaqAAY89cxpBKjHb14lmitTw6s37zmJIz5bCXd41x2LuiCYo6OGQbC+nT59G69atY3/v1q0bxo//zQ2s4fDp+nKGIRhovs1shU/iCHgEz/NF5XJ5c29vb6eoqKhLCoXC/+HDh9GfXsk0OgLWxw7g2bOn0bdvDwQGVkfRosVxODgrLKwzI+P3e/hp44MafnnQvHLSX3yp7b7G9qWcWvKLcuvGeNOqx0hY5w1EkXyZcePRZ4GmanL7Asjjmva1LZPyIdHeie1dr14NvP30CwVqjcOnZ9eRLU8xWER+woqxjVPrMTTYOMZq7wUL5+PIf89ByVsZrCywc9WMeBzACRVCu+2VKpUTWECozZmzAFWrVktWb8Yqt8EMHdOxuAMo7gAGKJNAfHx8rCIjI6lSprAdoVAoxgUHB+9U5YT6igF8+DAYTZrURYECPihSpDiuvcsJG4d8yMB/xi8mK9rXYBFQxEXVdFLld3OOGUkvMYCaOIq+7N1n8HD8cKweO/T3j//D+smtYG1trcl0Uu1afcmdahPW00Apyf3HH1OwZetmFGk6HwwTzfphhzeYO6KVnkZPu26M1d7EwmKftziOX32OHMxjdGzVRKWSpkwZjx07tiJHjpzYv/9ois+YscqtUkgdLxBjAM0YAOroO7G36wsA0tda2bLFYGVljRIlSuLRl6ywcykkHLdQG96qKNg8xkG0bs4LhggAtX9ypk2fBC6yBKSW0fGG315ew7aFQ7Xv0MB3in6eeAfw/ft3CAysgALVhiBD9vyCBWRZXmNE799HjgY2i8G6T0/2JvadEyeOwte3EHLnTnmHPT3JrYlziABQBICa+EuS1+oLAFLnDRvWwpMnj4WvNQtbV9jmZOHkW1sYd26fcrDLbBw7Jea8YIgAUPtHZs2alTh4Kwy2ubyFTijBae18441NEv08MQCkY3t//1JAJifIKvXFr6/v0bpCVtSuWUt7xzCSO0V76xbiYSRmVHsaIgAUAaDazpLchfoEgEOG9MPx40eFoSQW1rDKlB0Fao0VMjRn9TKeKvviQml+C6U+gO+xY4cxdf465C/fFZHhP+ASdgnTp07V+Rk0VAeinyft5y1aNEJQ0H045HTFh5A3WL92EwoWNO0i0ORDor3Nb11zdBSzgA21fppFv/oEgDNmTMaWLZvi6Y3S/kuUroSB3Vslm/af2ooWF0rzWyj1AQCfP3+GunWrwcbRHRE/PqFD6xbo1atfaruv2uOJfp60n8f9UCVlnjp1CdmyGUd4itrGTeJC0d7mt66JAFCXJ0a8lzIZ+ZAQ/Tw4d+7cRtu28VkRBk9YgRZ1ysHSIjrg2hiauFDqx97GYEt15qAveyuPD799CxWGnT59NmrWrKPOFNLkGn3JnSaT12FQVXIvXjwfK1YsFUbIlCkTLly4hvRQTUOV3Dqo1KhvNWe5RQBo1K6p/8l5eXm5KRSKlQzDOPA8HymRSIYGBQWdopFYlp3G83xD+n+e54cGBwcfUDUDfQJAekFOnTpBKN5ZtWp12NjYCAtrjx59VE0jVX835wVDHzthqWosPQymT3t3794Rly9fEmaVEj2VHqatcxf6lFvnyaRiB6rkPnnyOAYNil6TihQphrVr/07F2RluKFVyG27ktO3ZnOUWAWDa+l6qj86y7AGGYTYHBQVtYlnWC8BpjuOcWJYlPqqeHMfV8PHxyRkZGXkhIiKi2OPHj7+kNEl9AkDlOJT2X61aDeGvcf8/1ZWVzIDmvGCIAFA3Lzx16gQGD+6LChUqYd68xbp1ZuC7RT9Peqc7NDQU/v7RrEQ9e/ZF9+69DWyJ1OletLf5nWyIADB1ni2jGYVl2eZhYWF7nz59+otyLWQyWYhEIsmrUCjmMgxzhuO4DTRZmUxGu4QEDjemNgA0GmWJADCeBsQXhH5eEFSoNlOm6N1tY26ivZO397lzZ3Dlyr/C6QTZMj000d76eb5NxRfELGAzzwJmWZbYP6rK5fKqMpnsEMMwsziOO0kOzLLsZADfOY6bIQLA+BoQF0rzWyjFnU9Tea3pPk/x+Rafb929yPh7EAFgOgaAXl5eTXien0vhfDGuyPA8/0wul5eLAXjDAXSRSCQVHjx48Jpl2SMA/kgAAEM5jpupCgDqgwrO+B+X3zOkB8fePgtEuU3JatrPVbS3+QEC8fnW/nkxtTvN+fl2cBDLwJiav+o8X5lMtoRhmNKRkZE1Hj169C7myHeVRCI5SbGByiNgnudPBgcHp48IZ521JnYgakDUgKgBUQOiBkQNpBcNGHcQjgG0LJPJJjIMUzFDhgy1bt269V05hEwmawSgm1wur50/f34HCwuLS1FRUaWVANEAUxG7FDUgakDUgKgBUQOiBkQNpIkGzAoAFi5c2ObXr18hAF4C+ErF36MrvvB15XL5SyoDA6AeJYcAmMhx3NY0sYo4qKgBUQOiBkQNiBoQNSBqwIAaMCsAaEA9il2LGhA1IGpA1ICoAVEDogZMRgMiADQZU4kTFTUgakDUgKgBUQOiBkQN6EcDIgDUjx7FXkQNiBoQNSBqQNSAqAFRAyajAREAmoypxImKGhA1IGpA1ICoAVEDogb0owERAGqpR5ZlmwIYz/O8JcMwGzmOo8LR6b6xLDuI5/mOMfUVrzg7O3c/ffp0ZLoXPEZAlmVnAbDnOK6TOcjs6elZl2GY8QzDZOJ5/qhcLh9gDnKzLNsGABWK5xmGOcRx3LD0LLenp6ctwzDnIyMj6zx+/PiZh4eHj1QqXQnAjuf5uz9//mz//Pnzn+lNBwnl9vT0DGQYZjrDMFIAIVFRUZ0ePnz4PL3LrZRPJpPVBrBQLpfnT28ykzwJ7e3l5cUqFIplDMNk43n+dWRkZAtV9K/pSS8iANTCmvnz589pYWFx2dLSsti9e/e+sCx7WKFQzAwODj6mRXcmcwvLsiV5nl8ZHh7uR1R6MplsvUQiuRYUFDTfZITQYaIsy1YBsBnAAXMAgCzL5gNwTiKRlHzw4ME7lmWJJWcGx3GHdFCj0d/q6uqaMWPGjC+kUqnswYMHn1iWvQhglLJIvNELoOEEPT09SzMMs5xhGFlERISMACDLsjcA9OU47nxM6SxLjuNGadi1UV+eUO5s2bK9Dg0NfcbzfPng4OBHLMt24Xm+jlwub2DUgmg4uaTsTV24u7vnsLCwOM3zfIb0CACTklsmkwXxPN+X3t1UBYTnealcLieSCLNoIgDUwsy0O8DzfCW5XN6ZbmdZti3P8wFyubyLFt2ZzC0eHh4eEonESS6Xn6NJy2SywQCc5XI5/TddNx8fn+yRkZEHGYbZwvN8YTMBgIPIvhzHDSHj+vj45JJIJGF37tz5lJ6N7ePjkzkiIuKZQqEoHBkZ+d7Kyuq8QqHo+/Dhw0vpUW6ZTLaKYZjVPM9viIyMrCiVShUSiYR40d1JXg8PD1epVEq86MLf00tLKHfGjBk/RkZG1uQ4bjvJ6OXlVZzn+eUcxxVPLzLHrNvx7E2AP+Y9tg/ARp7nZ6RHAJjQ3hKJxEEikSyXy+UlYuydJTIyMmt63PFNzn9FAKjFk82y7HCe523kcvm4mAenCs/zQ+VyeQ0tujPJW+hrUSqVXgbQTgkITVIQNSctk8m2SSSSJQqFIi/DMAHmAACJMQdAGL0LGYZxArCf47ixaqrMpC+TyWR9GIaZyfP8d4ZhCAw1MWmB1Ji8TCZ7EhkZGWBhYeEUw4teIeY2KcuyxIueQY1uTO4SpdxKIBQjgIRl2b08z1+Wy+VTTE4oNSYcV26ZTNaXjkGlUum6yMjIU+kRACpVopTb0tKyNL2/ALzjeZ5A/p3w8PA+T58+/ayG+tLFJSIA1MKMMplsJICMCQDgYLlcXkuL7kzuFi8vLzee5w/Q1yLHcTNMTgANJ0xHQQSCaCdMJpO1NxcAyLLscgDlJRKJf2Rk5DeJRLKP5/lNcrl8vYYqNKnLvby8CvI8v1YikVTLlCnT19DQUKKHJCAwx6QE0XCyyhejRCJxkUqlxIseFwASL3omDbs0icsTAkA3N7cM1tbWZHNrjuPqA4gyCUE0nKRSbmtra1uFQrGI47jKXl5eeRQKxUlzAIBSqZTWtpUMw/gHBQVdk8lkkxiGceU4jmLczaKJAFALMyc88o0JGK/AcVw3LbozqVtkMlkRhmEI/E3jOI52iNJ9Y1n2KM/zuRiGoRdBdtr9JfCb3hMiYhbEbBzH9SUjsyzbk+d5H7lc3ic9G10mkw1hGCaHMvFDJpPVYhimJ8dxddO53MIOoEQi4aVS6SmO4zxIXk9Pz9wMwxAokKVH+eMCQDc3t6xWVlYU6vEwZpc/XYI/sqNMJntMR/4WFhaU0NaCYZgfBHp5nie7X5HL5eXTs70tLS09eJ6fL5fLC8bow5thmO0cx/mmR7mTkkkEgFpY2tvb2ykqKuoCz/N+tra2n799+0aAaAnHcXu16M5kbvH09HRkGOZ2zMtwj8lMXI8TNacdQJlMVgrA+sjISL/Hjx9/k8lkO2kXMCgoaLUeVWp0XcVkgs7OmDFj2Vu3bv1gWXYJz/Nv5XL5BKObrB4nlOBI8BaAPhTewbLsOJ7ns8nl8oF6HM5oukog9ykA180hrjmpo+8CBQrkNZcjYIVC8c7KyuoRgFpyufwWffgBKCSXy+lY2CyaCAC1NLOnp2djKo8BwArAHrlcPkLLrkzmNpZlp/A8P4BhGLmSRxnAQXOJC4v5SjSbI+AYeTsAoCQfC4ZhjnMc1y+mBJDJ+K02E5XJZEMBUJIXxUBeDQ8P702Z79r0ZSr3KHeEKBbO09OzAB2PAbAF8IRhmFZBQUGhpiKLJvOMsxMmYxjmCMWCKX2c5/k3crm8pib9mcq1ce2tnLOZAEBh5zMm270kgEU8z2diGOaVQqFoExwc/N5UbKjrPM0SAMpkshkMw9TleV5B2W8cx8319vb2VSgUK9J73StdHUa8X9SAqAFRA6IGRA2IGjB9DZgdAIyJ5xnGcVwlNzc3aysrq/tSqbSGQqHYmt7rXpm+u4oSiBoQNSBqQNSAqAFRA/rQgNkBwBilUZX3KNrujoqKOqtQKMqZQ90rfTiM2IeoAVEDogZEDYgaEDVg+howVwBIGY2TeZ4fyDDMNoVCsVwikcxMUPYg3da9Mn23FSUQNSBqQNSAqAFRA6IGdNGA2QJAUloMkJur9QAAIABJREFU5dMBhmFOAwg0l7pXujiMeK+oAVEDogZEDYgaEDVg+howOwBI2W0WFhaSBw8e3CXzsSzbi6qAMwxDdfw86d80qXulUCiILN70PUGUQNSAqAFRA6IGRA2YkQYYM395mx1yiSnfMsDZ2bnSy5cvpRKJhHYA/1IoFERxpXHdK57n+Q8fQsHz5vPUEN61t88CUW7zsLlob/H5NgdPF/3c/PzcwcHW7DBQ3GfZLIWnenYAGvI8Hwlgq1wun+bh4eEjlUqpDIxGda8IAIaEmOODkwWi3ObwWgToxejgINrbPKwt2ltc18zD02ldc3QUAaB5WNtAUooA0ECKNcJuRSAkfugYoVvqfUqin4t+rnenMsIORQAImOUOoD59UQSA+tSmcfclvhjFF6Nxe6h+Zif6uejn+vEk4+5FBIAiANTZQ0UAqLMKTaYD8cUovhhNxll1mKjo56Kf6+A+JnOrCABFAKizs4oAUGcVmkwH4otRfDGajLPqMFHRz0U/18F9TOZWEQCKAFBnZxUBoM4qNJkOxBej+GI0GWfVYaKin4t+roP7mMytIgAUAaDOzioCQJ1VaDIdiC9G8cVoMs6qw0RFPxf9XAf3MZlbRQAoAkCdnVUEgDqr0GQ6EF+M4ovRZJxVh4mKfi76uQ7uYzK3igBQBIA6O6sIAHVWocl0IL4YxRejyTirDhMV/Vz0cx3cx2RuFQGgCAB1dlYRAOqsQpPpQHwxii9Gk3FWHSYq+rno5zq4j8pbQ778xLO331DU0wFpycQmAkAzBYAsyw7ieb4jACJwu+Ls7Nz97du3XgqFgphA7Hiev/vz58/2z58//6nKm0UAqEpD6ed38cUovhjTjzcnL4no56KfG8rPFQoeo1dextuPP9Ckojtqlc5rqKFU9isCQDMEgCzLluR5fmV4eLjf06dPf7Esuw7ADQDtAfTlOO68TCabyDCMJcdxo1R5kQgAVWko/fwuvhjFF2P68WYRACbUgPh8G/75fvTyC6ZuuCao3sXRBpM7+6XZIyUCQDMEgB4eHh4SicRJLpefI8+TyWSDGYbxARDAcZw7/ZuHh4erVCo9rfx7Sh4qAsA0e35TfWDxBWH4F0SqGzWFAUV7i/Y2Jn801FxS08+P/PcMW08+FESRMAyWDq4ASwupoURLsV8RAJohAIzrEe7u7jmkUullhmGWAqjDcVyFmN+lLMt+5zgugyrPFAGgKg2ln99Tc6E0Jq2JcotAyJj80VBzEf3c8H6+9lAQzt56FWvCKV384OxgYyiTigBQhWbNlgvYy8vLjef5AwA2RkVFnZFKpX8kAIChHMdlUuWZBAA/fDD8g6NqHqn5Oy2U9vZZIMptOK1/+xmBmX/fgIWUwaBmRZA5k6XhBlO1SIj2Bk/RwmbSxOdbXM8N5erTNlxD8IsvyJrZCp+/hWNw88LwzW9vqOFUAkAHB1uzxUCkHLMUXiaTFWEYhsDfNI7jlsQc+Z7iOM6DlOLp6ZmbYZiTcrlcpsozCQCqukb8Pf1pICwsDNevX0eJEiVgaal/cLb5SBD+PsoJimtT0wvNq7LpT4miRKIGTFgDtPS/ePcNuewzpdkxpqmpr/W4Q/j6PRyVS7ji5NXn6NesCAL90jIRhD53zLeZnfCenp6ODMPcZhimJ8dxe5Sml8lktwD0odhAlmXH8TyfTS6XD1TlGuIOoCoNpZ/f4+6MDBs2CIcP/4Ny5fyxZAklj+u3TVl/FY9efhU6ZfNkxYjWxfQ7gAa9iTtCxrsjdP36VUydOQcFi5bH+GG99FJWQ7S3evY+cPEpdp55DM/cdhjZpphedK/BY6m3S1PL3qE/wtFv/nlh9y+wpCu2n3qE+uXzoYF/Pr3JoklH0Uf+4g6gJjoz+WtZlp3C8/wAhmHkMTugtIN3UKFQbJZIJCsB2AJ4wjBMq6CgoFBVAosxgKo0lH5+V8YI3bv3ENWqBcQKtmfPP3Bzy683QaMUCvT+8yzCIxVCn5mspXh3aS7ateuIOnXq620cdTsSY6PUAwTq6lOf1zVr2QzWspawzGiHcl6Z0blBKZ27F+2t2t4RkQr0X3AOv8KjBH3TB5rMNavOuk/NDj6FhiH4xWcUkznCKZcdQkJUy63L/OTPP2PGpuvwzpsN/oWcsHz/fVQo7IQONb116Vbre8UkEDM9AtbaY5K4UQSA+tSmcfelfDHOnbsIi1asRVjoO/CKKIwdOwmNGzfT2+RfvP+Gcav+g2uOzKBYQFqob+0aiqjw77h5M0hv46jbkQgIDPtiVNcOCa8LDubQe/R85C7WRPjJgonEsqGBkEh0O9gR7a3a3rcehmD+jtuxJqlXzg0N/PX3EaitT6h7349fERi94jK+fA8XQNjQdqVSBIDh4eGwsrJSt/skrztz8yXWHeZQuZgLSnnnFMCgb77sGNS8iE79anuzCABFAKit78TeJwJAnVWo9w4iIyOxefMGKBQKtG7dHhYWFnoZQ/libNJ7PsIyuIEJ+4Bre8ajWdMWGDVqnF7G+D97XwEV5da9/9CNEqIIFo1BKAaiiCKiiIWK2N0NKNgdiJ0odgcmYKKIjYWiqIwFmCid0v+1z9zBoYYZQO/9/z72Wt/6vMx5T7/n3Wfv/TybKrkT/g17L75GOxNNJKT8wquoREReX4f0n++rFcAqm+XyK6pKRYgIcKm+qsx8cODAHgQ8z4GSxu9Q5WWjW0GrlmL5gxNQoirHXamOVPLh5LQshL2NQ5NGqqhVU67c2kQZ99EgDoIef2YKzMuPCTDTU8e0fibltsEr4Od3HAEBFzB69Hi0b//bmyB0BZUsePXRJxy//pbVIiEuhqPLuiEj7VepYKedO7fBx2cr7O0dsGrV2grvYWqP2h1sZ4Bn9wIQkW6Agsyf8F3Qt8rOaFGmpVoBrFYARdkvpZatVgArPYVVXoGv7w5s27aJ1evm5oGhQynpS+WFDox8cQmMXnGtsLL3t33QqJYk9u8/WvkG/qnhyFUOrj/9jCFdDPA1Lh03nn5B9MPDSPh4H2Fhr6usHWErEuXDKGydVVXu3bu37IOkq8vwW1UqVTXuBxHfmeVDT0sZ0/qZQkpSvEr66TbLFQkq3RhS/GfUE6g2aIkxjsZo21SzUvVX1bgr1YlKPkxhFIv2PmLvj4qSDFaObQMZacF8c6KMewXF6H5NwaTeTbH93EvUVpHDqvGWQvWaw4mEszM3lENZuQauXAmGnFy5hBNC1S1sodWHn4DzObmw+NJxlqinJldCAXz16iWGDHFml2kSOufMzCoWj7zh5HO8+BCPsd0aYcZEFzTpuQpZaXEYaVMDnTvbC9v1KitXrQBWK4CV3kzVCmClp7BKK8jJyUHXrh0Rn5AAbfN+UKmjgxXT+6J+baVKt0MHRvDTjzh45WNhXT/fhiAxMhC3bz+q8M24eMdWHOICQOYNawFOTCJO3fyAby8DIZ74HIGBQZUeh6gViPJhFLXuypbfsWMLm/cJE6ZUtir2PCE7eVa6qhj3oSOHceOjCsQkuRaoEd2MYG1at0r62mPASNQyHwp9LQXcDzoOdeMe6GBSG8MdiNe+4lIV4xal9cysXEYNoqdVA/KyVWOtfxL5E9vOvijshjCKsbDjzs3Lx6T1t9he2e5qjambboNiAn3cbIRS7r28luPYscOFfdu4cTtsbDqJMmWVKpv+KwfTNt2GtJQEOrfQRuD9aAzsYoguLbRKKIAzZkzGzZvXf8/jmAmYMmVGhdqfveMe4pJ/oatBKlYu84S58xbk52ahUd49LF68okJ1VuahagWwWgGszP7hfTAK/nTwbKU7WcUVCHtQitIsxbnJSktATqZyH4Dbt0Mwdep4mNoMgUSdtqwLGjVlsHJ8W8Y8Xxmhx1fsDcG72DxIp0ciW8EQOWk/8CJgMW7dCmW3+coKDwCSl1+AbTOtcfX+a5y59wNx7+8g5/NNXLp0o7JNiPz8n1hvkTtRxgNOTo7slzNniNWpcvLyQzx2nI+AsoI0ZrmYQa2GLNTVlSocHB8e/gwzFm1Ew9bDCjtmqquG6f1NK9dRALGx3zHcdQ3qNnNkSMrThzdBsmFPNKgljUWj21Wq/r+53jm5eVi6/zG+xKUzQuBFIyyqhFJls184nr2LY8AMAh9YNa2D0Y6NBc6LsOOO+p7C+txIUwkLhrfEkn2PEB2biqWjW0G7HPc7WdJsbdshMTEB/fsPxKlTxzBw4FB4eMyr1JqJ8jAvftFEVw2dLbSx/sRzWBjXxuTeTYoogER11aFDa+Tm5mHTpu2YPHksmjRphiNHTonSHCubnZOHietCmBW2ZnwgLgZeQIsBG1EgJg3l2LPYuGGLyHVW9oFqBbBaAazsHqJbYLUCWIFZpNvz4cMHQDQWFp2H4vqLdKb8EZqOwA8VlVWrluLEyeNoM3AjsvN/K5MLhlugkSYBvCsuBSjAeK8g5BZIoKXqBxbDkpGVi2d+M3H08DEYGQn+wAjTMj8AZMmoVjh69iqCIiWR/PUl4sOP4ubNB8JUU6VlhP0wVmmjAip7//4d/AMDERAYiLjYGFZSR0cPXbp0hZ1d1wq5g7Ny8jB31wMGuCGhwPiRDsaVUgBnzpyCqKwGUKnfAjGPj6OBxQBISUlgy3RKf1U5N/ChQ/twKuQT1PXawW2AGQ7uXo+fSp2gKFOAzTNtK7UUf3O9rz36hGP/xKJRp0c5GLPY18oIWejIwkVrSu89KWvqNWSxZiL3QliWFB93Wloadu3aDllZWRarJyMjwx4NfvoZh65yGJhhSBdD7Dj3Eo/e/GAxgBQLKEhev47AwIF9oa9vgGXLVsPFxQmGhsY4ceJsZYYs0rN+N9/j4oNo9O2gA8smdeC+/R401RWwcmzrIgrgw4cPMG7cCLRoYQEfn32wsmoBimW9f/+pyNynMbGpWLzvEVOaQw65Ii7uJ6yHbUVatjhkv5zF9i3VCqBIi1hFhStnEqmiTvz/XM3/mgL4MykTa/ZcQW5+AaYO7gSduhWzevn5ncDy5YsgLa+KJo6LISbOVdaa6qiyzBcVkcTERHTsaAl51fow6uIJJalsvH0ejDqN7dGjbUP0sa4cSu/2gzBsP/+KIX9nOunj+ltpvPucjDdXvbBsnhtsbbtUpNtFnrn74hv2BHIBIPQx3LR9F56n6CEj8RPeXffGw4fhEBevnPIgaif/pkIgTN/oA7/swGNw3nLw+tJy9sjp0wEVUvx47R0NfICgFxmQKshAnrg8JCXFsXFqO9TTUqmQBTAhIQF2XTqgac9VkJCWR/jZ2TDp6g7IaTClpLKXkWHDXBCbowEt017YNrMD9vhuw+MkQ4hLSsF3dkdIVGKP/M31XrA7lFn/OpjVRcizryKDKUrbLzy6EZ26ypg3tAVct91Fclo2NkxthxoKZSNZ+cdNis6UKeNw9y5LGY8hQ4bD3X0O+/eewFe4++I7Rnc3hlUzTZy48RZXHn7C0C4G6NhcW+AW3rfPF5s2rWP1TZ/uDkvL5gy1fe/e078GhFh1mJuNgy7beto1MGl9CHLzCrDTvUORfbN583rs3bsLkyZNw7hxkzBgQB9ERr6Gn98F6OmVmyOhyDyEvorFzgsRaNZAHge8RqBhw0Zo0m0OviXmQvzTeez+J2ZbmPe/qspUWwCrLYCV3kv/dQXw0oNohrwistKxPZpUyvJAhyLd4h7eOM7ipJpZ9cWq8W1E/thkZmbC0dEO8fFxaNjSBaq61tBUyEBijhKysvPgPaktVJXLTcNcYu1mzZqBa9cuQ6mOMfRtpqJlI0kc3u0FQ1s3GGjXgOeQFpVab9d5y/A6OgnikjI4vmUOztz9wj5aUQ8OYGRfmyoBmxy5xsH1J1wASKfm2nCf5YYEte7I+ZWKF+c8cPlyMOrUqZyFRNRJ+JsKgTB949FJfH3BdfvKy0jCrmV9TJxYsThAcqdO8zoDBQ0jfLy7B83a90davjJm9DeBbZtGFVIAT506jo0+B2Fo5476GgoI3DEGdc36Q023XZXEAbaxbAFIKaP9gMXwntwB586dxokHmZCrWRerJ1hCQwjUa1lz/bfW+1t8OqMiIZAGoZenb77DEKlbZrSvlBv43O0PuHA3Co5tG8LJWgfrTjxDxMcEzB5oDqMGKmVuMf5x37lzm7k8KcsPxRWT9e/SpWCoqqpi/u5QBi5ZMbY1NNUUwLNidrdsgL4ddAVu4fHjRyE09B62bt2Fdu2s0b9/T7x9y8HZsxfRqFHlLqjCvDsUqzh5Azd+kUJMKA5w8b6HiIlNKxwPr57Bg/sjIuIFDhw4BlNTc8yf74GAgPNYvXodunbtLkxzhWV4a6KjnAS/XXMxYMAgFGh2xrvvv5AX5Y8DPhtEqq8qClcrgNUKYKX30X9RAaSX++rVy3jw6juis36n2enWpj7624iOlvz0KQazZ89AQq4qtFoMAufqcohBDPpd5mFCryaM00kUuXDhLBYunIOWrSwhZTAUv3KBnLfHYdNnBu6+/I5h9oawMdcSpUp2oLVsaYLc3BzIKdeGscMiuPbVx1AXB5j13QBZGSl24FWGI619p07IyS1Afd3GOLlvW+HBH/v6GqwbK8DDY75IfS6tMD8ARLduDTg5dYei2URISssj7ORU7Nq5Fy1btq50O6JU8LcUAmH7tMD3Lr7EZyEp/CD024/Gz+Qc2DRMxDCXvsJWUaTc4qWLESXRltG0kKVO09gWGo27w75VPUwZ0LxCCuDo0UMRnSyPWvrW6N/NEmd2eeJ7pjLqtxxU6DoUtbPk+qYLjr//OXz58pk9rqqhDWen3tDUrIsDQTGoqWXCXMJEfVJR+VvrHXifm0nDtrk2BncxAO39l6/eYHyvJrBpYy5S90kxWbt2FbKystFuoBfiMyTgMcgchvVVwKNsKc9Cxz/uKVPGg+KJ581bDHKF0rwTUMG+Wy9M2XALsjKSTFGluOInkT+w7exLWDapzS7ZZcmvX79gbd2KuVFv3w5lyN85c9xx6VIA1qzZyEIY/rSQx2Ll4SfQ1SLrqAVrboXvJbz8kIDZo7rAXL8W+1tychJsbCyhoKDAwk6ISmv//j3YuNEbYyoABCGk9OM3PyAddxsPgo5hw4ZtCP+hhOcf05D18RKO7PT+00MvUX+1AlitAFZ60/0XFUCKqxs1agh0O0xBDc3GsGmmipCXCZCWlMC6yVYiIe3IWjdwoBOioj5CTact0uM+4lfKNzZvssqaaGzeHvOmDRPJ/UZxJXSozpy3ESHvpZGZGMPcqOt9L2LX6btopqOGuWO7Cb029GGkYOrjx48UPqOgUhdDnPswPsC6llMgr6ItVJB28UZ5H90rVy7h48f37GdFJSUMGTwcjYzb4MT9FCR9fo5GMh+wbl3l4lh4ABByxxC6EAV5sLQ0h5H9PMgo18HLC/MxZ5Yr+vThEv/+LflbCoEw43n9/jO8T3GQ8ysFL87PhWaTbtBs2h1dW9eHc0fRLzdJSYnoP8oV9VoNReP6Svj8cB8ehn+AUZfZ0K2rjI1uHUVWAGNjY9G1qw3UdKxYho7NqxfA79Bm+Afdg5Hd7Epbo/v37wUigSaZu3IvnB3a4vPnT5iwYBc0DDtW2sL4N9Y7IyMdi/eGIi4NmDXQnGWHIEXt4D4fNNNVh/fSucJsB1bm0SOKVRvJLoHiUrIw7eMNGWkpbJ1pDUkJcdx89gUHL0cWKpplVcwbd2RkFOzsrJn17/r1O7h16yZT1GxsbDF+5nJ4HwtD44YqcHfhKqkfvqaAUjca1qsJjzJSNkZHR+HZs6dYtGguWrRoiT17DrFnfX19sG3bRkyePB1jx04UeswVLUgeoVM33xd5X6Z5LmUuYdfpM1iKNpKgoCtwd5/Oxrxx4zb2t5CQG5g+fRKjbFm7lkuzJazwrKbvglYhPfErUypP3nyPuxEJyPh4Dcd3rhK2qiorV60A/g8rgPr6+spiYmJ3cnNzHT98+BCjp6fXREJCglLB1SgoKHiZmZk5/NOnT5nl7bb/mgKYnp6GYcMG4vOPFKg2sEANLRNo54ehQZtRjBRVVBqKgwf3Yv36NWhm0QFSegOQGsvB2+CNbFqaOCyEspoWNk8nl41wcWkPHtzDhAmjoKSkjGGz9+J+xA/IpDzD/Yu7sHzVZmw9fBmy0pI4u9dLJFoVApSQBYAno9y3YtqQzhg5cjDipYyhrtO2MGanvDUt7ffLIY/gOX0o+4kOajqwfyRlwtPnPjKTv0E85lyF0HH8bfEAIIQkJEQhjy/MtPscSCjVQ+Q1bwzoZYdp01wrMoQKP/M3FAJhOzd1iS/SZXQhmfoGWZ9v4+2nRKasNayjiIUjREuDRhyCFy9ewE2OGGpqmzEOvYSoh1iwcB7M+2+EtLQkTq50RGJCWqkEuWX1+dCh/di0dSskZZRASTluB1+H/4WzWLp8Kcz6bYCCrCR7ZypKCm1lZQG5OuaQlFWCbYt6mOU6E5SpwXHoTGib9y10fQo7p8XL/en1jo7+iEnTZ6J2m2nIzUpDF70kDBk8jHksZkwYCDkZCQRfE47uiJQ+ik3jcN7A1XU2XnxMQryMGZTEk7Fpdh82NP4UZKRsliW8cW/atA1r1qxEt26OjPg4JSUZ1tat2Zk1e/UJnL39Efzu3qS0LLhuvYtaNWXhNaEk0IQXm8xrl1/Zu3LlIjw8XNGjR28GCvnTsunUczx/H4+pTs1gbsC19nV1sEdSWjamLtjJSJpJVqxYDApj8PScDxeXIexvtG69enWDgYEhTp48L3RXKWaXEMBAAR4dmwyTZqY4ePA4Tl1/jUuPviEt6iZO+iwVur6qKlitAP6PKoD6+vptxMTEdomJiRnk5OQYkAJoaGgYBmBqZGTkHQMDgyViYmJSkZGR5V5D/0sKIB2Grq5TERwcBBlFdYiJS0FFUw/fOXfgtf0cjod8gbm+Oqb2FY6xnj4q3bt3xs+fPzDacw/CorLw8fZ2JH55iREjRuARJwUy9TsLnQeT+tehQxt2oPbu44yfyp3xKysXbWp/wrZNq1iu29P+V5CXV4CLAZdEigOcNGkM7t27A93mDkjPAto208RCz1lYsmQ+7ryMQ70WzujSsh5cbPUrdH5Mmb0E774kIzU2El3am2PRouUgi92EtSHIycnGl5srcO3arQrVzXuoOADk4kV/zJ07C+36zUeGZF18uOOLVo3rYM2avxsv86cVAmEnjfM2EksPRUBavibc+hmgnoYyOthYwtRpHSSkpLDd1QYyUoLJfvnbIg7BU34nUb/jPEhKSTOlLPtXGnN9NXFYABllTWyf3QlyEsQPKFwvyWI8ceJoxCemIC+He38khLK5eQucPn0C5k5eEJNWYgATopsRVShutrNdR5j13wB5GSn0bJoB+y5ca3mPQeNQy8QFLQ3VMLFPxalm/uR6Z2ZmYPBgZ6RK1kO95v0R/+EeYh4dgZOTMx49foSY6A+FcyYMqvvOnVsMrFGvXn0WR7fz7FM8eZ+GRM5lnN69mgGmKJ0ioYIJAEJAkPIUwC5d7BER8RLbtvnCyqo9K96vXw/QhcF5xl4Wtza9nwlM/0H85hcUYLz3TRZC4ONuU4Ju6vTpk1i27HemIF5MHdVLRMuDBvVj5MpVSSZf2hjJ9UychcS7OLNnXdy9FcRChT58eMeK11TXhku/3gxJT/x/nz5FF4lNpFhI8kiQO5hAK8KA0WjOCDjoGxQHefFM3DnqxgAlBCy5EvoBJ4KjkBp9D6d2VD58RtR3qVoB/B9VAA0MDPaIiYntLSgoOJSbm2sjISGRLy4uHhIZGckiePX09OpJSEjc5P23oI31X1IAjxw5AG/vVZCUkkFuDpfOgm6tqakpcB4wDB/ELSEpKYYtzGJX/ofyzJlTWLp0AZo3bwUls7FIzciB1KczCL0bBHd3d3yMk8THX/UZnUB3y4blvn+PHz/EmDFcTrTNewOx/2o04+lqWuMTCzAmugWKkyGpq90QPR0dhaL1IDc18VUViEvBpLc3ZGUk0MM4HV27OrC4ld1HzsHAdiZzMwmyAAgawJg5W5FfozHeXFmNuW6T4OjYmxWft+sBviVkICJgIe4EB4tMj8Df5qGrkQh++qUQAMJD4fUaswqcL+n4HnEFmooZOHr0dLlzXZUF/qRCIEo/p3kuQ1pNK8iLZ2DrbC7/3/Hjh3H6YTqUNPQLY76ErZMuN99i42DWb30R9Dl97HPUuGjyEY5N0LWdudAKILliCeDUoEU/RD/xY10hhLK2dj20bdscutaToVjbqNDtKWxfeeUoFm3p2h3Q7zi9iBuSfh86ZjKk9Pqinro0loypOBfgn1zv7ds3M2oVM8f5EFesC0PFGBzbvRrW1jaYOs0V/fv1ZEM9duI8jA0Ny50eCnWhkJf585egX78BmLPzPmITM/Hq4jL4bF5XmLVi+ubb7PyiOOCyuEZp3ElJsejQoQPU1NRx5crNQmQuKXCkyLUevBU5eeLssqAoJ1XYPx7JcWlI47Fjh+PRo1BWVkJCAqGhzwvrTUlJYXGB6uq1EBTERRz/KeFRsWjXUsDS0dw4YlLQaL+TWA9cgc0efVk4Ae1hDY3abA74LdW9enUFubOJj5TiTssTumR9jc/AF8mWyE96i2eXN2Dv3sNo3twCDyK+Ypf/G6R+eYpTW9zLq6rKf69WAP9HFUDeTjIwMPiYm5vbQVJSUlNMTMw7MjLS+p/fJAwNDdMjIyPLhaL+VxRAiqnp3dsBP37EoqPzHASf5LpDyYVB8Sv16jVAu4GrEBmTBFdnU8jmJwhMoZWXl4c+fRwQExMNt8U+CH6TzygDujcTx/DhA2FgYID5q/Zi46lwEKHoDCHIbefNm43AwAsYNmwUspRN8DZOGkPtDdHGSAXk1pKSkkZWFlcBnDjHB+MH2Aj10vOsAC1tByOvlhVaGWtgQq+m7NmbN2/AbZYbTPuuYwf2pmntRHa9paRnY8aWO8jNSkfi4y0ICLhaqBDwCGff3tzCgCE0ozA0AAAgAElEQVTCHIplDYpHKLtoREs0qKOE6dMnIiQkGJPm+eDMuQssF3BBxlfcufNIqHmpqkJ/UiEQto8U8zZr/XkW1tC3fX10t+LG+xEYYuycLYzqhxCfhPwUJLyYTn7LB8WyduzUBWOG9mexrCtWLMHN598hISUH40Zq2LhintAK4O7dPti6dRM0m9ijAOKwb1WfKRyUqYRIq7OUTVHbyJa52mxbCKYMKW0clEUi+Hkc6pr0LOHqdZ01C0lq3aAgA2yZWfHMEn9qvb99+8qUjaxccZj08WLE76vGNEd3h05IS0tlyNAXMb9Y/usOZlqYM8tN4FqGhT3FyJGDUKtWLQQGXkdSei6mrzkDSbE8vLi4qgh1y8pDT5gFf+EICzSsUzofKI179+5t2LJlS5FnqROktO45dBxNui9GbVV5rBrXpkjfKLXa84jXmNirKazb/KaxIoQ5ZSYi7wcJcYUeP36myLM2Nm2QlJSEe/eeQF5eQdhXQuRyQY8/4WjQ2yIgJFLQiN804G40Oxf9D3rD79RxrFy5hMUak6eDX6ZNm8BiInfs2ANLS6ty+0B7PjUjG/VsPPE1/AJSom4hJCSUXZRfRyVg6c6LSI/7gAu+VZdLvdxO/VOgWgGsVgCZAiguLq4lISHhVUwBTI2MjCw3QSMpgPHxqUJ/IITdnKKWI2vRnj270KqtLT6nyDJ3RJdW9SAjJVmIGpy59BBCXqUydCO5SASl0KIPJNGqULxH2/5LEP4+ASMdjNDeRBP29h1ZJoKTfoHw8otmiLitM7mIuLKEUGV2dh2Ql5ePAS6DERIehzpNumPDNCsoy0uDAtsp5q1zt354GZPBDtmDW4sePmXVvXo1N7WS3XBvxGcpYFzPxozglITAKxS3YtZnNcRllLF+ihWjnRBF7r34Bt+A10iMeQJd+WisX7+1cL0pwTlxgBHR77oFEyqcJ5NIayetu8UstAQAIR63zp2tmft93S5/zHMfh/zcTGRnJDEEYVVkHRF2DmhZ1dSU8G/u89meHohV7MQsKJund4Ci/G/rS/+RU6Fo0Ad6dWQwb2T5HyUa9/Xr11i4BAm5e3ctcC6sk1CZy9ftZPFppKTcuhEk9Pvdr19PfE3IgYahLUwsrFksJ71L5M709HTDw8hENGg1hH2E6fIjqjg790aeZhco1zGC6wBTBpjiyZo1qxCRZQ4J4gL0qDgX4J9Yb8qAQRQoBP6ydZqKRGljtG5cm7EIbNiwFvv370bbtu3Qrs9sBD35jGaq3+A6frDA6eEhdV1dZ2H48NGMPmnNuvXQVJFG2J1zzC3s73+FnXN7Al7hzovvGN+zMdr8czYUr7ygIB/du9vhy5cvjJjZyMi4sMiRIwex++R1NGwzHO2alcwq4nM+AmdP7EHrJnWwdN7swuf27uXy/vGElKrFi4uea0OGDMCLF89x8uQ5GBoaibolhC5PqfEev/mJib1/MzfQ3rS374o5O0PxKuw29q2ZiiULXBEcfB3e3iWRyWvXrgbFuM6ZswAuLqWvz2/g3G/3Ml2y8vNz0NSgIfbt46bB+/QjDWNmLEROZhIuHd9RSLQt9IAqWZB70VH+n+ZC/p8ePM8CKC4uXiAhIREcGRnJzAr6+vraYmJiNzgcTrlsl6QAVnIfVvrxqKgodOzYEWS1m7HiKM5cuIaBA5wwuZ8p/P39ER4eju3bt2PkhFl4ntQIDTWV8TKQG3QbHBxcon0aUrdu3fDixQusWb8NJx+JsRQ+BxZ15Wbr8PTEoUOHsHDhQrxI0Uf091Rsce/I6i1LfHx8sGzZMvTo0QNhz18iLukXhszcgiXjuAnUyaV87NgxrPRaB78wOWT9CMeVg/PLtdZRX1u1aoXvPxJgMYBi48RwZGlXyMtyFQSKW9HT00Mjq3FQ0myKRWPasLRHosiaQ49x+9kXxvc3fmAnTJnym2/u0r2P2H46HD8ib2DeOFv07Ml1YYkqL9/HYc72u2iqq4ZVk9rh27dvsLCwgKKiIlTVNRATxY2NIhkyZAhGjx7NrLD/C/L+/Xv0G7MI2s37o6WROhaOLarkLVi8Es9Sm0BaPA9+a/qUu2dozhwcHPDmYyxU6jWHproiAo5y4yo5HA7bh7t2+bKgdRKaZ9q3jo6OAuc8MjISnTp1gn7bwVCqb4UBdgYY0vW3ErF161Zs3nUchnazGNJ15SThlFXeGhOYwMTUHCZOayEtLY1jyxzY5Ysnvr6+OBmaD9kadbBnnh00VMu9v/617bN7924sWrQIWlpasBnizfg0541shTZNNRETE4O2bdtCSUkJ63z9seNsBLq0boCpAgjhX716BTs7O9SsWROhoaHsPVmy+wEOrpsC9ZqyKMjLZopcSEgIe/9PBnGw6/h1dLfSwcyR9qWOe//+/Zg3bx6MjIwQFBRUZB+dOHECG489hrpuO3audi0W8rI/IALLZg2HirIMHofeZfXT2WRrawvaFyYmJoiIiGDnra5uUa5AOk/Onj0LWj/al1Ut1H5+AbDsyAdmjTu4yB4qxXhWF+y8h2ecn1g2rjWce1iDwmro/Kf55ZfDhw/Dw8MDo0aNYue5IOG9D1TGuNsCcK6vw7LF8zF8+HD2WHxyJlq1aY+C/FwEXz2PBg1+U5ZV9RyUVZ9YRZFYf6uDf7idagUwN7cDgUAMDAyeA5jC4XBuGxoaLiwoKFDhcDgzy5v/f9sCSIfM1KkTGGeVy6CRiJFsg1/ZeYzUk3JrklCg8cCB/aCpqQnp2haI/fC4kMqFAtTpBsifQovY7ydNGgstLW2Mn7ML5+5EFabGovrI5Tp58ji0bNkK1v3mITjsC4bac4mLSxO6/XfrZovv37+hbl0tfP36hRWro9UAfXr2YG2HhT3BsmWL0L+/C5JVu7Ck4WsntWX5WAVJePhzDB06AIYW3aGg1x2meiXd0WQBzFJqyihD+tnoMgSfsEJAj2mb7iDjVy7Cz3rg3OljqF9fr9Ai9CoqAd7HnrFUbb0sFDF8+Chhqy5Szv9uFM7c+gAHywbob6OLGzeCQKnEbG3t4Dx4HMaP6l9Yfu3ajWzO/pb8CYuQKH2fN98D73OaQq6mFtxdSnLchYbex6YLnxjwyXuSJdRryAmsnlJ8depkBa2WI1BT2xTm6rGYNnZgkWfIWk3hFCQHDp+BWbPy0/zxLFmWA9chq0CO5bXlvxTRezNtxnQWjqAsL4VN07kAA2Hl0qVALF+/EwadZsCgXg3MKUZsHhR0FdsvRKKGZhN4DuZy4FVEqnq937x5DcpcQqAyj7nLcOFpFlQ0tLFp2m/2gAkTRuP+/btwm+uF4A9KaFhHCYtGtiyz+7NmzcTVq5cYoIBifS9fuYRDx88wRD4JWcgJbDZixGjMnDmLpWqbv3Q16mkoYffGJSXq5Z159AOVp+f4JSjoGrb7R0JaTgUbZ/dBnX+Ua56168x5f8R+jWaP8M5UXV19RqVCYSGBgdfYZZTinIsLxUXu3LkdM2a4Y+TIMRVZMoHPkJs3MTUbb/PMUb+2IijFJL/Qeh8P/oDL96PQ0Vga6xaNgYmJKQ4dOlGiXoplHDNmOLPW7thBpBllC7Wb/iuX8aWS9+JHZDAuX76BjIwMxqtI1FofPnCptei70KtXH6FivqtqgqotgNUu4A8EAiEFUF9fv7G4uDjtaDJjfRQTExv05s2b1PI2278dA8hDmFHQ8vi5vrj86BssDGthUp9mhV0nJZGCeileapDbXoS9+iAwhRblqqSclUSC+iiuPlPGKKWSrhY37Vt2dhZDSlKy8LU7A3Ao6CNz54zvWToJKh2uxKqvp6ePuQtXYdQwLo/dkWPn0MSY6/J48+YVy4tpbNwY7QcsZaShk3o3hYWRhsAlIIoaoqrpNGQVknJrlJpLdMaMSXj2PhE6VmMF9rO0hiJjEuF1NAzp8VH4cn87u8UnJWUWKoDxyb8wa8c9/EqJhblKFGbN4qaLElVWH3nK6CpIwWncUBU8AMj06W5IS89A4P1oiIvl4+vLyyyF1J/4UJTV5z8VEybMHL14EY4JMzxZRg1VJWmsmWRVItSAFIuBrltQQ9scw+x0YNNCcBwg5dHduHkzTJ28WTA+IXLlZX9b0qhflKHh5y9FyCrXgWXTOlg057dbr7R+5+bmolu3jkj5JcbixCjMgC4w/AYG4ge0t+8A0z6rISGjzOJRleSFRwITUOrpJzHUMe6CXu0asf/xC2Vt8NxwBrX02jNKm7ZNK5YxpiLrTe/vhg3eDBlKlxZzcwsWT0khDHRBo8sfuWmJwDsiKhFOA0ZjbI/fSjWPd87MzAJSjUezEJbtrh0Yj19xIaWLYgnl5OQYGKFGjZp4yvkJ731XCs+1uXMXsTg2Ik339T0AAkA49+/J6Kpu37heok6Kd/74kWtlv3o1hAEg+OVK8F1s2H0aYgU5uHhkcwkr84Wgh1jozgW48dISsrzkJ46yPMJTp5ZtSyASa1pbJ6f+WLhQsFVNmHemeBn+ODzHtg3gZF3UAklzHRL+HfsDX0ElPxrXT3qBzp2RI8eWaI7WkzgSSWG7eLHkPPI/QO7lmvXMQe7xT09PombBV5w6daGwCD8AZfqMWRhZTOmuyFhFeaY6BvB/XAEUZbOUVfbfVAApCHrixFEMObt2wy6cfQYG8V88siXq11Yq0uWNG7lxNr2GzUHok+eor6HIeKCKxwHSDY9Qa/Ly8li3KwC+AW9YWbqN8z5m9OJ4eMzA5cuXMX/xWlx8I1/qB4/XAR7xMx3K9569w5voRNa/5ga1WHA8Cd2O27dvCfqQLtp4HmfvRJdL7kuWRUZTk5ACM6c17OOzYaoVFP5x//Lapw/T8TP+7MNMVtHlY4TPpHH0GofFJH194Q+jWlk4cuRQEWJgLgVEMHJz86CaEIh1a7kciaIIrdnYJSdYlpI9iwcwhPbo0UPw5Mlj+PruR2JiEs6+lENWdi6eHp+Cfv2cGerxb0lFFIKq6FtU1Af07dsTmqZO0DCwYdZbhzalW28nzl2PLGUzGGrkwWOUXZnN0/7q0aMLchT0UN/CBS0MamGy0+/LEu9Bog+6z8lA3WaOMFD8DM8p3I97WcK75DSzGQGpOq1KJR2mixjlqlY3GwrlOsYioZap33Z27aFpOQ2yyrXBAwrx94coYgZNXQYtk17o074RelgVVRCFXRNR15veQ5pTXnYSaodShfXs2RvLly9mFn+yGG3ctAOdutizvLP7Dp1hqHye0PtPYAkaQ7cJvohNymGWqnoaiiW6TbGUly8HYtSocYWcmD7nX+Lcyb2MmoWshxQOc/jwfnaukOJJMW08IncdHV106dKt0NpEl4yhQ51ZO+vWrUPnzt1LxHyevPYc65fNYJas0Lv3SyiAq7zXsrSQ5LFob1IXgwYNg729DQO1+ftfZd6UsuTePa7HpXPnLli7drOwyySwXFlgp549HDHAqVcR4n5a78gvqVh98BHSvj4D59YuBARcY8j14kJ72MqqBXMRP3jwrNy4vYNXInEz7As+PTmJHu31MW3ab2APWQgD7r5DXoEE6iulYJePYItilUwMXyXVCmC1AljpPfVvKYCU+3P16mVM+aObmrxOV9yPiC2CgOUfHFkHKLdjQ/1mEKvVGjpNLJmF4tq1K4UpiOjQpDJ0myeLovXQDSy+j0AVbRpzQRUk9OIEBQXCzc2NuV/yG/RjVkKvCZaoVSwH6ZMnj0BpsYjm4Pz5Kxi/cBeka5lgwXALvH1xr0j6I57Ss9R7H849yWQUMZSwvOyD8w6I/8/YaiDk6rVnwA9+qwLvubNn/bBk6QK0cN4MMXFJ7HCzFooGhwhM3bbdZfQREQGLMHfWDIwZM6JEZojZ228hLiUXue+O4eBuih0TTcI4PzFnySrUVpHHga3LQYhua+s2kJAQx61bD9kh67nzPn4kZuLFuTloYdYEPj57RWukEqVFVQgq0hRZFkiRqF2bu89ImRg/fiS+/0xi6dR0W/SE9ySrMik8dh70Q+hXVUjnJ8FnrlOZXeBazBfBrM9yiMuoMCBF00a/gRS8B6n9wePcoNN+PFoYqGOyk2DuTAqJICXQasgmZOZKsv3dqJSYWLpcfcutzzJ2EAiko5ApD4nj0tVzPho7LISasizWTLQsoYTQ/Nn3H416LYeivUkdjHQo321d2kSJut68zEPENKCjo8OQ6/zSrJkps8RduXYVXz5FsZ+KK2H0NwJL7Nvni44ui5EMjVKJ2wksQe5kWVk5ZoFSUVFh4Rmu2+7gx4fHOOA9jVlVyfoUEHCOIVYpzRq1x6M7OXjkLEya/I7NJO8Erd3UqTPg6TmryPvNU6SOnjqLlHhu6Iq2dn04OvYs4q48d8EfF14pQL2GLDrrpiA29hvWrfNi1tDyMgQRMIYuyTY2nbBx4/aKvD5lPsNvZWvTfxm2z+1XwoLO6G9+5WHmhhCk/XwPqe9XBZLaDxrUF69eRcDP7wL09ATHIXv43MPPpF94dXEpDvj6FAG50BpdjBBDSpYUpD+fgc/WrVU69vIqq1YAqxXA8vZIub//DQWQYpa8vVfi9etXaNy4CZo2NcHy5YtY30aMGIOm7QYweD8BNCj2r6ZiSZQr3dzIWka3cdvRO5GYnscsYbw4QTroNm1ayw5MnhByq65+K3jNGQ19vhedXpyCgl8wNzeHgoIihs3ehwevfpQ4sKlN4umi+L5Zs+aiXtPO2H/pDfsw0geyuGzevA6Emps0xRUP4/UZIpZ4uwgRW5q4uU3F9RtBsBrM/ejOGdIc+tpFg5bpOWqfMoK06L0EGVk5mNS7Gdq3Lp8o99m7OBDNS2ZCNDjX17K0UPr69UsogBtOPMGLj8mIe34UF46Jfovd5R+Bvd5TUENRGlcuXmExlkRu27p1W+zcyVX0iGaC8zkZr6+sgrqiGLMq/C0RVSEQpV/0Qd+3bzdu3Lj2j2KghwYNGrL0Xmlp6ZBVUgfEJDF31V70FGDRioqOwZIjkSAkp69H51IVfCIh7tnTHlmStaDXYQo01eTZO1BWHPig4SMgazwMNeXFsX5a2ZREvIwttRs1h1brMeydWja6Van1Ek/nlQfvWU5gooHhZV4ob87IRfgkOp/FsdpZ1MPAzqUTmvcZNAoqJkOgX1cBc4YJb+nmb1/U9eaFYZCSFxf3s9CVSheXVq3aYMqUmYxNwGPjeVw94Mma4rlJ+dslyilan3rNuqJWk57obKGNQZ1/KxjEmTd4cD9QbnJ+FyWhf49c45QguffzO84skI6OvZgFjojW6aJqbaqFubO5lihSrOkSSRdef//LaNBAs8T7TbQ0U1b54dUlLnqXCOtdXT2KLBk/GfSGya3Ru5c9fv78yVK+Ueo3QcJToK2srLFt267ytoJIv5OVLeJjAqPAMainwtISFhdab1kFWQycfxE5mcnobZKDvn25FtHShGeBXbduM2xtu5RZjgigPXzuIzsjEdlvDpaaPWTejhv4lgzUSLmDDSv/LhVMtQJYrQCK9DKVVvhvKICLF88DWfzEJKSgbd4PShoGSP3BQU15MVjb9cP9iO8gNM/UfiYw+4edvrS+8tzAdoOXID6vFgZ00mM8ZSSU5sfFpS/oI8kTQm5NHdypRCwR7wPRvbsjnj0Lw0TPLQiNkkDbpnUwxvG31YH6TH2nIOiTpwKw9GAY4lOyMNO5KH0Fr71bt4IxbdpEtG/fAarmoxlNQFluIHIP9unTHRq6ltCyGAJKn7Zk1G83Nf/4ExIS0KlTWxhaj0Zy/Dfm+l61qPxYvbXHw/AqKhExj45CVz0fu3bthbq6UokPxMngd7gcGoPPYX4sPojiyoQRUropeP3wid/B6xRATgnYSTHi/8jtOPeSBbJH3/dF8pcXzP0ibDvC9EVQGVEVAmHbo4tNu3bciwDRu1DgfmJiQuHj8kpqyEiNZ//dqJEu7O1/u+1Ka2PY/COQVNSEcxsldLUp+dHlWZjoIlAgW6tcCxwpNs/SGkNSWr5UAmGyrpDy6Ou7HZcvX4TNYC+k5CkJ5Pijd8J7214Y2roJTUxOio99107Q7TyXZUEpLcSDNx9jJkxEfsP+5SqtVbnevCw8FGunoqJaaGnjV/Jo7y5YthryMpJM8SXrNi/8g78vZPV9+T4Whp3di3gAKNsOpZCksIhGjXQYZQrxhpLitWB3KL7FZ8BtQFGAEI+Dj94nSmkWL2nE3LQE+pk6ZiBzY5I1i2L/5s9fzABopb3fl0KjsWnzJqgpiCHiYWCZ8W88MuiWah+wc9tapvzu3LmvXFR6ePgzZtXkv/AJ+w6VV+7ixYu4xFFkYIwu+ilw6cslsOcXer8TEr5h+ubHkJRRwIZJLVFDuWgIEX95H5+toP9RXCPFN5YlPMU8/sN99GlbpwSwhp5bc+gu3nzJQsHnq9i39c+nwis+7lq1qmlgyttD1b8LmIE/rQDS4U9xQ0ScOWDKRrz4nM968/VFADtYNJt2h7SkOEY6cHm1BAnPHaDewBT1LccXKk2EliM3Lf3epElTqNUzYYAEVWVZHN6+olSXAR2U+/Ydwvz5nrBo05F9dCjHKTHhU+A2udAITEJ1b97sg2TJhjh76wP0tAi92LzUQ5G4AglcQgf26LkHcTv8O4Z2MUDHUtDFRCp98dJFtB6wBtkFsgIBI7wUdNIapkj78RYKcpK4foVrcSpLeKz5Bbm/8OysB7xWeTO0dGkfiFvPvzLL5g/OTexZNanQjSnMi0NWia1HrxcGr5NbhdyJ9PHy8/NnwBmSo0EcBD3+zBKnvwk9W2aMjjBtilrmTymAvHhTuthYOYxBp86OEM9NRkF2Kn7+UkLww1cCwUrFx7Fw0yl8zlSDcu5HbJxfFMVJ8bIUYqBSvwUatBnJXHUrxrYRmMP6zp0QbDr9Gkq1DUrN3EHWFQI3nD9/BmpaRmjQfhp7B9ZOsmK0SaUJgauGDB/GAChk8d0wpfyMHZTNZr9fEHTajUUjTSUsGF62RWn+Ak98kbNlCtau2Z0EcnOWtQ9EXW+K3aN5IAv5yZPHCqvlxReTBW3J/keIeRMKzylD2TnF40Ys3gdCh3rM8YBp3/XMo7F1pjVyc3JYSkQCitSpo4l9+44UEq4/fB3LQAZkzV02pnWJ8RJXIK0jxcwq1rMEXdYojpTiSSmE5vjxI8yjQmnYpKQkS7zfxALg6fMA717ewzK3YRgz2J6B4C5dCkbt2kXP21WHn+Dt52RE3dqIhK8cHD58Ck2blowvLT5mXjo4shSSxbAqhUf+3LSRKlwH/CaoLq4IzZ49HVEFZlBQbcCs11q1SsZe8p4hnkxKLtCzZx8sXfo7/3rxfi/b/xAfv6fhXcg2nNi7pVSSfN8Lz3H/VTySI/1xet/fT3FZrQBW5W77H6zrTyuABJX38JgJaxs7ZGv3ZQHUbgNM4T51MHJy8+C+ZDdaGtcWmtzY09MVly9fgkV/b+RLyGNEJw1s8Z6Lt285aNKkGazt+uLhdw1ISIjBpkESBjlzE6oXPzBIEfryJY4FOhM/WbdxPohNyYebixnyUz9hwYI5ICudg0MPTJq5CJTlgm7r84eVHhvFq5+X2sl14Q7c5BSUmmXk+fMwlo1E27QHNIy7oUFtJSwYYVHmx44sbZMmjcaPuAQU5OWwpsjSJijX6LoTz5jrhBTtnO8PGX0Bca+VpgDykMIp315h4eh2MDEp/aAtPo+kmC7a+wgPbxxHK+Pa7CNG2RIuXDhbIuH6xQfR8Lv5HnLpr3HXfwuLFaKYob8hoioEwvaJlAVCatazGMiQq8UlNiKQAYXIpSqItJz33KOXUdgR8AGZiZ+wdXZ35tZjuUh//sDChZ5ISEpDq/5eyMqXZATENOeCJCMjDf0nLEHtxt3QtWVdONsWJekl5ChddAiF3HHYeiRny5abFpGQ8ywlXIdpkJBRxO5FziVAS/x94rqtu0Kt+RjIq2izGFceyXlpfSdKkbtf6zBKnA1TrFCjlHCQ8tZHlPVOT09jWXxq1KiBmzcfwO/cBTQ2b8/iFJ89vAljs/bwuRCB2IQMtCB2gt5NBVrE6J2gXMopqnYM7GKp+Q3XAk+Bw3nDrIv79x9BgwZccAudfwv3PGSp38paT55XgeITl68/hE2nX4KUoXrib7BixWJGy0Kkz1RnaePmKZh0xlAWEUqNSTHFZL0sbsEkIMrD1z/w/rYPbCz0sGTJyvKmmv3OCyEwNTUH5QmuKsn4lYM5ux6wGGZKgckPuuFvg8IviBRdv8MEKGmaYFpfE5jpq5fZDZ7CSufcwYPH2TtG7yehvnkSm5iBOTsfIOdXKhRi/eFTBmXMmZD3CLgfjW/h53DxyKZyraVVNTdUT7ULuNoFXOn99KcVQB6VwNjpy3GHkwWp1FdI+/q8MIF3eYpM8QHyLHPy2pYsnRQpLe9CtrLYQvcFG+F76QOysvMwqLM+OluURIHxXhyeIkQZOCgTh06LXqipbw9l/MTN49z4RENDY2zdcQDrTkUwAEO3NvXR3+b3IVHa5FNuV6rPwdEJP5XtGDKW8m7KSHEtKgRm8fBwQ3xaPhp39QTExFk8YVnpnXhtLFw4B/6BgYwgloTfula8H+SuIpcrcjPw7Nw8TJ86jSEJy/owJqZmMbBIVlocRnRQFpqjj6grtp55gfz4l9jrNZWNlacAT5vmylCOPCFL4Z7A19CQScTlA/NYMnXiQPsbIopCIEp/CJ1NwfXqOpYwbN0Hncy18DU+HUlp2UwZlk1/gwH/uKzKshjxt0fJ7sd6XUGBmDRUkoLgvXI5y74REnKDURa16j0XubLaaNKQwB9m5X5saNxTZy9EmooNVOXzsHaaHUpDV8rIKUNVtz0aGrfBZg+ncgFGRMuRlK/GlLQtqxeyFItlCSl0flefsAwUtVXlsGJMG7ZPyhLK333sdjyzWs4b1gK6dcuuu6w6RFlvsmiSpZ+Ul8FT1uDE9bf/0GcXrZ0s/+SiLcsyyl+a+BdnrvGDjLoxPtzxRcsdnhYAACAASURBVNLnMHZh27BhS6HyR+VPh7xn9EgUU0xjLS0TEQFjiIaGzg0Hx374TtlkkINHx6ez9adsF507c4mhi487Jzcf83c/YCAGnoLJU35IGT1//hILWyAlmDwSnERlRtGT8u4K9m9cwMiphRHiwnNy6s4u4EeOnBLmkXLLkCK99+Jr3H3xnYUFTetXOoiJgH9du9qweEWXKRvAiZPBQFt92LUs/eynhnlKP5FEk9JPlvDiFzSfM0/wkJOMH5wb8HIbwMZWmhBH4LHrb/E94jKObJ7DQD1/S6oVwGoFsNJ77U8rgBQTQ0S34+buweMPWehjrQNjjZxS42yEHQwRs+7euwex8laQkq2BmhKJaNbECPde/kBefgGjsBhkp1/mB5L/oCT6E0oZd+vufTTtsRxi4hJ45jeTuYGP+13CkeCviPqeyuJ56ANAPFyChKw1Xbp0YG7gnpN24k1McqF7l9yixGeYly8G015LISatjG6t66N/R8FKJbW3d+8uxq2n3dQeuQUSTLl1n1mSm4vcVYv2PmQxMx/v7YVkZgwDXJCloKwPIx22Y72CWL86N/yGwYOGlrsUlPpt4Z5Q9nEZ69iYcc3R+AioQ3Q2xG9GFiyeEHXOmmNhqFujAAE7J7OP1tq1m8ptpyoKiKIQiNIekeSG3H0ACSl5LPY+wGh/Kis7z4Uh9E0ivr+6jMxPdwpjCtv1dkOGrC7LB03p2UoDShVvm8YdfPMa9t3OhbiEFLbOsIaCHJe3b8uWDdizZyf7d9PuCyGtVKeQw7G8MZD77FrwLUhKK8Br82GW97Y0IeVq5NjxMLCbDUkZxXItM1QHUYp4HbgFtUaWQlk5S2tXlPUm0Bjlh7Xt2hepap2Zh6JJI1Ukp2XjR1IGc+Nam9RleYvLe/f5+0L0IGdux6CmWCzsTJTYfqcwGJ5ERCVgw4nn7J0kiiqKAS5LyEI1YsQglm+4ieMSyCjWwuuLizHfwx3du//O3FN83GduvUfAvWjo1FVmPKg8sBAvHy65bLt1c8SRIwdYHKGaTluW5s+soSymubQtbxsU/s4Dv9CFmayRFRF+KxydR6QYE7E8xVzS/BA7w+fPn1iMd8OGjVj8JJUjKzwZGYyNjTHBYysOXI5E5xZ0/gtG9xIlESmNN2/ex6hR3PPuzJkA9v+x8amMtYDUi0ZiT7FwTlHADP/4KH7d1/8Vfr67DW935yLp9yoyD6I8U60AViuAouyXUsv+aQWQSDdJKXJxPwTO51TMHmiO4IvcXIokwrjGyhrk66h4bD79EqSMkNANule7hujetqHA2KHiByVxlFGy9EshT/HzW3RhlhH5mpqood0cRqZWWDalB/v4CiMUj0j0MZPnbMX9j+LQ1VLG8I61GZl0dEwMZBTU2EFOlpwZzqZlooT52+Kh/Sy6z0C+kgGMlL9i9qQhRbrz4tVrZmVLyauJ5M9P8P7OniKuVkEfxmlrLyItVxbNakRh5kTB2UD4b+f8MZHkXiILDiHwFizgpurjSVxyJmbvuA91ZSlc3TUW9es3wIULV4SZzkqXEUUhEKYxnhWNKD/IMkfSoKEOunV1qHQmgM8/0zBr/XkkRj9C7JtrKMjn7m1CtKs3bMHyy3ayMhemm0y5UFaWgcOYDZCrZYRmGmkY69yJ7XUiH5eQloemoQ3yCsQwcvREOJdzESnMGnHmVGGWEVWNenB26lVk3LQ/iEpl6bJFqNV8FBTUGpRJ71R8IGRNmrxwO4sNFsSbKGgCRFlvRrG0ZD66uHgiDvVhY1YXw7pyXeU0jopm2vqRmAHPnQ9QQ0Ea6yZbFVo9SdH5npCBY3eTGecpzbkwFweaF7JUfS0wgIy6EZzaqMLRpmioxvv3b6GqqghVVU2EceKw5Uw4JMTFWNgKP68qEXqPHDmoMKMRjZVATPUNWzMENinAdNkVVoiZwcHBFpQ55PRpf2Efw7f4dFAGobRfOYh6eoFdanr0G8nQzuHv41nfp/Y1QTMdVaxatQwnTx5ldVMoC8UWJycnF3I3Ulo3PRNbltXIRLdkNqXinSK6MLKq8md2IiutnZ09Qj8WQFy1KUvnuWvZGMYUUZaQIr/u+DMkfX6OSb0bF1pjhZ6EShSsVgCrFcAi28fQ0JDybS0qKCiQEhMTOxwZGVkuLfufVAB5KEkyi7d0XscoDCiuJ/RecCF/njCuMUHvCCkWoa9i2UHd0kijBI9fac+W9YGgmJxF2wNxcS83awKhiNu1NGEAleKZFgT1iYcebthID406zcb3r58Q+/ICkmPfIS87nT2qrKaF/n16waGbQ5HYk7LqJbeFtXVrqGiboL7lWJYSich0eR8ocuNOcF+ElPQcqNYzw+tra9G/b1/MmfObmkDQh3HpjgC8jkmCusR3bFnuXubw2K07+B2uPPzErCOE6KTbOY/fTEZGFufOXWTB7vxC7s3xa2+y/kacc2dcgXfuPBJ4uFbibCzyqCgKgShtWttYISWJi/IV5JIXpU4qe/DyG9x89hXZqd/wMpD7Cpv3WgT3Efbs4yys8Ma9dscZhLyTYGnG3lxZyZRK+Zp1Yeo4D1m5YlDNfYc1c8cKdM3yt/ns2VNmkSJp028ZdszrV7gPyWXp5bUcJ/1OoV6LAVDXaYu66vKYN9SiTA5E/rqJF9TBeTRqN+kGEx01zBnbTdjhFpYTZb19fX2wbdtGdBiyDqm5cgJjzUTtCAFHiIeUP75v2WpvPHr9A+rG3dDORBMjuxmJpGQSWp/ev9IoeHx8tkBBQRbmVk7YcuYFyAVMND1UtrhQ3DMpVGS1b9GiFeNDTc3MhevWuwxgtGai8BZAcnmT14Poj86fvyzUNKVl5mCeLze+j+TVRe4+b+zApXlRkpdinoWmOmrgxUESLU/DhjosfIgIsknq1auP6dNdMXBgf7z9GMf6T1lsSOkWJF5eK3Ds2CEWGnPgwB5W9Pjxs/A5EYwUGSPkZqXB08UYjQ1Lpyvi1f3lZxoW7HnIMi3ZG+cWCXsRaiIqUahaAaxWAAu3j46OTm1JSclQKSmp5hEREcmGhoaX8/Pz17x9+1YgXPRPKoC89GgmJs0h1WQMpCUlsN3VWqQDrxLvR5mPCvpAbNu+Gd/jM5CRlQu1GnKYO+s387uwfSGLIoE86IapqGHAONvEJSSRmfy1EBV67Ph5GBsZClslK0exQC9evoD1sK1IywKmOjVjwc4vPsQzFO+9kwuQn5+DvOxMWFtZsvggfqoVQePeffwy/PyvQqogA/5HfUrtV3jEa5y7/RFRSbKQlhLHjH6mMPonGwK5QwnlWDz2j78iHqkqkaY+uBPE0NXW1mXz04k0OQIK81tGCgqqplai9bCy6QjVhq2hUVMObZtplkoLUpHW6MN98Mob+B3lcjLWVpVHMx01uJXi8hdUP2+9f/xIwcyN15CSJYnU76+hUkMRuXLcGClCtI5yMBbJvUmWKAL65CjqQ0pGEdu9F7E4NqIrWrDAE09ecKCooQ8pWWU0a+uE2YObl5vfmH8cfQcORrp4bYZIPr1njchTKIoCSO7Dk6dOornzJkhJSTA3eWnp20TuBIAHr75j14VXTCEZZm/IQFmbl3FpR8Z5bsfwroZCWf/52/4al475u0OZkkbE9fwWSorDy8jKg5b1bJYJhHKG9+1QNG2aoHHQ5W7yhlsshnq7W4fCuOXyxs6jqSKuwsDAoPKKs99P3XyHM1dCWUx4fPSTQoJtlVrasLDshBEDnQrTbM6YMRk3b17HokXL0adPPwZaiomJAl02KdsHxZTyYrpJAaTLMCUJIBaIsuTmzRugFJsErnFwcER8QgJuP34DrdZj2QWpv5UaHDqUTeLPq5cU2WmbbjOuQF2xJ0IDZ4SapHIKVSuA1Qpg4RYxNDQcUlBQ0JHD4TD+CENDw6EFBQUdOByOwOzcf1IB5MXXdLLviyQVW5YWqXgi76p4EUStQ9AHgt8iWRnrZFJSIlauXMoIgbX1msOwZU98jrzH6Ano8K6I65sHMGnffQzSlZqzD5VsfjzLSJIY87TQdU0WV2fnQSxdFD+yTdC4b4TcwtwFXGvhzaAgyEr/5gKkjCLBT79g89ZNLEaKAA+EhqS4SJ5QhgiiRRFEHcHjJTRV/YZ925dh4MAh8PCYL+ryCSxPfSULS2pmDnO9k2Kya+dWZhkZNmxsiRRZFW2crB59h02Avs1UdGlZD6p574tkhalovfzPBVwMhK2tPbOcVWQv8q93TGwavI+FgT5YJES91Lu9Duxb1RP5QkZ9oY/u2n2XIVdDC20s20JHNgY7fLZBqpYZNJt1x5srXkypvHD+otAIf97YZ3u4IuTeE9avkKDrJYAXpaE2+edNFAXQ3X0a7j5+BeOuc8ulqBF1TYk1YNOpcDwMe4mkT0+LvKOlZRIRpn5S0ub6hjJU8iwXM0jnJYCoZ4hSKiaamwuYwgXa29hh/LD+hTRMwtRNZXhUMMVJ6QXNOVF9WVu3YvRRV678JuIvq00aAxEsk0eIPAjZqd8FxoSTtZmszidOnCuSiYNXP/96bzv7kuVhLw8ln5qayujJ8vIB0/Z9kSWvj1/J31FT2xRObWujh43gzDm8tmks4/5JpVnA2cfoeP6WVCuA1QogvwLoUVBQoMDhcNhX3NDQ0LagoGAWh8PpKmhD/kkFkOLBKC6sh8tUfIFxmXlL/9YLU9qBUVUWIWHGUFnlkg7aLl2sWb7hUR6+ePI+kyEW6fb56ekpJH9+xrpRWpYC+ntpH0ZeXJe//7nCeJradRugT88eLJ4lLksJ5+9GsQ8OuWnkZCRw7mxgCXoOHvqX3ChGRr/TVPHPy7Ggt7j2+BO6NlfFytkuDDF3+fLNcvNxCjO3VIaUvzVHw1jWAJ6oKcsg7MISFr957iwFeZeNQBW2HSoXGfkGrisPoLaxnUDiZFHqrOqyxdc7OT0bTyN/MI49c311lnKsokKu3rETJyBHqycjmk7+GsEAVOlx74spOoLpivjb5+1FCuxPSOC61rW0G6KHo2ORGMPSUJv89YiiAJJyEZMoiYaWI9CumSZGdS9971Z0nig+mdy2778kQzInDnvXcnOHl/WOCtMOj6BYS12BxUk+fx+PqyGP8fIfN+q6bUdha1W+9aq0to5ff4urjz7BxVafXWx4ImjOCZhhadmcgb6IS7E84blNyXK+anwbRsr8+2wWK2FJd3FxYuk9KWaYYoeLC/96B4d9wcHLkcyyPb5nkxJliReRQH0ESjt/LRTZEjUZQIpEViwTU5wt0LiRYHql4pW6bbuDxNRsvLuyGMFBwSye8m9ItQJYVaf531itP9yGgYEBpYaQK6YAunE4HAdBTY8ePbrAy2sD4hMS8ex1NL78SGZB4dJS0tDWVIdBo7rQUJGrECHrzp3bQTQQzmMX4V1qbdhRaqRy0Fl/eJpY9fTiqKkpIT4+tcosQn+j39TG1q2b4Ou7gzUnKavMmO/zMhNg0qwZzM1bMJdvWdZFQeMmZPWAAVzORNMeC2HXvgVzWREXIlkvKMl6agI3lygFSxOptJ1d10ILI7mnw8Ofs/ya+vqlI/DuhHOpYKxNNXH3zGpmMSQrIPEZEjdi27btS73hCzu3Afc+4nTIR0ZnQ6g8CeQh8evrQsuookpdtGjTET0du8PG0qxSrr4HD+5h9YG7jJh5OmWwEcA7Jmz/q7rcn97nRJK+YtN+xIoZsSw/bG9oKqOdgQRmTBzI/puQlfxWaGHG6O9/HpQ6jmSU+1ZMH9q5yGN9+jiy/z7LFPqSIsq4e/d2QJZSM9RpbA8X29+ZhYTpp6hlSIniSUU8ALxnKVZ55aGnTJHhyfeIQOjWVYa5UW3kZOdWOByB4qmJmNrCqBYm9/lNfSJozikcwsLChHEp3roVWu608M6B9qaaLPygvIsx8UhGR0fh2rUQaGiUVM7415vQ2zO23GHhRmsmWUJZXppxxL7/moKoJDk8fxeHX9lcYBVJfl4OI9fv2aExhvSxEdklT3UsO/AYH76m4PWlFTiyb6fI+73cCSujAFfxrc4EUtH5+z/1XHGXL7mEAVhHRkb+JmMrZcQ6Rs0LDNr0g5iSDiSkSo+ZUFaQRgsjDThYNYJRA+GD0D09PXHo0CGMmrUZzz5JYpiDMfrbCobn/59alD8wGLL+LV++HMeOHWNUM/b29pg0aRKePXuGHj16sBb9/f0L/y1sF9atWwc/Pz8kZitCUb0RQ2GSNKijhEH2RlCRSkHnzrbsb8HBwTAwKLqO3bp1Q3h4OEJCQqCnVzqtzbvPSSxhO/HGjeqshp49e7J4Hp7QWPbu5eYOFlUIZOIy5ywycyXwLngD8tO/gUBIMooayEr7waojUI9cDS44RVZaAqb6teDQthHkkcCoa4qPSVAfzp07h83noqGg1hBb3TuigaayqF3+P1M+PjkTnJgk1FGTR0NNZaxfv75wbKTouLq6ijRWLy8v+Pjuh6pOO0hLSeD66S34HPMRZ8+dx5mz59m/SQiBbNbKhu313vZtWFlRpXnz5pDXdWSK/IJRrdGqSR1RqxC6PP97WZF3lL+h5LQsnLr+Fp9+pEJPuybEk19hsEvfCr//vLqp3mGLL7O5XDxUF1cuX2LnCYfDYUXoHaH5dnR0LHxfyA2qra3NeAMjIyNB3Hx3797F6dOnERYWhu/fv0NeXh4HDx6EiYkJdp4NR8Cdj5jgZILuAvJj8/pkYWGBb9++4fXr11BWLv898z78GLfCvqBxI1XoatfEwT3bmdJHZxopTbpaNdBMrxbM9Gvh/o0zCHv6GNu2bauwJ8Lr4CPcef6VEWgvdB0OFxcXofdEZQuKVRSmXtmG/yPPV40/5z8ymMp0w9jYWDMvL+9uQUFBa2Vl5aS0tDS6Hm+PjIw8L6heR9dzLCyektDjVxxkxDKB/Bx8/vwZKMhHLS1diCn+Nru3NNZg6c2EcR9R8G5w8HUMdfNBxJd8jO5uzJBv/7aIYiH4t/tale0LGjfdwsntRnQLhiZtMW76Eqb8NaitgJjoKBw9eoghduXk5Fj8V/EsAs7OvZlbNDDwGgvMLk3IRTt1420WZL5peju8ffOC8Rvevh3CitesqYKQEOLfEl3eRMXB61g4MpO+wLWvPszMmiMg4Dy8vVczxDGrX10L/UYvQEquEruxU4wWSWbUNZaxY7ab8IrKkSMHcYlTA1KySgzYRHF6/zX5t/Z5eRad8uaJnr94MQAxufrMQmPeqgMDhLyJSUJa4pdCIBW/Qk+/E+iBCIAp9lBYC3/r1uZo0G4yFNR1WC5ufrqU8vr5X/u9qtbb6+hTvIlOwlB7A3Rqro2w8AiMGMpVLsd6bIdJEyNGzkyGAZ60aNGUhaYQSOPu3duFNEH8czRlygyMHTsBKw9xU87NJ6JvrfKJvtu3b81Scj5+/KIIlyKv7uLjjk/5hRUHnzAwCAmFrtCeWOy9H60a12ZWwaoUIvQmvsXPYafRWLMAmzZtr8rqy6yr2gJY7QIusjn09fX7iomJURoL2uHnOByOZ3k7sbf72QJzHXkMsDODag25wuI8fizKM7llxyEQ4eWlB9GMYJhiN9xdzKBe83f54u0QzQDx4RFkf5DbPrz5komZzqYMzfhviygxQv92X6uy/fLGTRYze/sOSE9PR9eu3REX9xMvX4aDqDl4oqlZF5aW7bBgwZJiCERHttZEAE1lypJtZ17gCecnuwzUkU9nAey014iOgoSQfY0a6cDFZTB69XISGqCw8eBVhH+VBBJfYK/X9MLmAwIuIDv7F/z8juPVq1fs72PGTMCIURPxKDIOV0JjcPPoXGYZ2Ln3FEx0y04hxT8mcsU/TWsGCbF8+HoUdVFW5ZpVpq7y1rsydf/pZ8nFPs3NHYad3SElxwUb5edmI/rhYWSl/URudgbLYtFvuDtS8pSZckhCpMfT+jaDbkN1xMUJDvEghcXCoima9VoFKbka2DKjvcC0dn96zJWtv6rWm0I/KJUk8aqqKssg/I5fYdd4+duJo6+zhTb6tNdh1kIeUpdXkEihe/TozdI9hoU9YehwJ6f+WLhwGaZvvs3oX7bNFO7i1KqVCSjm9PHjl6VOUWnjJsaCQyfOIvxRCGK/RXP3RjnpMys6/+TSpqwl8R/u4svTk4wGiy7BBBSjM9TYuInQ55gofaiOAaxWAEXZL6WWzc7JLUhOyigRC8dD8MrLK+DevSfsWQoi9zn3EpGfkqBVS4Gxy/OjRXkNUExIy5a/UVRO0/cjKjaDIb7+CzfsqjooKz35f7kCYcZNuZvnzHFjBy4JxRQSwSu5m4nw9fv3b+zvHTt2xurV6wrdJr168eJ0bqFWLY0yR8bLTUpxpUPtDVmKvdv3QnHGdy63PRnF/8feVYBF1XTh9+4uqaBgYFAi7KKo2IHY3WJ3J4rY+dndYnfnb3ejWNgd3EWwOxEkl73/M3ddRFjYhoW98zw+n347c+bUnfvemTPnsDm4SKtRoxabVoHsDKbXyA3F6WtPg29bHBUKRWBgt3/rPxO5bW1zYPXqDZg/fxZ77EwuuJBksqfPnMSL8DCWPDkebt60KZvYWFnc2tSZs/CKXxk5TKVYNpwDgLp2ZXKsOH36JBw6chTWBdzZnUAm+j3y5ckDW1tbtnLFt29f2WlJScH6zbth08kQfPgWDWveD4zqUgH2hR3TjfGNiPiJGjW9UKbdMpibCbByWOanqNJGj6o836rSP3LlBY5cfcnuksd8fIAateqxZfke3bmEnIVKg5SbJFWXnAtYsWUJt25axcbpVahQiY1FTv78PHx4H926dUDOnFaYPTcAmy7HspeySIlMZY0cJ5cr58GOJXlDFbX05CZrQ5s2stAYbS7epMen+M1PzNlxFxbMT1zdM579MCGVlwgAJG3u3EVo0CDdUHxlakhT7nz5uBhAjZTHDZJpIOUtYPlNvBMnjoKU+CGNXO8nW/sk6N/BsQjr7CQAuVaZwuxLPGWTJwaV//8GAzayJcM0Le6ua1vpcqHUNW/6pKeq3OTix927d9gs+aRGKjn2/eMrIBVJpkwZz5ZRqlmzDhYtWsbGz5EScKROc2DgNfYFnVYjLxQSNE0S5Mrb+0d/g/nJzkL1qpVxZm8A+4In4HPdui3p0iTB9YcuiVHY0wfj2hWFm8u/NwWTy/3gwX34+vZh4wOHDh0Fb+9qaNNGVk6LHCkWdnDGjD6VFH7YJJdpxPgp+GFdHfmtgDmDauvTbBrTVtXeGk+g54EEBJIyksSvihUrztbmlt+wJMDg4MG9mD9/NluNhRwvdu7aBwt238fVMzvhWMAaaxeSw5C0o4QIXZ+27VCi+Qy2dvPMvpX1LJF+yeva3r9jE9hwDZLHMGWoGanisfLQY7z78hukGtDtgyT5BJVUTi25pMSOJBsE2enPZVcURWuNYHdqSYUSZY2EpdSuXZU9VSCnC4paenLr6uJNenxGRsfDf+kV5LQQIPbpJty88W8YS61adbB48Qploqr9O7cDyO0Aqu00KQeklQYm+ZcTif0i29rynZ0vP2PYZKSR399ikE8pVE2220foEwBBbteRZm5ugbLtlrBBuOtGa3bLSmshUxDQ9UKpa/70RU9Xcr958xq9enVmQSABUT169EbDhrXY3cFLl24qDdQmuehInU+SWqaArSV+vLmLqtXq4MHzbzh2/DhyO5ZF8yqFsG/dJPYIumzZ8li7dvM/Sa2T66hpswb4GhEPUW1/bJnSMpX6UspNbh+TGtXkpUaOs69ckcUgenj5wMyxHluaS1lZtAHDJyI+fy0UySfAxN7V9WUyrejqyt5aMaHnweSoePDg/khMlLAfCm7unmjUtCHIBvaK9XtQTpj2bjSJWe3lOxyieiNR3NkGIzuoVmJPzyJpTD6j7U2OWacv2YI39I2km/ZpHbMSELho0VwcvXAfLt79UF6YB76tPJXK+vTpY3Tq1IZdAzZu/FtCNPnA9OTWNh5VKYN/Ooxbe51dz2b0qQgm7id7MsLj8eHj0wjFi5fEqlWypO66bBwA5ACg1v6UFgCUfzmdP38GBAySouMzZ/7Nyk9e4CTBrn1+K6xfPPUfPkhZMJIWhDS7AoVQuOZ/bFHv5cMM40WZ0Qul1kbSEQFdyn337m306dONrct56NBJdOnSjo13CQ6+CwsLS405vkN/xqpDT8CAgW9zIaaM7gUCOAcO9EP//oOS6Mp3qskCT2IPSbOwyofundunqserSG6SnojUxE3eqtVqjJgCzcDnU5jv65VusHgPv//AK1wbns6W8O9gmDtHurS3xgbNgIHbtm3CwoVz2bySNja2IHVzSSNpfzq380mVEF3OEqnXPXzSfBStNgCVi9uhn4K8cRnAvs6myAx7v/kchXFLDiflIEzvmJXs2vYdPQ/IVwn5eO8xd/S/tcwVKSIw8ByGDx+MRo2aYvbsBQp1lRlyp2Rk04lnuPzwQ6qcoK1ayVIWkXRIum4cAOQAoNY+lRYAlH85kS14srtDAqZJvVOSwZ40su1dv1EDNhHxyWOn/sn2T26BDRrUl+3n5l4KVqUHIF9uUrpI9fqSWguWDgFDWDD0KV9atHUtNznWIcm+mzf3Yet1/vz5EzdvPmRBoTbt9M3X2BP4nC2B1skrJ3p0b88eM585c4l9ySdvyXeqa7QcgoApvqmmViR3TEwMSOmsDx/eJ/UnsTsdhq3Fbfobmld1ZitlpNU6+k6ChWNN1Chpi+5NSmsjrt7G6treemNUS8IEWHTs2BpicQj7kbBmjey4jRzpj+heD+XdFe8CBgUFYlrAdjhV7MJeaOhUN2unqMosew8eMxXP30awceEV3O3SzUG47tAdBIdE4P29vdiydArs7NJPukySgs+aNRXduvXC8OGyGu0pW2bJnZwPkl8wYN9DtspTdZEAly6ew50bF/Dt0xu2mz4uoHAAkAOAWi6dqWMAFRFcunQhNm5cBx+ftujSpTt7czP5zkv+go5o1aJ50s7LqVPHMXasuQWdfAAAIABJREFUrIZuqfI1IHBtzwYLT+pRQWt+dUHAEBYMXcihLg1dy012/Bo3rgOSg08ikZUYu3v3KQvWtGmE3sxtt/HiQyQ61nXDjuVj2FJQiqqMkJ3qYxfuINHEFg62FNYtW6jyC0L+ckk+YPDIGbj21pa9/ThvoFeaCdDbDpwGKydv+FR1QLNq6ReM10YX2ozVtb214UXfY69cuYTBg/shV67cJK4ZCTwrtqxX3aZdMCKNo93jx49i6fZzKOzZAj7VXdDMy1nfbOqVfmbZ+8ixYzgptkJ8fCKauEehVUtZTK2itubIE5Bk0yRnnk+9ihg6dGS6OpHv1BPwR0CgopZZcifnRVFsc/La7/q4gMIBQA4Aar2gqFIKjqToaNSoNnuz6dy5yyA3g5PvvNTvPhfzhrVI4iX5i7VC9WZILNQIHkVsMaK9YeyUGMKCobXhNCCgD7knTx6Pw4cPsNwQ4EcAoC4aKdU0b9c9Foj9frwZwdcus3U2SX6/5I18iOy+9AHI6QR3Cxqj/QeqDADJLmCVKrK4L3J0+OPHd5a+g7c/3n39jfFdyrFJqxW1VgNnIbdTZfRtWgxVSmR+bktDfTHqwhdUoUFAX+vWJBWR7PiXVCZxrdIdVvZlMX+gF/LkSp3kfs+endh66gnsRHXQvaEINUoXVmUqg+2jj+dbVWG3nqZx8d47FkQTMJ1Wm0dyDL7+iZAzc2HGROLMmYswMUn7xIDcBN+//3+YOXM+mjSR3eZN2TJT7uS8kFOxw1desPkH7WwscefiHkTHSVDANgfrfylzp6qq27T6cQCQA4Da+lCqW8BpEfTz688m7J0yZSZatmwNsvNCFl1S5zIhkcGOlTNhay1bZNevX43ly5ewf6/aoBNibLxRsVh+DGhRQmt+dUHAUBYMXciiDg19yP3s2RP2+I00ExMT3Lr1SB2W0uxLfGvmtjtswmbLiJu4cnIzm0OM5BJL2XpM3gueRR4MblIYZUumvpWentxjxw7HqVMnMGvWfMyZM4NNODt67l6cu/cFdcspLl1Ijhzb+i9ld5hGdCgND2fVq+PoRDkqEtGHvVWcOlO67d69nbWhvFVtNQ4xpg5p1momSciP3PwOW+eKGNyqJJsMPCu3zLQ3udU/dfMtNhRoga9Xmnnvxq+9jo/fo4Hw3bh78xIWLAhgUzKl1YYO9cXFi4FYs2YTKlWqorBbZsqdnr/o+wIKBwA5AKj1eqXKDiCZRH6sS3KzBQSsSqrfuP7YUxw/cQLD+ndCdU9ZAuDFi+djy5YN7N9rNOuHyByl00wZo7UAGhAw1AVDA1HUGqIPuQlQa9myEZsDjLT790PU4im9zlcfyWoHm0k+I3jfFDaXFsmplbyR+XvNOg3wBJjerRjsC6fexUlPbgLmyE3jkiU92VQVhw7tx8Chk3DjYwH2hvKsfqkveBCQ2GfaXuRkq0dUhEP+nDqTWZeE9GFvXfKna1okbVCdOt5JZPMXKQ/7Sr3SvOFLQlsuhZnBumBxjOtSFm72soTTWbVltr0nrLvO5mGc2L08iqRRGtF3URCbWqah61fMnDEp3csdxA7kchl5PkmNcVdXxTGamS13ZvkLBwCNGAC6ubn15PF4pNZvT7kDikSiWQzDsFlwGYYZFRoaqvTqkaoAMDIyErVqeYHP5+HixetJueHkL2mvEgXQp2lxlpWpU0nOp73s3+u2GYbvAjc09XJCq+qyCySZ3Yx5wcib10pphQR17bNs2WJs2LBG5wAwNl6CYcuuIi5egrv/80P+fPlw5owsZYu8kZQyQwIuIz76B5YPr60wabSq9iY7DWTHoap3DZiIuuLX73gsHFT1nwtOZF6SP27Uyiswt8pvMLktFdlMVbnVtbch9/f2Ls/meCSNHAOXbx/A5qcjSYdTluubOXMqHkU4wdLWkQX6BPBn5ZbZ9t53MQwnrr9CUy9ntFJwDEyA38BFQbC2NMHEzsVQt241trzkhQtX0zwGJqFH5KLWhQvBqS6AyW2V2XJnls9wANAIAaCbm5sZRVHTAAykKGofTdNsZKxIJCJBeL40TTf08PCwk0gkVxMSEsqGh4dHpOegqgJAQmPAgF4gebeWLFnJlvgh7fPPGIxdHczefiJB86SNHOmPc+dOs3+v33E8vjL2aF/bFQ0qOmbWs/LPvMa8YOgDAD569BBdu7bTOQAkqV7mLN/GVh+I/SWrQJLyNt2LD7/YxNKRn0OxbVZ3Nk41ZVPV3uQjp0aNSiyNrqO34FbIF/RpWgxeKWL8QkKeYfb/wsE3tcDaUTUh4Gt36UVfD4Wqcutr/sygO3Xqf2zCYXmr2XkefiXmxPD2nihR5N8ylOPHj8JrQWWYWtpk+TJwLOClAH0836raMexdBBu2QXbEyc54yvbpRzTGrbme9HuPHp3Yy11pHe+S3f1KlTzZqkQku0Bal8syW25V9aPrfhwANEIAKBKJGjIMUxPAC4qiKskBoFAoXE9RVBBN09uIo/3590WaphVnz/zjjeoAQHm+rU6dumH0aFnpLvKQjlx5jQ18JbEfJA6QJNklGfxJa9B1Gr4k5EWvxsXgXcowguWNecHQxwtCXraLZOvv2zf1JQxtFj5SOm7x1rN4dlIW25XyNh0pSbXq0GN8e3Edh1aPUxh7pI69Sf5Kksdy5PRNCHwSw/os8d3k7cbNG1gT+BuQxmPj+IbaiKfXserIrVdGMpA42f0jaUPc3d2waNEieNbuBX7+8govJ/gNGYBIOx8IBCZYN7qWXuq1ZqDomQ4Aye19v4DLiI2TIMC/GlvuLXmjX//A3J33UMLFFsPblca6dauwYkUAW5ubVHJJ2X79+oXq1Ssif367VDv/yfsao5/LAT9XCi4jnzADmksoFHanKKpGMgB4kqKo+TRNs/VyRCLRdAC/aZqekx7b6gBAecA/Kcm0Z8/BJLLkBUxexL4tS7A5tzp1ao2nT5/IAGD3ufgSZwW/1iVRxs0wgqyNecHQBwDU52MRHZuA1r3HQCpNRCGL76hUsdI/t+lOXH+JfRfD8SXkDI5uVuzq6th76dJFIJcDeg0Yjfs/nWGfLyem9f53N+Pk2UDsvQPwpNFYP16W6NUQmzpyGyL/mvJE5La2NiMfwciRzxUu1f3g7pgbozv9e4O8V5+egGtX5DDnYdlQ8k2dtZsh2Dtg7wM8CPsGv1YlUSbFpRp5HXD5R9W9e3fQs2dn9uY9ueGfspF6zz4+jVG8uAd27tyfpnEMQe7M8BxuBzAb7wC6u7u3YRhmMdlk++NcFMMwr8VicVXy75QAUCQSkTPXuSkAYCRN03/LdyjwUgIAv32LTLdounwYCZivUaMyG2Nz4sQ5XL8ejAYNGuLiw6/sS5ikAGhVwwVNmtTD27eyBJgdRmyB+N1vNsha6GAYQdbkwcmTxwqqyp0ZD7c+5syqcvccuRDIUwZ4ewodW9RG/fp/d902HHuMK48+48uj/Ti2U3G9TXXkJnGA/v6+qFmrDmLt20IiYbBqRHWYmvCTTLJj71Gce56DTWOxevzf9Ef6sJk2NNWRW5t5DG2sXO6GDRvj8dOnKNcugD2mXzmiOvjJclS279Idlh7dYZfbFHMG/r08YmjyqMqPIdj75I3X+F/gc9Sv4MDm8EzeSIL33eefs/HgrWsURXx8PKpVqwiJJBGXL9+ApeW/MZikZGOfPt1RrVoNLF8uizFW1AxBblVtpMt+MuBrnXaxa11OZqC0jFZ4BTuAG3g8XmBISMiOPwBxPcMwgaGhoak/rZIZkwBAdWzbrVs3nD9/HoUKFcL79+/RqFEjDBgxE1PXX0fF4gUwsXcleHh4sFUhxGIxJq+/A7L1v2JULbZAO9c4DairgW0nnuB/55/j07NTOL9nHqysrJJIjFh8FuK30Uh8dQQn9slunmvTPn36hLJly6JAgQKo02MJnr38jvlDqsHd6W+ql3nLtuLyy1zIbRKFbXM6azMdN1aPGpg0aRI2bNiAWj2WIiJWgOUja8Ep2e1U77qtYOPZHcWdc2OuXw09cmI8pMWvf2BEwCW4OeTGoqH/6nTT0Sc4cPE5BviURBNvWa7Adu3a4erVq9izZw+8vf8F4YcPH4avry86dOiAhQtTJ3g3Hq2mLSlFCpobcTNa4RUAwFYA+onF4iYuLi55BQJBcGJiYuWwsLDP6fmHOjuAhM66dX9z/MnpBl19wN7WJEl75w+sgnLlSrDlwG7cuM9eEPn0IwaL/aoid04zg3BVY/5izIo7nyQpNIkdIhc9BjV3Ra1adZL8yH/xefyKpZD313nMnz1ToX+pa+/69WuCJD8fPG03rj39zuaRI6XC5I1cTKEjCyOfeeQ/CdANwrmTMaGu3IbGv6b8yOXeunUnxo0bhaqtxiPG1J5N2u1V8m8ccoPW3VGofHdUcM8LX59Smk5nMOMMwd4JEilIqhdyOEd2zpNfkFp75AmCn3xicy6WE8nCgUgGgfXr18DffwR69ZKVD5W3HTu2Yt68WejTpz/8/IalqWdDkDsznIDbAczGR8DKHColACT9RSIReQOSMylyLXEqTdN7lNFRJwaQ0Lp27TJ8ff99UO/de4ahy64gMjoBs/uURYO6lZEvX36cPXuJTdFBUnWsGVkDJoK/x2jK+NLn78YcM5LVYgCJH8QnJGLgwotITJSgKG5i4oSJrHuQ8kt9555nS9GVz/UMgwYNSRMAqiP3iBF+OH/+LAaNW47gFzxU9yyIHo3+XgSZOH8D3iUWgZN1NCb7cjGA+nxWNaEtf77v3HmE5s0bwr1KG1g61WaPJTvUkR1LkoOP+m36wKFCZ9QpZ8+C/KzeDGVdIwmhSWLoKT0rwNHu7279/F338OzVD0zoWg5FC8sq7AQGnsPw4YPZv6e8DSwvQTpmzAR07Ng1XQCozvOd1e0s55+LATRiAKgrJ1YXAP78+QM1a/6bkf3GjQdYeuAp+3D3beiIgT2asuk69u0/ir7zLsBEwMPqEYYTZG0oC6WubKgqnaws9+T1V/HmaxwiHu/E/u3rWZHJzfMRK64iNvIzOntZokkTxTVI1ZWbXAIhl0E69BgKcayQLQdHysLJ24gZa/FD4IridgkY2TPtKgaq2kVf/dSVW198ZDRdudyfPv2El1c5mOZyhGutof9cBImJiUbLXmNR2LMlWlYrguZVi2Q0mzqfz1DsveVUCILuv0ePRu5JxQGIsPJE0clL833+/An168uOis3NLXD9+r0kvUycOBZHjx7C3LmL0aBBIw4AptAABwA5AKj1IqIuACQTNm3695IH+ffu3Qdw6zUfF+6+Q6OyuTFzdCd4epbBqjVbMXjJZTaRLkmoayjNUBbKjNZHVpb7QFAYjgW/wvtHR7FpwSiQlDPytBIRH55gSp8aKFlS8TGeunKTFEYklVGlKtWR4NQBOcwFbCJhebiN7+Q1iLVwQ6UiFPq3r5XRZlR5PnXlVpmwgXdMLnfHjm0QIn6O0m0W/WPHL18+o8eoJbBzr4tuDUWomcXrABOTGIq9L95/h62naNQsUxjdGvwtzTh48SW2Nm7K3JmlS7sneVTySkIDB/ZGcPBVbNy4HWXLlucAIAcAU/mA0cYA6moN1gQAjhkzHKdPn0hiYcaMuTCzK4td50NRxskEG+b2hbd3DUyesQRjVgcrTKWhK/41oWMoC6UmvGszJivL/fjFNyza8wC/Pj5Dl5oF2HrUVx5+wMYTz/Al9BJ2LB4Ga2vZsVLKpq7cpNRb9eqVkDt3bpRru5DdaVzi5w3rHLKi9X0mrIHUyg31S1qiQ5PUpeK0sZEux6orty7nzkxayeWeNGk8Dh8+AO+uyxGdwEuq7EJSjAyduwd5nCthkM/fmLTM5FvbuQ3F3i8//sK0zbdRpKAVJnavwIpFwjgGLAxicwOSj6nkbdOm9QgIWMDmY7x580FSwue2bZsjNFSMI0dOw9HRiQOAHADkAKC2i0TK8ZoAQFLnl9T7lbd+/Xzh3aAzlux9AAcbBodXDWJrPPb3n8QuBIpycOlaDnXoGcpCqQ7PuuibleWOiZNg0OIgJCbEoWD0BcyZPR+7zz7FmTsf8Y0+icOb/vqjtgCQjG/SpC5b8q3dsM14FPIcfZoURx1vWR65HuPXg2ftgvbeedHA23AvD2Rle2vj78nl3rp1MxYunIManWYjUpoLI9qXhkcRWzbZ99T1l7NNHWCiL0Oxt/wiCNkxXzlcdhFEXjHKPl8OTOtdKZV5ST3xly9f4Nixs7C3d2B/r1WrCn78+IHg4LuwsEi7TJ+hyK2Nz2oyljsC5o6ANfGbf8ZoAgBv3bqOvn17JNEhYG/o6GlsmR8rs0QEbfFD+/ad0LzDYCzccx9lhfnYm1+G0ox5wcjKwdIT113Du2+x+HBjNU4c2IM5Wy4h9GMi+J+CsG7xVJ3uEMjLGXb0X4EL547D0zUf5k4dx87RdfxmmFg7wrepM8qXkKWzMMTG+XkkgoOvsSUsKzb2g8S6GDrUdkX9io7s0WLAwVC2DvDsfpVhl8XrABsSACS8TNl0E68/RWFar4qwz58T4jc/MWfHXRZ8ExCeso0ePQxnzpzEokXLULt2PSQkxKNChVLIkSMHrl69k+7jZcx+zlUCMcSVNwvxpAkAlJfokYtZsqQnNm/ZhQELgsBIpbi9ZzD69O6PinU6YvXhJ6hWqiB6piinlZkqMuYFIysDwF3nQnH29hu8vbsPK2cNxYojYYiIN0NRwWNMGKn4BrCmL8YNG9awKSpa9piAUwc2IoeFAOdPn2XdtsuEnTC1KoBJXUvBuXDezHRl7sWoQAPJn++vX7+iTh1vOJeqB9viPkml/c6ePYUtl3+zdYCXD60GS/N/y5YZrFHTYcyQ1rWNx5/hyqMP6N2kGKqWLMhWiiIVo6qWLIDeTYqnkoKkF1uxYglb5Yf8+fjxAxo2rAUnJ2ccPnyK8/M0/JwDgFnxSTUgnjUBgIT95IG7NjY2uHAhGOPXXsfH79F4fPQ/DOrXG44lG2DbGTEaVnJEu1quBiO1IS2UGamUrC73HfozVhx8jJ9v7qNlJVsEvS0AhmeK5sWj0LK54hvAmgLA/fv3YPr0yTAxs0RCXDRrJnKznVQhOU8LYGUnxFJ/b+S0kMUFGmLL6vbWVKcp5a5VywuxyIFiDcbBpZA1/utWHgcO7MORZ9bg8XnYMKZOlq8DrKmfa6pjZePO3X6DnedCk1LvnL31ho0Rb1JFVgUkZQsKklXgqVOnHhYuXIZHjx6ia9d2KFeuAjZsYMvbp9mM2c85AKjME7nf09WApgCQBFZfv36NzQsYERGBK1duY+OpcNx//hWhF5ZiWP/OMClQAQcvhaM1KQ9XxdlgLGHMC0ZW3gGM+B2PYcuuICE2Enh9BCbCzoiL+oJFfjVhZ2en0xfE9+/fULt2VfBNLJCYEMPS3r//GBwcHNFv/gVQFA8bx9U1aODA+bmsxGW/fj1w684dlGkbADNTPlYOq45NW7fiygcHmFAJWDPGcFP5qLNoGpK95Ue+8vjvvRef4+T112y+RZJ3MWV7//4dGjeuAwcHJxw9ehqkJOPQob4g5fzmzFnEAUAFGuBiALkYQHXWB4V9NQWAcmLdurXHw4cPsHv3Qdx/J8CZW2/w5s4ejOnfCl8pF/bfhpZmwZAWSq0NqAaB7CD3uDWyyjLvHhxGYc8WSPguxrZ5A/TygmjQQFYRJL97PfD4Jmjq5Yy27Tph3IaHSIz/jS2Tmqmh/Yzvmh3srYnWUso9d+5M7Nq1Dd5dlyI6QYB5A6tg27ateBTlhpwmcVg6Iu0cc5rMn1ljDMnesktbl2BpJsCyodUwd8MpPAj7jpE96idVAUmuJ5KYm9QFjoqKxNWrt3Hy5DHMmDEFXbp0x8iRstjbtJohyZ2RtucAIAcAtfY3bQHg+PGjcOLEUSxYEAB+nhLYdprGZzoQEwc0weOvuXD10Uf4tiyB8u75teZVVwSMecHIyjuAxP7bztBsvkl5K2L9ExN9SRVE3b8gyA4E2YkQ1hmBnPmKoq5LBEqWKoXFh15BGvsdm6e00ZVL6oUO5+eyHcADB/Zi2rSJqNZ+On5TeeDfphQOHdiFV1IP5LWMx7whDfWi/4wmamj2HrsmGJ9/xGDegCrwGzsNP6PisW7RVPZSiKLWp0833L59E5s27WAv6axduxJDh45Cjx699fJ8Z7R9dD0fBwCNEAC6u7s7S6XS9RRF5WUYRsLj8UaFhIRcIM4lEolmMQzjQ/7OMMyo0NDQY8qcTlsAuHLlUvZB9fcfiUq1WmHB7vuIeP8Y0wfUxrmnUvZIeGSH0ijubKuMlQz73dAWyowSPDvI/fxtBGZt/3srcHyXMnC1t9HLC2L16uUgfxwrdkFeFy/0bVYcMREfsf3SdyD6AzZO65xRptNonuxgb00ETyn3w4f30a1bB5St1w/IUxptahbFxTMH8dW0FJxsEjG5fz1NpjG4MYZm75WHHuN2yGc2z6Jfv3aQMkDQ+XMwM1FcEpSk69m2bTNGjRqPx48fsruACxcuRZ069fXyfBucAdVkiAOARggARSLRMYqidoWEhOwQiUQkhfpFmqYLikQiUgN4IE3TDT08POwkEsnVhISEsuHh4RHp+ZW2AJCU6iEle1q3bgffIeMxatU1xP76hLkDq2JH0BeI30Zgco8KcCrwtyakmn6u8+6GtlDqXMA0CGYHuclREUknEfo2Aq6Fc2Fcl7JK4/A0lVue7ii/e13Yl26F+uUKgJfwHacexkMQ/Qprp/XMKNNpNI+mcms0mQENSin3799RqFq1PAqJqqFAmY6o4lEAD26cRnROT5S052FYF8MpU6mNGg3N3hv3B2HvwSOI//wQ3z6/YUWTX6SqV68hihb992Lg8eNHMWHCKDRt2gLh4WF4+vQx9u07AlfX9Os0G5rc2thQnbEcADROANg+Li7u8MuXL2MB8IRC4Vcej+cklUoXUxQVRNM0e2VKKBSSXUICDrfrEwDeu3cXPXt2QqVKVbBq9Ub0nnUGoHgY3MAGm86+QjRssMDXC7bW5ur4tl77GvOCkdWPgIljkPiiJy++s7vKluYCpb6iqb0TEhJQoUJJ5CpUEkWrD4SwoClymcbi1iseLOPCsXxyH6VzZ2YHTeXOTJ51MbciuckFg++/pSjeaCIc8ufAW/EtMLmLo3aJHOjSNHViYl3wkdE0DM3eIa9+YN6ue4iJeI9nJ2ew6iAXqVICP7meSHUWH5/GKFrUDZ8+fcDv378RHHwP5ubpvzsMTe6MsjsHAI0QACZ3LpFINJZhmLpisbiuUCg8SVHUfJqmA0kfkUg0HcBvmqbn6BMAfv36BXXrVkOhQoVx/Pg5dJ6wE+bWBVHM5B6CHn6AXbHGWDu6Jvg8XkY9F0rnMeYFIzsAQKUGTtFBG3vv3r0Di5evhkfTqchlLoVdzniIv5ojrzQc88ZzAFBdW2REf0X29vcfiEuXL7E3gaWJEkR+opGrcEl0qVkQtSsXywi29D6HNn6uD+ZIRRC/gEt4efcIS57s2JdwycPm+VPUEhMTUaNGJURFRbE/k3rfJ0+yr7N0m6HJrYxfXf3OAcBsDADd3d3bMAyzmITz/XEYimGY12KxuOofgDeGlCXl8XjVnz179kEkEp0GMDcFAIykaXqeMgD47ZssWFqTRo7kqlQph7i4WAQGXkWv/zYht31pfLgyDz9+xaFK2+lYMsRbE9J6G0MenDx5rKCN3HpjTo+EObk18/PVq1ci+Ksr+Hwe7Cxj8DE6B5zNXmLy8F56tJb2pDl7/7X35s2y8pXFGv0Hi1yFIJXEgycwxYROxeHqVEB7ZRsABUO097L9j3D+3GnYOJbF8Pae+PD8FptLM602apSsIghppCLI4sXLlGrWEOVWyrQOOsiArzWlA1JZloRRCi8UCldSFFVZIpE0DAsL+0ysJxQKN/B4vEASG/jn3+sZhgkMDQ3dqQwAamv9unXr4tmzZ5g1axZmB2xFQkwEYn99YMla5ymMvj06oGnTpoRHbafixnMayHANHDx4ECuOf2SBgzk/HrGJpvBy+IZxQw0bAGa4ogx4wnv37rFrUBGv3rBxLMdyyjBS7JvdBOZmhpvM24BVqhJrrz78wrQN11HUPjfGdKsAPi/9V/aRI0cwcOBAlvaiRYvQvn17leYx1k4UKbhsxM3ohBcKhVMpiqppbm7e+MGDB7/lthcKhSQXRj+xWNzExcUlr0AgCE5MTKwsB4hp+Qi5BKLtTtjQoYNw4cJ59O7dD4cuPEF+Ua2kmA+f/oswxbexQbmoMX8xcjuf6rsiyXM5afVZ2DiUTRrctHg0Wrdoqj6xDBzB+fnfHUCJRIL69WtCkK8MbIuQmD+KDUvZMatjBlpEv1MZqr3JKZGqOEUqlWLFigDweHz07+8LgUC1GF9jXde4HUD9PlMGRd3T0zNHbGzsVwAkEdovdhVjM74wzcRi8TuSBgYAqYlFAu6m0jS9R5kA2t4CJvTl1/dJ2Z6Q199hlV+UNG2RgtZYtWCKMjYy9HdjjhnhYgDVd7UfP36g/cCJ7E1g0khlkIH1bFC5spf6xDJwBOfn/x753717G75DRyK3g+zmeC5bO+xeOjoDLaLfqTh7axbioV+r6I86FwOYjWMA9ec2/1LWBQDcs2cnZs+eBh656EEJ4FSpa9IxizDnW4wd3C2jxFFpHm6hNL6FUhvgS3Yw6jRuBucaw1n/+vXxGeYMrqc0PYVKzqjHTpyfp/ZzslbNW7QQPL4phG5C7NiyRY8WyFjSnL2Nb13jagFn7DOW7WbTBQAkX9a9enVJ0k31rksQlSCLqyFZ9z1d8xqU3riF0vgWSm0AIHHeDh1agXFoihx5nPHi2gbs37wMtraGk9xc0QPG+flfPw8Le46zZ09h//7/4csXNmwaFhaW6N69FxTlpDOoBUtFZjh7G9+6xgFAFR8OrptiDegCAEZH/2YTrZKdEtK6j1iNR++k7N+XD60GS3O5BqTYAAAgAElEQVQTg1I/t1Aa30KpLQAcOdIf5y8EwtTSFpLor7h165Fsx9uAG+fnqf1848a1WLp0EWs1b+/qWL58rQFbUD3WOHsb37rGAUD1nhGudwoN6AIAEpIkgSdJ5EnagUNncfFJFNydcsOrREGD0zm3UBrfQqktAAwIWIhNm9axvpwvXz6cPXvZ4Pw6JUOcn6f2cwLkz50jGbMAT88y2LJll8HbUVUGOXsb37rGAUBVnw6un0IN6AoALlmyAJs3r4erqxv27Ttq0NrmFkrjWyi1BYAHDuzFtGkTWb8ml502bGAL7hh04/w8tZ+TXIBbtmxg7da8uQ+mTZtt0DZUhznO3sa3rnEAUJ0nhOubSgO6AoBxcXE4fvwIKlasDHt7B4PWNLdQGt9CqS0AfPz4Ebp0acv6dYcOnTF2rAwMGnLj/Dy1n1+9ehmDBvVlzbZo0XLUrl3XkE2oFm+cvY1vXeMAoFqPCNc5pQZ0BQCzkma5hdL4FkptASDJT9a1a3vQdAg2b96JEiVKGrzLc36e2s9v3ryOfv16sLY7evQMHBwcDd6OqjLI2dv41jUOAKr6dHD9FGqAA4DG4xjcC0K7F0RCQjwiIiKQN2++LOE0nL1T2/vRo4fo2rUda7+7d58a/EUedRyNs7d2z7c6ujaEvlweQC4PoNZ+yAFArVWYZQhwLwjje0Fou/OZZZw7GaPp+TnJVLBr1zZUqFAJbm5/E9ZnRTlT8sw938b3fHM7gNnhyVVDBqFQ6ElR1GqSxopUcZNKpT2eP3/+hpAglUAYhvEhf2cYZlRoaOgxZaQ5AKhMQ9nnd+4FYXwvCA4AZp/nV5kk3PNtfM83BwCVPRXZ7HehUHiToqhxNE2fFwqF/QFUE4vFXUQiUUsAA2mabujh4WEnkUiuJiQklA0PD49ITwUcAMxmDpKOONwLwvheEBwA5J7v7K4BY17XOACY3b07tXwk+yzJsswTiUQzAFjRNO0nFArXUxQVRNM0m5/iz78v0jS9nQOA/2rAmBcMDhAYz4LB+TkH+I3B243ZzzkAaAwenkLGYsWK5UlMTHwEwJyiqJo0TT8UCoUnKYqaT9N04J/j4OkAftM0PYcDgBwAJBow5oWSA77Gs1Byfs4BX2Pwdu4SSDa+BOLu7t6GYZjFJJzvjzNTDMO8FovFVeXOLRKJGgFYTdO0s0gkOgVgbgoAGEnT9DxlAPDbN+NbMPLksQIntzEskzLgy9nbOGwt/9Dh7M3ZO7trQPahY01ldznTk8/ohBeJRG1pmt6bDAR+EggExRISEubzeLzAkJCQHfIjYIZhAkNDQ3cas4NwsnMa4DTAaYDTAKcBTgPZTwNGBwCFQuEjiqJG0TR9SigU1qUoaglN0yWEQmErAP3EYnETFxeXvAKBIDgxMbFyWFjY5+xndk4iTgOcBjgNcBrgNMBpwJg1YHQAsFixYiUSExPXUBRF0sD84PF4viEhITRxApFINBNAC3JBBMBUmqb3GLNzcLJzGuA0wGmA0wCnAU4D2VMDRgcAs6cZOak4DXAa4DTAaYDTAKcBTgOqa4ADgKrriuvJaYDTAKcBTgOcBjgNcBrIFhrgAGC2MCMnBKcBTgOcBjgNcBrgNMBpQHUNcABQdV1xPTkNcBrgNMBpgNMApwFOA9lCAxwAzBZm5ITgNMBpgNMApwFOA5wGOA2orgEOAKquq396knyCACYzDGNCUdR2mqZJ5ZBs30Qi0XCGYXr+SbB9q1ChQv0vXrwoyfaC/xFQJBLNB5CHpulexiCzm5tbM4qiJlMUZckwzBmxWDzUGOQWiURdAIwltb4pijpJ0/To7Cy3m5ubNUVRVyQSSdPw8PDXrq6uHnw+fz2AXAzDPI6Jien+5s2bmOymg5Ryu7m51aMoajZFUXwAXxMTE3s9f/78TXaXWy6fUChsAmCZWCx2yW4yE3lS2tvd3V0klUpXUxRlwzDMB4lE0iE8PDwiO8quSCYOAGpgaRcXFzuBQHDDxMSk7JMnTyJIFRGpVDovNDT0rAbksswQkUhUgWGY9fHx8ZVevnwZKxQKt/J4vDshISEBWUYILRgViUR1AOwCcMwYAKBIJCoC4DKPx6vw7NmzzyKRiJRJnEPT9Ekt1GjwQx0cHCwsLCze8vl84bNnz36IRKJrAMbLqwQZvABqMujm5laZoqi1FEUJExIShAQAikSiewD8aJq+IhQKp1IUZULT9Hg1SRt095Ry29jYfIiMjHzNMIx3aGhomEgk6sMwTFOxWNzSoAVRkzlF9iYkihYtml8gEFxkGMY8OwJARXILhcIQhmH8yLtbJBLNYhiGLxaLx6ip0izbnQOAGpiO7A4wDFNLLBb3JsNFIlFXhmFqiMXiPhqQyzJDXF1dXXk8XkGxWHyZMC0UCkcAKCQWi8l/s3Xz8PCwlUgkxymK2s0wjKeRAMDhxL40TY8kxvXw8CjA4/HiHj169CM7G9vDwyNnQkLCa6lU6imRSL6YmppekUqlfs+fPw/OjnILhcINFEVtZBhmm0Qiqcnn86U8Hi+IpumiRF5XV1cHPp9/Uf7v7KKDlHJbWFh8l0gkjeSVotzd3csxDLOWpuly2UXmP+v2P/YmgP/Pe+wIgO0Mw8zJjgAwpb15PF5eHo+3ViwWlyfyu7u7W0kkktzZccc3Lf/lAKAGT7ZIJBrDMEwOsVg86c+DU4dhmFFisbihBuSy5BDytcjn828A6CYHhFlSEBWZFgqF/+PxeCulUqkTRVE1jAEACoXClQDiyNpIUVRBAEdpmp6oosqydDehUDiYoqh5DMP8piiKgKE2WVogFZgXCoUvJBJJDYFAUJCiqPk0TVf/M4wvEol+0zRtrgKZLNdFLrccCP0RgCcSiQ4zDHNDLBbPyHJCqcBwcrmFQqEfOQbl8/lbJBLJhewIAOUqkcttYmJSmby/AHxmGIaA/Efx8fGDX758+VMF9WWLLhwA1MCMQqFwHACLFABwhFgsbqwBuSw3xN3d3ZlhmGPka5Gm6TlZTgA1GSZHQQQEkZ0woVDY3VgAoEgkWgvAm8fjVZNIJFE8Hu8IwzA7xGLxVjVVmKW6u7u7l2QYZjOPx6tvaWn5KzIyktQHJ0BgYZYSRE1m5S9GHo9XmM/nz00BACNpmrZUk2SW6J4SADo7O5ubmZkRm5vRNE0qQyVmCUHUZFIut5mZmbVUKl1O03Rtd3d3R6lUGmgMAJDP55O1bT1FUdVCQkLuCIXCaRRFOdA0TWLcjaJxAFADM6c88v0TMF6dpul+GpDLUkOEQmFpiqII+JtF0zTZIcr2TSQSnWEYpgBFUeRFYEt2fwn4ze4XIv4siDY0TfsRI4tEooEMw3iIxeLB2dnoQqFwJEVR+eUXP4RCYWOKogbSNN0sm8vN7gDyeDyGz+dfoGnalcjr5uZmT1EUAQXC7Ch/cgDo7Oyc29TUlIR6PP+zy58twR+xo1AoDCdH/gKBgFxo60BRVDQBvQzDELvfEovF3tnZ3iYmJq4MwwSIxeKSf/RRjKKovTRNl8iOciuSiQOAGli6WLFiBRMTE68yDFPJ2tr6Z1RUFAFEK2maPqwBuSwzxM3NLR9FUQ//vAwPZRnGdcioMe0ACoXCigC2SiSSSuHh4VFCoXA/2QUMCQnZqEOVGhypPzdBF1hYWHg9ePAgWiQSrWQY5pNYLJ5icMzqkKEUR4IPAAwm4R0ikWgSwzA2YrF4mA6nMxhSKeS+AOCuMcQ1Kzr6Ll68uJOxHAFLpdLPpqamYQAai8XiB+TDD0ApsVhMjoWNohklABSJRLsYhinz54uHGHpqYmLic3XSHri5ubUm6TEAmAI4JBaLx2Z3jxGJRDMYhhlKUZQYAPEdBsBxY4kL+/OVaDRHwH/k7QGAXPIRUBR1jqbpIX/snq3dXSgUjgJALnmRGMjb8fHxg8jN9+wstHxHiMTCubm5FSfHYwCsAbygKKpTSEhIZHaUP9lOmJCiqNMkFkzu4wzDfBSLxY2ys9zJYx+NBACyO59/brtXALCcYRhLiqLeS6XSLqGhoV+yo725HcA/GhAKheL4+PiKyYM9jSHtgbE4NScnpwFOA5wGOA1wGuA0kL4GjG4H8E86D7Lte4VhGEeKovZLpdKNxpD2gHsYOA1wGuA0wGmA0wCnAU4DRANGBwCFQmExAFPi4+P7JyYmxllYWJD4vXMURZH8T0aR9oBzfU4DnAY4DXAa4DTAacC4NWB0ADCluUUiUUuSCfxPpvvkADDbpj0wbpfnpOc0wGmA0wCnAU4DnAaMDgCS7O6JiYkFQ0NDyc4fuQrfCsAgiqIcaZp2I/9PnbQHUqmU1ArlPInTAKcBTgOcBjgNcBrIQhqgjPzlbXTIxdXVtQqfz98qEAjKAIiXSCQECG5gGIbUuVQ77QEpFv/tWyQYch/WSBrBu3nyWIGT2zgMztmbe76NwdM5Pzc+P8+b19roMFDyZ9kohReJRCSfVV9S+PlP4sf/XF1dPfh8/jp10x4QAPj1qzE+OFbg5DaG1yJAXox583L2Ng5rc/bm1jXj8HSyruXLxwFA47C2nqTkAKCeFGuAZDkgxH3oGKBb6pwlzs85P9e5UxkgQQ4AGuEtYF37IQcAda1Rw6XHvRi5F6PheqfuOOP8nPNz3XmT4VLiACAHALX2Tg4Aaq3CLEOAezFyL8Ys46xaMKqqn0skEkRGRsLGxkaL2QxnqKpyGw7HuuHEmOXmjoB140NGS4UDgMZjemNeKLkYQM7PU2pg/PhROHPmJFasWIdKlapkeQVxz7fxfeBxADDLP7aZKwAHADNX/xk5O/eC0M0LQiqVYtu2TShduiw8PcllfMNsnL3TtndCQgIqVCjJGq5u3QZYsCDAMI2oBlecvXXzfKuhcjx/HgqSiaVoUVd1humkL3cEzB0Ba+1IHADUWoVZhgD3gtDNCyIoKBD+/r6s3YOD78HCwsIgfYCzd9r2fvPmNZo1q8/azdXVDfv2HTVIG6rDFGdv3Tzf6uh81aplLAAcMGCwOsN00pcDgBwA1NqR9AEAX74Mx6VLF9G+fWeYmZlpzaOuCXALZcYvlLq2oTr0dG3vBQtmY/v2LSwLmzbtQJky5dRhJ8P66lruDGNcy4lUkfvWrevo27cHO5OlpSWuXr3DvsizclNF7qwsX1q8Z6bcrVo1Zdk6cICty5ChjQOAHADU2uH0AQA7dWqDp08fs7ydOROE/PnttOZTlwQyc8HQpRzq0uLk1g3wHTrUFxcvBrLqHz9+Mtq166iuKTKkP2fvtO197Nhh/PffmCQ7XLp0A9bWuTLELvqahLO3bp5vZfYJC3uOs2dP4cyZUwgPf852d3FxRf36DVGvXsMMOw7mACAHAJX5qtLfdQ0AY2KiUaVK2aR569VvjH5DJqFIQWsI+Dyl/GREB26hzJiFMiNsqcocurZ3u3YtIBbT7NQ9e/aFv/8IVdjI8D66ljvDBdBwQlXk3rFjK+bPn5U0w549hyASuWs4o2EMU0Vuw+BUt1xkltwk/q9Nm2asMPv3H8sw4CfXHgcAOQCo9ZOkawD47NkTdOzYOokv5/LtYOtaE3XK2aNzPaHW/OqCQGYtGLrgXRsanNy6Ab716lXHly+fWVM0aNAYc+cu0sYsehvL2Ttte5PYrTVrViTpfsmSlahZs7bebJERhDl76+b5VtVWxIf+grGMjwPkACAHAFX11TT76RoABgaew/Dhg1GrVl08fvwABauNgcDUkp1/w5haBhFnwy2UGbtQau2kWhLQtb0rVfKEwMoeArOccMoDbN26R0sO9TNc13Lrh0vdU1VF7nnzZmHnzq3InTs3fv78iTFjJqBjx666ZyYDKaoidwayk2FTZZbc5Ag4R0FPfP4RA4voEDRs2DjDZCYTcQCQA4BaO5yuAeD+/f/D9OmT0KlTN7x8/Rax9m2SeFw4qCpsrDL/UkhmLRhaG0tLApzc2gPfmJgYVKtZDSWaTQdPYIZPtzfi+L7tWlpGP8M5e6dtbxL/R+IAy5Urjzt3bqNXr74YMsQwj/JV9Q7O3to/36rqmvT7GRWH4cuvskN6NymGqiULqjNc674cAOQAoNZOpGsAuH79aixfvgSDBg3F2y9ReMP7Gw84qkNpFHO21ZpnbQlwC2XGLpTa2kvb8bq096dPH9G+9zC4ePdl2fpMB+Lg2kkwMTHVlk2dj9el3DpnTo8EVZHb338ggoIuoFFbP9x9LEYFVwvMmD5Hj1zpn7Qqcuufi4yfIbPkvvnsE1YffsIKXNnDDv2aeWSo8BwANHIAKBKJ5gPIQ9N0r2LFipWQSqXrAORiGOZxTExM9zdv3sQo80hdA0B5ioz//puKN98lePT971dR1/pC1Cprr4wlvf+eWQuG3gVTMgEnt/bAl1z+8J++DgU9ZMc9kZ9DsXRUMxQsWCizzZtqfs7eadu7V68ueEyHo0SzGaze+F+uYN3CSQZnQ3UY4uyt/fOtjr4PXQ7Hkasv2SGO+XNiSq+K6gzXui8HAI0YAIpEojoAdgE4RgCgSCS6B8CPpukrQqFwKkVRJjRNj1fmZboGgBMmjMbx40ewaNEyhH1hEPxCkMRC3fL26FQ38y+CcAtlxi6UynxQ37/r0t4kf9yMdeeRx0VWOiwh9hdGtXJGqVKl9S2G2vR1Kbfak2fiAFXkJrc3f0jzwaliF5bT+G8h2D5fltw7qzZV5M6qsqXHd2bJvf7YU1x7/JFljWS4WD2iBni8jMslyQFAIwWAHh4ethKJ5DhFUbsZhvGUSqWTeDxeEE3TRYkzurq6OvD5/Ivyf6f38OgaAPr69sG1a1ewceN2PH4nxcUnUWCiP4GytINn0Tzwb+uZ6WtQZi0YmS14ZsrNMEymXQDSpdznzp3G6qOhsC5YPMmcbcsmolH9eplt3lTz61JugxMuHYZUkbt+/RowKeQNO3fyHQ3ER33G9hkdspKY2d7ecXFxGDJkICSSeAQErEbOnDkV2kcVe+vDsIv23MfjF9+TSM/sWwkF8+TQx1Rpys3VAs4wdRvOREKh8H88Hm+lVCp1oiiqBsMwayiKmk/TdPU/XPJFItFvmqbNlXGtawDYsWMrPHv2FAcPnsBVOhqB9z/j99ubyGFfEYXz5cD03pWUsaT33zNrwdC7YEomyCy54xISMXfHXcRLpBjdqQysLTM2Xk6Xcu/btwf7b8fDIndhmCAOCTBDxYLfMKB728w2b7YHBKoqWBV7k1ylhcp3R67CsnrAjDQRy/yrImcOWcaCrNhUkTsz5foaEYMFu++jgK0lhrQupXS37PTpExgzZjjL8tix/6FDB9lubcqWWXJP2XgTrz9HwZIfi+hEc/i3KQVP17wZpmJuB9AIdwBFIlEfAO40TY8UCoXdCQBMTExcx+fz56YAgJE0TStdzQgA/PZNd0eCDRvWxocP7xEUFIwDVz/i8sMPeH1zG5wqdoWZKR8rh1fPtJ0g+ZNJHpw8eaygS7kz7KnXYqLMkjv4yUesPfKU5bx1DRc09XLWQorUQ5UVZNel3Js2rUfgq/xsCpgCllH4GJ0TzuavMXmYrKyYITVdyp3RcimzaXr8KJM7MTERZct6oHijCTDPVRhMYjwovikGN3NCuRLsIUqWbMrkzmyh9gQ+x6kbr1k2RrT3RAmXPOmyNGvWNOzZs5PtQ3I0BgSsVNg/s+QetuwKfkbF48vzy8jnWg2d67mhbnmHDFOzDPhaZ9yZc4ZJpvpERie8SCQ6wzBMAYqiEgHYMgxD9pwPESBI07QbUZ2bm5s9RVGBYrFYacAdAYCqq1t5z+LFiyMiIgKvXr3C7C13cPPpR4gDl6Bi81H4GZWAndMbwSqDd4CUc23cPcLCwjBmzBjUrl0bvr66j4Naue8BDpy6RjJXwatCKUzr76VThS9cuJD9qBg+XLZboM82b/5CXP7oChOeFKWdeLj1AsiDl9i80F+f0xoN7Vu3brG5+Y4cOaI3m0ZFRUEkEsHTZy74Zlbgx75DonlhtPayQY/W8kMUo1E5K2hUdDzmrjsBl8K50bNNTb0IPzLgEujXP1jaLWsURe/mJdKdp02bNggODmb7FCxYELdv39YLX5oQlUoZ+Iw5CklCPN7e2wfH8h3RqLIDfNv+zXqhCV11x1BZvYC1ugKn6G90ADC5/PIdQHIJRCgUPgAwWCwWXxaJRJMYhrERi8XDlOlXlzuABEuWK1cCAoEAN28+wPQttxH+/heenpyOOp2m4sMPCSb3rADnAlbK2NLr75n1xahXoVQgnpbcw4b5ITDwLEvh5MnzKFSosArUVO8yf9c9nDu6jX2hFy3fAsuGVgOPMKOj5uMjK8h+8KDiguy6tPes+YsQKimNnKYSVHXPidMPY8H/HY71M8jGvGE1XcqdEZKRJPJj/puMgu61kPj5FkxNTNK0aXr8KJP769cvqFOnOsq0XwZTEwEsosX4ZeqKUoUkGNa9fkaIqpc5lMmd3qRkd27j+pXsM7p52XT2mFaXTcowGLggiA0DIa2Ykw0bDpJeq1v3b8UdKysrXLlyS2F3beTWVMbI6HgMCbiCuN/f8PrWTrjV9INTHgpT+tXSlKTa47gdQCM8Ak7uJckBoKurqwefzydpYKwBvKAoqlNISEikMq/SZQxgbGwsKlcuDRsbG1y4EIwJ667jw7doPDo8Dk17zMCrH3wM8imBcqL8ytjS6++ZFTOiV6FUIK5IbnIcVqNGJZBdEdImTpyG1q3bqUBN9S6jV13DpV0T2Mz1xRpNxKx+lbV+wfwtyH4S4eFhLDNpFWTXpb3/mz4P703KI49lIlpVc8S60++QGPkOW2YaXhUJXcqturU179m7Tze8+mmOqM+hiP31IV2bKgOAefNa4etXxaEtb968RsvWPvBsNR95rM2RI5bG63gnFMzxGzP9ZLVds2LTxt5krT6/bRwr9uR5m9GospNOVRDxOx7kyDSHuQC/YyWwNBOwH4JpbWCRdalChZIwMzNHQkI8+Hw+btwgexypG5E7V+4cuHLnNYoWzgULs7+ZJ3QqRDJi775EYeKGm/j97SVeBm+CR9OpsODFYMXoJvqaMhVdLgbQyAGgLjxNlwDw+/fvqF3bC4UL2+P48XMYvlwWI3F/3zC06DEFr6JyoUNtV9Sv6KgL1jWmoc1CqfGkBjBQkdyvX79C8+YNkrgbNMgfffsO1Am3BKSdPnMSW3cdSHqhm1sXhJdXVQzq20MnxdN3Hb+KuRN6s/zu3HUYxYuJFC6U6QECdYQdOXE2vueohMK5gSHtymPI/COQxEZi94J+7EvKkFpW8/P6TZvB3nsYYiLe49lJWX6+/fuPqe0nyuQmuRy79RmA4o0nokhBa+RlnuPWx/zIwYvEstEttDKhNrGLyiZWRluZ3Irok2f05KkT2L7nYNIzmjuvPTq0aYl69Rqqrfu0ZHjx4Rd7IiS0z4Wfv+PZ8mnzBlZB3lwWCoeQWtuk5rajoxPIjm10dDTu3XumEDASuXdfCMPp66/gWjgXxnUpq/c4c3KUPXfnPUS8f4zwK2tQum0AKEaKDePq6X1uucI4AMgBQGVrhtLfdQkA3759g6ZN60EoFOF//zuMgYuCEBefiLu7B6FxxxH4yLigbjl7dKqnNDRRKd/adNBkodRmPl2MlUql4PF4WpFSJHdg0CWs2HcPkrgovLq1A00aN8XMmfO0mif54E/fozF0/oGkFzrZAYz7/Bi7Vk6BmZn2ZQE7DRyH77/i2CnLu+fHjIlj9QoAB42ZgRgbL7ja8TGuR3U06jwUoPhYOKEvPIoX05nedEEoLCwUtrY5YWtbELqN9NUFd//SiIj4CZ/u/nCu3B3vH8mO8su45YVTAWsMGDBYrQmVPd/379+F35ipcKvlj9KueeGS4wMOPDABTxqD9eO128FZtWoZCwDU5VkVAZXRViZ3WnO8/hSJMUsOJz2jFXymYu2kdioDGRL68/jxI7i4uCBHDsWpWu7QX7Di4CNULm6H2PhE3H/+FSPal4ZHEcWVoZ4+fYxOndqwpfoISCX1mm/deqiw4k68JBF+Sy4j4c/x8uQeFeCURphRQkIC1q5dCTs7O7Ru3V5lGVPq7n7oVyzd/xDfX91idwBJQnHTHLZYMsQ7w7IccACQA4CqrBvp9tElACRf1u3atYCnZxls2rwTfeZegAkfuLHDFzUadUZkrqrsgjukTSmt+daGgKYLpTZzajN25swpOHLkICZNmoEmTTQ/olIk94xVhxEeIYvJfHZ6DuzzWmDv3sPasPvP2JBXPzB0/HTktTbF86c3YeNQBiYWuTGqW3VUq1ZDq3nIx0Wn4YuRy14WeJ1XGoZ542Ul2pI3Xdq774jpSMxXFaUczTC0U1VUqV4dDPgYM2YcfJoYVvzY6tXLkCOHObp166tTAEiO8+ITEpEvt+LdG02M+ujRQ4yZtx0FPBri6/Mg5HWtgbJFrSDM9Q316zdUi6QyewcHX8X42atQxKsXqnsWROmCMVh89AP4AnOsGVUTJgLNd3JbtZLFox44oDgeVS1BknX+HZuAJk0bsalTzpw8zSYe1pWfE3A2Ydps2OfLie+/YhETn4idq2apXLd93bpVWLEiAO3bd8K4cYqrqZy9/Qa7zoWiUWVHkAsUp2++Qed6QtQpp7gyVFBQIPz9fdGwYWPcvXsHnz9/wpUrtxXmAjx35Q42HA+BRS5Z1SmSaaBJFcWZBnbu3Ip582ax/ZYsWcneLtakkcwG644+ZW8AJ7y9iFwlOiJHXleM7eQJoWP6t5s1mU/RGA4AcgBQa1/SJQC8d+8uevbsBC8vbyxcvBqDFl+ClQUPQZsGoETZajAVdmQXmWm9M7Zkjq4WSq2VrQGB58/FaNOmOTuSxFaePXuZvWSjSVP0Yhw45yjiIEte+vjIf+AzMQgOJkVldNNuh3zGzKVbUaa0J07tXgA793oQmFuhdJ6PmDBhslaTyI9hYiM+wjxXAeQw42HZsNQ3GJUBAnWY6O4/DfGWRZEz+msw5r4AACAASURBVDG+vXmE8PDn7PDcNvnQoX17nR6bqcOXor4EjAgEPOzde0RnAPBHZBwmbbiBb59fo2NdIZrV1s2zfOLEUaw7RsPGsSys40Pxy9QN1maJWDJM/QTbyuxNLpvMWvk/OJbvwAKSqkILDA84B0sbB8zoUwmF8qqXzPdvPOqpJH9IKx5VXZvKae87eARfP8lSqNgVcoJP82apfE2Z3GnNffrma6ze/D90ae+DN5+jEHThLGaM6pXm7lxKOqVLu7P/i1weO3HivMJp/kdSwNx8zYI+Pp/C1lN0uqdB+/btxowZU9C1aw9cuHAe5HQpMPAabG1T7xiOnjQTj8K/o0Ktdnj75TeKO9tgZAfFF0z69++JGzdkN4vr1m2ABQsC1DUJ2z/w7ltsPyPGp2dnwft+FzbuzSDIUxwtKtqiRe2MqQrEAUAOAGrkvMkH6RIAXr16GYMG9WUfrPGT5mLkymuwszHHyVW9kM+uIBxqTYSFGR8rhmm386Ot0JoulNrOq8n4TZvWISBgIQTm1sgvrIVmtcuhfrWyGsXmpJQ7Nl6CnpP34Mer2/j59h5if8nKGunq5UVoXbz/jl3sC5h9w+mds+DZeiESYiLw+9F6HDhwXBOVJI0Juv8OW07R+Cy+gNz2pWFqaYNFg6sid85/j5Z1ae9OftNhXrgq6pXJiwpFLUBKipFWrXFPLJs1Rit5dDFYn2AkPj4eM1bsxdu4guwxra21ObtTpItGjuUCw3LC0sYe1Ry+IehlLvB5PKwdU5v9rzpNmb2PHz+KpTvOoXCpFuxuUb1yhdB+2FLYOJRlTyfIKYUmjcToyf1Bk9jF9OYcNHsfru75j+3SqMdczB6aOlZRmdxp0d9xRozzd9+iRyN3fPwezebq61jHDfUqKM9pJ4/VI7SrVKmKVas2KJxm3dEnCH7yCYN8SsLSXACSGaCkSx4Ma6e4MhQ57l6zZgWGDRuFw4cPssD61KkLKFDgb215+UR1GtTD7xgJpizYAgI0yUWTpf6pL5iQS4rVqlUAOQYmzdzcHJcv31R4rKzM/seDX2J/UDjePzwCixgxHDybI8pciJIFM+4mOQcAOQCozE+V/q5LAHj27CmMGjUUzZv7oP+Q/zBx/Q24FLTGiTX9EBMTg5q91oEcHy0fWg2W5iZKedNXB00XSlX4URaorQqN5H1GjvQHKT9WuvEo8KyLsC9ekmx05DClGX5STZVSbnlgdtTXcDjmt8a5nbLjmx079sLDQ1YhQdsmXygtY0Jw5fBSeHVZgVgJhQcHRuDyxSuwtFRvtyU5P3svPsfJ66/x5u5eWOUXIre9J4a2LYVSRf99gevS3u0HzUQOhypo7W2P149O4+7Tl3jznYEg4TuO/W+zturS2fjkYGTDln0o55l+zjVVJt6wYQ1OP6WQM58rnp6Yzg45cvg48ttonzJk6tSJCOdVAd/EDKNaFsa0zbfYaiualNdSZm9SzWXT0fuwK1YPXRuIUKtMYbTqNxm5XWqgTXVnNPZyUUUdqfoQ0EKq3tx69hmSRAbL5k1Cfh0ck0fFJKBNnzEwEfDYndxEKYP/rZ2dKp+qMrnTEmrpvoeymLwOpfHjVxw2nniG6p6FWECorMmPakm/SpWqYM2aTQqHLP7fAzwK/4Yxncqw/jJixVVWN3MGyGpqp2xz5kzH7t07MHXqLOzatR0hIU9x+PApODnJjnYVfejYOxSBmV0pmOYrheVjWyNPrn8LYcnjCkndbnLL+MmTRxqvdUlrz509yI0PKFOjPZ5HFUQ+05+YO7yVMrXp5HcOAHIAUGtH0iUAPHRoP6ZMmYCOHbugTRc/zNx2h92Ov/a//9hUHS38NuLNl1hM6VkBjnaZlwtQ04VSFWWTlwDJdVWlbgcUd7ZFTgvtgK6PT2O8fvcJpVvNAwOKffHmsBDg/GlZ3j51Wkq5rz3+gPXHnuFr+DUUtorDi4+/EfkxBPWrl8PkybIXvLZt9/lQnLn1BrGvz+Pptf1oMXgD3nyNQ8iZuVi+YCbKli2v8RQrDz0GOWIOu7QKFjYOKFSyKZp5OcKnuus/NHVp7zaD5sLaoQJ6NnRDzOcnYCwLY8+VL/gWcgKHNy/QWBZdD1y6LADnbr9hfZEkXt+zZrbS0lvKeCC3xeNzFsPPt/eTdosLFHJCSwXHkcpopfzdf5gfIu18YGEKLPHzRjv/ANg4lsPAlh6o4G6nFjll9t62bTP2XnqNvEW90b+5ByoVt0OngeNh7lQXlUS50N+nnFrzyTufOXMKPwWu7FHnj9d30aBBQwxooT3wJnG04+ZugHf1Omx84oXAM5g8vEeqnUplcqcl1PQtt/DiQySm967I+gu5rUtu047vqlwPpDJOQIDM78uUKYdNm3YonIbQZD84e1dkj9jJBUGJhMHqkTUUxjOOGzcSJ08eY+P0Nm5ci4cP72PfviNwdf33AmHyD51NW/fjWpgUJKbRr3VJlHHL9w8vJMxg/PhRaNGiFSwsLFiASWIWSeyium3baRoX7r3Dy+ubkd88Ci06DMDZEAFMJF+x5j/dptFKizcOAHIAUF2/TdVflwBQHmDbq1c/1G7WHYv2PEA5YT48PrsEJPC6/dC1CP0oweBWJVFW+O/DqbUgahDQdKFMb4rv379h2rSJuHXrBmCaC6IG/7ELHQG7igK2VWGXFEP38irL1is1sy6Mby9vID7qKzvUxaUo6tdvpFbMWUq59weF4XjwK7y9dwAtG3jj9uf87IurfOEoTJgwRRUWlfbZcOwprj7+iLc3t+Lry5sYNG0vrj7+hBfBm9C7bV106dJdKY20OkzZdBOvP0VBfGYWnN08YVqkCVztTDG+p7feAGDrwQuRy74MhrQpidKu+fDi3TdM3/YAcRHvsGO25rkAw95H4MbTT/AqUQDOBUgqT+3asvW7cO+rDDgRm/7n3x3lRJo/c+/evUWrDp3h0WQyfr1/iOeXVrO0O/svxaie2l9+6da7LwRuHZE/lwBzBlZHB9+psHSshtqeedClkeJjwvRejOml/SGXFk7ci2IB5tC2nihVNA/6DxuPBLu6cMorwOQ+mlcDGbcmGJ9+xLCs8XkUFg6uqvWt0LO33mDX+VA0rOgIC3MBDl4KZ8sptqr+706lpusaydP5NSKWvcFqKuDBd9ElNpceOalRVmhi4sSxOHr0ECsvOTUgpweK2tjVwfj8MwaLB1dFrpxmmLzxJhtvmNYOLwklIiFFBFCSCya3b99UuFu3ctUyHLv6ks0x2qxqERQu2QQHL79AC+8i7J/kbeXKpewNYH//Ecif3w4TJoxG06YtMGPGXLUftrVHnuD6008Iu7waDjbAyLHTsPTYe0jjf2HzpJZq09NkAAcAOQCoid/8M0aXAHD9+tVYvnwJ/PyGwbOqD8gOTdWSBfD29k4cPLgPHf2WgP5iig513FBfhfgSrYVLg0DyhZLkozp0+QUK5LFEkypOGlWoIMcR48aNALkFLW8k3x0JaO/XrR186lfSSJTQUBpt27ZAqTr9IMhXGr/DjoO+JYubW7X+f6hSXr3b1ClfEMv3P8Dd0G/4cGcrtq9fjVGrrrGZ7cvmDsOIEanTqWgiRMDeB3gQ9g1hQUsR+/0FpgQcwd6LYfjw+ATKOFKYNWu+JmTZMYMXByE6LhGfr81HZa9aCEd5WAgkWDHyX0Ci6YsxJWPk2KjdsJXIVcgDYzuXhdAhN3sbdsDCIEjio7FmVG1YWKh/HEqqCoxZHcymxyDxS7P7V9F653je1qsIeR+H31/DkCNvUVQsll+r3SgShjBjyWa4eP+fvTeBpnr9/sdfZpEiNBDRYKikQnNSKhVKhVJpUFRICqU0aI4iaZ7nSfM8uE2URhoVmjRQ0oRMmf5rP+e+OYdznKPbd63f+n/aa91173Xe83mf59nP3q/BHV8eH0Lay3vQbGGF2kryOLJl+W9/h9yOg0eMg1obV7TQro1Zrh3gNXMJ8tU6Q19DCnMn1MxdQdz3HRkZhpjXiqjT0JhVuajaNSd4EdIVu6K2Qikip/X+rfv5kpWPGRtuQbW2PJo3VmXVaXe7lujcuuFvHY/badeFJFx/mA63AcZQq6OAsIMP0UpPDX6ViA7i7lvURUwOu87e4y0zerIqccD6m/iaXSgUT1v5GKNGOePp08fszwYGRoiK4iWDlWPcvIMoKCrBnsUubEG8/vgT3E/OhM/QNmjboirmkjsuYSkpASSnojVrNlVRDjh5+gxOJiqhQT0l9NL/AU19c1BLmySEpgwVHB9nzpyOixfPITx8DZo1a4FBg/pBT08fJ06cr/H3E3H4ER6/+oqUK6vQXEuFtb49VlyBtIwcNvlbMYeZ/+v4mwD+TQD/8zv2JxNAGli3b9+CwMA50G7ZCzvOJTGmV/arS9i4cS2c3YPxMqc+eps3xojev6cFSHiYF+9/QK74K1ulNmsm2O6T5IHwD5SLd93Hq/RsththXgj7UtMgcLGVVSfQv7mwsA9AibK+0IFa0uNz+JqOQxeiSE4DeYk7kP4lD0r1mjCcW+jC2ZIeim1XeYII3n4L7z7nI+vxLhzZtxPe4VeRXwQofDiKDWvX1ejYojZespv3fJMuLkVp/lds2H0Ja449wfd38ZDOiMHRo6d/6zzFJaXwWHENJb/yIfv2IBwcHHH4gQxk5ZWwbpqlgBvA706MlS8sN/cnxs0/iNoaTbHQrQMa1+dpno1ddBrScsoIGKwDY0Nmx12joBY5tcq5qE7GQpIDZ2dnw3vVVcgqqOD5haUw7jebOS+sntqtxoQK7nw0CZ+OS4WWiT1qZ99FzLmdMHNehW8fErFrpc9/rnLZDB0NbYux6GhcHxMHtUZoxFokFbSEsuwvrPH/czIwb9+msonfsM8MKKvrlbN+t27dhBsZ+pCRkcaWGda/1S6nCu6mU4lM685YT42Nf/TfHgNbSfK1idyGw8/NcGnHoDNTImKg+K+TBr+lYnXvOS0maWymijs/vpdbwBBUhYgTFOGHHuLpm28IGN4WxnrCdfq4i7W27oavX3ldCX39pjh+/FyV+ygpLYWtqz9jpJ/ZxWsXc92HYb2aw0aIMYC9vQ3ev3+Lf/6Jxb59u0FkOH//WVU6BlRFpGqiURM1hi/88qOALWSF4Qu5pJJkrqiVTISQ3NxcxMXF13jhtnxvPFI+ZLHfV8tmjbBt2x6MnnsIssqa8BvSDK0M/qyTirCX428C+DcB/E8DC+38JxNAfuCukpYFa1tQq0L62wOGDbQb5ol0qdZCV2eS3EheQRH7sdPq9OfrS7Bqqw1PzymS7CqwDf1wVFTkce/xB4QcfFr+Wb06Cgid1KXGg39c3A14ek5Ao0ZakNU0RVGJFMq+J6JJT14Vbc1USyjI11xbjDAq9EwthkeiBLIwkL6LizefQr+zGzTKXiF0VlXNu+oeRuUJwnf1NWTnlwKv9mP7lq0I2XsPyR9y8OXhHpw6KBzMXdOHzbXEnpyYBTnpIhw9HYugLXdQkJWG5EvLEReX8FuC0KRXRizzguwM6CEBEyZMwsy1/0ClfgsEuZoxSygu/lQCSIxHn/BLqFVXCysmdykHmbsvPIwSeXU4tJfFwL41bx+G7o9H0rssyP9Mwq/aRmikroQl7p1q+qjLt9974BCuvNVESWE2Hh0PhLHNLIaRDBpthmZaFc+lJifw8ZmE1ILG0GjaBS5WjREwaSCadZ/M4AnCiDc1OTYtnOxGekPXYgTrDFCH4PTpkzj6WBHS0jLYPKNXjWAU1X3fffp0R2ZmJloOmA/FOg3Kq1xEYNtx9Tv7G/93W5P7OBbzCmfi3sLJqhnDFdL7qaaigDCvrjU5DNuWxJUTEu5DQ0MD2/75zORNlk/sxAgUnMVmZUvF6u57+vQKv+89e6JgYsKrjn3N4iVM/O8c6fWRbl91On20L1m0WVhUVNk4B6jKN5ud9wt9+9kw+ZebV6+wj288/sjIJlZttTC6X1WyCS2oSfz57t3HIOwezR9OTi5VpKOevvnKoEadTRrBw86YaQx6R8SioLAY66ZbQlG+ohLXt28PpicYE3MHderUxbhxI/HgQTx27z4IIobUJOZtu4sPmT/x9PRctGttiE2btsN9/h6U1NJGfxM5ONnykun/y/ibAP5NAP/z+/UnE0AOD0LaSqnfFXA5IQ2jB3WDuvRHeHiMRecetihsZAvd+rUR7FYz/TDSGIyOT0PSFx5rlMgQdZTlcOn8pRo/A3JImDTJDfKNOqNBy34Y0KkJK+fTD5pW2bSarElERoYzoHJvG3t8U+vPZE4STwdhuP8eNrH/rrRERMRK7Nm3j0mnUFspYGhTDHJyRmu7hdUy6ERdO/8EQUxC99CrKCkuQr1vZxAetgYcs40wgUe3LgMZsP/XoGoFeX8+iPKBspIirl2/i0krr6Ok5BceRPli//7DaNmy5kB5jsGc8/kFuuv9hJeXL4ZOXoJ6TbthhHVT9LaoEIL9Uwkg2ebN3nqfyc2s9bVkchYUvssPIRuaaNcwC1PGDq7RIysqLsGklVcZK/HxsQCYDFoEGXkVhEzq/NtCy+OnzESZtg2zq8t6dhCvcjTRwND6P9kwEhlJpokta5uS1Vb4Ej+8ya7DKoIO3fQxsBLeqiYP4ePHdIzzX8GORckT+dASQ3PR7gSmzbdoQkdo10Cbr7rvm9OsM3EIgZyiCjb69YC8nAySkp4jaH006mq1RoBLOxjXcAyg+11z9DEevPhSjiskpivpJq707MIkc2oSISFLcODAHqb5SQvAwmJgk38PRgLZfDoRtxMzygks3HGrT3wtQQsYijZtTLFr10GG70v9lI2FO+8zOAPBGig4eaVe7bUxqm9Va0XufIQLtbXtjQYNGiIj4xPD1V26dL38Njmm7rnz5/Du7Wv2d05iytC0K/Zc/w4jXVXMGME7LxfkemRu3hry8gq4ffsBOH3ZDh06YfNmQab9zScfse3sc/TvogfnHk0ZS3rp3ni8/JAlsOApLi5Ghw5tIC8vz3RO6d6XLVuIQ4f2Y86cBXB0HFaTrwcB6+PwNbsAj44FoJNFe6xbtwUBofvxtbQhjNV/IMD9/54J/DcB/JsA1uilFbbxn0wA/fym4PLlaKxfvxX7T1xmrb8ZftPRUksGNjZW0GnSFJqd/Vk7au00ySslcXGkL+iBpl0nIe/HO5R8eYLPn3iiqL9DhuDEQFv0msYqRm59GiOnSIFh08QNesKeoa+vJ65du4KZCzch+lkJkPsOCaeXwytoM269Kv6tY9J5AgOn4/rtx6yFx3lc9uzZGTpWs9jktdqnWxUpiOpeCP4JgjyayZy98OcXGCsmskGQa2F9S72LBZNtmKPLfwlajVOSSRPsrT0T2aqbVt/lVcFTQZgd4IfBgx1rfJpHL79g9ZHHrJU8zFILw4ePxBifYMhoWaKtniJ8hncpP+afSgApSVh2+A1k5BSx9V+8FJ1k4foTSM2ug0ayaVjiXzMiSHTMXWw//wKlRQV4d3MdNFs7MHaquOqLqAdGiaT96OloaDIIfc21oZz/GGGbj6FpV3eYG2rCc3DN5X2oGtWpU1s0sw4sr5BdjT6JyG1RaN7DC6bN1DHVqWZEDf7rp2QvMPwINFv0wHhbY3Q1aYS8vFy4TI+Eul5HTBrYCh1aSs4EliQBbOsUyZIrwr1RMkDt/WFTQlHfwOq3oSAc0YGrIHIs9ckOrWFhVF/id5xEj+3t+7IqoLSMPNo6RaB2LdK2442ZJNx86MpL9OuoC+eeFRAYUff9/ft30LiholIHSkpKLFk7cOAojI1bsYUv4dmIIEQafRQp739g+b4ElgRTMiwqqHpGVTQzMwvEx99jQvVXr/JElvnj6s0HmOblwv7E6SMSlMdndSzqKstj1RRB0hZBGCwtO7DE8uLFa+Cun/t//mOfv/2WjdsjbIzQp70WSwB3X0zGtQdpAt9jRkYGbGx6QEenCU6fvvjvtURh0aJ5cHYegdmzhTuYiLp371UxyCssRsIhb/Sw7IHVqzcgbNtpJGYqQ63sPcJm/T65TdIX5W8C+D+aABoYGCyXkpKyLysrK5WSktqenJy8ytjYuHVpaekWAHXLysqe5ufnj3n//j2PjlZN/MkEcPLk8Yztu3PnfvjNmMkqPxEbDrB2SOfO7fHrVyEsx21Cdm6RQAVFzPUxzE56xle0GRzKqmsdNN5i2zYeCzFs7X5YdxNcQVZ3PFqVDh1qB7V6GtDvMx+02myG23Cb6M90Cxuo1cJ4aw02KUiKLyR5DKoOzQqNwsWEL9BS+Iwzu4LhOmE6En82/233kzFjXPD2axmadvNAp1YN4GHfilUuM+VMWettqmMbmNZAtJZ/gkj9mIMFO+/hZ+ZLWDUrgKenDz5+zWXt2fwf6XC0kMfQof9NzoDIDVMjb0C9jgKiN4+Hqqoqrl27DY4Y8uJqJOx6mWPmTJ7AbU0i5lE6dp5Pwufkq/Af05NZOs1dEo40mbaop/gLK30rcGN/KgGMT4jHuktZQGkRts+2Kb/cnceuIyalBHJ5r7BpYc3a8hO8piMtSwraus1Z0he8cjOadZ/ImKnEUK1pEMbNe9EuaDbvzpIpsxa10N3KBiYOy1C3tjzCvbqKZXZWPueXL5no3bs72jlFQFpWHpsDrPAiJQmjxoxmv0maxEmAWxxjVNS9xMZeR/iBe4w0RcLAJBBM4egehDrNrNG7XX2MsJG8SiwuAZSSkUM7p9VQkpfC2ukVBJPB4wKgZtgf1u0aYqRNyxo9+qTkJIQe+4Cy0hKM7CiF3r37Mvkjwnb2MdeBS2/JsaFcR4HktJ6mvINci+FQVSxBuC/PFYVkYUIPPKiSoIm6b1pAe3q6o2tXS7Rq1ZoxYUeMGI0ZM2aDq6CRFiJpIlJUl5wJJF/nz4DkWkj3lawqlZWVcfNmfJXnNn9JCFtcamsqM0kfzifZNzIW2Xk0Fwjqwlb2lKdEuEePTsjOzsKtWwkCeD1OZsrL0RTmLdRZAng14QP2XEoRcBohq0FXV2eWrBJej4L7W9u27dmcJWnQ9UwIvQppKeDefk9YW/dBWNgaHL1wC2cf5kPqZyq2LXaT9HC/vd3fBPB/MAE0MDAYICUlNSM5Obmnnp6egry8/DMZGZl+paWlhwBMSU5OvmFgYLBASkpKLjk5WSxL4E8mgM7ODkhJSULjxjrMuodCq7EeBtrZ4cKFc0hNfQ17r21I+1qIBW4doPMviL66XwDJqri7j0GLttZQMRqKrLQnyHiwB+aWg9hA2ExbFetCJV+9cb6VI9188DzPCLlfU5F2az3++ecGgrbFs5ZNK4VHUK4lJ5GhO7kjdO7cjqnJe8zdhxtPPqGnsRzC5rvDokNnyBuPRUFhCdbwtQwl/cVT1bRMtSUat3OEXZcmGGLZDNQWvnD3A7TaDIR9Fz0MriQFUd2x+SeIhJRMrDn6BN/e3scwy0ZwcXFl+JmJKy4zEVtDmfsInDlL0ksVuh2XUOrUV8bJyDFQU6uHq1fjcOjKC+YF+j7+EHRUcrF9+94an4cICSSHkfboJCLmebBqxqHDh3HxlTqky4qwJbBveULypxLAq9djsOdWMaRL8rE1yLb8mm/Ep2B79Af8+vEae5dPqNG9dLHshlLIwcl1CnzG2qHfABvo9gpi2CVyzCFWZk2C2Lobz7wsb9V2aacDC4sOUGs/EQq1NX6rtUwabOMmuMF0yMpyTBu5KXTrZo4WfedCXrneb7U5ufui5GHPtc+sGj9/rAWaNORBDzymz0NxfSvoa8pg7njJ3YPEJYDkqtPGYTnqqchipVdFJ2KcdyCkGveFQSMFBI6RHLdHJIhho1yh2yMA+VnpSLqwhLnclCqoY8nueDTVqoM5oyXXu+TICoRNS0hKZ4xl6fwP2LpgNHsuhIUmnFtlxwtR9825CRFOtl8/W+ZWQmP06dOX2O8w6upLDOyqB4fuFbIyopIz/ndx585tiIhYAQ8PT+zatQ3UZr1z51EVq8rIrQfw8EsD1gmpjzfl3s5UZaRqY2XMLlWER450grl5B2zdupud0tV1GJ48eYSDB4/DyMi4/DI2nnyKu88/Y65bRzRtoMwSQK6Cyd9eJhYx4SD797fDsmU8Ikp+fh66dDFjVVHyGZZ0AUMOSkwqRw64uYfnV7x8eTievUzDyiPJ+JWdjr1LR9XkZ/tb2/5NAP8HE8B/3xRiFJS0bNmySUlJSUxpaWlXaWnp68nJyc3o8+bNm+vIyMhc4/6/urfrTyaANLCQMCe1gIkUQcFV6GbMmIZLl85jiNd6pH4FhnSoDeMm9cRW2cLDQ7F793Y4uC3EuzwNFKbfRmLMboSs2o5DdwpQ/OUJdq3wkfjHO3r0cCYqOm/lHpy5nwOp7BTEn4tAWFgk3hbo4MaTj0iPCWFOJZIYunNCpMbGLWFqG8SYYQHDWsPVqRcbCB19t+NZ6g9MdzZF638rG5L82mmC7djRlPmVEq6NYyhfuHAWS1ZtQYuePsyr02+Y5OBl/gniSjxvlZyR9A+mDO/KJgaK2Ruu4VNWKWTSzmPLmt+XaKFjEQ6H8DhGunWxP3Qk1NU1cPnyjXKMUeaLa/iefA6xsfck/v64Z8fZV6Xe2Y0j28KZRyhNHEsPPGeJDj/u6k8lgCfOXsSpJ3KQLf2JzbN5/swUmT/yMHPjbUZI2bXAEXJy1Yt/C3MxaKilA4eBg0AVvDelJgz79juC6aR1djO9IXsGq6Z0RXM9DUye7IXHn1VRT6/Db8mS0Du3YHk4jPsFoZlWHQT9m8zQbylHxZxZqP0XbU9KJC6lKLH2MhEmiDhBsTgkDK/L2kFJrhhr/STXGhSXACrWaYiWA+ZBW10Ri9wroAJzFy1HmlwH1FUoxqppkp9vxYplOPXPbbToOZUtUF/FbmBVsXnzl7BEgSpG66dbMvyeuCBCDCXWMjIyuHHjHiNL7Il+hS8vY7EzdEq5Fy7Xbg6d1Bka/7qNiLpvDptNiQ/94fcZAQAAIABJREFUzgm3l56exhi799+WMjedypCDkH0JSH7/o1wmR9h1czjFefPItWMvk8GixJdgOfxB1nKUZFZesO6+kIRr/8rbdGtTYfHGkeq4yhoda86cmThz5iRCQlbBxqZ/+eFD9ycg6d0PhE21RD0lWZYAcgkyMZsJJkOJHV3f8uWLMWbMeGYvxwV1l+g3Rx7G5GUsSVCRgPCdynIliN0zpbyayiWGxYW52ODfE8rKPJWA/6v4mwD+7yaAMDQ0XFRWVjZNSkoqqrS0dLO0tHRocnIyt5yVMTQ0zE1OThaLPP6TCeCAAdZsYKEf2f2U7wwk27NdY8z0nw5OhHPQ+KV4n6uKej/jmFYW1w4Q9SPhVn5OU7fgVUYRWtfLwO71C2Bn74CSxoOY6OrC8R1Ym1VckB0dDa5UrZu96jhOXH+Nlpq52LsmAJ07d4O6VnP8E30RBdkf2aEk8cTl7O9oZZmv5YDsf63uJrqPYitWr3k7cCslX6hwa3XXS8+Rnmdrm+mQV2sO/+FtmbPI27dvMMRxCCOGEJYy0re7xNqF/BMEyTAQY/FDwhEs8nNlNk4UW089RtyzL/j2/BRO7IoQ90ir/fzhiy+IPPoYZgbq2LJwGDQ1NREdHYvkd98Rsv8Bfv14g6cXVuDs2X9ADMKaxLpjjxGf8gWpNzfh8ikeoJ2Es0f4b0Bd7TbwGdoabVvwcFd/KgHce/gU86tVLMvG+lkVYq9UOR2//B+UlZVinkvzKhOgqPtKSIiHm9tI9vHeAyfQ2tiIQSiWbLnIsGjUNqT2YU3Cd9oUZGkOhKysDMO3aWrWwZYtO7F270W2mOjZXhuu1QD7hZ2LCE47j1xCc0tPmBvVh6cDrx1LCcCVhxnQNnUor1DX5Fq5bWmR9/BnSybhQ+1lTjj98OFDOJOkwuzhNvqRtpr4BErc900kEGV1fRj2CYBBYxUEjrIov+QDBw8gOrUBpFGMLTP7SLQooYSN2uOKDdpA12IkurZSx4YFI9ni79KlGKw9+QIv07KqTaT4nxkxf93cRjGHHKqMn775hgkbpz0+CfchneHoOJxtzuELvQa3hplh9e/56NHD8PgxVc+OwcioZTn5gRKhEs0uLMmcNKgVOhhX4Cw5HN24/kboLkIai8N8EwHi7NlTjK1bOUGja+UkXyr7C3Mt8v6ddOFkVYFlJK0+0uwjbPD8+YvZ/W7ZshHr1kUwqApVHLngGNHb5/SFVEkxSwAp/NffxDc+LUNOooza3tT+5mL8+FGIj79f/mwkeX/TvuQyuJCyTD5i9/kxYelx43jQj3GLz0BKVgne/TXQ3rRmOq2SnJt/m78J4P9wAkgvgo6OTq1atWqdkZKSugagT6UEMCc5OVmsKi0lgF+/5pT/cGr6EvJvTzgNou7TSvP2x/pM6X2AUQ6cBg9ig8OsWQGwHjwZ3xVMkHplGVRrK+D48TMiT8lL2CzYYNrVdS2+5/xCkIshHB16M7zJ5Hl7cTkhHU49mzEmr7igCZcHWjaH2cBZuP88A5PsmmGiaz/WBjhzPgaey47j+XneoEMVQHE4wE2b1rPkduLkabj3vQXqKMlh9dTuWLlyOchyys17Pmt/GDVRxcxKbLfqrvfhwwSMGTMC7YcsAeTVEDKJJwFBmMWuXc2hZ+UPqmQs9eiIRuqS+enSgKGurgL6vreefsba1a9vbsXWVfPRogUP/0Pg6V0XkpH5Igb7Vvmibl1VcY9V5Oexj9Ox/WwSLNvUR8RsR8YSjI6+zvygfSNvQLokD/cP+zNhVlrt1yQWbL+N1Iw8fH+4AycO8TA9FCOmLIWCVif0MlGFqx0PG8p/39wEUZNzcdtu2HkYdz+qQ0U6C5EzBdm+ExafQolMbTiYlmDQAMnuxc9/Op6mA1JlxXDoYcAWQwQpGDDMHTodxsC0mRp8nWtGxBk41Anq5pPRQFUBIZ5d2ff98GEiHEeNZ3Iwug1qM/hFTWLhwnm4/ugjdM1dYNOBJ9NCcfbsaSxbvZVVvqgaTYuU34mgOYFIV+4LeZkybJphXX4ISoaW73sEZQ19Vg3lWsPiziHq+6bfTrt2LVGnUUs07+GN9gbqmDK0AmdJv7kVR98wlveaqd1RW0m8jSO13P38psLMZjLK1ExASc75A6FMuJiIBWUaFqzNOtxauN5d5Xshrb7Vq8NYQuHr6wcSgb72IJ1ZjhlrK2D9eoJ5gzn4HLn2iiXeQ3vwKm7C7puqj927d0ROTjbDz9E4Rw4bhAk0N7eAST9/PHr5FQEuvAUmF+Q+sv+fF4xoQlp9wmLkSJ4INFm0EY6TrtvdfTK8vacKbE5YXRKydrdvyZxuuHjy6ivCox4xIWjCM3MRFXUAS5YswNixFdU6Wmj7+/vC1nYgli4NLd/Wi8gYBcU4FmKH7Ky88nksIoonQO83jNd5CQriVRDDwlajd+8K/C49B3oehAFs104yLPmrtCws3h2PWmXfcfNQEBYvXg57e96CcOKSY/glrQrrFvkY5VgBExH3zv7O57yFbZ2aYUR+50T/D+/zP3fzLVq0aCkrKyv9/PlzJmBnaGjoWVZWZiYlJWWZnJzMRuYWLVo0lpKSupKSkiJWbZkSwD/1/TZt2pTJWaSmpsJ96T/I+JaHvQv6Meuf5ORk9OrVC5qNdJGTW1ReZTMwMIC9vT3s7OxA/80fcXFxcHJyQqeuPfFLx4m1hnYH98OgQYNw//59LF29G0du/YRJMw0s9RSP2dm4cSMWLVoET09PvCqzQOb3fOyab4NxrsPY8Q4dOoT5qw7iR04h+nXWg3rdWpg+fXq1j8fLywsnTpzA4pWbcOx+CVrq10OId3ecO3cO7u7u6DfAHl9UBzAj94OLB0isZ3b69GlMmjQJZsMiISUtiyPL7dkxKAYPHowMKSOo63fCNJd26GWuW+OvcO7GODx8kYnkf1biRvRR1K/PqyKkvPsOv9Ux+PnlNZZ7dkHHjr/nYkLHOnb1JXacScRgyyaY62kLLS0t3Lt3j7XEXOaeR25+ER4emQZfHy/4+fnV6B7GBJ/Ft5xiyH84gqN8CeB438X4LGOCphqlWD2rZpIs4i5g/ortSPikjvq1fmLbYl7ljgu3OfuQmV8bret9xLKgSeIOxT53GTMJPzX6o55iARw7KbHfAcUYt0lMTkhRDohaNlCiShTtl5OTAwurwWhhNQUdWjVkuCgKet7mFhZo0HUG5OQUcGiJLRMSljRGjBiBF9/romHLfpgwqDUGWfISjlevXqGntQ2rRqsoyWHfwv4SXyv/uUeMdkeOph3UVWSwM9iu/KNv377BdnwI0x6c5tIevWpYDa18f/R8jIyMoKZrDv0ubujbsQmmOFckrT9//oTdpPVQaWCIZZ5d0bpZVYeKysecNm0aoqKiMGhSBN7/kMeccR2Qlf4E48aNY78dv/lrsXz3PXQz1cLM0RXVRlHPfuzYsYiOjsaOHTvQt29fLNh6my1UU2+sR05GMp48ecLkmR4kf8a8zbdgZlQfwe686r2w+PLlC0xNTct/e7QNVS1btWrFMHtDpu7Ey7RsrPXviSaNKiwIH6Z8xtxNt2Bu3ADzJwjXpDQzM8OnT5/w7NkzNn6OHj0aNjY22L59u8ClLNt1F3GPP7Lj0PG4oPlhwpJoZpm5aVaF+8rq1asRGhqKWbNmwdvbm23+/Plz9O7dG23atMH58zznDhKxHhp4hr17+xcNEDjnrrPPcOTKC7jZt8Jgq+ZwdnbGzZs3cerUKdB1c0FjNI3VBw4cgKWlZMoUCUmfMX/LLcj/SsPtYyTXU7HvxPkHkP5TCUZ107Fi3mRJf2K/vZ2UpMDF3z7D/9s7/i8mgEOlpKR8tbS0eqalpclIS0tTBXBTaWnpXHLHSklJiTU0NJxXVlamlpKSMk3c1/enKoCEWTM3N2FSH7GxdzAlIpaxyailQ4kLDTYEuC0tBQz6zEDiuUXs0qqrsnHVNedxAXiZrw/T5jxmJLdKdh4+Cu/kuqGkpIyp2HO6bKLu2d9/KqKjL2L5ikhExctCuZYsW+lTiysychVTmc+RaoD3RXps1Sud9awcsCzqmM7Og5Gc/BwLVh3CyTtf0b1NI7jZGjN1/F69uqFePXX0GB2Bt59yMHeMOQOESxKkfh8WsRqmQ1aABKr5xWQJyxJ97x1r6RGwmmPviTsuf4Vg9qbbSP+ah6en5iAu5no5bo0G1Ykrr6Gk+BdsDbIwbBiv5fQ7QfIM5269xdDujRHkNZBNQufP84Rgl+/lYYySo1eiQxt9RETUzHnEPeQyikrK0OhnNJYtrfDy3LRjH25/agQFqTxsDOQlE3+qArgwYhfe5OtASzkHS3wGCTySNfuuIuFdGeSzn2LTMh+JHtdYn2BINbKEiY4cpo+qEI49cuQQjsaXMkxcTSq8VMHyW7gBuhYuTFB5RJ8W5RXfmTP98LKwBVTqGzDHhJpoXQ4c2A9o1INJslDLkdrAFFRRs7TsCB1LPyiq1GcEk/pqtSS6d/6NXMZNgqKBM5rUV0DweMGF3MAxflA3soV1+4YYJSEzV9T3TXqD/fr1gkbz7qya2Z9kVCpVt4ZPCUEtLQvYddDEUOvqJXMose7d2xLEkrb32o60rwVYNKED6teVR69eXUEJZdTxaCw7mFLlNyzsIdHxrKw6sy7KtWu3mKwKCQ5TJ0X583nEXjmN5cvD0L+/LYhh77P6Bus4kIcv5QHC7pvkWdzcXNGpUxcmVswFV/myHLMOPwul2DGIzc3Fj5+FmLbmJmPwrxQiZE3jPYlAKyrWwq1b8UxaxsamJyOXnD0bLXB7IYTTe/ujyvhXWlYGz7AY/CouwQa/HlD4t8XPdU/mzq3Q5yPR6U6dzBgpiiqZ1BUi672A9bfKE0j+TtatxE/YfOoZqzhS5XHQoP5ITX2DixevomHDCrzh7NkzWPuaxp+ePSuqz9W9xHefZ2DDiUSUfHuOR5fWMDej5s15VfG1+64g/h2gkJuMjYv/bxPAvxXA/9EWsKGhIfUoB5eVlRUDOJSSkrK0efPmrWRkZKg/QBnGGykpqRFJSUk54kbjP4UBzMr6waj65IZBk7zHiqvs1JsDKmQWOHZb0/Z2yCsshbVZY6ZjJwoHyMnKuM/chPi3JeVMtTdvXoOEaemH3H98BCv1Ey6Jm5hE3TOxammg2rrvPNaffgMDnboIHGkGznNXV7cJFobtY7g1SWQ4aALs0qU9aDCcHXYCZ2+/h6NVRTuaszOaPH8f7iRn1cgDedWqFTh8KhpGNoECIq10bydOHEXI6o2spafXUAXzxoqvLHCJkIaGCr58yYFn+HXkF5bg1YU5uH4tTuCRkdvFz1+yzGFjXqC/uFdI5OfU+iG5lpHWTeDnbstwfoT3o9gXnYLL8R/w7v4ByOe9ZiBsSaPwVwkmh19HUUE2LOq9ho9PRZX27r07WH/xO6RlZMsdJP4UBnB26HZ8KtVDU9U8zJlUUami645NeI0dl1KR9/kZDobzqhbVBbV6h05aAE0Dazj10Ef/zhXG9Z8+fYTH3C1MD9C1rwF6tpcMH3n48EHsPPMIDYz7MFA/WS5y3zd9tv1UAqvi1cRqjt5x0gDU6+6F2potGJuVfxEzcaIbMqQNUa+JRRUcmbhnwH0+cIQ7NNq4oG0zNfg4Cba83bxnAI37QU9TDvPGS+auIOr7Tk5OwrBhDmhgbANt00EYYtmUYXP5Y0rQCnwpbQTdekBIQPVMTtKFHD58MMN8Nu4RyBa8RPYgBjdHWpg5Mwj3vzVl6gL8BBdhz4bwvZSoNGmih5MnL7BNOCF1W4PvWLQwCDY2AxASEs4+4zx7ueMKu29aTCxePJ/pZAYGUo2AF7TAXLFiKeswlEmRHqKVgE0gJaOkE0oyLbS4JkIFf9A72q9fz/Jr5bWaO+DnzxxmraakVAFL4VwzOCcT/uMs3RPPMJL879W8ebOYrMyKFRHo06dCzsnZeRAjmnBagq/SsxjLmvQKQ30oEa+AMn34/BPztt9lkIfgcR3YOE2QInIW4SdpkQ7g0aNRzJN8wABeBV5ccBJUOe9u40Xcbly/frscKnMj4SW2X3qHwu+vsS+kZooA4s5b+fO/GMD/0QSwpi9Kddv/qQSQVtf9+/dixIlDUadYFYnfX5KugfuxmVmPQZlmRzZh/Hj/QGiVjSqGJAZK7QrXmXvx5M0PAeNwjr01c+leRD/OZpW3cQMq5AEq3zMnBEpiokGh+5mGHKd9RYMXES7oHg4dPovQY28Z4JyqgxwgXdgz5JTwyVC837gVTI6AxFRJVJWCY995+K3A/TRlAbFVcd8h6WvdeprGBHxpFTvBrkKXjE1kw4cwXTZZWTmJGYbcBJGW/gOTwiiBykHOw41VzNBDdsUi+WMRpDKuY9uqBeIuVeTna489AcnNuA9oismj+0FHR5dJT1Bwg2j2uzt4GbcLMTF3UaeOZNXRzz/yQSzI/B9pcGgng2HDRpRfA4nIui8+CuV6TbDAzQI69VX+GAnEb8lWfJdpilYNf8FvrKA/LWepVfgzExFTiXxRvfDvo0cPsGDrdahqt8F0winp87TvuHCZOAO19PvBSFsBM1zFwxtoP8JN3U+vDTWddqxSThVzLgF8/fo1xnrNRDPLyWjbXIO500gSZJ1FFlqmg5ZAppZauXUaty9p1p25+ZJJFfXrULWiJu4c9NuzcfZAYzMXWJtpY2QfQeeJRcuW4Y1URyjKlmC9v2TYSlEJ4P37dzFhwmhomTqgoXFfjOprgF6VkuuIDTtw4cYTyEsX49SeyGovn9c5CMeIUW5IKjb/txrHS1JjYq7Cx2cyI3OY2c9EfHImq55yhA1hBz558hjmz5/NGMQLFy5DYVEJJoddZ+NosGsr9O7dDbVq1WJiy+RowTmP+Axtw3B0wu47LIyHRabkj5JALmgRPWToQLRzjmRyMiRTVTk4T2C/4W3RqpInMCkpEAvcwqIjtmzZxXYVZa3GOaJU1vujffZcSsZVcozqZ8isPSl8fb1w7dpl5vpB7h9ccEk1VUGJzUxjC40x5LccNL6TQAJIXuH07KgyumKiGXpYWkBDQ5N5C/MHMbj37dsFYjIPGeIk7nVln3Os5k+J5/Al+RKTvuE6sZz2KY2ta6dZoW7d37NelORC/iaAfxNASd6Tarf5UwkgJ4diYmKKdZv2MJC/Rl1FhE6ukFngVqO9HafhmyyP4ShKIPX580S4uAwFyatodfOrsoLm5GHGuU/Do5wWYkVuL1++BD8/HwYAbtLOHnFPM+Dh1KO8urJ06UJERe2Hn99MpJaagKzGZruaMQcOUUHA5ylTJqJnz96o22Y03mX8FLCtOnbsMBYunAv7wSORptCVTRCkei8JbGP8eFe8z62Lxm2HVNHoooojrWib9pgKZY2mYq+Tu35ugkhMyUDgptvI+/4BtT5fxI4d+wRu8cT1FJy69QFZb2JwdFPwb79jnM6Xj0NzjB3eF1RhPXWKp8LPWblJFWQi/sR8Js5KIq2SBCcvk/3pOaYMNkaPHr0EdnPxXYVaDU3h2K0RBnQz/mMJ4JQFW5Gr0BQd9IBJwwXPSYnM+GUXAWl5DDcH+vYW/LzyfZFu2sVknvRJ6OTO0Kgr2DpdsSoSzwtbQ06qCBtnVGgaVvd8xo4dgYIGNkxCZol7R9Ya4xJAYir37W8DHatAKCvKMFcJSd5DaiuPHTsS7YdFQkZGFpsCrARY50R2mLssAobWfkJtvcR9n9QmHeo+mzGJB3fXh33Xikoo7Xv8+FEceygNuVp1ETGlG+rwtSlFHVtUAnj16mVMm+YFHXMXJpRNrcHOrSpICXS8+/Hx8J7Gw6PevHZFoCpW+XyUTFJSuSh0M44nFAvo/VGFl9rA5DAStPIIzt3LqOLcUfl4CxbMxfHjh8uTkU/f8jB7822ml0rEHRoTqKW7du1mdOtmiVM33+BE7BsM6qbP/hF2397eE3HjxnVs3LidtYG5oPfVbvBgNOjkA3UVOazwqlpd5di7RLLr31GQZMeNp0TKWLKER8qgBcjhwwcwd+5CARF5KgZQQkasdGm6SL7gbOf4haiJBU0EII61zG1OcmA07ru5ucPHxw9XH6Rhz8VkRkzyHtZeIAGkfeZtu8M8lCf104LHWAc2lxw4cEzg/GvWrMK2bZuYKDY/O7i695b0R0mHlBQU5HJTyrsa3D5ui08BsrXh2rUWenYXjc8U99sQ9/nfBPBvAijuHRH7+Z9KALkVYceOXbBo+VqWYHADF3cRnAtH89ZdUKf1KOg3qsNwIcJi//7dCA1dCqfh4/AKFizBW+VdYRnE+UMaGBiiRZ9Z+Pg1r1rdNBJQ3rlzK9OA+ufua3zJKkDEsjkw1OH5/t64EQNvbw+2orUZOQ/nbr9lIsukXSUquAFp3DgPJBWbMVDyxn/9Ommf169fYcgQW+jrN4VRv7lMsoYmZklYu9Q+Rv3O0GxhCbcBxuDXyaJjjxgxFFnyRmhgZC1xa5mbIOIevMeyvQnISk+EnlwKU7Hnj2ep37Dy4ENkfUzElvkjy7XHxL5MlTYgqQSSTJjp3ALDhvQBVUpPnKgAcFMbV6qsBPcP+iAgYBZGjqyQZ6juXPHJn7Hu+FN8fXMHIdMGMWkL/vCaE4H82m3QsmEZ/Mda/7EEcOK8rShSasqEvl0HVZ0wp4WdRVZRLejLJmGuf4VUhbB7mTZ9Kn5o2EFWVhqbAnpVmRhpog8//hoKtTWxzKMTGtSrntBPrdru3S3QvN8iyMopYqM/yaZIlyeARPUiaY33sh0YXm/ZxE5ooCZWJICx9+ctWIg2g0OqLOjovqiy3t+2LyOC1FKQYxaPlSf56r5LctCZPH8z8yoe088QPf6tAnH7MI/edZeY842vUxu0kYCYISoBpLYitRf1u4yHmq6ZwPE4bcaLF8/jzZtX7PSNdfRgZ2vH2pCV1QBIRJjYtTIy0li97Rw2n0lmjkcTB7Yqv12uYuUxdQHuZ2jCoHFdBI6qICBUfi5Dhtjh9euX5S3O56nfsOLgw3I4yt69u7By5TJWqaKKFWeHyFV0hd03Wcq9f/+OWapR94M/5iwKRbqcOVQVChE+rUJbj9vmXtJnbDjxFB2M62PSIEEnFvIpJhkgYiuTDArFkSMHsXhxMJycXBAUNJ/9jb+KSa3kysEtBJtp10GQK28uGDrUHuTXXlmbjySSCBZEjibr1m3GidjXOHUzFc49m8HVrnWVBHDb2We4+eQTTNQ/Y9e6YPTo0ZNZtvEHV8UlaRmSmJEk9ken4J/4D3h7dy906xZWWUBPDTmKnDI1tFHPhK97zTyGJTk/t83fBPBvAliT90Xotn8qAbx9O47ZlFE1zHfmMmYzVnnAo1UneVL+yMpGxxHrUFoGNmFw4F/+CyTCBkks+AatRswruSp+ozThkbdjZmYmPOfvw+3krGqxTdzqmbS1pkyfgZLSMvxz8SJq1+IBn6nVTABsAhtv3H0BG06/EOuFya3YZ88LwYUUlSoTJF0j3W9WVhYmBx/CnaSvjLBBq93qgp4TWec17uiGOo1aYYZLVdA+nfta/Gs2mVWeeEQdm5sgzsa8xMaTifjyOg4ddIuYDzB/VLQxsjFlQEOBNkxNXjhfwhDl/kLwKCMMtOPBA/jFtedsvYP0L7lIPBsM6+4dGQ5HkriS8AF7ScT6eTT2RsxgYHn+CFu/E4nZuqgtk4vIAPs/lgCOn7MNZbX1MdBcBQ69q1Yr1x6KQ8KbAhSl38SeyAq8VeV7ou+338DB0O7qU0WMmNuWqrzDp4ahrm4HOHbXwYCu1VuJERxh0BAHZs1GpKGVnmTNRjIRPMwnJYA0Qe+JfgN1/Y6YYGeMLq0rwPCinvvWrRuxfd8xHhZVRALTp093aJhNRC1VLYkXONz5qMIYvCmaYQinDDVBuxY8+ETFc/gFh/FBaNCyP+y76GKwpXBJEv59RCWAHO6NJGBICmb2KDM0byxY4ec6GXQ8lwmzMNNbuKcrV/2nqtpgt2Dmzcu59XDXEhNzDT4+k9C2nQXkjN0gIy3FxjthsBKyOSNCDfn1EqZMWlq63KbNqp02RtsYgoOcELEsOjoGOfnFmL72Zrk7S+X7Jl1McilSUFBkuLzKFd89x6JxNUUGMvnvsWVB1fvM+J6HWZtuo2E9JSz1EGQCk+QLOYwQxpFchCi4rk3Llq2xf/8R9rdv2QXwXx8n9Bj0OS2aaSEoLyuDddN5iwd6n2hcv3nzvoCY8rdvX1lVleAVdP+ckLS7nTEG9jSokgBylnD5L0/i+f2LcHQcVmWsIwkYLy+yyesO0jOUJLadeYabTz/h9Y0t6NCyIUJDVwnstnL7BTz7LA+VwpdYPd9DkkP+1jZ/E8C/CeBvvTj8O/2pBJCz2rGzGwRXj0Am9CuMSMHhO/q5r8PnHCnGSDTUFZzACaxLAxfFzNAjiE74XKUNSp8tW7YQhw7tx+hJQXj6QxstGtfFLCErbJKmIQYyeRHr6uoxMWWKykLPZBVE97FgUSjOPCfsmBTWTesuUsGfWm40gS2L2IfDt7PQWr8epldy5pg6dTKuX7+KqXPWI/YlhK6mK3+JnBm6if0CyClrCm0RklbWytVr0dp+ETRVFREyqaK9I+ql4CaIfecScfDyS3xMPAe7Tjrw8hLU7aL9PZafRzEU0F37I8a5CkqeSPLSUZLjseIaS0KCRxowjCUx5Y4cOV2+++bTibidmIE3cdtRu+xzOT5Q3PGPXX+JM7fe4dOTEzi7d3WVie16bAx2xhZCCqXYGtgXMjJSAomQuOOL+nxs0A5IqzSBq1V99OxU1Zv27rOP2HjqOX58eIhdy9yZXIewoKrXaM+ZzOO5uuTdJ2glMksboqFKCVbNrt5cntqbQYtXwKjPjPJWbOWEgKwYJ/gvYwxY/pZbdc+DFhpX7qYwf2LCWnnwVbi4/Xx9PfEmXxvq+p1r7DRy5co/WH86BXUaGCFotBmaaVWFXIya6Ad5fVt7XqqiAAAgAElEQVQ0a6iAoLHi8ZCiEsANG9Zg06Z1aD0gCPJ1tAXgGty90DZxCcnIzJOHXMkPnD4oKGnCbcdhx3x9AyCr1Q1XEtJQWTSZFpMkEk0LQM4Cc95Yc+g1rIp15RJKrrpF5+HsDvk7EcOG8VQHSLeOPGynrb2BrJ+/WHucuiT8Cf/LlylwdByIli1bYf/+o1W+5iv332DvP2/w7U0cotbMYLhC/iCWLpFQyMqSkjMit3DBVTdXrqzQ1aNFS9eupPRQxhJOOt67jBwE77jHoDQEqREWtBCkit9UR1N0bN+aOSDR4vnevSdVftt9+lgiM/MzSwAPxnzCgxdfmP5kD4smVRLA1E/ZWLjzPpLOL0BeVkYVEWm6FpIGIqw56cpev36HObCICw7bTF7mA3t3ZN0L/rh08wkOxmaiOOst5o3nQX7E6cmKO6ewz/8mgH8TwN95bwT2+VMJIIls0qBA5X9bZy/GpBU2uXFtjF7OgfghrSu0akesNcILUoyfG8V+5BzQmf/iOZ/glq1MULe9N5MToDaDMgmo8QU3EBoYGGGizzz4efNIA1SNoiSQi9OnTzDiBuEENdqNYZ6SAS7tWCWwcvAkGzqxwT100zkcvJoqYD7Obc/5cI4YMxlJhSZisYq0H1eFaOe8GjIy8tgU0KMKFolbbbcbuhJSckoS4aO4iXFd1AMGZCYG7vihluUreP57nLP+EtKzZaGal4DwhTVnAucXFoNEWmlS8h+sx+ynqF0fFXWy/DT/3OeJzWa9jcOrW3tx5UqcRO3mDcce4F7Kd2Qnn8KRHVXdSiiB9lhyAkpqjTGfJtxGdf5IAjg6aA9kVbThba+H9q0qfFO5G6JqJ1U9CQA+trsyrK0rtM34ny21ItcdvAbtNoPg0E0fA7sJ4t64bQ8eOY6dx2MhjRKc3RtRLWZv8+b1OHA2Dvqd3coJUZUTIXpnbYc4o2HHyWhUTwHjetUXOzkRy/f1N3nomDmjsmMDd53k0nDoYgKTJept1hgj+oiVHy1/HEzy5v4v1FLVFulTHLxoEd7JdYWCTCnW+1NLv3r1L1EJYEjIYhw4sBfdXdcgt0hGKCv30qULaKRnglXHkpGRdAlHNsxDrVpVW+Vcu/bQoRM496gQT15/FVqpX7IkGMTAHjB2CT4VqFWxXOMexNq1EaBqq5eXL9zdeTqSnBvHeFtjdDXhVWs3blzL/hk92g3Tp89A5JHHePiSNz62M9AQeM/5XYo4/1uBROXuOxy8wlsIBnsPLXcD4t+Gw/HOGtUeLRpXiMJ7eIzF3bu3QX7FbdpUaClyriN79kTBxKQNuDZ2dcQjqqgdPrAV7Q3qY+6MqWzxz/mGVx53OfeR8PC1iPugitfp2Ux6p61xI4EEkFr6Fy+dx56Dx5CfxXN2osrh0KHOVVr6HLuYxiYao8TFigMP8PztdyRdCoHHaGcmWM0fP/MKMWV1LEqLi9CuzjMoKiiIdbwSd05hn/9NAP8mgL/z3gjs8ynzR5kMpP+zEwhV4qgiN3bsBHTsMwpbTj+DVVstjO5nJHA+TupAr1V31DNxQUs9NfgPF5R+4FoABDAu0BokUkKBKnu0wv7+/RtG+O9C0odcoVIUx48fwYIFcxh2JrdYkcnGGDZRQ8smapg4sUKy48eP77C27gZ5eQX4LzvEZF1IJoLkIioH144gXI3bzC1M7b+ynybt8+ABz33E1LQdGnX2ATFYxWG6yAvTZ9o0kbgrOi6xpEl2oZGZK1Qbm0okg8NNjEu23cbtZxl4FbsRs6aMKfcB5r/HQ5ce4WLCV+Sl3cHBNYIrXEleuswf+Zi58RYaayrDw0YLdnZ9YGhojEOHjpfvzuF/pH99xf1jcxEZuQGWlhWyQaLOs3h7LF5/LoJU2gVsW1PhCsC//Si/CMhrtkH/9qpwtmn/RxJA1zkHIVe7PuaObAV9nQpBW/7zeq+8hLxiWTQsiMPS4DlCb4GIQfFpSqwVW9mCi38H0pezdRjChMCPHj0FbU3hFUXahyATTz9KQ8vEvlzeRFgiNDPQDx+VekJWvhZMlZ8y+EV1doyERS2t175cWoakmyoHva/+cxbDqO+Mais9wh7Gli0bEJOmBTlFFQEtOP5tSabj+ENpyCvXEyulQvuJSgBnzw5gmMbOo9ahsFgKG/16CLWXKykthfvyaJRBGnbGORg6eIjApfM076yYxiexSuduu8swyMLIPNzv39DcFsrNbdFUrQAuvQ2qVITc3ceAFrRk22dhwWu3rj7Mc7MIGN4Wxv+ycDkpG2LUE6GKFnKkt8lpGvJXAEXZp3E3Q04ihHV+Hx+F/p2bsoSychy8/AJk2UbuL6QtyYWDA09X78IFQV09zh84MHAOhg8fBQ5H2NWkIcbbCmJ1uWMRmWPW1FGMjbxv924mL0O4afIqrhzkGx0RsYJhDz/IdcLX7EJETu0GfV31KhVA2ndG+Alc2h3IDhMURPjEqrqmHHll1qx5AooCosYfgjeRritBV+YFBsDWtqp8jFtwFKCogQ9XF6O2spJEvvKSjKv82/xNAP8mgDV9Z6ps32fitrI5I1rC2LgCvPw7B+UqXdRObG5mjz2XUkSy3mhS+ZCeDvNhq2m4ZlW7Wv86E1CbysFhALMNO3TkAvzW36pCAOG/Pq5a6Oy+AC9zNNG1dUP0MJITqGzQhEuMXAJOP3idg7RiPXg7meLr63sCOlN0XI7ZF7R4A84/LQM/OJn/vJykBGGAWvb2Zatwv2FtmSUWfxAOh1oMJSWl8Ji3D1dvPWZVn2G2oltZJAcRGrkVhn38q8UhTpw4Dq+/K0KnvROs2zfGyL7VV164iTEg8joTZqUV7KplwUJX/i8//MDSvQnI/fIGG2Y7sMmuJsEld0a6qhjWtR5ItqcyC4+YgZ7hMcw9JiFqKsa7TYC3t6/Y0/hH/oNvedLQzL2BkEXzhG4/c8l6ZMoYobFKPhZ52/6ZBHD+McjVUkW4VyeoqggnUKw7Eo/4l1nIfHoMJ3ZRBbdqS4meBQkfK6vrMXYnkaX4gyMkUDWKSAEU6ppacBo6RCghgT4fONCGiUpTG5ZLKoUlQpRM7buaxhYNn26EsrYePy6T/zpokdGpUzvodhwDVZ32QjF6tD1pgFr17Ia2jqugIC/H2oUy0jzXGnGxdNlCvEAXyMpIYQufDRz/flQRD1h1isnbeA8xQXsDQZxg5XOISgA5Rqy5y3omKLzJ30pkNXH2+sv4lC2F/JRj2L9tjcB2HJaQ5FqCFyzFpJXXmdsKHY+Oyx/UyqTqd+b3n2jjsBxfks6jf6cmmDypYuFJrVNazFHLODb2brmGHqefR/g7wuFRMPauXR+GByQLNig2wNK98SzxphY6fwIYFMQTOQ4NjRAqtbX93HPmA/wmbhs0FHJw+PCpKl/X/aTPzHfY3FATnoMrhLGp1ZuXl1dFV4/sAYOCAkBQoMWLQ8qZupQ8chaC3Em49/zsubN4/44HyyEh6Q8f3jNiF7GAK0e5V7KZBWQM3djHpGFIntf8OoDcfp4BwaxKmP0xEbbWXcrJKfzHpUUBLQ7Iz11YpbTyNQRuuoXP3/Px+EQgNqyJLE/Y+e9rxoKVSEtNrpGvvLjfirD3XFPzrxVcTZ/b3+35noDd9BNlMh9OYcvaqq20mjwofjq9atMezKdSmKwDHZPDzzSz9EJdrVYCgzq1Qagd4uIyCr0dJmLd8SdswKeBX1hwbeBmRm1Rt60Hk1oxkHvIwMRcZYPTDCQB0aN3spH07gdCvbtDU0WuSuWTY7cNsB2E7+oDGEiZ8DUkWM0fBw/uw/Lli5h0wA/VXiDJBmEVANrH03MCqEpCOMBDx8+gcX0VbK1GX49W7gfO3oJepzHo0VYLYypVUbnrIA/iPVEnYdwvCNqayhjTo161LT1uYnRfEs2u98nJ2di3a5fQtgclZx6hlxmeZ2QnGfSxlkwln7s2aomtinrEtA9t2ymzpJ4fHM5txwnBJkevQOvmDbFp0w6xr92k0Ev4VSoLk1qPMW2q8IRx3+FTuPyqNmRLf2JL0MA/kgCOWXQWMnK1qojm8l8w+R/vOJeEb6l3MduNVyXixwBx1aO2Q8MhI6fIql6kOSks+AkJZgOmYttS4c4CJKVCDGDD3n5QUm/KmPXEsBeWCBFZa3rQQpQWFYqdnDjSQRu7OZCtrSU0WeWum5ibcs2GQqmeLuaPldy3d3rADPxQ7wcVRWC1r3DpHEqiHMbNhIZxf/Rq1wCjbKpfrIpKAKk9+STxGYz6zkRtRTlsmS+aoXn0+kucvfUO6U9OY+YEOwGXiDFjXEA6jiTH0sq0I0jnjhxQlk8ULvkRGRnG3Is6DQ/Dw3Mr2banTlZUtzhFg9at22Dv3qjyV4EgFASl2MSnLEAfEhOYoDS02B47biKDWlBiSCLUWo1UyxOhESMc8ezZUwa7ENbajDj8CI9ffcXHe1vx8VUCLl68jgYNBCvb5AhCRBNyCQn3JmKRFJO2IT9ydXUNXL58Q+DVffs2lS32OMb/6ZtvcDz2jVDRbW7HlBfJcHbiOesEzVmEJYvnwsrKWqg7EM8f3hyKymowHLAQ6nUUsdKri8jf99rtB5HwuT6+pt7BWJsWGDzYscpPLT09jWGUORMDcQPQ1MhY5OQV4cHhqTh+9CT09Kp2iPaeuIKzd9LLfeU58Wpxx67J538rgH8rgDV5X4RuSwlg2oPDuHhIkB5f0wNTMkRJ0YIFS1GiZoozcW+Zxh9p/VWOpKRnGD58CDRbWDFskaWpFsb2N2KDGIGWCRC8detuvM6px1ocwnSouGPS5EDVD1o19pmwCV9/liAzbgUjblBlgxOo1tTUZAPc1MgbyC0oxoHFA1CQW1AlASQLNxK+pTbwCL/tePDyG/gxONx5OVHrefOX4PyLemzlT5O5MAmMPXt2ICwshEnanD53AVQcuXHlSpVqAXdsaknceJ6NRq1tq713SirJ0qm9UzggowBTpcdQkJcV2dLjJkanWWfYxPIgagqiL10TKVrsG3YW2UW10Ew+BUHTJfO35e6BrJgIBkAJbHcDOSaHU3mCo225FlPq7V3Iz3iMGzfuVwvEZu250KsoKSqEnVG20JYOHTf1bSrm70qE9L9Jlo62mtAKgaTveeGvQkwKi0VZSRF2zqkqmcEdhxwfKCEgHKBO0U3oNNZhkya3GCGs7IIly2AyaKlQWRX+6yFCQuaXb4h7/oNqPzixYwUUFQTxrbQ9V41u77gSkFUqd24QlQgNcx0H6cbWYicnTnbDzCkcZTKKWDfNsrxSX/m5EfzjZkoR6hv2xPBezdG3g2T+1G6TfYAmDtBSk8PiiaKdPiZPn43C+r1BXfAQr+o1FkXdN7Ut0zK+Qb1pV9RWkseRLctFfv1PX39FeNQjZGckITfpCEuiSPLF2dmBjTVkeXn5cizefMoD4eSo8k8dAGHBETxIy7AoP4ttwk9AI009Wsy5uXmUu9rkFRTDOyKG6R7SApQ/uCoYR+5YtjceLz5kgXB6XdrpsPecOg6UKFHCdOvWAygqKla5tIU77yH1Uw40cmNx6fQBiGqBztgQx2SzlpPVn2otcE5MwnT1aAwnRyhiNcfE3MGZOxlMMoXGdxrnhQW95zeffGTn0Fcvxa2YC3BwGIrg4CVCt3dxGYLUj1ls4UsdGnIR4a988u/06WsuZm+5g1+5X7FnoaPQii9dM5kYkLsJORWRY1F1QS5XVLV9EOVThanM7Zf2KRPjpy9FWVkp7Ls1Y8zv6qAWko5D/Nv9TQD/JoC/894I7EMJ4Le393B0rb9EDChRJ+RYYWFhkcwui2y+hOnXcfsTEH5xaBha2y1kZt60ukyIvwt397HMMSI8fA22nU3C5wIVBI5sz+zQRAXhiNatWw29ll3x6cNrgcqGrq4url27AsIT+vgHM1mDBmq1sHVOX5EJAckCkDyAh38Y7n+oJbQCyYGd124+iO1XvjGs28LxHYVeIseQJgsiGjgoGuvqw26ArdCWHjGH3xY2QT29DtW6B1Dlh9rLzbpPgkqj1mJbejRgKNVWxLCgcyguyMaTk7MY0458NYXF2oM3kJD6C/hyD9tXzqzRu0a4IUrubDs3gal2KRwd7dGmjSl27+aRe7gghwSq8n64twefX91iba3mzUW3srkEqyA7A952jdGli/CkgQZ1l4BNUNIwwPh+enDoY/qfEsCPn78gaPtjlBRkY1ewQ7XPYs6WOKR/LcDraxFQVSyCtDRvMUJBbbkbD1PZd2ZmoAkvEZVt2pZawH379sOYOXuQ/S0DI+07wbG/YDJA25EeZUTkataCVVIgV4fu5d6wwibGiIgwnLv1BtKy8sy9Q1FB+KKBmObLQpaindNqkW4R3IMgyaZFq7YztrBpM3VMdTKV6H1xHOOJOsaOMNGrg2mkoC0iNm/ZiLgMPcjIymK9X0+h0lHcrqISwJ49uyC/RIFtRhqJMZdF2w+Sfh35mRcXFeHhUT80b9YUCgoKePLkEdufKknz5y+ukGoRgnfmvxVqPz968Qk5Gcnsz/wVIU6iiqrfHTvyqoiclZkwrVQe9rkbvn//zmw3bybnMywfWfyNHWjC3vPUVF4ljmzqjh07K/Sp+q+/iW/ZhXA2K0NggBfbhuRbqFLPH1tOJ+JWYka5dNCdO7dA8BNhunq0H4njU9IbEbEeydkNcOdZBqYMMUE7Ea17es9/KrZgRQOFrzdxK3ofw5L7+gonnxHO8Oy1eJCcD3UYqDskKgEkHK1vZAzkldSwYnIXqNetmgjTNZMDC0FvSBKL5GJERVFxKXO5Ki78iVeXFuDmzXiR29qPDYSmUV+M6tmIMYLpt/wn428C+DcB/M/vEyWAv/K+g3CARkairdTEnWjaNG9cvfoPU5xP/KLKdJKqsz6iyh15A5doD2BYqClDWmJFsDdrWZAq+7fvP3D+zjtotbZllQdRbTK6LmqrUQm/TgMDNDQdKlDZoNUlTU5kraTZtDO2nHmGzq0aYLaboHUQ//1duHAWgYF+MOvQDVLNRkJWVorZwlFVkYKunVoghYUFiNxxCdvPp7BjutsLb01RMkLyBTQYceE5ayM8hlkJfazUTpPVd4Cyhn61bTfamVqrn3NKJWrp0YCRXwJ4hl5B3rd3yIzfWqWFw39BdxPTsPF0MnI+JWL/iomQkxNsg1f3TnAuAlQF1qubByenQYwIs2vXAYHdyD916upYJJ5biILsT2ItmQjPs3j3feRkpCDUpy8Di4sKr7lrkK/cCkb1i7Fi5tD/lAAmpqQi7NhrlORlYtfC6sVdNx66ipOnzyDzxXU2UVBQxcfaug+znarbtBcatR4gVmicu6/F646warhK8TusnjO2yu0GBk5HzN1E1tokXTvSt6MQlQiRyPSskB1o3N4RHvYtkZ32UOjkFB4egqgT59FywDw0aajCWruigpKR3n17oc2QFVBSkEOkb3eJcIADXDzR0NQRvdprYVRfQcIY/7moyhmyLwEqDQxEMvO57YXdN7XTnZwGQkpGDqXFv8q/E5qUhQk90wYrDz7As9Tv+Jl8HCkPogVunRIvahlGXX3JuhSVSRKVn1NcXCy8vD0ZmUZOVhoDOulh8mRvhp+0tu7OqoskQ8JV6ghTTAxf8jcnn/PKERwcxDzBaaxs1WEAVh95DJOm9bDUqzt7z8+f541h5G8rTF+TxiRKZEgfMnJKp3LZLX67Ru6cnOMGR+qj89L5+QWf+a+PXG7Iy9zVdSzKtG3YMxTnqsSJz6vI5uL63gBMneqPceOEe+nSgn5R5F406TCK+cmTpZ+oBHDHjq04eecLW0xXp33J4QDpXSAPYlHBMf3J8vHnkx3lns3Ctp+6YCNyFAzQTP0Xgtz/bPLH/b7/YgCrm4X+fib2CRAJREFZHd21MzDO1UXs9qI24GQBiP5//YUU82kU5iHJvz8x2nzmRUK7nSNyPz1B8rUNzFycqkAOQwbia1YhhkwKw4wR7cVeF8939yS0W/VFCWRY67G2ojTDytCKmdh6Z+9m4nLCBzZgDLMxFpkQEHGjb19LJvEyZOp2pGYUMO9UkjKgIGV9Utin1bXLlNUsUR3Wqzlsqml7cRVSi8698D5bEaoqCji4cVmV++JEoA36B0NWQaXcXF7UA2CT9MmL0O/iJralRxNjamYeFmy9je/vH0AuMxZRUSdEPtu8giJ4rbrOJkyvfhroYNFB7PfAbbDj3HPEPv7InBFUZb5j2DAHtGtnJqCaz4HA90UdR863NLYrCeGSI4ioSZnz/ySM3cEIX6GtLe4aNu6Mwt1PGlAoy8aRcNf/lADG3kvEjssZKM1Nx85Fo6p9DpxVHflcv77JE5elig/d74wZvmhvFwjU1sU0Z1OYNBVPrnmc9BYRJ17hV+4XbJjRv4q+IJEMCuR10KSjKzjRYG6CEDYxUhV60OipLPFq26wufJyE67ORZmdCcgaa9/CUyMea5DSk9QYzHCCHQ6zuQdHvbJBbIGMuO1o1w4BOgnZj/PtSK9Nx4jyeIHRnXQzuIVoQWlgCyOHWGui3Q8abB+XfSXX6bJznq1XbRtAofcmq97169RF4/hyOTtxYx5E3VFqNYs/HSu8HRg8fwshpRFLr3bsvVq6s8B6mDsq+6BSR/spcW5mwfTt2H8HU1TfYQvXg4gHI+pGH8PAVoESMrC1dXcdV+RpyC4pYhVNNRYExq8nTmFwxKAiGUbt2BTGJq0Zqaygz7UTqtlDXhVjDJEdTORITn2DkSCdG+mrROxAfMn+KdZ4hrLV3RCxKSoqRcHga5s8NZm1gYUEyT8M8g9GotR0Gd9PDwO5NRSaAlKjGPvmEJhYjq/WL51QdyLuX5KhE6QFmfMvDrM232QJaNTuGFTxExc59Ubj6RgXqMpkInyWZy5HEA+y/C7y/CWBNntj/T7Y1NDScXlZWRr/qMgD3tLS0JmZkZBiVlpbSbFO3rKzsaX5+/pj379/ni7vlLkNml9HqqHZOAiKX1FzvjTs+/eDph0/U/SO3s5hOkihhV/5rOncxGlH3SyElJY2PcRGw6tYJd+/eKWc/1m+kiyGDBopMCLhjEXt48GBb1GtijiadxqFXe228uLmLlfUtLa0QGbmRuZMQfZ/EWC1MtKtNCDg5A9tRgfhYrCsggnv+/BnMmuXP5FM02o5iK1xhbh3890ltDpr8u3azgnTzEfiQchc7Q6egbm1eS4oLhkHs14dZaxHwmryDqwtOyb6hcR9AWo7psBG+SRjehCbGO0mZ2Hj8CTKS/oGecqZY9fspoWeQW6oEQ6XXmOkjfEUu7Po4fTKSsJAq+MQwn2Zm5ti2bW+Vzdftv4wtobwWlLAKhMD7EvcKR2LeIutNLI5u4tlNiYoXL19i8YEU1uo8tMQO+UIwn+J+H9znZ67ew7E7OZDKfY9ti6oXZSbiTMCGOCTGHUXmyxg01dViiQNN2lTh7jJqLQqKpRHh0w11KpGLhF0PJQ8TlpxGmWxtmGt+hOf4CmFujqhh0HU0aut0EpAiElUBpHMEzpmDz7V7QVa6FBv8ewmt1pHWXba0FtP3o1axc6/qXTjIuvH6s59oYNRbbEJH10D4XI+5W5gvryTOJGMm+0GmiS201aSxaKLw6jkdV9h9c0B/dS0DyKk1h15DFbRtoVktLotLfAgyQkxcYfqDAetvMikSgrCoVvotV/4uiSG79sB1Vv3t31EHjlbN2e+ChJ0JOmNt3bd8F66yKExaijaiRS1hGmkxSknIlRcKeJmWhaWTu6KRqgI8PMaBWrWEpTY3r7pw+/g1F0Fb7ghUdsm1hNxLFi1aDnv7CpgDCUJTlZ6w0zQeLV88GzQGEkyH3uvKQezxHj06Mvyh5dhNyM4rwlpfSygpCoeacPuH7k9gBD0SWF4YOEWAeFP5HGMC1kBGvRX6mChhhF0nkQkgFSYePX+NVrbB1RJ16PiE70xJScK+fYfRqpVw0iGnbkAdCFP1j1WcRfivkwTfhzoNwWCHQZg9S7hagaTjj7Dt/raA/wdbwIaGhhZlZWVbf/361TE1NbXA0PD/a+8qoKNIuu7tmSgSCBAgBNslmQGCu/vivtjy4brY4q4LwV02OCzu7hrcXdMDhACLBSdGwiT9nVdDh8hkZpJJSIZUnfOd/2fTVV3vVk3363rv3ateRXRzAOit1EcUxTMqlepvQRCsRVEcYWyDFazYXKKvI///rmDTvEFMgig+TeaFOnz4JBYfeIrHL/3h0UUnSG+srdh7B2fu+IG+tNvVzgdvUUSrlrqqsKUrt6Jk0ZghEH1jkmrBvsPHmTqGrbWAB4c88NbvOePWUucvhv7zz7B8J+KNypolnUEHkHR8f/+9PtKmdwI7jVMo2MNv1cpFjIiV2tCho3HudQ72YFzQryJSRSOgjjzHoKBAJjVHL/MOw9fgquY9O4msVixqwjFVF/YcNArq6gONStHR+KRJShJS6XOVYSL3FHKV3t/VG9KjB8auc0+w8+QjPL2yEeXyZ2ShcUNtwcbTuOb7FeFvruLfmYONLWXE3ylMS+Ha8Z1L4fMbX1BFIr2I6IUUvY2bNA0X7r7C16B3TN+XKgupwlBfW7rjEs6LAdC+OIPV8ww/VAnr1oOXwD6TG3o3UaF43uxx5rukgiXSow1SZsHRu6GwDn6CxX/HPFGJPtctJx5i/eadCA16h1e3d7NQNYUhc7kVQsbifxotAIk+npyPGfD0LNbNHQbKJ6VGtC5UkFS2+QSEKDNGUdYx5ACSM7pg90OkzviLXjUema8zZ/HmyORWVe9ejT5HGnPkpHlwrdwL7rkdMTAav2f06+/cuY0xi48hvUshpuaQ/xvXXWyb7J+F/+DKBxWUCmDhoOoslBrbizH6yadceCbzj9Jpo0PoA4N5WbR/iMuSihPGdyqF7NHoemSyc+KvIyorYwTV5BD90bE7MhTpADshGGWzvcHMmVPYRw9pZEc+dSINXuLQ00eAL9u8ceNaTJniwfIG6yMTJ+IAACAASURBVLQZjU37z6FWmdxoW78MK8QIDAzEqVOX9CrSiE8/xFBrksOgNF70anyigiFKmK4N8mPh1L64desmiARbrdYfto8L5Y5sj6x88ureIUzs34JFDGJr/aZvx+ew9MiX9hmG9G4fqwNIqUHk/FfquAQBwVqDPJIUTVm9eiX69OmPzp276721HKr++N9NNCieNtYwtdyZ0n7SpUsf8Xs1+QFqwoXcAUyBDqCrq6urQqFw1mg0p2mPqFSqgYIgUPJZZVEU89B/c3V1zaFUKk/I/za0l3K7FZTIYaI8wGEt3FilZnyaTN5MEkAea28zmhEKLVCIwVgjcuRRSy+CKjyH/684Fi6aj7uP37OXZIVC2UyuniJZHwo12uVpwF4q/93YjvxZJcyevQDn7rzC8n33WU4N5SbGljMSea6yHnHl1pPgH54ezStmx/BeDSMuWbhsK5Ye9WOVcVQhZ6yRZBblr/QZNhtnfW1ZYQsVuERudEowe+UenapCiexoXcO4qgJxFz54EYw8lXrolaOTx6cHxpK993H+9ks8PPkPmtUph7/+0gm5x9ZuP/TD7K13EPDmIVaObx1Fm9NQP7lykE65nvqIaNOmOdMUXrLk3xjd9u7fh113UunCP5v7YvzfE0Eca/raxOXH8egNkMb/MuZNNF6Y0mfsPwi0zwf3bOEY1L5GnB3AIkV0L7gmHUfhSXA2pA71xfwxMcNe0ef6/E0AIwi2Fr7i4sb+gBSOVKlSocewf+B1L9hgOEqf3bKkVkjgO9RWBaFtW90pZI8enUHVuuXa/IMvWgFz//pOWWTIASTOOQqpZlTVRPn8jujcMCoZu2y3a6UecMhWEANaFEYBI+Fq0tOuWr0S1HUnsHxRKkaJLB8W3a6TJ4/Dc98TpM6Qy6SPRZJdnLTmCtI4uUYhR44+rj67SbWCToPK1OuJ0LQFTDqhpHHlkziZEJ6ceJnW59HzT5i45mqsGsn61pGIoWft+o8RX9/ZPQqhQe/1EqCPW3EJT/0CDOJCH3/16v0GCl8OHTcPq7YcRMZ09hjWoznatm2ll3ZJntOl+6+ZHniFgs7oVE+X+00Oau3aVVjqS3Taknkrt+O8Jhg1yhfFulld2T2jh4oj20u5dws8/2GRDDnMbOz5KOMZ+O4JpvSsbDC/d/ACL7wLkADfbVi5+B+9z/PQ0FCUKVOEpYm0G7oal+77GTxplvXsSdmEFE70tauiH/7ZcQfvHl9A72bFYvDIGrMxIf/OHcAU6ABG3kB58uTJrFQqLwqCQBwu9UVRrPTt70q1Wh0oiqL+kqdIg2TLlk0q2nQyBJt0KJzuMfr2iCprY+qGLVu2GL58Cca1a/cw4J+zTJ/SEG1E9HH3nffFtpM+TDD9re9VOOYsxpwj3/sX4lQ9RSGxUR4zIeRqACE8FB5dSsE5cwZG1UDSbpSTVsY9i0kOIOVskfZmWmd3/FK+G2wlf5zf9N3pmLnsCNYdfYBKhZ3RoY7xAhqqfB4zZjiq16iNLy5N8SVEixnRnGSS9Npz0Q9ObpUMUidExo94AxcuXoiizWZCqbRiBSu2NjG55eiBMWH1Vfg8/4R7+8fjrz87MR5DQ+2rNgzdpx2DBAFtylqhelXjSh003p8zT4Aq5pYOroq7d2+hbduWINLs2HJmKMFffPYRD08uQNlCuTF16iy90xo4ez8+hNghj403Rg7oaXR7Ll+3HWefpYcNArB4eMN4O4DVmw/EB2UeOIb7YuYI4w4gTUw+Ba3ubgdl4GNUqFAJW8+/Z9xrtA9JKtHURqdRgxacxIfAcDw564k5k0azgpKDB/cjXabsyFNjRIxTRUMOIN131ISpeGFdEraKEHgOrh1xgkXV5UQhQs29/t+wTeOEGT3LIYOD0ccJKIz4XHBnVZckCdegWux5oyQDt/OWNWxSpTcpREihxaZdRiBT3tqoWjgz2tbRHxnQZ7csi1bx9yEItM6NdrXULF/SWJNDflkypMKkrqXZ6b9M6yPn6ZlCwh75PtNWnYT3yzAE+R5Dm/qlGGly5EYh156zTkKrlbBoUGVGIRJbk4mX06V3RKhkC0kS0KZVcyxbMo+pZfTtq/8D78iVZ9hw9AHLu6T8S7nNnTsTROpPlbBUEUuNTrFq1vkNWdTVkbd0Y3gt7wpHR0d4eZ2PdV6U6tCxe08Wes2ZJQ3GdTSeP0wHAJ0nHYSgtMG4tgWRK3vsv4/es08hKESLW9sH4NgRL7i65owR0aEoDtFPkQJRn5GeIOJrQ9rbuhzP8vD3/8y0hkk6LnqTeT79NCcwbVCLGBXTxvZTQv6dO4Ap2AHMmzdvbkmSiFtibVhY2EmlUjk1mgPoL4qifrmCaA5g3Q6T8OpLekh+F/DvbKNR4xh7mPJRihVzZ6GGM2cuM2Z8SupdNqyqXl48fT8Cyptac1jEiesvWA5P86quTN4ovm3+ttusEIUY7MsWyAr6N9HN0KkkUUBkzJgW7975G3UIiJh6/oJ5uhdh6ozQHJ+DAD8N06ps0msRUwAh5QVTXuZU8Ve1ankWDug4fDUu3n/L8qpkO+l0sG/fnvilXBfmAI/tWJLlKhlrFEqjHMxCdYbAKl1udsJJJ53RG+Haa/ZpBAbrSEynTp6GWrVi57ST+w+YuRcfQlPBRfCGxzDjTldIaBj+nHmSkXLP7VuRkea2a/cHypWrgIULl+k15xDpkh57iDcPT+OjuA8nTpzTS0/TddJ+aAU71Hb7iJbNokp06RuY+ABHrbgBazsHzOxdDhmIcdjERk5XkSI6x75q82H4pMwJZ6snmDTYeAiY+tD+o31HKg6kV0qpAgPmn2WqF3QyKqvfmDgdVm266fhDfHh6lak3yK1W8z54o8yHcgWyshCd3Gi9De3ze/fuwmPdXdimyYSRbYvANbtOxYbySolfEgor5Ks1DI5OOVgxkrEQJ/Ul3dvFm7ygtEmN3FkdsHjWuFjNmz9/Lq5+dgeJpSwbalzjlwbqPWgUAjNWQ3r7cMzup19rWZ/d5GxOmDAWVf/4G58kot8pgBLqmL+R6JOVw8BvPn7BqHbFMai3Lv9yx469WLTzDi7e9zP59y+PLe8LUskZGi0CQNe8+/QFgzzPsZy1qUYiC3QiSfnIGo2OXoaajV0ahH4JwJQpM5i6hb5G8nH7z+u4WiNLvBEXXt26NVg4eufO/YwTj5RPKL+TPgToOUgfj645M2Pduu+k1dHvQUwJdX//H5xLdYVbttQY0V4/RVb0fr/3mgGH7MXQrpYbqhaLySFL1xNHIpFfC+FfcHXzAEyYMBmdOrWL8TyXn6c1a9bByLFT0H/+WaSxt2an5NEVW+R5jBihU08ZNUq/bJz8G3x5Zx82LxzD+CCTquk+dLgSSFLhn2T3ValURQRBIOdvkiiKnt9Cvl6iKLIsbTc3t+yCIBzXaDRG44d0Ajhl/npsPvsRn1/ew+6FPUGVUHFpFDLInz8/nJ2dcf7CJTQduof90IhsOa7t/ecv7BQwenFEXMd59ykYfWacgH+QjvKBWo/fC6FuuV/iNBS9AGbMmIFNh+/AuVBTONp/xdMzC1C6bAWI2lJsrqvH1UZq+5gEvfpu1KFDBxw5cgSDx87CMdEOzhlTY9Gw6uyB5OLiAghKZM1fE7mLNsTmSfUZPYSxRg/b4sWLIyyNK6NGKF8oG4a1j0nZQVi0Hn0AQlgwrm4ZiO3bt6N0aeMP5hXbL2LH2Vf4+OgYlk3tBbXasGA6ka92nXSUJZgvGFwNly9fRuPGjVGtWjWsWbNGrzkv3wai2+SjkL4G4vq2IdixYztKlYp6akAnik2H7EaYNgTj2+VBiRKx88bJN6H1q9SkP2wz5UWnJqXQup7xinK5L1GbFCigO2Wq2Gw4Aq1yIH8GP0wd2dXYkrC/00fNgLkn8ei/T6hTLjeCgrU4ef0/VCuRA/3/MH0e8s0CgkLRfvwh9nH17OR0vHnpy8LKnUaswrk7b9CrWWHULpvbpLnJFzXsNB6SY2Hkdw7H1EG6sPuoUaOwcuVKuBcuifdhmVGlbhvM6CsHFwwP//z5c1SoWgcKpQ37bYh3LsXqOPbqOwRPrcojnT2w1iPqKVhsd1m58l+sOv4WVrZpsGlmexbyNKXNmTMH06dPx28dZ+JdsD0m9yyPAnn055lGH2/eqsNYvX4rQt/cwrvXz9ifVSoVtGnzwTZzIWyY3h5OjqbNg/rS+rUbd5CdYK0YVROZ0kfte83bD2OXnkeJfFkwtotOF9hQow/wnj17Yu9eHddktsJNYPv5Bk6fPh0r9jPWXmV7cUSHkihbMCpB84gRI7Bq1SqUKVOGPR88PT0j+EvtHJyZgk3ZonnYNYZa134eeKUsiFyOX7FgVEwFjuh9KQRdomoL/Fq+i0HbKYLRd9YJOKWVcGhpL9SuXRvLl3//IJLHXbhwITw8PPDXX39h6NCh6DvzBHxefMKMvypCnSuqZKfcZ9++fejWrRuqVKmCdevWxTBvxe5b2HHyMd7e24PzB/R/zBpbr4T8u2DKV1lC3jCZjRVVeDGZTS4xpuPm5uYkCMItQRB6iKIYweGhUqmIobQ35Qaq1eoxkiQ5ajSa/sbmQA7gylUbMX//W4SHadGyJFC3dtw4i6iar3btaozr7N+129Fv3hk4pbfDtB7ljN0+Uf9OeVOrDopMt5GqghtX/CWCINfUE0B5gl9CvmLsyitsrP9OTkFYuIRcVYez6uDujUzXUT5+/CiIM7FIkaLIUbEfnr8J/EYHkoGdNlHFqk2qjGj65wwM/V/sSdDRgaMCGOKeK/L7DFhZKdlXbvQTJkr8nrLuOrSfn+LW/inYvfsgo90x1t58CMKQRRfw3/VtqFggE8aM0YWGYmuUy+Ox+iorYhnSuihIuaBjxzaoWLEyFixYHGs/ygN9/jaQaRS3aFgD/ftHLTqhvFIi8g768B+WjmoMBwcHY1Nnf2/S8n8ItsqKwqWqY2pf0z9KKIREleXUSjYchrBUOVEo42v072Y6XRJVnZPcXag2nI1jY6XAxK6lY7z0TTIEwL8HvHHyxgu2nwN8DrMT7LshhdmpCFWiRs65NXYCSPfctucQ9t6xRnhoABYNrcW4LmvXroo3b97AKUt2+AeHoefIhbHKEUaet0zrs3z5UoSGhrA/5SDC83r6Cc879x6CcJfayO1kjbFdYlcBiXwPSuhv1WUAUjlmx/DBA1C5SMwwrj67qVhiw4a1qNZhHj5+sWJrYEqBGt37U2AoBi44i+BPL3Bn3wQ2nfmLN2Kl13t2uju5u3EnLfr6rtino0ki+qja0SIdlA6z9YQP6pfLhd8rfw/PGtojxLu3as1qZFFTnmsYev5RHY0bxe5U054k9RB9UQaKVDRuXI/l+REtE4VE5ZavzmhoQ/xRv7A1OnQwnC70z9pDuPLMGjaBD7DYQ39RRWSbSGGlQaMGKNx02rcc0gp6c0iJPH7B9tso5pYB/05uwyIFd+7cQVCQNkpEZ/jwwaDCFkonqV27LuRTz0YVcqNxRf38oaRvTMV6pKTi5XUmxgnfnA3ncdM3GNpnx7DGU79Siam/ZXOv4yeAKTAErFarPSRJ6icIgoYYD75RwewLDw/foFAo6JOE3oqPBUFo7e3t7W9sk5EDuH79Fqw88hzvgm2QLuAyZnsYT66PPO7Dhxom4UZKD1Nnr2D0AhS6HGOAONbYvBLz78Zyo/Tdm15u67fuBH0hfvn8kl1il84ZzRs3ROOGDWCITyzyeJRnUqtWFfZwHTFtPQ5e+wjnVAFIH3KHhVrkZir9jXw9JdRT+Lh4g+GQUufQm+x8/Np/WHtYgw8+p/D40kYm5G5jYxq5c8+pe3Ft30zYKkJx8sRZg8tz/YEu9FkqX2b82ahAhFRZbMoB8mAyefSrewchvbmC/fuPRTnBOHP9EVYceoLgN97YMNN4KFoet2atKvgcDOSvPRyLh+iIeE1ply9fYMo01Io2GAkhtQvKunxA17b6+cliG5NyT0kbm3KcmldxRd5cjqbcXu81bz8GM2krOl18fXYavoaFI1vFoXDLng7DvxFAyx1N2ed0Qtpp3CYI9pmR0+oRsqQOxuLFnkz1gnj6qGV1yYXGDRoYpWKS7ztjxhSsXasr9uk61BO9/tAv3das80A4uNVD2XwZ0LWRfhk1fSCULlsSgnUa1O/wN0Z1inkyqc/uoUMH4NCh/ajU3hMBITCZgke+/+qD3li/ZgnLZyvq5oQ7jz8gOEMFpnRjqpMW2Ra5mpQUhP7uVCrKPvfccRtXxDfo1aQg4180pR0+fIBpqNu6NoX2iz/GDWiPwq6x95XpayIXDUW+Dyme0POEnlP29qkY2wC9bpzdayGre320LW+DapUNnwpvPHofh6+8hN/dPdi+fKrRZ42siVy84UhIqVwYAba+VBZSPaHfU4NyuXFovQeoeGPRokUoW7ZKFAeQaIx8fB6yUDbp9cqVz784p8VoPRES2f6BA/vg2LEjLAzcrFmrKPCP+ucgXvjbIPPXm5gy2uj5iilLF+9reA5gCnQA471bYulIDuCGDVvx4I01dp57jo9PL2HD7P7sBWBqo+q8Dh1ao2zZ8hg4chYmrb1qUBvT1HET6zpTXoyx3Xv30UsYM0hXOOExazXqG0hyj20MelBTbmHdeo0Rkq0BSN6saJaPWD5/DBCuZd2WrNyKUibS39D1FD6hBGb7zO7IXbajXhqO1Ye8WY7lk4troAh4xBKdjTX5VGfT1u348PYFuzyyjqk+x1d2NGuVyoGW1dwgO1KxCbzLc6DTMuJqDA/5hBs7RuDff9ehSJHvodJ/1h/H1aeAbaCIhRN6GJy6PG/iX6SXADUKX1WvVgOd2rY0yWGXFWGob6EGY2GVOgtqqoLQqqn+vCpjWCbE38muecs24OLZ498/RBycUat2HbRr2TSKXabu862Hr2L/tU+s0ltzTFd8M2LEWEyapDvpXbR8C8oU18+Lps+m6dMnYePW7XBy1WkHb1s+NUYuMIUtG3Uagcz5aqF5lTyoY4AEmu6hfz2zom3L31G7dh2jdlOlPKmJlP6fJ7RhwNIhVWPNA9Nn08eAEHQdsQBpsxVlhRObtu2EQ/aimNi1DDsFjGsjB374kvOg3MLIHKKU0zdz0w1G6WNIukzf/QIC/HHy1gtsO/WcEeG3r62fooU+RLpPP8lyUUm/PLYoIpFnP3igYVyDRP5M+YHE8ehSpCmaVXRB3fKGU0HolPPM7Zd4fHY5PIb9ifLlDZ/yyoU6VRv3wic791ilEkljnLTGKff69cPzIBGAsmXLYtGilREOID0Py5cvDltbO5aXTjmNZDdFpygX11BRk/wxXbBgYaxZE1W6svfUHQiS0qG08xt0b29YESiueyKu13MHkDuAcd0zMa4nB3Djxu3InO1XlnhM0lUdK6dB1SrVGG+ZTHlg6EYyGXGNGrXQ5s/RTMJIPv0xe4KJMICpL0Z9tyZpObnJ1YBxneL79+9Rt241llczcupa7L3yAQj7Ap8La2HnkBVO6e1RvqCzyfQ38v1Jz3LP3r0o3mImwiQlC3NRjmHE31dcwjO/ANw/OBHq3Fnw77/rTZ6617lr6N+zNbs+NgJYeTD6OqevdEow/61EDkZIS9qhRBpLfWNrdBo1ZsUlFhbXHJ+NBtVLY+jQUexy2osz/j2K0DRqqNK+xLBe38mQDRlB/UiHmBqFr9Q5M2BcD+OFL3Q9qcjMmKHjSSzU0ANWqTKgZQkBtWqYVgltMrhxvJBeZJOWHMS2RQNYzz/6zMGQTrVivMhN3efasHD0m3sClC77yGs2OrRqiLcf/JmeNzlwpHATFyF7crrXr1+NkKx1QJrNU4d3iaHlTdX6vTzWIUOukgYlI6NDE309B7b/LcYpkT676TTo8ZMnTNeY8pOJty+u7cytl6ySVG5Vi7qgbS3DTpChe8h62UXdMqHP7zr6rRmzZuHYtecoUK4pS6GJS4oX2R2mUKLLxCPMRkoJ0FdBTKfIQxadh3PGVMyBNaU1bFgLRGzsmLMEUx0iVSRSRzLUZm68jru+HyAemYGalYpj7Fhd+Dy2tmHDGhABf7sOf8L7axHGmUo2pI1Glj5u5SU8fR3AOEadHKxZysKHD+9B77G8eXVFUDKlS3TuUVo/Wsc/qrvht5L6i0yo2pyiNETKH50Op+O4LRDsMqJthTSoWsF4ZbMp2Mb3Gu4Acgcwvnsnoh85gJs27WCl8v1mHcTnUBtkDL6M6X8PBTk7pjg5hw4dwNCh/Zl0T81mvbFs732Y+3A02zADA5j6YtQ3BL3cZFHvyP9/XOcryymRXFKBGn/h0ZtwfHh6DZl/KY5hbYrjwe1zcaK/ofsTx1jHjv9D3ortkcqlNKoWc0HbmroXFGnudhu/iX3139rngbp16uvVCI3NDtoLe888ZDJ7TtbvsebfmHx+ct8lu+/iwr3XESEs4qkjvrroclf67nXg4hNs8XqEdz7nEfDoAA4dOsFyfOj+u07cRbaiLdCqbCrUrGzai0u3h4FHjx/jznMBzvlrYMnQWgapNeR5zZs3EytW6KTcCjedAaVNKvT8LR1KFDc9NzOu+8LU68kuqhYlyhAnx1To8WfvGF3jss8PXHjCcqQoPDaybQlMmr8KPsE5QRQnTvCJ814kkuKVuy/DpVAjvc8C+mhcsMcX9uldYnyoGMJA/gDbsvsIbDO6oXqdZhj0v6gcnPrsrlq1LAv9Fmw4kZ3YkbJHfBrln52785LlDzaq8ItJ+yi2+xCR9MB/zoKq5ikXL2eWtKhVpxbLOew5YiHaxXKCF9t4st39Z51gqiB9mhZEUVXMMPAdn3eYtfmmSU6cfC/SUabTQIW1HYo0nQFrayvM6WO4kn3k0gt4+S4It3ePRGobCUePklxd7Gogshwd6Rt/Tl2M8fa1ruGGGiW+O2r08dNz1imWAkGnl+TgLl68AAsXLkDduvRMm8GmLNPZ9OrVD127/hkB2a1HbzFnyy2j3I1z5szAv/8uQ9OmzZk+OTU6Vew6eT+jOJrRozQypDMuchCfPWZqH+4AcgfQ1L0S63XkAG7ZsgtubmpsOnIHh6764aPvOayfM4ipN1Dbvl1XXRZbI4oFD4+x+N//2qNIlTbYcOwBS2BuWsm0BGazjYjjAHF5McZxaJMvp/yqP/74XReeFARkylMBJSvURefm1eDqErcqbPmm9MVMiiwv33xGwYYesLZWYEr3skyiiohfx3hMRWobLR5dP4yuXXugV6++Js+XnF1f//S48CAIr25swr4Ni2I9nZi8VpdgTpJ7RAUinxAbE1qnyVA4fLDnOYSFfcXtXSMwbfJkdnJIJxB+H0OQt9ZwLBpUFXa2puUu0rxr1aoNOzsBVZsPRtb8tdG1zi8oW9h4NThxNhJ3o6CwQtEW86ANDcKY1mq4urqZjFtiXWjKh0hc9jnxPY5ZcRmkdUrUSbcfv2eOCeWn5YimgGGKTVRIUK9xE6hqjYa9jQKz+lSErfV3bso1a1fj+FNnFoZdMkS/FJ2++8h2T5s1G+cefkWmnEVjqIJEt5tOdEqWLAjHrG7IXbmfXgJ2U2xKjGt2n3mMDfvOQfHpLoJf3QQVHlFzyZEbDerVNznvkvrIdm894s2K34qpnNC7aczQ/ZHLz9gzmuiniG7LlCZLfdK1DbovwPNPCnSsmxcVC0WtII78LCJHjSqev9xejLt3bzISeCKDj63JeunTps1BNteSzEmlU0rSH1aQcQB8X33G+H+vRJGwo9M/UvwgIvK1azcjXz53ptVOp8xr125BgQLfMSAmgX7zT+NLSBg7XYyNbeL169eoX19HHL9v31FkyZIF586dweLj/lAqrbGMmBu+zckU/BLjGu4AcgfQ7H1FDuDWrbvh6qqC34cg9J22A+8en4f0/jbe+L1m4xvL+Vq+fDHmz5/NHAqnvLWw+6wvWlSNWd1m9mQTaIC4vBgT6JZ6h6GHzOjRQ0E5lPXqNWJJx7GJkJs6DyJxpa/fCs1GIsjKhXHDdamfH3O33MSG+f2gRAgCP7/HlCkzmZZxXJqsbhEa9BGDm+VB4UKF9XYnB+7d5y8RifZybg/pi5LOqLG2dM9dnL/7msnV2Qb7sDweOY/P3sEJ7Vu3jNeLsXWvqfC3y8uKbib+9V3RJbb59OrVlTmv1qkc2cnRl8+vMKdfdWTObDqBszFbE/Pvcd3nj158wvQN1xH6VVexXLGQMzrWNU5wHpsNlJt177ML0jm7RyE1J2LhBr+3Qr46I5HOTovZ/b5r4JqKB/HejVzkhbSZVfizYX6Uyp81omt0u4mloE6dalAV+w1pVE0MkgGbev+Euo4cpNHLL7JcQKuvb3Bpm07feuvWPXH+0JDtfvrfe/Sdd5aFUEm+ksLBkRsVtJy48cKgAxfdPnKgKWWF2sI1x7B0nwjiMRzSWj+dEVFO9Z13hlWlF0h1H3PnzkDz5n9g5MjY9bs7dWrDGANIizdf/gIYvewiO0Hs83tBVnhDTQ6bR1ZJIrvXrVuBadOmQaVSo0GDJkxiz81Nhc2bd8X4UJWfL7HpLMu2k8QiSS02b94KI0eOw4hRw/EqzW+wVoSxYrKkbtwB5A6g2XuQHMBt2/YgTx7dqcbgeUfwLkiJkIc7cPfKEfbfoudB0H8jJ+P48SPYuHEHC8+tXr2CJY5/TV8cx679h4518qJiYf1fh2ZP2swB4vpiNPN2RrvTgzouuT6GBnzzxo/lxNinyYiCDcfj49vnSB0s4s610xFFA9S/RYs/0LLl/0wqhoh8v97T9yEozB6ZQ29gyhhdDlrkRidJRAJtY62EZ38defDmzRtYQUH79p1jULvos0WWPQsLDcKdPaPRvWtXeHrOY5e27T0FA7t8F6o3Cm6kk5FN2w5izdlgIOwrFg+tyeZoqJGKAJ3IpHLMiby1hsHfT4PVE9vD3t50zjdT5pdY18Rnn5OTT4VCGRxsUbNUDijjqQ1ONt2+fQu9h05g+rCpUQAAIABJREFUEoUumVJhfOfSbD8Qrp+ErCAN8kK57NHvD+MyivowattrFKxzVEPODMC4bt8rjaPbLadGlPytA8IylkLtUjkZAXtyaf/5BbDCj/sXtjPuRMr/JdWVuORdki2R7SYtYQqhEs0M5XBGblSk9/C/TxjRtrjJ0QYq8qMP1RYtWmPwkJGMVJl4DKf1KItMergYaXy6D1FBtaqQkZ3Ikb43acXH9pFLeXevX7/CiRPnkT69I8vVo5y9jDafmXIOnbzP2nQDdx6/j1IhTHanTWvDQsCk+Sw3OkmU03Ui23/b5x1mb75plKmCThBJD56iNZ06dcOGrbuQt84YZM1gh0ndkpbiTF5vJydOBJ1cfscWOQ9yAHfs2IdfftGFaw9f8sXG4z7wObMUdSq6Mx4kfXmAslboypXrsHPnNuzatR1Tp86GT3AOJmLet1khFHY1jWj1RwMXnxfjj56jOffr27cHTp70Qpf+U3H9VVoWxiAOs/sHPNiw9AC+cOE649qKa9t+/B72XnqFz89vYsXEzjG4+KjIZOyKS1EeriSfRf/r12+wUe4weT7zt93C9QdvmTLIsysbkVldDQorW1Qvnh2DB8R0PA3ZIa+3n98ntBm6ArYZfkX94unQ9LfYc/nIKZflDR2cC8C1ck98fHYN2xYMTDBnPa7Yx/X65LDPO3VuhxDn+kxthIoGCv2aAcWK5WeVpA7O7uj9RxWUL2Rckk2f7es3bcLhB+mgUFphbt9KEcUC0e0+cGAvU8uo0mwwPlv9glbVXFEzmlMUV2wT+nricVy/ZTuaNGyIjOnsEJ/84sh2i08/MvnLjA62mNy9bESuIhX8kIoG5dCRVKexjyDZTqL6unbtKsuJozw++RSRuFUblo+ZTiFLppHcHsnutWrVlDlnS5euQsmSMcnnSbe3dOnCSJ06NU6fvsx+YzRX4v28fXYrOwEcMnAABnmeZXOm/EM5pUC2WxQfY8qUiSAKG/rAJSk8fY1sH+ipkyud0LkUXJzSxLqccnoTXZA6069Q1xiUbBgu+AkgPwE0+zlEDqDMk0SDUbHAX3NP4r3vFVRU22Jg//4xHkafP39GpUq6CqhNm3Zi4cJ5INmdxYtX4sRDW6bpOrp9CfzibBpRr9lGxHGA5PBijOOU43S5l9cx9O/fi/Eyjpm8BFe8/XDrzFbYCUHYvn0L+xI/duxMnMaULw768hW9Z3sxzdEKLn7o3D5qNa4sMl/WPQu6NtARZE+c+De2bNmAv/+ehEaNjMu3UR+qVBy17CIjUH517zBTR8mUOhw11No4FyREXu/xc1bhcXAO2IW9g+fI5rFiQCogVDhALeOv5ZjCyucn57F14ch44ZYUnZLDPifqlSETPZG7dDtkdbRFwyIK9OjRFU6qqlBa2WDjoknxVv2h51CH4YuRPkdx1C+dBU2r6vZbdLtXrlzGQpC/tZ2Id18dGX1IqXyWEcaPy76JbDc5ORPXXIXPi8/o1iA/yrjrQuSytrExLjxj95XHSZfGhtHVRK82lpkAZGd71arlILJqYoqYMWNujOGfPHmMRo3qQKXKi82bI/QNmG52t47N2JrWaj8VT/0CYmivx2efb/Z6yKQViYSb0pUMtWPHDrNc4Mx5yuBRUI6ItBpjGCX237kDyB1As/cYOYC7dh1Arlzfv+KmrrkA8XkQnl3djCHdGrN8q8hNJuyk/7Z+/VamE0nhAQoHrz71CaTYYKp4vNkGxGOA+Dww4nGbJOtCuTqU80S5VvIXN50ovH79EjNnTmWKHPPnx67IYWzi01efwv0XWgQ+O4t1c4dHqezbdeYx6H9NK/2K+uV0KiOkfOLldRSensuYHrCpjRzXhTtvQ4KAcG0oWlfMiJqVY0rcGRsv8no/f/kaw5deYaeJI//ID9fc+tMU7t7V6StTy5K/FqtmDXp6Chs9Y9e2NTaPH/335LLPR4wcisdhBVjFb8iry3j1VETg28ewthJw+vhxs2AZMXEOXikLwRZB8BxaL0LpJ1OmtHj7Vqf1PWXKBGzcuA41O83F2yBrDG9TDG7Z05t13+TYOfp60+/Hc+cdZE5vzwopnvg+wsmbL3D2QRjT/21V3bxiJlIToWrjrvXzM731yG3OlpvMeevXvDAK5ckIctYpxBsS8gV79hxmGsORGx0g9OvXM4IpIDYezyx5SmD8wE4oXOB7bmp89rmcz5wutQ2m94zpwOpb36NXnmH90QeoUyYnI3RP6sYdQO4Amr0HyQEkSbCcOb9Lgsks9cThRcLf589fi5L3RA9TeqhSI6JMqpZ8/NgHBw96wWPDA5YbsmRwFbMoEsw2zMAA8XlgJOZ8EmNsouEg+Ss6BVy1aiN7Mf711584deoEZs9egKpVa8T7tnKOHnFGNizwFc1+/66MQbk1lGPTr3khFPqmtdqmTQvcuXMLcrFRXG784m0AJsxchIe3TmDbhvUmy79Fvkf09e4zYRUCrXMgi/VrTB6oX9ZNLlyhcbIXa4HMqirQ/ueF1QsMc5nFxbbEvja57PPPnz+hc89+ULpUwafntxjdkaymY6zAzBhGvk98MWLJBdilzYweDVxR0j1njBPAXr264ezZU6jScSE+B0vJ+uPUmL2G/h59vYkiaOLqK3j80p9R1jy/vRcnrj9Hml9rJogTLDuYubKQ6lOJiNQISp+gAhCKJkVWGpEdccojHDFiTIQplGtH75CrVy+jZ8+/0K3bd5WfyLyPA8YtRf1qJVl+pKHft6kYyg5st4b5USZSEVFs/WWlInKcyYFO6sYdQO4Amr0HyQHcu/cwsmf/nihMP+ChC8/i7edQPDgxH93bNEabNu0j7jVkCIWFD7B/E5kwnfBQKf6p01fR75+LSG1nhfn9TBOPN9uAeAyQXF6M8Zi6yV2+fg1lIRXSTiUeqwYNGqFSpTJMo/XkyQtIkyatyWPpu3D0ouN4/hHwf+yFNXNHgnQ8qc3Z85J9AMzvVxGp7XTVhzVrVoaf32t233Tp4n7yQvtRq/0ar5xFun/09T5/9R6WHnkFbWggJnUpgezZnGOYuGSJZ0ThSZ6KPZDOpSCsXx/F4tmTzMLtR3ZOTvucnMCFa3bhoX8WBH56g3vf8lH1FZjFFaM+Y+YjMJU70uA95g3ThQsjnwASRcjLV69QvOV89lHqObByklN4xNVGU67Xt94UAiZaJgoJPzo6CV9Cw1Dlf5MYD6K5NCbEyUc5em8/fcFfvxdCETddzrffx2AMW3SenTxO+fN7gQ85ekRTRb9nKjyUo05yPjn1nTvXE5Urfy/oMYV4P777/OK911i8+y7yuDgw7ktjbfm+ezh7+xUrSCmdP+lTCLgDyB1AY3vW6N/JAdy37whcXKJ+0ZAKwLojGnx8fguf7m3Fzp0HkDYtFRRI+O23Siy8SI1CjH/+2YmFAfcfvojBC8/FiWHe6AQT4YL4PjASYSqJOiSd9tGpn52dHePSI2H0kiVLYtmyNVE0M+MzCTkHiLjx1DZ3kSFdKkZgq9EWhUum1CzkRI0kv0qVKsT2x4ULN5KkgELfeveYuIXJbaUPuYdZY2OSKA8bNgAHD+6Ho2MGZC3dE/bps8Ep4CSmeujk0SyhJcd9Tk6Dp6fOEdM550Kcq12jY//QxxcT1t+HQmmNTlUzolLZohEOYFBQMMqVK4Z0Trnwa7UhyO6UhilI/IxN33pTKHXpmi04cfxwxKmrS/bcaFA/bhyDseF19vZLLN93n5FrE660rvK7Q6agitx31qypWL16JUtDmTdvEXx9H6NJk7oRl1AUKWvW7x9kCc13GXkuVGQyZOE5fAwINSlnfdr6a/B++hEj2xZHnnhytSbkvuMOYAp2AN3c3BwEQTij1Wrr+/j4PHV1dXVXKpXLAKSTJOlOcHBw+2fPngUb23DkAO7ffxTZskXNyZBZ6r+EaHHvwAQ0rlsdw4aNZnqapKspN+KTGzZsILJlc8H8pdtZ4rEhfihj8/kRf0+OL8bEspv4GYmnUW4rVqxA8eLlzHYAabyZ6y/i7tNAFtLzu7kRVnZpkee30Sz3j3IAqdGHQo0aFZE9ew7s3aujFfrRTd96n7zyEKuOPkXwp5doWyk96taJyonYokUjENdcyVJlEJqjBRRKG7jbXMWgQUN/9PTjfb/kus9NeanH1egRs7fiVUgGBL64jo511WjUqB5CQwXcv3+PVaAWLFsf1rnqorjaiSnU/IzN0HofO3MNA3vrpBwT4tRVxo/CzOP/vcyk2RqUyw2qCp689hrLDYx8KihfTyfBjRvXxfv379CjRx/mAFKVttxu3PCO89KYs8/3nH2MHacfMznBno0LGLw3VSC//xwSwW8a54kmcAfuAKZQB9DNza2MIAhLBEFQff36VUUOoFqtvg6gjyiKZ1Qq1d+CIFiLojjC2J4jB/DAgWNwdo5JxbDlxEMcuPAUH59egc+5FRg2bBS8vI7j4sVzEcP27TuIVdgVKVIMPYbMZkfqFQo6o1O9+BPIGpuzuX8354Fh7r1/dH86saUqNpJjq1SpCpo1axSRHG/uXG7euY+RU5fi7ZPrEacLdg7OaNakIZo0bMA4Bu/du8MUZYoWLQ6iDEqKpm+96cXVf84x+Ico8OT8SszxGIyCBXXapsT7VaGCLqepfqOW8FWWRUjgO9T49RM6duySFCbE654paZ+/+xSEwZ5nWHX63f1/o1XTuhg4cAS2bNGpFFVrNhAfrfIka4WieC1ypE6G1tuUUGp870/RAMqnozBzMbUTSC6PiitIy9jaSnfSG7mRNjhJQ4aH6wjH5ZYjR05WIBLXZs4+pzzF3pO3MvLz6QMaxUoJQwoif844ARub7/ymcZ1nQl/PHcAU6gCqVKrlgiCskCRpjVarraJUKsMVCsVJURQZmZ+rq2sOpVJ5Qv63oY1HDuChQ17IkiVmHtTnoFB2RE5s9Xf3/Y0Qfz82lJNTZsayTtI4LVu2xqZN61mlcOUm/bD9lA/7CtTHDZXQP4D4jmfOAyO+90wO/RLD7vtPPmDikv24s09XHNFl8D/o/b/qEebSac+QIf1Qv34jeHhMTRIYYrNbpqyhU8DqeQLQpUt3Nj9KRu/cuS2KFSuBHKpSeIYC8H+tQZsqmU2msUkSQ6PdNDHWOznYFdsc1h32xrFrL/Du8UXktvPFvHmLMXLkUOzduwv1us7FS3/rKKoSydmW+MzN0Honxqlr5DkSafPKA/cjIgvG8uTOnDmFBQvm4MuXYHTo0IWxSBDxdeTwr6kYmLvP/xo2nklXNm7RieX36WvEbEHFRskphYA7gCnUAZQ3qEqleqzVaitbWVk5C4IwXRRFufJCqVarA0VRjFoupWdnkwNI7OyxyVvJfEm5HMNw32shIxEePnwMNmxYg337drNTJco1a926HTIXbIJTN1/qpQUw9cf8I64z94HxI+aYGPdILLtnzJqFXQdPIOzrF7Rt0RA9enzPqVu2bBF70FO4p3v3XolhltExY7Nbdwp4lBWoZMITzJ+s4/iTC0C6dPkTL4LS4lX4L/ATvTCs82+oUCH5FjdFByKx1tso4El0waeAEAxddA6hWglhvjux0nM2ateuxta3UofFCPgSxqTR6HTqZ2xJud5UrfvyXSDehTrANXs6FPgl4w+D2Fy7GzepxzSw89cZjTEdSjKd4ejtuuYN5m+/naxSCLgDyB1A5gAqFAoXpVI5NZoD6C+KYipjv0JyAI8ePQknJ/1VTZ8DQ1lhx9ev4azUP/c3cufRo4czckzSXqRcqX79BuGtXXHc8/3AJIbcsqczdusk+zv9cDJmTIt373Q8YSmlJZbddLowfvxo+Pv7Y+rUWahd+3tS95gxI5hKzJQpM1CnTv0kgdqQ3et3ncSqTbsgSFpsXzkT9rZWaNasIeiFtmzZKmw87ov34U54cnENFkwaiPz5DecJJYmBsdw0sdY7OdkYfS7bve5j86GrCAt+j74tiqFXzy7IV6QS7PO2YoUKk7uXSc7TN2tuSbneFGJOiIKe+AAQH7tlnsFDhw5G6IxT+oprgXL4e2CHGDrMO075MI17ym1uUP47ZVp85ptQfXSOL5eCSyg8LW4c+QRQoVBISqXSSxRFxk7p5uaWXRCE4xqNRmXMKHIAr1+/jsyZM8d66aYjItYe9Ea+3BkwtXcF9kMfNGgQNmzYwKR7AgMDMW/ePOy5mwbvPn3B6nG14JjW6OGjsanxv1sQAkWKFMGbN2/w8OHDKJyRTZs2xcWLF7Fv3z7QNcmtvX//HsXLVIZCaYuazXujUbms6Ny5M7Jnz47z58+j9bDNCAyzx/1Dk3Hy0Da4uMRPtiy52f2zzico+AvK1GoPG/t0SO+UHfe9lqBZz5nweW+HljVUaFMn+eYmW/KaVK1alU3fy8vLoswQRRHVquloZ8q39ECwkAFD2pZAxSK63zn9nd53G069x5X7rzGuaxkUz5v0FDAyyEJCichb1Kp9n6xgofNOkGnLDiAVgahUqpsAems0mtNqtXqMJEmOGo2mv7EbkQPo5XUGGTLErttLOYAjl15kfE9d6+dDuYLOmDBhLEgnUW6Llq7DkmOfkD6NDQuzJOcWny/G5GyPqXNLTLvr1KnOOAdPnfrO9UcFKBUrloa//2ecPXsFadLErrlpqg3xuU6f3fpPALIiTBuCr0EfMHasB2rUaqgjtH3rA83Rmbh69XYU1ZP4zOVH9knM9f6RdsT1XiVLFYVg4wD3emMRHuQHZerMjPNuUrfSyOxoNCgS19slm+t/9Hrr+w0RsXetWrVZTjgVgf2IZo7dkYtjnr8NwnOrkkibyhoeXUrDIbUN6O8UJLr3pTACv2gxt28FOKRKHikE/ASQh4B9qAiEHEA3N7f8CoWCaGBIgPexIAitvb29/Y39AHUO4DnGd2aoXdO8wYLtt5HK1opxvC1aMJUVf8ht8ZpDWLzvEZP9Ifmf5NzMzRlJzrYZmlti2k1cXqQGc+jQSWTJovtCfvLEF40a1Ubu3L8wHsmkaobsjqw0kK/OaFjb2KG40yv81asnTt96iX8PeMPnzFJ8/O864kNRkVQ2030Tc72T0i5999YnHWafLivTCU6foxjaNa6AOqVzJbdpJ+h8kmq9I/+GEpJixlRwzLE7anHMATwIzM6qmAv8mgF9mxVC82YNEfI1DFnKD2ba9qRxn1wazwFM4Q5gQmxEcgBPnDiP9OkdjQ63ZM9deJ27AZuA+3h88wiI04maQqFApVp/4DV+RfM6ZSM44IwOmEQXmPPASKIpJ8htE9Puli2bQBTvMxoHonOgRsTTI0YMRr16DTFx4rQEsSE+gxiyWz4BoK/8C3dfwSp7dVbp97/f3LDygDf8PgTjxtb+CNeGcAcwPuD/4D6RnZH1G3YiAI5wSm/PXt4/e0vM37ch7BKTYsaUNUtIu/2DQjFo1i489b6AEL9beO+nUzii/MByFaujV6dWP+xk05jt3AHkDqCxPWL07+QAUtjOwcG4RFfgl68YvewiY063/3wDZ/cvYeOrVHnhXncknrzyx7D/FYMqh/GxjE4sES9IyAdGIk4zwYdOTLvbtWuJW7duYuvWPREJ1KNG6Sg4Ro4ch+bNWyW4PaYOaMjuyCcAe/ftw1W/zHjy2p8RRH98dg3vfS8hJECnemOubq2p802o6xJzvRNqjgk9jq4YAUiVyhbBwaHo3j2myktC3zO5jJdU653YFDPG8E1ou//zC8DkdVeZ83f/m2RhsUbjMH/47xHylsbm9CP+zh1A7gCavc/IATx9+iLSpjWtavfR80+Yuv4ant7Yg88v7yHovS/U+YsidaGuSGNvjTl9KkChSN6pmQn9wDB7EX7QAIlpN6nDkEoMSQOWLFkaX758YZKBAQH+IJoh4o5MqhYXu0NCw7DzjA9uPHiLbJlS4+GZlTjppQtfJ0V4yxzM4mK3OfdJTn3JGaEcNNICXr9+C8tFSyktJa43rW1i2P30tT8GjpoIOhEkebuS+TJj7PAhyWorcQeQO4Bmb0hyAM+cuYw0aWJyH8U2OIloT1mwGo45izMZMHvrcNg5l0DD8iQFpJMAS84tMR4YydleeW6Jaff06ZOxbt0qZMrkhDFjxuPSpQtYu3YVSpcuh8WLVyQpPObYPXfuTDx8qIGrqwq2trZm69b+SCDMsftHzjOh78XtTnn0VuTwv32bsHYfOnwAhUtUZryRp08eRc2ayetjgjuA3AE0+9lJDiBVaKZOHbcKTY85K/DgcxYobezZHLI7pcbwNsUZj1pyb/wFkbAPSlpvkk8bMWIQjh37rvdLpOGrV2+Eu3vSaq+as95JHd4y57dkjt3m3Dep+3K7E/73ndRrauj+KXm9nZw4D2By3pvJfm7kAJ4/fxX29qnjNNdevbrh4pVrcMxZAiNGjEaZ/FkswvlLrJBBnMBLoosT+0EZFhaGHTu2YPv2LVAqrdhpWfnyFZPI2u+3TWy7k9zAWCbA7eaOUHLdmwk5r5S8z7kDmJA7KQWORQ7ghQvXYWenO8kztZ04cRz9+vXEqFF/o1mzlqZ2SxbXpeQHRmKESpLFohqYBF9v7ggl9z2aEPPj+zzl7XPuACbELycFj0EO4MWLN2BrG3fljuDgINjbWx6xKn9QprwHJXd8U85Djv+++e87Jex2ngPIcwDN3ufkAF6+fAvW1smD3dxsg0wYgL8g+AvChG1i8Zfwfc73ucVvYhMMSMn7nJ8AmrBB+CWxI0AO4JUrt2BlxR3An32fpOQHJT8B/Nl393f7+D7njm9K2O38BJCfAJq9z8kBvHr1DkvaTymNvyD4CyIl7HW+z/k+5/v850WAO4DcATR7d5MDeO3aXSgUSrPHspQB+IuRvxgtZa+aM0++z/k+N2f/WErflLzPeQjYUnZpMp0nOYA3btwnPvVkOsOEn1ZKfmDwUGjC76fkOiLf59wBTK57MyHnlZL3OXcAE3InWfhYarW6OYCxkiRZC4KwVhTFCcZMIgfw5k1vSJKxK3+ev6fkBwZ3AH+efWzMEr7PuQNobI/8DH9PyfucO4A/ww5OABt+/fXXLFZWVhetra2L3b1795NarT4YHh4+7cGDB9+lGfTcx8XFhZ0AcgcwARYhmQ+Rkh+U3PFN5pszAafH9zl3fBNwOyXboXgOYEqKWxrZhmq1uo0kSVU1Gk1nulStVreVJKmyRqPpYqhr9uzZpevX73EHMNn+zBNuYvzFyF+MCbebku9IfJ/zfZ58d2fCzYw7gNwBjNhNarV6qCRJqTUazZhvDmB1SZIGazQagwrWOXPmZFXA/AQw4X6YyXUk/mLkL8bkujcTcl58n/N9npD7KbmOxR1A7gBG7E2VSjUcgH00B3CgRqOpa2gD58qVS7p69XaKcwAzZkyLd+9S3oOS251cH+cJPy96QfD1Tnhck+uIfL1T3vM8UyaHlFO9qeeHl6KNj4xH9JAvhYQBVBJFsVtyfWDxeXEEOAIcAY4AR4AjwBGIDwLcAfyGWr58+ZzDwsLOSpJU2sHB4WNAQMBeAJ6iKO6KD7C8D0eAI8AR4AhwBDgCHIHkigB3ACOtjJub2++CIIwFQLpuOzUazbDkunB8XhwBjgBHgCPAEeAIcATiiwB3AOOLHO/HEeAIcAQ4AhwBjgBHwEIR4A6ghS4cnzZHgCPAEeAIcAQ4AhyB+CLAHcD4Isf7cQQ4AhwBjgBHgCPAEbBQBLgDaKELx6fNEeAIcAQ4AhwBjgBHIL4IcAcwvsjxfhwBjgBHgCPAEeAIcAQsFAHuAMZz4dRqdXMAYyVJshYEYa0oihPiOZRFdVOr1QMkSeoIQAJwOVu2bN1PnDihtSgjzJisWq2eDiCjKIqdzBjGYrq6ubk1oMp4QRBSSZJ0WKPR9LOYyZsx0W88oMMkSZIEQTggiuIQM4ZL9l3d3NwcBEE4o9Vq6/v4+Dx1dXV1VyqVywCkkyTpTnBwcPtnz54FJ3tD4jjB6Ha7ubn9JgjCZEEQlADehoWFdXr48OGzOA6b7C+Pbrc8YZVKVQ/AfI1G82uyNyIeE4xud968edXh4eGLBEFwlCTppVarbeXj4/MpHkNbZBfuAMZj2X799dcsVlZWF62trYvdvXv3k1qtPhgeHj7twYMHR+IxnMV0UavVJSVJWhYaGlra19f3i0qlWq1QKK56e3vPtRgjzJioWq2uDmADgL0pwQFUq9W/ADitUChK3r9/30+tVh8HMEUUxQNmwJjsu+bIkcPe3t7+P6VSqbp///4HtVp9DsAIURTJ/p+uubm5lREEYYkgCKqvX7+qyAFUq9XXAfQRRfGMSqX6WxAEa1EUR/xMxke329HR8aW/v/9TSZIqPHjw4JFare4iSVJ9jUbT+Ge2m9ab7MuTJ09mKyurE5Ik2f2MDqC+fa5SqbwlSepD7261Wj1JkiSlRqMZ+jOttyFbuAMYj5Wm0wFJkqpqNJrO1D26ikg8hrSILq6urq4KhcJZo9GcpgmrVKqBALJpNBr6vz91c3d3z6DVavcJgrBRkqTCKcQBHEDrK4riIFpcd3f3rAqFIuT27dsffubFdnd3T/P169en4eHhhbVa7RsbG5sz4eHhfR4+fHj+Z7RbpVItFwRhhSRJa7RabRWlUhmuUChOiqKYh+x1dXXNoVQqT8j//lkwiG63vb39e61WW0cUxS1kY968eYtLkrREFMXiP4vN357bUdZbdgDVavVuAGslSZryMzqA0ddboVBkUigUSzQaTYlv651Wq9Wm/xlPfGPbv9wBjMcvW61WD5UkKXU03eDBGo2mdjyGs8gu9LWoVCovAmgnO4QWaYiJk1apVJsVCoVneHh4LkEQKqcEB1ClUnkCCKF3oSAIzgD2iKI42kTILPoylUrVWxCEaZIkBQqCQM5QM4s2yITJq1Sqx1qttrKVlZWzIAjTRVGs9K2bUq1WB4qiaGfCMBZ3iWy37Ah9M0ChVqt3SZJ0UaPReFicUSZMOLLdKpWqD4VBlUrlKq1W6/UzOoClvmOgAAAFy0lEQVQyJLLd1tbWZej9BcBPkiRy8m+Hhob29vX1/WgCfD/FJdwBjMcyqlSq4QDsozmAAzUaTd14DGdxXfLmzZtbkiSSyqPcxykWZ0AcJ0yhIHKC6CRMpVK1TykOoFqtXgKggkKhqKjVagMUCsVuSZLWaTSa1XGE0KIuz5s3b0FJkv5VKBQ1U6VK9dnf338dAHIEZlqUIXGcrPxiVCgULkqlcmo0B9BfFMVUcRzSIi6P7gDmzp3bztbWltbcVhTFRgDCLMKQOE5SttvW1tYhPDx8gSiK1fLmzZszPDz8eEpwAJVKJT3blgmCUNHb2/uqSqUaLwhCDlEUKcc9RTTuAMZjmaOHfL8ljFcSRbFbPIazqC4qlaqIIAjk/E0SRZFOiH76plarD0uSlFUQBHoRZKDTX3J+f/aCiG8PREdRFPvQIqvV6h6SJLlrNJreP/Oiq1SqQYIgZJYLP1QqVV1BEHqIotjgJ7ebnQAqFApJqVR6iaLoSva6ubllFwSBnALVz2h/ZAcwd+7c6W1sbCjV4+G3U/6f0vmjdVSpVD4U8reysqKCtlaCIASR0ytJEq37ZY1GU+FnXm9ra2tXSZLmajSagt/wyCcIwhZRFAv8jHbrs4k7gPFY6Xz58jmHhYWdlSSptIODw8eAgAByiDxFUdwVj+Espoubm5uTIAi3vr0Md1rMxBNwoinpBFClUpUCsFqr1Zb28fEJUKlU2+gU0Nvbe0UCQprshvpWCTrD3t6+3M2bN4PUarWnJEmvNRrNuGQ32QScULSQ4E0AvSm9Q61Wj5EkyVGj0fRPwNslm6Gi2e0F4FpKyGvWF/rOnz9/rpQSAg4PD/ezsbF5BKCuRqO5SR9+AAppNBoKC6eIxh3AeC6zm5vb70SPAcAGwE6NRjMsnkNZTDe1Wu0hSVI/QRA0AGjvEBXMvpSSF/btKzHFhIC/2dsBABX5WAmCcFQUxb++rbvF7Nv4TFSlUg0GQEVelAN5JTQ0tBdVvsdnLEvpI58IUS6cm5tbfgqPAXAA8FgQhNbe3t7+lmJLXOYZ6SRMJQjCIcoFk/e4JEmvNBpNnbiMZynXRl5vec4pxAFkJ5/fqt1LAlggSVIqQRBehIeHt3nw4MEbS1lDc+fJHUBzEeT9OQIcAY4AR4AjwBHgCFgYAtwBtLAF49PlCHAEOAIcAY4AR4AjYC4C3AE0F0HenyPAEeAIcAQ4AhwBjoCFIcAdQAtbMD5djgBHgCPAEeAIcAQ4AuYiwB1AcxHk/TkCHAGOAEeAI8AR4AhYGALcAbSwBePT5QhwBDgCHAGOAEeAI2AuAtwBNBdB3p8jwBHgCHAEOAIcAY6AhSHAHUALWzA+XY4AR4AjwBHgCHAEOALmIsAdQHMR5P05AhwBjgBHgCPAEeAIWBgC3AG0sAXj0+UIcAQ4AhwBjgBHgCNgLgLcATQXQd6fI8AR4AhwBDgCHAGOgIUhwB1AC1swPl2OAEeAI8AR4AhwBDgC5iLAHUBzEeT9OQIcAY4AR4AjwBHgCFgYAtwBtLAF49PlCHAEOAIcAY4AR4AjYC4C3AE0F0HenyPAEeAIcAQ4AhwBjoCFIcAdQAtbMD5djgBHgCPAEeAIcAQ4AuYiwB1AcxHk/TkCHAGOAEeAI8AR4AhYGALcAbSwBePT5QhwBDgCHAGOAEeAI2AuAtwBNBdB3p8jwBHgCHAEOAIcAY6AhSHAHUALWzA+XY4AR4AjwBHgCHAEOALmIsAdQHMR5P05AhwBjgBHgCPAEeAIWBgC3AG0sAXj0+UIcAQ4AhwBjgBHgCNgLgLcATQXQd6fI8AR4AhwBDgCHAGOgIUhwB1AC1swPl2OAEeAI8AR4AhwBDgC5iLAHUBzEeT9OQIcAY4AR4AjwBHgCFgYAtwBtLAF49PlCHAEOAIcAY4AR4AjYC4C3AE0F0HenyPAEeAIcAQ4AhwBjoCFIcAdQAtbMD5djgBHgCPAEeAIcAQ4AuYi8H8BeJL3epTtlAAAAABJRU5ErkJggg==\">"
      ],
      "text/plain": [
       "<IPython.core.display.HTML object>"
      ]
     },
     "metadata": {},
     "output_type": "display_data"
    },
    {
     "data": {
      "text/plain": [
       "[<matplotlib.lines.Line2D at 0x119779390>]"
      ]
     },
     "execution_count": 30,
     "metadata": {},
     "output_type": "execute_result"
    }
   ],
   "source": [
    "# Run assimilation\n",
    "my_EnKF(5)\n",
    "\n",
    "# Plot results\n",
    "plt.subplot(311)\n",
    "plt.plot(dt   *arange(K+1)     ,mu[:,0],'k')\n",
    "plt.plot(dt   *arange(K+1)     ,xx[:,0],'b')\n",
    "plt.plot(dtObs*arange(1,KObs+2),yy[:,0],'k*')\n",
    "plt.subplot(312)\n",
    "plt.plot(dt   *arange(K+1)     ,mu[:,1],'k')\n",
    "plt.plot(dt   *arange(K+1)     ,xx[:,1],'b')\n",
    "plt.plot(dtObs*arange(1,KObs+2),yy[:,1],'k*')\n",
    "plt.subplot(313)\n",
    "plt.plot(dt   *arange(K+1)     ,mu[:,2],'k')\n",
    "plt.plot(dt   *arange(K+1)     ,xx[:,2],'b')\n",
    "plt.plot(dtObs*arange(1,KObs+2),yy[:,2],'k*')"
   ]
  },
  {
   "cell_type": "markdown",
   "metadata": {},
   "source": [
    "**Exc:** The visuals of the plots are nice. But it would be good to have a summary statistic of the accuracy performance of the filter. Make a function `average_rmse(xx,mu)` that computes $ \\frac{1}{K+1} \\sum_{k=0}^K \\sqrt{\\frac{1}{m} \\| \\overline{\\mathbf{x}}_k - \\mathbf{x}_k \\|_2^2} \\, .$"
   ]
  },
  {
   "cell_type": "code",
   "execution_count": 16,
   "metadata": {
    "collapsed": false
   },
   "outputs": [
    {
     "data": {
      "text/plain": [
       "1.4135842467771345"
      ]
     },
     "execution_count": 16,
     "metadata": {},
     "output_type": "execute_result"
    }
   ],
   "source": [
    "def average_rmse(xx,mu):\n",
    "    ### INSERT ANSWER ###\n",
    "    rmses = sqrt(np.mean((xx-mu)**2, axis=1))\n",
    "    return np.mean(rmses)\n",
    "\n",
    "# Test\n",
    "average_rmse(xx,mu)"
   ]
  },
  {
   "cell_type": "code",
   "execution_count": 17,
   "metadata": {
    "collapsed": false
   },
   "outputs": [
    {
     "data": {
      "text/html": [
       "<div style=\"background-color:#d8e7ff;padding:0.5em;\"><pre><code>rmses = sqrt(np.mean((xx-mu)**2, axis=1))\n",
       "return np.mean(rmses)\n",
       "</code></pre></div>"
      ],
      "text/plain": [
       "<IPython.core.display.HTML object>"
      ]
     },
     "metadata": {},
     "output_type": "display_data"
    }
   ],
   "source": [
    "answers['rmse'] = ['MD',r'''\n",
    "    rmses = sqrt(np.mean((xx-mu)**2, axis=1))\n",
    "    return np.mean(rmses)\n",
    "''']\n",
    "show_answer('rmse')"
   ]
  },
  {
   "cell_type": "markdown",
   "metadata": {},
   "source": [
    "**Exc:**\n",
    " * (a). Repeat the above expriment, but now observing only the first (0th) component of the state. "
   ]
  },
  {
   "cell_type": "code",
   "execution_count": 18,
   "metadata": {
    "collapsed": false
   },
   "outputs": [
    {
     "data": {
      "text/html": [
       "<div style=\"background-color:#d8e7ff;padding:0.5em;\"><ul>\n",
       "<li>(a). Set <code>p=1</code> above, and execute all cells below again.</li>\n",
       "</ul></div>"
      ],
      "text/plain": [
       "<IPython.core.display.HTML object>"
      ]
     },
     "metadata": {},
     "output_type": "display_data"
    }
   ],
   "source": [
    "answers['Repeat experiment a'] = ['MD',r'''\n",
    " * (a). Set `p=1` above, and execute all cells below again.\n",
    "''']\n",
    "show_answer('Repeat experiment a')"
   ]
  },
  {
   "cell_type": "markdown",
   "metadata": {},
   "source": [
    " * (b). Put a `seed()` command in the right place so as to be able to recreate exactly the same results from an experiment."
   ]
  },
  {
   "cell_type": "code",
   "execution_count": 19,
   "metadata": {
    "collapsed": false
   },
   "outputs": [
    {
     "data": {
      "text/html": [
       "<div style=\"background-color:#d8e7ff;padding:0.5em;\"><ul>\n",
       "<li>(b). Insert <code>seed(i)</code> for some number <code>i</code> above the call to the EnKF or above the generation of the synthetic truth and obs.</li>\n",
       "</ul></div>"
      ],
      "text/plain": [
       "<IPython.core.display.HTML object>"
      ]
     },
     "metadata": {},
     "output_type": "display_data"
    }
   ],
   "source": [
    "answers['Repeat experiment b'] = ['MD',r'''\n",
    " * (b). Insert `seed(i)` for some number `i` above the call to the EnKF or above the generation of the synthetic truth and obs.\n",
    "''']\n",
    "show_answer('Repeat experiment b')"
   ]
  },
  {
   "cell_type": "markdown",
   "metadata": {},
   "source": [
    " * (c). Use $N=5$, and repeat the experiments. This is quite a small ensemble size, and quite often it will yield divergence: the EnKF \"definitely loses track\" of the truth, typically because of strong nonlinearity in the forecast models, and underestimation (by $\\overline{\\mathbf{P}})$ of the actual errors. Repeat the experiment with different seeds until you observe in the plots that divergence has happened.\n",
    " * (d). Implement \"multiplicative inflation\" to remedy the situation; this is a factor that should spread the ensemble further apart; a simple version is to inflate the perturbations. Implement it, and tune its value to try to avoid divergence."
   ]
  },
  {
   "cell_type": "code",
   "execution_count": 50,
   "metadata": {
    "collapsed": false
   },
   "outputs": [
    {
     "data": {
      "text/html": [
       "<div style=\"background-color:#d8e7ff;padding:0.5em;\"><ul>\n",
       "<li>(c). Void.</li>\n",
       "<li>(d). Use: <code>Perturb  = D_infl * R_chol @ randn((p,N))</code> in the EnKF algorithm.</li>\n",
       "</ul></div>"
      ],
      "text/plain": [
       "<IPython.core.display.HTML object>"
      ]
     },
     "metadata": {},
     "output_type": "display_data"
    }
   ],
   "source": [
    "answers['Repeat experiment cd'] = ['MD',r'''\n",
    " * (c). Void.\n",
    " * (d). Use: `Perturb  = D_infl * R_chol @ randn((p,N))` in the EnKF algorithm.\n",
    "''']\n",
    "show_answer('Repeat experiment cd')"
   ]
  },
  {
   "cell_type": "markdown",
   "metadata": {},
   "source": [
    "### Next: [Benchmarking with DAPPER](T7 - Benchmarking with DAPPER.ipynb)"
   ]
  }
 ],
 "metadata": {
  "anaconda-cloud": {},
  "kernelspec": {
   "display_name": "Python [default]",
   "language": "python",
   "name": "python3"
  },
  "language_info": {
   "codemirror_mode": {
    "name": "ipython",
    "version": 3
   },
   "file_extension": ".py",
   "mimetype": "text/x-python",
   "name": "python",
   "nbconvert_exporter": "python",
   "pygments_lexer": "ipython3",
   "version": "3.5.2"
  }
 },
 "nbformat": 4,
 "nbformat_minor": 1
}
