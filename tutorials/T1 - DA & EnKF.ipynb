{
 "cells": [
  {
   "cell_type": "markdown",
   "metadata": {},
   "source": [
    "# Data assimilation (DA) & the ensemble Kalman filter (EnKF)\n",
    "by Patrick N. Raanes"
   ]
  },
  {
   "cell_type": "markdown",
   "metadata": {},
   "source": [
    "### Data assimilation (DA) is:\n",
    "<figure style=\"float:right;width:350px;\">\n",
    "    <img src=\"./resources/DA_bridges.jpg\" alt='DA \"bridges\" data and models.'/>\n",
    "    <figcaption>Data assimilation \"bridges\" data and models.<br>Attribution: Data Assimilation Research Team, <a href=\"http://www.aics.riken.jp\">www.aics.riken.jp</a>.</figcaption>\n",
    "</figure>\n",
    " * the calibration of big models with big data;\n",
    " * the fusing of forecasts with observations.\n",
    " \n",
    "The problem of DA fits well within the framework of \"state estimation\" and \"sequential inference\". A concise overview of DA is given by Wikle and Berliner: [A Bayesian tutorial for data assimilation](http://web-static-aws.seas.harvard.edu/climate/pdf/2007/Wikle_Berliner_InPress.pdf)\n",
    "\n",
    "Modern DA builds on state estimation techniques such as the Kalman filter (KF), which is a recursive least-squares regression algorithm. It was developed to steer the Apollo mission rockets to the moon, but also has applications outside of control systems, such as speech recognition, video tracking, and finance. An [introduction by pictures](http://www.bzarg.com/p/how-a-kalman-filter-works-in-pictures/) is provided by Tim Babb. An [interactive tutorial](https://github.com/rlabbe/Kalman-and-Bayesian-Filters-in-Python) has been made by Roger Labbe.\n",
    "\n",
    "When it was first proposed to apply the KF to DA (specifically, weather forecasting), the idea sounded ludicrous because of some severe challenges:\n",
    "\n",
    "#### Technical challenges in DA (vs. \"classic\" state estimation):\n",
    " * size of data and models;\n",
    " * nonlinearity of models;\n",
    " * sparsity and inhomogeneous-ness of data.\n",
    "\n",
    "Some of these challenges may be recognized in the video below.\n",
    "\n",
    "*Execute/run the cells (in order) to bring up the video*"
   ]
  },
  {
   "cell_type": "code",
   "execution_count": null,
   "metadata": {
    "collapsed": false
   },
   "outputs": [],
   "source": [
    "from resources.resources import *"
   ]
  },
  {
   "cell_type": "code",
   "execution_count": null,
   "metadata": {
    "collapsed": false,
    "scrolled": true
   },
   "outputs": [],
   "source": [
    "envisat_video()"
   ]
  },
  {
   "cell_type": "markdown",
   "metadata": {},
   "source": [
    "### The EnKF is\n",
    "an ensemble (Monte-Carlo) formulation of the KF\n",
    "that manages (fairly well) to deal with the above challenges of DA.\n",
    "\n",
    "For those familiar with the method of 4D-Var, **further advantages of the EnKF** include it being:\n",
    " * Non-invasive: the models are treated as black boxes, and no explicit jacobian is required.\n",
    " * Bayesian: \n",
    "   * provides ensemble of possible realities;\n",
    "       - arguably the most practical form of \"uncertainty quanitification\";\n",
    "       - ideal way to initialize \"ensemble forecasts\";\n",
    "   * uses \"flow-dependent\" background covariances in the analysis.\n",
    " * Highly Parallellizable:\n",
    "   * distributed accross realizations for model forecasting;\n",
    "   * distributed accross local domains for observation analysis.\n",
    "   \n",
    "The rest of this tutorial provides an EnKF-centric presentation of DA; it also has a [theoretical companion](./resources/DA_intro.pdf)."
   ]
  },
  {
   "cell_type": "markdown",
   "metadata": {},
   "source": [
    "---\n",
    "**Exc:** Word association.\n",
    "Fill in the `X`'s in the table to group the words according to meaning.\n",
    "\n",
    "`Filtering, Sample, Random, measurements, Kalman filter (KF), Monte-Carlo, observations, State estimation, Data fusion`\n",
    "\n",
    "---\n",
    "`Data Assimilation (DA)     Ensemble    Stochastic     data        \n",
    "X                          X           X              X           \n",
    "X                                      X              X           \n",
    "X                          \n",
    "X`"
   ]
  },
  {
   "cell_type": "code",
   "execution_count": null,
   "metadata": {
    "collapsed": false
   },
   "outputs": [],
   "source": [
    "#show_answer('thesaurus 1')"
   ]
  },
  {
   "cell_type": "markdown",
   "metadata": {},
   "source": [
    "* \"The answer\" is given from the perspective of DA. Do you agree with it?\n",
    "* Can you describe the (important!) nuances between the similar words?"
   ]
  },
  {
   "cell_type": "markdown",
   "metadata": {},
   "source": [
    "---\n",
    "**Exc:** Word association (advanced).\n",
    "Group these words:\n",
    "\n",
    "`Inverse problems, Sample point, Probability, Sequential, Inversion, Realization, Relative frequency, Iterative, Estimation, Single draw, Serial, Approximation, Regression, Fitting`\n",
    "\n",
    "---\n",
    "\n",
    "`Statistical inference    Ensemble member     Quantitative belief    Recursive \n",
    "X                        X                   X                      X         \n",
    "X                        X                   X                      X         \n",
    "X                        X                                          X         \n",
    "X                        \n",
    "X                        \n",
    "X                        \n",
    "`\n",
    "          \n",
    "\n"
   ]
  },
  {
   "cell_type": "code",
   "execution_count": null,
   "metadata": {
    "collapsed": false,
    "scrolled": true
   },
   "outputs": [],
   "source": [
    "#show_answer('thesaurus 2')"
   ]
  },
  {
   "cell_type": "markdown",
   "metadata": {},
   "source": [
    "### Next: [Bayesian inference](T2 - Bayesian inference.ipynb)"
   ]
  }
 ],
 "metadata": {
  "anaconda-cloud": {},
  "kernelspec": {
   "display_name": "Python [default]",
   "language": "python",
   "name": "python3"
  },
  "language_info": {
   "codemirror_mode": {
    "name": "ipython",
    "version": 3
   },
   "file_extension": ".py",
   "mimetype": "text/x-python",
   "name": "python",
   "nbconvert_exporter": "python",
   "pygments_lexer": "ipython3",
   "version": "3.5.2"
  }
 },
 "nbformat": 4,
 "nbformat_minor": 1
}
