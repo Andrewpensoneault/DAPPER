{
 "cells": [
  {
   "cell_type": "code",
   "execution_count": 5,
   "metadata": {
    "collapsed": false
   },
   "outputs": [
    {
     "name": "stdout",
     "output_type": "stream",
     "text": [
      "/Users/pataan/Dropbox/DPhil/DAPPER\n"
     ]
    }
   ],
   "source": [
    "from resources import *"
   ]
  },
  {
   "cell_type": "markdown",
   "metadata": {},
   "source": [
    "### Gaussian random variables"
   ]
  },
  {
   "cell_type": "markdown",
   "metadata": {},
   "source": [
    "Consider the random variable with a Gaussian distribution with mean $\\mu$ (`mu`) and variance $P$. We write its probability density function (pdf) as\n",
    "$$ p(x) = N(x|\\mu,P) = (2 \\pi P)^{-1/2} e^{-(x-\\mu)^2/2P} \\, . $$"
   ]
  },
  {
   "cell_type": "markdown",
   "metadata": {},
   "source": [
    "**Exc:** Code it up!"
   ]
  },
  {
   "cell_type": "code",
   "execution_count": 43,
   "metadata": {
    "collapsed": false
   },
   "outputs": [
    {
     "data": {
      "text/html": [
       "<div style=\"background-color:#d8e7ff;padding:0.5em;\"><pre><code>return 1/sqrt(2*pi*P)*exp(-0.5*(xx-mu)**2/P)\n",
       "#return sp.stats.norm.pdf(xx,loc=mu,scale=sqrt(P))\n",
       "</code></pre></div>"
      ],
      "text/plain": [
       "<IPython.core.display.HTML object>"
      ]
     },
     "metadata": {},
     "output_type": "display_data"
    }
   ],
   "source": [
    "answers['pdf_G_1'] = ['MD',r'''\n",
    "    return 1/sqrt(2*pi*P)*exp(-0.5*(xx-mu)**2/P)\n",
    "    #return sp.stats.norm.pdf(xx,loc=mu,scale=sqrt(P))\n",
    "''']\n",
    "show_answer('pdf_G_1')"
   ]
  },
  {
   "cell_type": "code",
   "execution_count": 6,
   "metadata": {
    "collapsed": true
   },
   "outputs": [],
   "source": [
    "# Univariate (scalar), Gaussian pdf\n",
    "def pdf_G_1(xx,mu,P):\n",
    "    ### INSERT ANSWER ###\n",
    "    return 1/sqrt(2*pi*P)*exp(-0.5*(xx-mu)**2/P)\n",
    "    #return sp.stats.norm.pdf(xx,loc=mu,scale=sqrt(P))"
   ]
  },
  {
   "cell_type": "code",
   "execution_count": 7,
   "metadata": {
    "collapsed": false
   },
   "outputs": [
    {
     "data": {
      "application/javascript": [
       "/* Put everything inside the global mpl namespace */\n",
       "window.mpl = {};\n",
       "\n",
       "mpl.get_websocket_type = function() {\n",
       "    if (typeof(WebSocket) !== 'undefined') {\n",
       "        return WebSocket;\n",
       "    } else if (typeof(MozWebSocket) !== 'undefined') {\n",
       "        return MozWebSocket;\n",
       "    } else {\n",
       "        alert('Your browser does not have WebSocket support.' +\n",
       "              'Please try Chrome, Safari or Firefox ≥ 6. ' +\n",
       "              'Firefox 4 and 5 are also supported but you ' +\n",
       "              'have to enable WebSockets in about:config.');\n",
       "    };\n",
       "}\n",
       "\n",
       "mpl.figure = function(figure_id, websocket, ondownload, parent_element) {\n",
       "    this.id = figure_id;\n",
       "\n",
       "    this.ws = websocket;\n",
       "\n",
       "    this.supports_binary = (this.ws.binaryType != undefined);\n",
       "\n",
       "    if (!this.supports_binary) {\n",
       "        var warnings = document.getElementById(\"mpl-warnings\");\n",
       "        if (warnings) {\n",
       "            warnings.style.display = 'block';\n",
       "            warnings.textContent = (\n",
       "                \"This browser does not support binary websocket messages. \" +\n",
       "                    \"Performance may be slow.\");\n",
       "        }\n",
       "    }\n",
       "\n",
       "    this.imageObj = new Image();\n",
       "\n",
       "    this.context = undefined;\n",
       "    this.message = undefined;\n",
       "    this.canvas = undefined;\n",
       "    this.rubberband_canvas = undefined;\n",
       "    this.rubberband_context = undefined;\n",
       "    this.format_dropdown = undefined;\n",
       "\n",
       "    this.image_mode = 'full';\n",
       "\n",
       "    this.root = $('<div/>');\n",
       "    this._root_extra_style(this.root)\n",
       "    this.root.attr('style', 'display: inline-block');\n",
       "\n",
       "    $(parent_element).append(this.root);\n",
       "\n",
       "    this._init_header(this);\n",
       "    this._init_canvas(this);\n",
       "    this._init_toolbar(this);\n",
       "\n",
       "    var fig = this;\n",
       "\n",
       "    this.waiting = false;\n",
       "\n",
       "    this.ws.onopen =  function () {\n",
       "            fig.send_message(\"supports_binary\", {value: fig.supports_binary});\n",
       "            fig.send_message(\"send_image_mode\", {});\n",
       "            fig.send_message(\"refresh\", {});\n",
       "        }\n",
       "\n",
       "    this.imageObj.onload = function() {\n",
       "            if (fig.image_mode == 'full') {\n",
       "                // Full images could contain transparency (where diff images\n",
       "                // almost always do), so we need to clear the canvas so that\n",
       "                // there is no ghosting.\n",
       "                fig.context.clearRect(0, 0, fig.canvas.width, fig.canvas.height);\n",
       "            }\n",
       "            fig.context.drawImage(fig.imageObj, 0, 0);\n",
       "        };\n",
       "\n",
       "    this.imageObj.onunload = function() {\n",
       "        this.ws.close();\n",
       "    }\n",
       "\n",
       "    this.ws.onmessage = this._make_on_message_function(this);\n",
       "\n",
       "    this.ondownload = ondownload;\n",
       "}\n",
       "\n",
       "mpl.figure.prototype._init_header = function() {\n",
       "    var titlebar = $(\n",
       "        '<div class=\"ui-dialog-titlebar ui-widget-header ui-corner-all ' +\n",
       "        'ui-helper-clearfix\"/>');\n",
       "    var titletext = $(\n",
       "        '<div class=\"ui-dialog-title\" style=\"width: 100%; ' +\n",
       "        'text-align: center; padding: 3px;\"/>');\n",
       "    titlebar.append(titletext)\n",
       "    this.root.append(titlebar);\n",
       "    this.header = titletext[0];\n",
       "}\n",
       "\n",
       "\n",
       "\n",
       "mpl.figure.prototype._canvas_extra_style = function(canvas_div) {\n",
       "\n",
       "}\n",
       "\n",
       "\n",
       "mpl.figure.prototype._root_extra_style = function(canvas_div) {\n",
       "\n",
       "}\n",
       "\n",
       "mpl.figure.prototype._init_canvas = function() {\n",
       "    var fig = this;\n",
       "\n",
       "    var canvas_div = $('<div/>');\n",
       "\n",
       "    canvas_div.attr('style', 'position: relative; clear: both; outline: 0');\n",
       "\n",
       "    function canvas_keyboard_event(event) {\n",
       "        return fig.key_event(event, event['data']);\n",
       "    }\n",
       "\n",
       "    canvas_div.keydown('key_press', canvas_keyboard_event);\n",
       "    canvas_div.keyup('key_release', canvas_keyboard_event);\n",
       "    this.canvas_div = canvas_div\n",
       "    this._canvas_extra_style(canvas_div)\n",
       "    this.root.append(canvas_div);\n",
       "\n",
       "    var canvas = $('<canvas/>');\n",
       "    canvas.addClass('mpl-canvas');\n",
       "    canvas.attr('style', \"left: 0; top: 0; z-index: 0; outline: 0\")\n",
       "\n",
       "    this.canvas = canvas[0];\n",
       "    this.context = canvas[0].getContext(\"2d\");\n",
       "\n",
       "    var rubberband = $('<canvas/>');\n",
       "    rubberband.attr('style', \"position: absolute; left: 0; top: 0; z-index: 1;\")\n",
       "\n",
       "    var pass_mouse_events = true;\n",
       "\n",
       "    canvas_div.resizable({\n",
       "        start: function(event, ui) {\n",
       "            pass_mouse_events = false;\n",
       "        },\n",
       "        resize: function(event, ui) {\n",
       "            fig.request_resize(ui.size.width, ui.size.height);\n",
       "        },\n",
       "        stop: function(event, ui) {\n",
       "            pass_mouse_events = true;\n",
       "            fig.request_resize(ui.size.width, ui.size.height);\n",
       "        },\n",
       "    });\n",
       "\n",
       "    function mouse_event_fn(event) {\n",
       "        if (pass_mouse_events)\n",
       "            return fig.mouse_event(event, event['data']);\n",
       "    }\n",
       "\n",
       "    rubberband.mousedown('button_press', mouse_event_fn);\n",
       "    rubberband.mouseup('button_release', mouse_event_fn);\n",
       "    // Throttle sequential mouse events to 1 every 20ms.\n",
       "    rubberband.mousemove('motion_notify', mouse_event_fn);\n",
       "\n",
       "    rubberband.mouseenter('figure_enter', mouse_event_fn);\n",
       "    rubberband.mouseleave('figure_leave', mouse_event_fn);\n",
       "\n",
       "    canvas_div.on(\"wheel\", function (event) {\n",
       "        event = event.originalEvent;\n",
       "        event['data'] = 'scroll'\n",
       "        if (event.deltaY < 0) {\n",
       "            event.step = 1;\n",
       "        } else {\n",
       "            event.step = -1;\n",
       "        }\n",
       "        mouse_event_fn(event);\n",
       "    });\n",
       "\n",
       "    canvas_div.append(canvas);\n",
       "    canvas_div.append(rubberband);\n",
       "\n",
       "    this.rubberband = rubberband;\n",
       "    this.rubberband_canvas = rubberband[0];\n",
       "    this.rubberband_context = rubberband[0].getContext(\"2d\");\n",
       "    this.rubberband_context.strokeStyle = \"#000000\";\n",
       "\n",
       "    this._resize_canvas = function(width, height) {\n",
       "        // Keep the size of the canvas, canvas container, and rubber band\n",
       "        // canvas in synch.\n",
       "        canvas_div.css('width', width)\n",
       "        canvas_div.css('height', height)\n",
       "\n",
       "        canvas.attr('width', width);\n",
       "        canvas.attr('height', height);\n",
       "\n",
       "        rubberband.attr('width', width);\n",
       "        rubberband.attr('height', height);\n",
       "    }\n",
       "\n",
       "    // Set the figure to an initial 600x600px, this will subsequently be updated\n",
       "    // upon first draw.\n",
       "    this._resize_canvas(600, 600);\n",
       "\n",
       "    // Disable right mouse context menu.\n",
       "    $(this.rubberband_canvas).bind(\"contextmenu\",function(e){\n",
       "        return false;\n",
       "    });\n",
       "\n",
       "    function set_focus () {\n",
       "        canvas.focus();\n",
       "        canvas_div.focus();\n",
       "    }\n",
       "\n",
       "    window.setTimeout(set_focus, 100);\n",
       "}\n",
       "\n",
       "mpl.figure.prototype._init_toolbar = function() {\n",
       "    var fig = this;\n",
       "\n",
       "    var nav_element = $('<div/>')\n",
       "    nav_element.attr('style', 'width: 100%');\n",
       "    this.root.append(nav_element);\n",
       "\n",
       "    // Define a callback function for later on.\n",
       "    function toolbar_event(event) {\n",
       "        return fig.toolbar_button_onclick(event['data']);\n",
       "    }\n",
       "    function toolbar_mouse_event(event) {\n",
       "        return fig.toolbar_button_onmouseover(event['data']);\n",
       "    }\n",
       "\n",
       "    for(var toolbar_ind in mpl.toolbar_items) {\n",
       "        var name = mpl.toolbar_items[toolbar_ind][0];\n",
       "        var tooltip = mpl.toolbar_items[toolbar_ind][1];\n",
       "        var image = mpl.toolbar_items[toolbar_ind][2];\n",
       "        var method_name = mpl.toolbar_items[toolbar_ind][3];\n",
       "\n",
       "        if (!name) {\n",
       "            // put a spacer in here.\n",
       "            continue;\n",
       "        }\n",
       "        var button = $('<button/>');\n",
       "        button.addClass('ui-button ui-widget ui-state-default ui-corner-all ' +\n",
       "                        'ui-button-icon-only');\n",
       "        button.attr('role', 'button');\n",
       "        button.attr('aria-disabled', 'false');\n",
       "        button.click(method_name, toolbar_event);\n",
       "        button.mouseover(tooltip, toolbar_mouse_event);\n",
       "\n",
       "        var icon_img = $('<span/>');\n",
       "        icon_img.addClass('ui-button-icon-primary ui-icon');\n",
       "        icon_img.addClass(image);\n",
       "        icon_img.addClass('ui-corner-all');\n",
       "\n",
       "        var tooltip_span = $('<span/>');\n",
       "        tooltip_span.addClass('ui-button-text');\n",
       "        tooltip_span.html(tooltip);\n",
       "\n",
       "        button.append(icon_img);\n",
       "        button.append(tooltip_span);\n",
       "\n",
       "        nav_element.append(button);\n",
       "    }\n",
       "\n",
       "    var fmt_picker_span = $('<span/>');\n",
       "\n",
       "    var fmt_picker = $('<select/>');\n",
       "    fmt_picker.addClass('mpl-toolbar-option ui-widget ui-widget-content');\n",
       "    fmt_picker_span.append(fmt_picker);\n",
       "    nav_element.append(fmt_picker_span);\n",
       "    this.format_dropdown = fmt_picker[0];\n",
       "\n",
       "    for (var ind in mpl.extensions) {\n",
       "        var fmt = mpl.extensions[ind];\n",
       "        var option = $(\n",
       "            '<option/>', {selected: fmt === mpl.default_extension}).html(fmt);\n",
       "        fmt_picker.append(option)\n",
       "    }\n",
       "\n",
       "    // Add hover states to the ui-buttons\n",
       "    $( \".ui-button\" ).hover(\n",
       "        function() { $(this).addClass(\"ui-state-hover\");},\n",
       "        function() { $(this).removeClass(\"ui-state-hover\");}\n",
       "    );\n",
       "\n",
       "    var status_bar = $('<span class=\"mpl-message\"/>');\n",
       "    nav_element.append(status_bar);\n",
       "    this.message = status_bar[0];\n",
       "}\n",
       "\n",
       "mpl.figure.prototype.request_resize = function(x_pixels, y_pixels) {\n",
       "    // Request matplotlib to resize the figure. Matplotlib will then trigger a resize in the client,\n",
       "    // which will in turn request a refresh of the image.\n",
       "    this.send_message('resize', {'width': x_pixels, 'height': y_pixels});\n",
       "}\n",
       "\n",
       "mpl.figure.prototype.send_message = function(type, properties) {\n",
       "    properties['type'] = type;\n",
       "    properties['figure_id'] = this.id;\n",
       "    this.ws.send(JSON.stringify(properties));\n",
       "}\n",
       "\n",
       "mpl.figure.prototype.send_draw_message = function() {\n",
       "    if (!this.waiting) {\n",
       "        this.waiting = true;\n",
       "        this.ws.send(JSON.stringify({type: \"draw\", figure_id: this.id}));\n",
       "    }\n",
       "}\n",
       "\n",
       "\n",
       "mpl.figure.prototype.handle_save = function(fig, msg) {\n",
       "    var format_dropdown = fig.format_dropdown;\n",
       "    var format = format_dropdown.options[format_dropdown.selectedIndex].value;\n",
       "    fig.ondownload(fig, format);\n",
       "}\n",
       "\n",
       "\n",
       "mpl.figure.prototype.handle_resize = function(fig, msg) {\n",
       "    var size = msg['size'];\n",
       "    if (size[0] != fig.canvas.width || size[1] != fig.canvas.height) {\n",
       "        fig._resize_canvas(size[0], size[1]);\n",
       "        fig.send_message(\"refresh\", {});\n",
       "    };\n",
       "}\n",
       "\n",
       "mpl.figure.prototype.handle_rubberband = function(fig, msg) {\n",
       "    var x0 = msg['x0'];\n",
       "    var y0 = fig.canvas.height - msg['y0'];\n",
       "    var x1 = msg['x1'];\n",
       "    var y1 = fig.canvas.height - msg['y1'];\n",
       "    x0 = Math.floor(x0) + 0.5;\n",
       "    y0 = Math.floor(y0) + 0.5;\n",
       "    x1 = Math.floor(x1) + 0.5;\n",
       "    y1 = Math.floor(y1) + 0.5;\n",
       "    var min_x = Math.min(x0, x1);\n",
       "    var min_y = Math.min(y0, y1);\n",
       "    var width = Math.abs(x1 - x0);\n",
       "    var height = Math.abs(y1 - y0);\n",
       "\n",
       "    fig.rubberband_context.clearRect(\n",
       "        0, 0, fig.canvas.width, fig.canvas.height);\n",
       "\n",
       "    fig.rubberband_context.strokeRect(min_x, min_y, width, height);\n",
       "}\n",
       "\n",
       "mpl.figure.prototype.handle_figure_label = function(fig, msg) {\n",
       "    // Updates the figure title.\n",
       "    fig.header.textContent = msg['label'];\n",
       "}\n",
       "\n",
       "mpl.figure.prototype.handle_cursor = function(fig, msg) {\n",
       "    var cursor = msg['cursor'];\n",
       "    switch(cursor)\n",
       "    {\n",
       "    case 0:\n",
       "        cursor = 'pointer';\n",
       "        break;\n",
       "    case 1:\n",
       "        cursor = 'default';\n",
       "        break;\n",
       "    case 2:\n",
       "        cursor = 'crosshair';\n",
       "        break;\n",
       "    case 3:\n",
       "        cursor = 'move';\n",
       "        break;\n",
       "    }\n",
       "    fig.rubberband_canvas.style.cursor = cursor;\n",
       "}\n",
       "\n",
       "mpl.figure.prototype.handle_message = function(fig, msg) {\n",
       "    fig.message.textContent = msg['message'];\n",
       "}\n",
       "\n",
       "mpl.figure.prototype.handle_draw = function(fig, msg) {\n",
       "    // Request the server to send over a new figure.\n",
       "    fig.send_draw_message();\n",
       "}\n",
       "\n",
       "mpl.figure.prototype.handle_image_mode = function(fig, msg) {\n",
       "    fig.image_mode = msg['mode'];\n",
       "}\n",
       "\n",
       "mpl.figure.prototype.updated_canvas_event = function() {\n",
       "    // Called whenever the canvas gets updated.\n",
       "    this.send_message(\"ack\", {});\n",
       "}\n",
       "\n",
       "// A function to construct a web socket function for onmessage handling.\n",
       "// Called in the figure constructor.\n",
       "mpl.figure.prototype._make_on_message_function = function(fig) {\n",
       "    return function socket_on_message(evt) {\n",
       "        if (evt.data instanceof Blob) {\n",
       "            /* FIXME: We get \"Resource interpreted as Image but\n",
       "             * transferred with MIME type text/plain:\" errors on\n",
       "             * Chrome.  But how to set the MIME type?  It doesn't seem\n",
       "             * to be part of the websocket stream */\n",
       "            evt.data.type = \"image/png\";\n",
       "\n",
       "            /* Free the memory for the previous frames */\n",
       "            if (fig.imageObj.src) {\n",
       "                (window.URL || window.webkitURL).revokeObjectURL(\n",
       "                    fig.imageObj.src);\n",
       "            }\n",
       "\n",
       "            fig.imageObj.src = (window.URL || window.webkitURL).createObjectURL(\n",
       "                evt.data);\n",
       "            fig.updated_canvas_event();\n",
       "            fig.waiting = false;\n",
       "            return;\n",
       "        }\n",
       "        else if (typeof evt.data === 'string' && evt.data.slice(0, 21) == \"data:image/png;base64\") {\n",
       "            fig.imageObj.src = evt.data;\n",
       "            fig.updated_canvas_event();\n",
       "            fig.waiting = false;\n",
       "            return;\n",
       "        }\n",
       "\n",
       "        var msg = JSON.parse(evt.data);\n",
       "        var msg_type = msg['type'];\n",
       "\n",
       "        // Call the  \"handle_{type}\" callback, which takes\n",
       "        // the figure and JSON message as its only arguments.\n",
       "        try {\n",
       "            var callback = fig[\"handle_\" + msg_type];\n",
       "        } catch (e) {\n",
       "            console.log(\"No handler for the '\" + msg_type + \"' message type: \", msg);\n",
       "            return;\n",
       "        }\n",
       "\n",
       "        if (callback) {\n",
       "            try {\n",
       "                // console.log(\"Handling '\" + msg_type + \"' message: \", msg);\n",
       "                callback(fig, msg);\n",
       "            } catch (e) {\n",
       "                console.log(\"Exception inside the 'handler_\" + msg_type + \"' callback:\", e, e.stack, msg);\n",
       "            }\n",
       "        }\n",
       "    };\n",
       "}\n",
       "\n",
       "// from http://stackoverflow.com/questions/1114465/getting-mouse-location-in-canvas\n",
       "mpl.findpos = function(e) {\n",
       "    //this section is from http://www.quirksmode.org/js/events_properties.html\n",
       "    var targ;\n",
       "    if (!e)\n",
       "        e = window.event;\n",
       "    if (e.target)\n",
       "        targ = e.target;\n",
       "    else if (e.srcElement)\n",
       "        targ = e.srcElement;\n",
       "    if (targ.nodeType == 3) // defeat Safari bug\n",
       "        targ = targ.parentNode;\n",
       "\n",
       "    // jQuery normalizes the pageX and pageY\n",
       "    // pageX,Y are the mouse positions relative to the document\n",
       "    // offset() returns the position of the element relative to the document\n",
       "    var x = e.pageX - $(targ).offset().left;\n",
       "    var y = e.pageY - $(targ).offset().top;\n",
       "\n",
       "    return {\"x\": x, \"y\": y};\n",
       "};\n",
       "\n",
       "/*\n",
       " * return a copy of an object with only non-object keys\n",
       " * we need this to avoid circular references\n",
       " * http://stackoverflow.com/a/24161582/3208463\n",
       " */\n",
       "function simpleKeys (original) {\n",
       "  return Object.keys(original).reduce(function (obj, key) {\n",
       "    if (typeof original[key] !== 'object')\n",
       "        obj[key] = original[key]\n",
       "    return obj;\n",
       "  }, {});\n",
       "}\n",
       "\n",
       "mpl.figure.prototype.mouse_event = function(event, name) {\n",
       "    var canvas_pos = mpl.findpos(event)\n",
       "\n",
       "    if (name === 'button_press')\n",
       "    {\n",
       "        this.canvas.focus();\n",
       "        this.canvas_div.focus();\n",
       "    }\n",
       "\n",
       "    var x = canvas_pos.x;\n",
       "    var y = canvas_pos.y;\n",
       "\n",
       "    this.send_message(name, {x: x, y: y, button: event.button,\n",
       "                             step: event.step,\n",
       "                             guiEvent: simpleKeys(event)});\n",
       "\n",
       "    /* This prevents the web browser from automatically changing to\n",
       "     * the text insertion cursor when the button is pressed.  We want\n",
       "     * to control all of the cursor setting manually through the\n",
       "     * 'cursor' event from matplotlib */\n",
       "    event.preventDefault();\n",
       "    return false;\n",
       "}\n",
       "\n",
       "mpl.figure.prototype._key_event_extra = function(event, name) {\n",
       "    // Handle any extra behaviour associated with a key event\n",
       "}\n",
       "\n",
       "mpl.figure.prototype.key_event = function(event, name) {\n",
       "\n",
       "    // Prevent repeat events\n",
       "    if (name == 'key_press')\n",
       "    {\n",
       "        if (event.which === this._key)\n",
       "            return;\n",
       "        else\n",
       "            this._key = event.which;\n",
       "    }\n",
       "    if (name == 'key_release')\n",
       "        this._key = null;\n",
       "\n",
       "    var value = '';\n",
       "    if (event.ctrlKey && event.which != 17)\n",
       "        value += \"ctrl+\";\n",
       "    if (event.altKey && event.which != 18)\n",
       "        value += \"alt+\";\n",
       "    if (event.shiftKey && event.which != 16)\n",
       "        value += \"shift+\";\n",
       "\n",
       "    value += 'k';\n",
       "    value += event.which.toString();\n",
       "\n",
       "    this._key_event_extra(event, name);\n",
       "\n",
       "    this.send_message(name, {key: value,\n",
       "                             guiEvent: simpleKeys(event)});\n",
       "    return false;\n",
       "}\n",
       "\n",
       "mpl.figure.prototype.toolbar_button_onclick = function(name) {\n",
       "    if (name == 'download') {\n",
       "        this.handle_save(this, null);\n",
       "    } else {\n",
       "        this.send_message(\"toolbar_button\", {name: name});\n",
       "    }\n",
       "};\n",
       "\n",
       "mpl.figure.prototype.toolbar_button_onmouseover = function(tooltip) {\n",
       "    this.message.textContent = tooltip;\n",
       "};\n",
       "mpl.toolbar_items = [[\"Home\", \"Reset original view\", \"fa fa-home icon-home\", \"home\"], [\"Back\", \"Back to  previous view\", \"fa fa-arrow-left icon-arrow-left\", \"back\"], [\"Forward\", \"Forward to next view\", \"fa fa-arrow-right icon-arrow-right\", \"forward\"], [\"\", \"\", \"\", \"\"], [\"Pan\", \"Pan axes with left mouse, zoom with right\", \"fa fa-arrows icon-move\", \"pan\"], [\"Zoom\", \"Zoom to rectangle\", \"fa fa-square-o icon-check-empty\", \"zoom\"], [\"\", \"\", \"\", \"\"], [\"Download\", \"Download plot\", \"fa fa-floppy-o icon-save\", \"download\"]];\n",
       "\n",
       "mpl.extensions = [\"eps\", \"jpeg\", \"pdf\", \"png\", \"ps\", \"raw\", \"svg\", \"tif\"];\n",
       "\n",
       "mpl.default_extension = \"png\";var comm_websocket_adapter = function(comm) {\n",
       "    // Create a \"websocket\"-like object which calls the given IPython comm\n",
       "    // object with the appropriate methods. Currently this is a non binary\n",
       "    // socket, so there is still some room for performance tuning.\n",
       "    var ws = {};\n",
       "\n",
       "    ws.close = function() {\n",
       "        comm.close()\n",
       "    };\n",
       "    ws.send = function(m) {\n",
       "        //console.log('sending', m);\n",
       "        comm.send(m);\n",
       "    };\n",
       "    // Register the callback with on_msg.\n",
       "    comm.on_msg(function(msg) {\n",
       "        //console.log('receiving', msg['content']['data'], msg);\n",
       "        // Pass the mpl event to the overriden (by mpl) onmessage function.\n",
       "        ws.onmessage(msg['content']['data'])\n",
       "    });\n",
       "    return ws;\n",
       "}\n",
       "\n",
       "mpl.mpl_figure_comm = function(comm, msg) {\n",
       "    // This is the function which gets called when the mpl process\n",
       "    // starts-up an IPython Comm through the \"matplotlib\" channel.\n",
       "\n",
       "    var id = msg.content.data.id;\n",
       "    // Get hold of the div created by the display call when the Comm\n",
       "    // socket was opened in Python.\n",
       "    var element = $(\"#\" + id);\n",
       "    var ws_proxy = comm_websocket_adapter(comm)\n",
       "\n",
       "    function ondownload(figure, format) {\n",
       "        window.open(figure.imageObj.src);\n",
       "    }\n",
       "\n",
       "    var fig = new mpl.figure(id, ws_proxy,\n",
       "                           ondownload,\n",
       "                           element.get(0));\n",
       "\n",
       "    // Call onopen now - mpl needs it, as it is assuming we've passed it a real\n",
       "    // web socket which is closed, not our websocket->open comm proxy.\n",
       "    ws_proxy.onopen();\n",
       "\n",
       "    fig.parent_element = element.get(0);\n",
       "    fig.cell_info = mpl.find_output_cell(\"<div id='\" + id + \"'></div>\");\n",
       "    if (!fig.cell_info) {\n",
       "        console.error(\"Failed to find cell for figure\", id, fig);\n",
       "        return;\n",
       "    }\n",
       "\n",
       "    var output_index = fig.cell_info[2]\n",
       "    var cell = fig.cell_info[0];\n",
       "\n",
       "};\n",
       "\n",
       "mpl.figure.prototype.handle_close = function(fig, msg) {\n",
       "    fig.root.unbind('remove')\n",
       "\n",
       "    // Update the output cell to use the data from the current canvas.\n",
       "    fig.push_to_output();\n",
       "    var dataURL = fig.canvas.toDataURL();\n",
       "    // Re-enable the keyboard manager in IPython - without this line, in FF,\n",
       "    // the notebook keyboard shortcuts fail.\n",
       "    IPython.keyboard_manager.enable()\n",
       "    $(fig.parent_element).html('<img src=\"' + dataURL + '\">');\n",
       "    fig.close_ws(fig, msg);\n",
       "}\n",
       "\n",
       "mpl.figure.prototype.close_ws = function(fig, msg){\n",
       "    fig.send_message('closing', msg);\n",
       "    // fig.ws.close()\n",
       "}\n",
       "\n",
       "mpl.figure.prototype.push_to_output = function(remove_interactive) {\n",
       "    // Turn the data on the canvas into data in the output cell.\n",
       "    var dataURL = this.canvas.toDataURL();\n",
       "    this.cell_info[1]['text/html'] = '<img src=\"' + dataURL + '\">';\n",
       "}\n",
       "\n",
       "mpl.figure.prototype.updated_canvas_event = function() {\n",
       "    // Tell IPython that the notebook contents must change.\n",
       "    IPython.notebook.set_dirty(true);\n",
       "    this.send_message(\"ack\", {});\n",
       "    var fig = this;\n",
       "    // Wait a second, then push the new image to the DOM so\n",
       "    // that it is saved nicely (might be nice to debounce this).\n",
       "    setTimeout(function () { fig.push_to_output() }, 1000);\n",
       "}\n",
       "\n",
       "mpl.figure.prototype._init_toolbar = function() {\n",
       "    var fig = this;\n",
       "\n",
       "    var nav_element = $('<div/>')\n",
       "    nav_element.attr('style', 'width: 100%');\n",
       "    this.root.append(nav_element);\n",
       "\n",
       "    // Define a callback function for later on.\n",
       "    function toolbar_event(event) {\n",
       "        return fig.toolbar_button_onclick(event['data']);\n",
       "    }\n",
       "    function toolbar_mouse_event(event) {\n",
       "        return fig.toolbar_button_onmouseover(event['data']);\n",
       "    }\n",
       "\n",
       "    for(var toolbar_ind in mpl.toolbar_items){\n",
       "        var name = mpl.toolbar_items[toolbar_ind][0];\n",
       "        var tooltip = mpl.toolbar_items[toolbar_ind][1];\n",
       "        var image = mpl.toolbar_items[toolbar_ind][2];\n",
       "        var method_name = mpl.toolbar_items[toolbar_ind][3];\n",
       "\n",
       "        if (!name) { continue; };\n",
       "\n",
       "        var button = $('<button class=\"btn btn-default\" href=\"#\" title=\"' + name + '\"><i class=\"fa ' + image + ' fa-lg\"></i></button>');\n",
       "        button.click(method_name, toolbar_event);\n",
       "        button.mouseover(tooltip, toolbar_mouse_event);\n",
       "        nav_element.append(button);\n",
       "    }\n",
       "\n",
       "    // Add the status bar.\n",
       "    var status_bar = $('<span class=\"mpl-message\" style=\"text-align:right; float: right;\"/>');\n",
       "    nav_element.append(status_bar);\n",
       "    this.message = status_bar[0];\n",
       "\n",
       "    // Add the close button to the window.\n",
       "    var buttongrp = $('<div class=\"btn-group inline pull-right\"></div>');\n",
       "    var button = $('<button class=\"btn btn-mini btn-primary\" href=\"#\" title=\"Stop Interaction\"><i class=\"fa fa-power-off icon-remove icon-large\"></i></button>');\n",
       "    button.click(function (evt) { fig.handle_close(fig, {}); } );\n",
       "    button.mouseover('Stop Interaction', toolbar_mouse_event);\n",
       "    buttongrp.append(button);\n",
       "    var titlebar = this.root.find($('.ui-dialog-titlebar'));\n",
       "    titlebar.prepend(buttongrp);\n",
       "}\n",
       "\n",
       "mpl.figure.prototype._root_extra_style = function(el){\n",
       "    var fig = this\n",
       "    el.on(\"remove\", function(){\n",
       "\tfig.close_ws(fig, {});\n",
       "    });\n",
       "}\n",
       "\n",
       "mpl.figure.prototype._canvas_extra_style = function(el){\n",
       "    // this is important to make the div 'focusable\n",
       "    el.attr('tabindex', 0)\n",
       "    // reach out to IPython and tell the keyboard manager to turn it's self\n",
       "    // off when our div gets focus\n",
       "\n",
       "    // location in version 3\n",
       "    if (IPython.notebook.keyboard_manager) {\n",
       "        IPython.notebook.keyboard_manager.register_events(el);\n",
       "    }\n",
       "    else {\n",
       "        // location in version 2\n",
       "        IPython.keyboard_manager.register_events(el);\n",
       "    }\n",
       "\n",
       "}\n",
       "\n",
       "mpl.figure.prototype._key_event_extra = function(event, name) {\n",
       "    var manager = IPython.notebook.keyboard_manager;\n",
       "    if (!manager)\n",
       "        manager = IPython.keyboard_manager;\n",
       "\n",
       "    // Check for shift+enter\n",
       "    if (event.shiftKey && event.which == 13) {\n",
       "        this.canvas_div.blur();\n",
       "        // select the cell after this one\n",
       "        var index = IPython.notebook.find_cell_index(this.cell_info[0]);\n",
       "        IPython.notebook.select(index + 1);\n",
       "    }\n",
       "}\n",
       "\n",
       "mpl.figure.prototype.handle_save = function(fig, msg) {\n",
       "    fig.ondownload(fig, null);\n",
       "}\n",
       "\n",
       "\n",
       "mpl.find_output_cell = function(html_output) {\n",
       "    // Return the cell and output element which can be found *uniquely* in the notebook.\n",
       "    // Note - this is a bit hacky, but it is done because the \"notebook_saving.Notebook\"\n",
       "    // IPython event is triggered only after the cells have been serialised, which for\n",
       "    // our purposes (turning an active figure into a static one), is too late.\n",
       "    var cells = IPython.notebook.get_cells();\n",
       "    var ncells = cells.length;\n",
       "    for (var i=0; i<ncells; i++) {\n",
       "        var cell = cells[i];\n",
       "        if (cell.cell_type === 'code'){\n",
       "            for (var j=0; j<cell.output_area.outputs.length; j++) {\n",
       "                var data = cell.output_area.outputs[j];\n",
       "                if (data.data) {\n",
       "                    // IPython >= 3 moved mimebundle to data attribute of output\n",
       "                    data = data.data;\n",
       "                }\n",
       "                if (data['text/html'] == html_output) {\n",
       "                    return [cell, data, j];\n",
       "                }\n",
       "            }\n",
       "        }\n",
       "    }\n",
       "}\n",
       "\n",
       "// Register the function which deals with the matplotlib target/channel.\n",
       "// The kernel may be null if the page has been refreshed.\n",
       "if (IPython.notebook.kernel != null) {\n",
       "    IPython.notebook.kernel.comm_manager.register_target('matplotlib', mpl.mpl_figure_comm);\n",
       "}\n"
      ],
      "text/plain": [
       "<IPython.core.display.Javascript object>"
      ]
     },
     "metadata": {},
     "output_type": "display_data"
    },
    {
     "data": {
      "text/html": [
       "<img src=\"data:image/png;base64,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\">"
      ],
      "text/plain": [
       "<IPython.core.display.HTML object>"
      ]
     },
     "metadata": {},
     "output_type": "display_data"
    }
   ],
   "source": [
    "mu  = 0\n",
    "P   = 25    \n",
    "P12 = sqrt(P)\n",
    "\n",
    "xx = linspace(-20,20,201)\n",
    "plt.subplot(211)\n",
    "plt.plot(xx,pdf_G_1(xx,mu,P));"
   ]
  },
  {
   "cell_type": "markdown",
   "metadata": {},
   "source": [
    "This could for example be the density of a stochastic noise variable. It could also describe our uncertainty about a parameter (or state), which we model as randomness in the Bayesian paradigm."
   ]
  },
  {
   "cell_type": "markdown",
   "metadata": {},
   "source": [
    "The following code defines the pdf of the *multivariate* Gaussian. Take a moment to digest the code."
   ]
  },
  {
   "cell_type": "code",
   "execution_count": 8,
   "metadata": {
    "collapsed": true
   },
   "outputs": [],
   "source": [
    "from numpy.linalg import det, inv\n",
    "\n",
    "def weighted_norm22(xx,W):\n",
    "    # W : the weighting matrix.\n",
    "    # xx: $N$-by-$m$, where m len(xx[n])==m for all n in 1...N.\n",
    "    return np.sum((xx @ W) * xx, axis=1)\n",
    "\n",
    "def pdf_G_m(xx,mu,P):\n",
    "    return 1/sqrt(det(2*pi*P))*exp(-0.5*weighted_norm22(xx-mu,inv(P)))"
   ]
  },
  {
   "cell_type": "markdown",
   "metadata": {},
   "source": [
    "This plots it (above) as contour (equi-density) curves."
   ]
  },
  {
   "cell_type": "code",
   "execution_count": 13,
   "metadata": {
    "collapsed": false
   },
   "outputs": [],
   "source": [
    "def list_2_array(grid): return array([xi.ravel() for xi in grid]).T\n",
    "def square_reshape(X):  return X.reshape(int(sqrt(len(X))),-1)\n",
    "\n",
    "grid       = np.meshgrid(xx,xx)\n",
    "grid       = list_2_array(grid)\n",
    "pdf_values = pdf_G_m(grid, 0, P*array([[1,0.7],[0.7,1]]))\n",
    "pdf_values = square_reshape(pdf_values)\n",
    "\n",
    "plt.subplot(212)\n",
    "plt.contour(xx,xx,pdf_values);\n",
    "plt.axis('equal');"
   ]
  },
  {
   "cell_type": "markdown",
   "metadata": {},
   "source": [
    "### Bayes' rule"
   ]
  },
  {
   "cell_type": "markdown",
   "metadata": {},
   "source": [
    "Bayes' rule is how we do inference. For continuous random variables, $x$ and $y$, it reads:\n",
    "\n",
    "The \"posterior\" (pdf of $x$ given $y$) is the \"prior\" (pdf of $x$) times the \"likelihood\" (of $y$ given $x$), normalized.\n",
    "\n",
    "$$ p(x|y) = \\frac{p(x) \\, p(y|x)}{p(y)} \\, .$$\n",
    "\n",
    "**Exc:** Derive Bayes' rule from the definition of conditional pdf's."
   ]
  },
  {
   "cell_type": "code",
   "execution_count": 42,
   "metadata": {
    "collapsed": false
   },
   "outputs": [
    {
     "data": {
      "text/html": [
       "<div style=\"background-color:#d8e7ff;padding:0.5em;\"><p><a href=\"https://en.wikipedia.org/wiki/Bayes%27_theorem#Derivation\">Wiki</a></p></div>"
      ],
      "text/plain": [
       "<IPython.core.display.HTML object>"
      ]
     },
     "metadata": {},
     "output_type": "display_data"
    }
   ],
   "source": [
    "answers['BR deriv'] = ['MD',r'''\n",
    "[Wiki](https://en.wikipedia.org/wiki/Bayes%27_theorem#Derivation)\n",
    "''']\n",
    "show_answer('BR deriv')"
   ]
  },
  {
   "cell_type": "markdown",
   "metadata": {},
   "source": [
    "Numerically, the distributions may be represented by their values on a grid. Bayes' rule the consists of *(grid-)pointwise* multiplication, as shown below."
   ]
  },
  {
   "cell_type": "code",
   "execution_count": 10,
   "metadata": {
    "collapsed": true
   },
   "outputs": [],
   "source": [
    "def Bayes_rule(prior_values,lklhd_values,dx):\n",
    "    posterior_values = prior_values*lklhd_values\n",
    "    posterior_values /= sum(posterior_values)*dx # normalization\n",
    "    return posterior_values"
   ]
  },
  {
   "cell_type": "markdown",
   "metadata": {},
   "source": [
    "**Exc:** Why does `Bayes_rule` not need to know the denominator, $p(y)$?"
   ]
  },
  {
   "cell_type": "code",
   "execution_count": 41,
   "metadata": {
    "collapsed": false
   },
   "outputs": [
    {
     "data": {
      "text/html": [
       "<div style=\"background-color:#d8e7ff;padding:0.5em;\"><p>Because $p(y) = \\int p(x,y) \\, dx = \\int p(x) p(y|x) \\, dx$, \n",
       "which is what gets computed by the sum over the grid values together with <code>dx</code>.</p></div>"
      ],
      "text/plain": [
       "<IPython.core.display.HTML object>"
      ]
     },
     "metadata": {},
     "output_type": "display_data"
    }
   ],
   "source": [
    "answers['BR grid normalization'] = ['MD',r'''\n",
    "Because $p(y) = \\int p(x,y) \\, dx = \\int p(x) p(y|x) \\, dx$, \n",
    "which is what gets computed by the sum over the grid values together with `dx`.\n",
    "''']\n",
    "show_answer('BR grid normalization')"
   ]
  },
  {
   "cell_type": "markdown",
   "metadata": {
    "collapsed": true
   },
   "source": [
    "In higher dimensions, (pointwise) multiplication becomes a preposterious notion.\n",
    "\n",
    "**Exc:** How many point-multiplications are needed on a grid with $m_{grid}$ points in $d$ dimensions?"
   ]
  },
  {
   "cell_type": "code",
   "execution_count": 40,
   "metadata": {
    "collapsed": false
   },
   "outputs": [
    {
     "data": {
      "text/html": [
       "<div style=\"background-color:#d8e7ff;padding:0.5em;\"><p>$(m_{grid})^d$</p></div>"
      ],
      "text/plain": [
       "<IPython.core.display.HTML object>"
      ]
     },
     "metadata": {},
     "output_type": "display_data"
    }
   ],
   "source": [
    "answers['num mult'] = ['MD',r'''\n",
    "$(m_{grid})^d$\n",
    "''']\n",
    "show_answer('num mult')"
   ]
  },
  {
   "cell_type": "markdown",
   "metadata": {},
   "source": [
    "#### Exc 'Gaussian Bayes':\n",
    "Derive the expression for the posterior of a Gaussian prior $N(x|b,B)$ and a Gaussian likelihood $N(y|x,R)$."
   ]
  },
  {
   "cell_type": "code",
   "execution_count": 80,
   "metadata": {
    "collapsed": false
   },
   "outputs": [
    {
     "data": {
      "text/html": [
       "<div style=\"background-color:#d8e7ff;padding:0.5em;\"><p>We can ignore all factors that do not depend on $x$.\n",
       "\\begin{align}\n",
       "p(x|y) &amp;= \\frac{p(x) \\, p(y|x)}{p(y)}\n",
       "\\propto p(x) \\, p(y|x) \\\\\n",
       "&amp;\\propto N(x|b,B) \\, N(y|x,R) \\\\\n",
       "&amp;\\propto \\exp \\Big( \\frac{-1}{2} \\Big( (x-b)^2/B + (x-y)^2/B\\Big) \\Big) \\\\\n",
       "&amp;\\propto \\exp \\Big( \\frac{-1}{2} \\Big( (1/B + 1/R)x^2 - 2(b/B + y/R)x \\Big) \\Big) \\\\\n",
       "&amp;\\propto \\exp \\Big( \\frac{-1}{2} \\Big( x - \\frac{b/B + y/R}{1/B + 1/R} \\Big)^2 \\cdot (1/B + 1/R) \\Big) \\\\\n",
       "&amp;\\propto N(x|\\mu,P) \\, ,\n",
       "\\end{align}\n",
       "i.e., by identification,\n",
       "$ p(x|y) = N(x|\\mu,P) \\, ,$\n",
       "with\n",
       "\\begin{align}\n",
       "    P &amp;= 1/(1/B + 1/R) \\, , \\\\\n",
       "  \\mu &amp;= P(b/B + y/R) \\, .\n",
       "\\end{align}</p></div>"
      ],
      "text/plain": [
       "<IPython.core.display.HTML object>"
      ]
     },
     "metadata": {},
     "output_type": "display_data"
    }
   ],
   "source": [
    "answers['BR Gauss'] = ['MD',r'''\n",
    "We can ignore all factors that do not depend on $x$.\n",
    "\\begin{align}\n",
    "p(x|y) &= \\frac{p(x) \\, p(y|x)}{p(y)}\n",
    "\\propto p(x) \\, p(y|x) \\\\\\\n",
    "&\\propto N(x|b,B) \\, N(y|x,R) \\\\\\\n",
    "&\\propto \\exp \\Big( \\frac{-1}{2} \\Big( (x-b)^2/B + (x-y)^2/B\\Big) \\Big) \\\\\\\n",
    "&\\propto \\exp \\Big( \\frac{-1}{2} \\Big( (1/B + 1/R)x^2 - 2(b/B + y/R)x \\Big) \\Big) \\\\\\\n",
    "&\\propto \\exp \\Big( \\frac{-1}{2} \\Big( x - \\frac{b/B + y/R}{1/B + 1/R} \\Big)^2 \\cdot (1/B + 1/R) \\Big) \\\\\\\n",
    "&\\propto N(x|\\mu,P) \\, ,\n",
    "\\end{align}\n",
    "i.e., by identification,\n",
    "$ p(x|y) = N(x|\\mu,P) \\, ,$\n",
    "with\n",
    "\\begin{align}\n",
    "    P &= 1/(1/B + 1/R) \\, , \\\\\\\n",
    "  \\mu &= P(b/B + y/R) \\, .\n",
    "\\end{align}\n",
    "''']\n",
    "show_answer('BR Gauss')"
   ]
  },
  {
   "cell_type": "markdown",
   "metadata": {},
   "source": [
    "**Exc:** Use some algebra (only!) to show that\n",
    "\\begin{align}\n",
    "    P &= (1-K)B \\, , \\\\\\\n",
    "  \\mu &= b + K (y-x) \\, ,\n",
    "\\end{align}\n",
    "where $K = B/(B+R)$, which is called the \"Kalman gain\"."
   ]
  },
  {
   "cell_type": "markdown",
   "metadata": {},
   "source": [
    "**Exc:** Why is $K$ a \"gain\"?"
   ]
  },
  {
   "cell_type": "code",
   "execution_count": 85,
   "metadata": {
    "collapsed": false
   },
   "outputs": [
    {
     "data": {
      "text/html": [
       "<div style=\"background-color:#d8e7ff;padding:0.5em;\"><ul>\n",
       "<li>Because it drags the estimate from $b$ \"towards\" $y$. Because it is beteen 0 and 1.\n",
       "   It weights the observation noise level (R) vs. the total noise level (B+R).\n",
       "   In the multivariate case, the same holds for its eigenvectors (if $H=I$).</li>\n",
       "</ul></div>"
      ],
      "text/plain": [
       "<IPython.core.display.HTML object>"
      ]
     },
     "metadata": {},
     "output_type": "display_data"
    }
   ],
   "source": [
    "answers['KG 2'] = ['MD',r'''\n",
    " * Because it drags the estimate from $b$ \"towards\" $y$. Because it is beteen 0 and 1.\n",
    "   It weights the observation noise level (R) vs. the total noise level (B+R).\n",
    "   In the multivariate case, the same holds for its eigenvectors (if $H=I$).\n",
    "''']\n",
    "show_answer('KG 2')"
   ]
  },
  {
   "cell_type": "markdown",
   "metadata": {},
   "source": [
    "**Exc**: Write a Gaussian-Gaussian Bayes' rule."
   ]
  },
  {
   "cell_type": "code",
   "execution_count": 86,
   "metadata": {
    "collapsed": false
   },
   "outputs": [
    {
     "data": {
      "text/html": [
       "<div style=\"background-color:#d8e7ff;padding:0.5em;\"><pre><code>P  = 1/(1/B+1/R)\n",
       "mu = P*(b/B+y/R)\n",
       "#     KG = B/(B+R)\n",
       "#     P  = (1-KG)*B\n",
       "#     mu = b + KG*(y-mu)\n",
       "</code></pre></div>"
      ],
      "text/plain": [
       "<IPython.core.display.HTML object>"
      ]
     },
     "metadata": {},
     "output_type": "display_data"
    }
   ],
   "source": [
    "answers['BR Gauss code'] = ['MD',r'''\n",
    "    P  = 1/(1/B+1/R)\n",
    "    mu = P*(b/B+y/R)\n",
    "    #     KG = B/(B+R)\n",
    "    #     P  = (1-KG)*B\n",
    "    #     mu = b + KG*(y-mu)\n",
    "''']\n",
    "show_answer('BR Gauss code')"
   ]
  },
  {
   "cell_type": "code",
   "execution_count": 34,
   "metadata": {
    "collapsed": true
   },
   "outputs": [],
   "source": [
    "def Bayes_rule_Gaussian(b,B,y,R):\n",
    "    ### INSERT ANSWER HERE ###\n",
    "    P  = 1/(1/B+1/R)\n",
    "    mu = P*(b/B+y/R)\n",
    "    #     KG = B/(B+R)\n",
    "    #     P  = (1-KG)*B\n",
    "    #     mu = b + KG*(y-mu)\n",
    "    return mu,P"
   ]
  },
  {
   "cell_type": "markdown",
   "metadata": {},
   "source": [
    "The code below show's Bayes' rule in action on Gaussian pdfs."
   ]
  },
  {
   "cell_type": "code",
   "execution_count": 87,
   "metadata": {
    "collapsed": false
   },
   "outputs": [
    {
     "data": {
      "image/png": "[encoded data removed]",
      "text/plain": [
       "<matplotlib.figure.Figure at 0x119d7ff60>"
      ]
     },
     "metadata": {},
     "output_type": "display_data"
    }
   ],
   "source": [
    "%matplotlib inline\n",
    "b = 0\n",
    "B = 1\n",
    "@interact(y=(-10,10,1),log_R=(-2,5,0.5))\n",
    "def animate_Gaussian_Bayes(y=4.0,log_R=1):\n",
    "    R = exp(log_R)\n",
    "\n",
    "    prior     = lambda x: pdf_G_1(x,b,B)\n",
    "    lklhd     = lambda x: pdf_G_1(y,x,R)\n",
    "    \n",
    "    post_vals = Bayes_rule(prior(xx),lklhd(xx),xx[1]-xx[0])\n",
    "    mu, P     = Bayes_rule_Gaussian(b,B,y,R)\n",
    "    postr     = lambda x: pdf_G_1(x,mu,P)\n",
    "    \n",
    "    plt.figure(figsize=(10,4))\n",
    "    plt.plot(xx,prior(xx)     ,label='prior N(x|0,1)')\n",
    "    plt.plot(xx,lklhd(xx)     ,label='likelihood N(y|x,R)')\n",
    "    plt.plot(xx,post_vals     ,label='posterior - pointwise')\n",
    "    plt.plot(xx,post_vals,'--',label='posterior - parametric')\n",
    "    plt.ylim(ymax=0.6)\n",
    "    plt.legend()\n",
    "    plt.show()"
   ]
  },
  {
   "cell_type": "markdown",
   "metadata": {},
   "source": [
    "**Exc:** \n",
    " * Does the width (or scale) for the posterior depend on the location $y$ of the likelihood?\n",
    " * Is the width (or scale) for the posterior always smaller that that of prior and likelihood? What does this mean information-wise?\n",
    " * Is this always the case, also for non-Gaussian distributions?\n",
    " * What if you're pretty sure about something, and you get a wildly different indication (observation). What is your posterior certainty?"
   ]
  },
  {
   "cell_type": "markdown",
   "metadata": {},
   "source": [
    "**Exc:** Why are we so fond of the Gaussian assumption?"
   ]
  },
  {
   "cell_type": "code",
   "execution_count": 1,
   "metadata": {
    "collapsed": false
   },
   "outputs": [
    {
     "ename": "NameError",
     "evalue": "name 'show_answer' is not defined",
     "output_type": "error",
     "traceback": [
      "\u001b[0;31m---------------------------------------------------------------------------\u001b[0m",
      "\u001b[0;31mNameError\u001b[0m                                 Traceback (most recent call last)",
      "\u001b[0;32m<ipython-input-1-0c5550087d16>\u001b[0m in \u001b[0;36m<module>\u001b[0;34m()\u001b[0m\n\u001b[0;32m----> 1\u001b[0;31m \u001b[0mshow_answer\u001b[0m\u001b[0;34m(\u001b[0m\u001b[0;34m'why Gaussian'\u001b[0m\u001b[0;34m)\u001b[0m\u001b[0;34m\u001b[0m\u001b[0m\n\u001b[0m",
      "\u001b[0;31mNameError\u001b[0m: name 'show_answer' is not defined"
     ]
    }
   ],
   "source": [
    "show_answer('why Gaussian')"
   ]
  },
  {
   "cell_type": "markdown",
   "metadata": {},
   "source": [
    "### Next: [Univariate (scalar) Kalman filtering](T3 - Univariate Kalman filtering.ipynb)"
   ]
  }
 ],
 "metadata": {
  "anaconda-cloud": {},
  "kernelspec": {
   "display_name": "Python [default]",
   "language": "python",
   "name": "python3"
  },
  "language_info": {
   "codemirror_mode": {
    "name": "ipython",
    "version": 3
   },
   "file_extension": ".py",
   "mimetype": "text/x-python",
   "name": "python",
   "nbconvert_exporter": "python",
   "pygments_lexer": "ipython3",
   "version": "3.5.2"
  }
 },
 "nbformat": 4,
 "nbformat_minor": 1
}
