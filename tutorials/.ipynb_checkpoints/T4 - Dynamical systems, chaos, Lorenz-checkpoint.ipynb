{
 "cells": [
  {
   "cell_type": "code",
   "execution_count": 13,
   "metadata": {
    "collapsed": false,
    "scrolled": true
   },
   "outputs": [],
   "source": [
    "from resources.resources import *\n",
    "%matplotlib inline"
   ]
  },
  {
   "cell_type": "markdown",
   "metadata": {},
   "source": [
    "## The Lorenz (1963) system"
   ]
  },
  {
   "cell_type": "markdown",
   "metadata": {},
   "source": [
    "The Lorenz-63 system is described by the 3 coupled of differential equations (ODE):\n",
    "\n",
    "$$\n",
    "\\begin{aligned}\n",
    "\\dot{x} & = \\sigma(y-x) \\\\\n",
    "\\dot{y} & = \\rho x - y - xz \\\\\n",
    "\\dot{z} & = -\\beta z + xy\n",
    "\\end{aligned}\n",
    "$$\n",
    "\n",
    "[Further description](resources/DA_intro.pdf#page=22). As a test case for DA, the state vector is $\\mathbf{x} = (x,y,z)$, and the parameters are typically set to"
   ]
  },
  {
   "cell_type": "code",
   "execution_count": 14,
   "metadata": {
    "collapsed": true
   },
   "outputs": [],
   "source": [
    "SIGMA = 10.0\n",
    "BETA  = 8/3\n",
    "RHO   = 28.0"
   ]
  },
  {
   "cell_type": "markdown",
   "metadata": {},
   "source": [
    "The dynamics can be written as follows"
   ]
  },
  {
   "cell_type": "code",
   "execution_count": 15,
   "metadata": {
    "collapsed": true
   },
   "outputs": [],
   "source": [
    "def dxdt(x_y_z, t0, sigma=SIGMA, beta=BETA, rho=RHO):\n",
    "    \"\"\"Compute the time-derivative of the Lorenz-63 system.\"\"\"\n",
    "    x, y, z = x_y_z\n",
    "    return [\n",
    "        sigma * (y - x),\n",
    "        x * (rho - z) - y,\n",
    "        x * y - beta * z\n",
    "    ]"
   ]
  },
  {
   "cell_type": "markdown",
   "metadata": {},
   "source": [
    "### Computing trajectories"
   ]
  },
  {
   "cell_type": "markdown",
   "metadata": {},
   "source": [
    "Below is a function that can integrate the differential equations numerically and then plot the solutions. This function has arguments that control the parameters of the differential equation ($\\sigma$, $\\beta$, $\\rho$) and of the numerical integration (`N`, `T`)."
   ]
  },
  {
   "cell_type": "code",
   "execution_count": 16,
   "metadata": {
    "collapsed": false
   },
   "outputs": [],
   "source": [
    "from scipy.integrate import odeint # numerical integrator\n",
    "\n",
    "def animate_lorenz(output=[],sigma=SIGMA, beta=BETA, rho=RHO, N=2, eps=0.01, T=1.0):    \n",
    "    \n",
    "    # Initial conditions: perturbations around some \"proto\" state\n",
    "    seed(1)\n",
    "    x0_proto = array([-6.1, 1.2, 32.5])\n",
    "    x0 = x0_proto + eps*randn((N, 3))\n",
    "\n",
    "    # Compute trajectories\n",
    "    tt = linspace(0, T, int(100*T)+1)               # Time instances for trajectory\n",
    "    d2 = lambda x,t: dxdt(x,t, sigma,beta,rho)      # Define dxdt(x,t) with fixed params.\n",
    "    xx = array([odeint(d2, x0i, tt) for x0i in x0]) # Integrate\n",
    "    \n",
    "    \n",
    "    # PLOTTING\n",
    "    ax = plt.figure(figsize=(7,4)).add_subplot(111, projection='3d')\n",
    "    \n",
    "    colors = plt.cm.jet(linspace(0,1,N))\n",
    "    for i in range(N):\n",
    "        ax.plot(*(xx[i,:,:].T),'-'  ,c=colors[i])\n",
    "        #ax.scatter3D(*xx[i,0 ,:],s=20,c=colors[i],marker='<')\n",
    "        ax.scatter3D(*xx[i,-1,:],s=40,c=colors[i])\n",
    "\n",
    "    ax.set_xlim((-15, 15))\n",
    "    ax.set_ylim((-25, 25))\n",
    "    ax.set_zlim((15, 40))\n",
    "    ax.view_init(30, 120)\n",
    "    ax.axis('off')\n",
    "    plt.show()\n",
    "    \n",
    "    output.insert(0,xx)"
   ]
  },
  {
   "cell_type": "markdown",
   "metadata": {},
   "source": [
    "We now provide the animation function with GUI sliders."
   ]
  },
  {
   "cell_type": "code",
   "execution_count": 17,
   "metadata": {
    "collapsed": false,
    "scrolled": true
   },
   "outputs": [],
   "source": [
    "from IPython.display import display\n",
    "output = []\n",
    "w = interactive(animate_lorenz, output=fixed(output),\n",
    "                sigma=(0.,50), rho=(0.,50), beta=(0.,5),\n",
    "                N=(0,50), eps=(0.01,4),T=(0.1,30))\n",
    "HBox([ VBox(w.children[:3]), VBox(w.children[3:]) ])"
   ]
  },
  {
   "cell_type": "markdown",
   "metadata": {},
   "source": [
    "**Exc**: Move `T` (use your arrow keys). What does it signify? What are `N`, `eps` for?\n",
    "\n",
    "**Exc**: investigate sensititivy to initial conditions by\n",
    " * sliding `eps`\n",
    " * sliding `T`\n",
    "\n",
    "What does this mean for predictability? I.e. how far into the future do you reckon one could produce forecasts with this system?"
   ]
  },
  {
   "cell_type": "markdown",
   "metadata": {},
   "source": [
    "Chaos is also known as the butterfly effect; \"A buttefly that flaps its wings in Brazil can \"cause\" a hurricane in Texas\". As opposed to the opinions of Descartes/Newton/Laplace, chaos effectively means that even in a deterministic (non-stochastic) universe, we can only predict \"so far\" into the future. Is it a coincidence that the shape of the trajectories also look like a butterfly?"
   ]
  },
  {
   "cell_type": "markdown",
   "metadata": {},
   "source": [
    "### Averages\n",
    "The code below computes the average location of the $i$-th component."
   ]
  },
  {
   "cell_type": "code",
   "execution_count": 18,
   "metadata": {
    "collapsed": false
   },
   "outputs": [
    {
     "ename": "IndexError",
     "evalue": "list index out of range",
     "output_type": "error",
     "traceback": [
      "\u001b[0;31m---------------------------------------------------------------------------\u001b[0m",
      "\u001b[0;31mIndexError\u001b[0m                                Traceback (most recent call last)",
      "\u001b[0;32m<ipython-input-18-2620fd7f4314>\u001b[0m in \u001b[0;36m<module>\u001b[0;34m()\u001b[0m\n\u001b[0;32m----> 1\u001b[0;31m \u001b[0mxx\u001b[0m \u001b[0;34m=\u001b[0m \u001b[0moutput\u001b[0m\u001b[0;34m[\u001b[0m\u001b[0;36m0\u001b[0m\u001b[0;34m]\u001b[0m\u001b[0;34m\u001b[0m\u001b[0m\n\u001b[0m\u001b[1;32m      2\u001b[0m \u001b[0mensemble_average\u001b[0m \u001b[0;34m=\u001b[0m \u001b[0mxx\u001b[0m\u001b[0;34m.\u001b[0m\u001b[0mmean\u001b[0m\u001b[0;34m(\u001b[0m\u001b[0maxis\u001b[0m\u001b[0;34m=\u001b[0m\u001b[0;36m0\u001b[0m\u001b[0;34m)\u001b[0m\u001b[0;34m\u001b[0m\u001b[0m\n\u001b[1;32m      3\u001b[0m \u001b[0mtime_average\u001b[0m     \u001b[0;34m=\u001b[0m \u001b[0mxx\u001b[0m\u001b[0;34m.\u001b[0m\u001b[0mmean\u001b[0m\u001b[0;34m(\u001b[0m\u001b[0maxis\u001b[0m\u001b[0;34m=\u001b[0m\u001b[0;36m1\u001b[0m\u001b[0;34m)\u001b[0m\u001b[0;34m\u001b[0m\u001b[0m\n",
      "\u001b[0;31mIndexError\u001b[0m: list index out of range"
     ]
    }
   ],
   "source": [
    "xx = output[0]\n",
    "ensemble_average = xx.mean(axis=0)\n",
    "time_average     = xx.mean(axis=1)"
   ]
  },
  {
   "cell_type": "code",
   "execution_count": null,
   "metadata": {
    "collapsed": false
   },
   "outputs": [],
   "source": [
    "i = 1             # state component index\n",
    "n = 0             # ensemble member index\n",
    "K = xx.shape[1]-1 # time index\n",
    "plt.hist(xx[:,K,i]        ,normed=1,label=\"ensemble distribution\",alpha=1.0)\n",
    "plt.hist(xx[n,:,i]        ,normed=1,label=\"temporal distribution\",alpha=0.5)\n",
    "#plt.hist(xx[:,:,i].ravel(),normed=1,label=\"total    distribution\",alpha=0.5)\n",
    "plt.legend();"
   ]
  },
  {
   "cell_type": "markdown",
   "metadata": {},
   "source": [
    "**Exc:** Do you think the histograms actually approximate the same distribution (for large $N$ and $T$)? So then, if testing average performance with the Lorenz-63 model, should you run several short or one long experiment?"
   ]
  },
  {
   "cell_type": "markdown",
   "metadata": {},
   "source": [
    "## The \"Lorenz-95\" model\n",
    "[Further description](resources/DA_intro.pdf#page=23)."
   ]
  },
  {
   "cell_type": "markdown",
   "metadata": {},
   "source": [
    "The model is animated below."
   ]
  },
  {
   "cell_type": "code",
   "execution_count": 19,
   "metadata": {
    "collapsed": false
   },
   "outputs": [
    {
     "data": {
      "image/png": "[encoded data removed]",
      "text/plain": [
       "<matplotlib.figure.Figure at 0x115b98978>"
      ]
     },
     "metadata": {},
     "output_type": "display_data"
    }
   ],
   "source": [
    "# For all i, any n: s(x,n) := x[i+n], circularly.\n",
    "def s(x,n):\n",
    "    return np.roll(x,-n)\n",
    "\n",
    "def animate_lorenz_95(m=40,Force=8.0,eps=0.01,T=0):\n",
    "    # Initial conditions: perturbations\n",
    "    x0 = zeros(m)\n",
    "    x0[0] = eps\n",
    "    \n",
    "    def dxdt(x,t):\n",
    "        return (s(x,1)-s(x,-2))*s(x,-1) - x + Force\n",
    "    \n",
    "    tt = linspace(0, T, int(40*T)+1)\n",
    "    xx = odeint(lambda x,t: dxdt(x,t), x0, tt)\n",
    "    \n",
    "    plt.figure(figsize=(7,4))\n",
    "    \n",
    "    # Plot last only\n",
    "    #plt.plot(xx[-1],'b')\n",
    "\n",
    "    # Plot multiple\n",
    "    Lag = 8\n",
    "    colors = sns.cubehelix_palette(Lag)\n",
    "    for k in range(Lag,0,-1):\n",
    "        plt.plot(xx[max(0,len(xx)-k)],c=colors[Lag-k])\n",
    "\n",
    "    plt.ylim(-10,20)\n",
    "    plt.show()\n",
    "    \n",
    "interact(animate_lorenz_95,eps=(0.01,1,0.1),T=(0.05,20,0.05),Force=(0,40,1));"
   ]
  },
  {
   "cell_type": "markdown",
   "metadata": {},
   "source": [
    "**Exc:** What's the doubling time of the system?"
   ]
  },
  {
   "cell_type": "markdown",
   "metadata": {},
   "source": [
    "**Exc:** Under which settings of the force `F` is the system chaotic?"
   ]
  },
  {
   "cell_type": "markdown",
   "metadata": {},
   "source": [
    "Prediction (forecasting) with these systems are challenging because they are chaotic: small errors grow exponentially. It is therefore paramount to minimize the intial error as much as possible. This is a task for DA."
   ]
  },
  {
   "cell_type": "markdown",
   "metadata": {},
   "source": [
    "**Exc:** Suppose $x(t)$ and $z(t)$ are twins: they evolve according to the same law $f$:\n",
    "\n",
    "$$\\frac{dx}{dt} = f(x) \\\\ \\frac{dz}{dt} = f(z) \\, ,$$ for some $f$.\n",
    "\n",
    "Suppose $z(0)$ is close to $x(0)$, and define the \"error\": $\\varepsilon(t) = x(t) - z(t)$.\n",
    "* a) Show that the error evolves according to the differential equation $\\frac{d \\varepsilon}{dt} \\approx F \\varepsilon$, where $F = \\frac{df}{dx}(x(t))$.\n",
    "* b) Show that $\\varepsilon(t) = \\varepsilon(0) e^{F t} $, i.e. that the error grows exponentially.\n",
    "* c)\n",
    " * 1) Suppose $F<1$. What happens to the error?\n",
    " * 2) Now suppose $F>1$. Given that all observations are uncertain (i.e. $R_t>0$, if only ever so slightly), can we ever hope to estimate $x(t)$ with 0 uncertainty?\n",
    "\n",
    "Now suppose $z(t)$ evolves according to $\\frac{dz}{dt} = g(z)$, with $g \\neq f$.\n",
    "* d) What is now the differential equation governing the evolution of the error $\\varepsilon$?\n",
    "* e) How might we model a saturation of the error at some level? Can you solve this equation?"
   ]
  },
  {
   "cell_type": "code",
   "execution_count": 1,
   "metadata": {
    "collapsed": false
   },
   "outputs": [],
   "source": [
    "#show_answer(\"error evolution\")"
   ]
  },
  {
   "cell_type": "markdown",
   "metadata": {},
   "source": [
    "### Next: [Ensemble [Monte-Carlo] approach](T5 - Ensemble [Monte-Carlo] approach.ipynb)"
   ]
  }
 ],
 "metadata": {
  "anaconda-cloud": {},
  "celltoolbar": "Raw Cell Format",
  "kernelspec": {
   "display_name": "Python [default]",
   "language": "python",
   "name": "python3"
  },
  "language_info": {
   "codemirror_mode": {
    "name": "ipython",
    "version": 3
   },
   "file_extension": ".py",
   "mimetype": "text/x-python",
   "name": "python",
   "nbconvert_exporter": "python",
   "pygments_lexer": "ipython3",
   "version": "3.5.2"
  }
 },
 "nbformat": 4,
 "nbformat_minor": 0
}
